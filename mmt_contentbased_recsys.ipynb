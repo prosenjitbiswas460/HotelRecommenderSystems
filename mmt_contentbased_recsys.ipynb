{
 "cells": [
  {
   "cell_type": "code",
   "execution_count": 213,
   "metadata": {},
   "outputs": [
    {
     "data": {
      "text/html": [
       "        <script type=\"text/javascript\">\n",
       "        window.PlotlyConfig = {MathJaxConfig: 'local'};\n",
       "        if (window.MathJax) {MathJax.Hub.Config({SVG: {font: \"STIX-Web\"}});}\n",
       "        if (typeof require !== 'undefined') {\n",
       "        require.undef(\"plotly\");\n",
       "        requirejs.config({\n",
       "            paths: {\n",
       "                'plotly': ['https://cdn.plot.ly/plotly-latest.min']\n",
       "            }\n",
       "        });\n",
       "        require(['plotly'], function(Plotly) {\n",
       "            window._Plotly = Plotly;\n",
       "        });\n",
       "        }\n",
       "        </script>\n",
       "        "
      ]
     },
     "metadata": {},
     "output_type": "display_data"
    }
   ],
   "source": [
    "from __future__ import annotations\n",
    "import numpy as np\n",
    "import pandas as pd\n",
    "from nltk.corpus import stopwords\n",
    "import plotly.graph_objs as go\n",
    "import plotly as py\n",
    "from plotly.offline import iplot\n",
    "import cufflinks\n",
    "cufflinks.go_offline()\n",
    "cufflinks.set_config_file(world_readable=True, theme='space')\n",
    "from sklearn.metrics.pairwise import linear_kernel\n",
    "from sklearn.feature_extraction.text import CountVectorizer\n",
    "from sklearn.feature_extraction.text import TfidfVectorizer\n",
    "import re"
   ]
  },
  {
   "cell_type": "code",
   "execution_count": 215,
   "metadata": {},
   "outputs": [],
   "source": [
    "#Reading the csv file\n",
    "df =  pd.read_csv(r\"makemytrip_com-travel_sample.csv\", encoding='utf-8')"
   ]
  },
  {
   "cell_type": "markdown",
   "metadata": {},
   "source": [
    "### Checking for a suitable count of property listings.\n",
    "#### The recommendation for hotels will be based on the description or the text contained for each hotel. Now, if a customer wants a hotel similar to a certain hotel's description he/she liked, we should recommend a hotel that is in a same city. So, here we subset hotel information pertaining to a specific city for instance, Goa."
   ]
  },
  {
   "cell_type": "code",
   "execution_count": 396,
   "metadata": {},
   "outputs": [
    {
     "data": {
      "text/plain": [
       "NewDelhiAndNCR       1163\n",
       "Goa                  1122\n",
       "Mumbai                543\n",
       "Jaipur                534\n",
       "Bangalore             512\n",
       "Hyderabad             468\n",
       "Srinagar              453\n",
       "New Delhi And NCR     425\n",
       "Pune                  392\n",
       "Kolkata               369\n",
       "Name: city, dtype: int64"
      ]
     },
     "execution_count": 396,
     "metadata": {},
     "output_type": "execute_result"
    }
   ],
   "source": [
    "df['city'].value_counts().head(10)"
   ]
  },
  {
   "cell_type": "code",
   "execution_count": 217,
   "metadata": {},
   "outputs": [],
   "source": [
    "goa = df.loc[df['city'] == 'Goa'].reset_index(drop=True)"
   ]
  },
  {
   "cell_type": "code",
   "execution_count": 218,
   "metadata": {},
   "outputs": [
    {
     "name": "stdout",
     "output_type": "stream",
     "text": [
      "<class 'pandas.core.frame.DataFrame'>\n",
      "RangeIndex: 1122 entries, 0 to 1121\n",
      "Data columns (total 33 columns):\n",
      " #   Column                           Non-Null Count  Dtype  \n",
      "---  ------                           --------------  -----  \n",
      " 0   area                             931 non-null    object \n",
      " 1   city                             1122 non-null   object \n",
      " 2   country                          1117 non-null   object \n",
      " 3   crawl_date                       662 non-null    object \n",
      " 4   highlight_value                  965 non-null    object \n",
      " 5   hotel_overview                   1006 non-null   object \n",
      " 6   hotel_star_rating                1122 non-null   object \n",
      " 7   image_urls                       472 non-null    object \n",
      " 8   in_your_room                     897 non-null    object \n",
      " 9   is_value_plus                    1122 non-null   object \n",
      " 10  latitude                         1121 non-null   float64\n",
      " 11  longitude                        1121 non-null   float64\n",
      " 12  mmt_holidayiq_review_count       497 non-null    float64\n",
      " 13  mmt_location_rating              658 non-null    object \n",
      " 14  mmt_review_count                 399 non-null    float64\n",
      " 15  mmt_review_rating                658 non-null    object \n",
      " 16  mmt_review_score                 519 non-null    float64\n",
      " 17  mmt_traveller_type_review_count  994 non-null    object \n",
      " 18  mmt_tripadvisor_count            571 non-null    float64\n",
      " 19  pageurl                          1122 non-null   object \n",
      " 20  property_address                 1122 non-null   object \n",
      " 21  property_id                      1122 non-null   object \n",
      " 22  property_name                    1122 non-null   object \n",
      " 23  property_type                    1117 non-null   object \n",
      " 24  qts                              229 non-null    object \n",
      " 25  query_time_stamp                 1122 non-null   object \n",
      " 26  room_types                       742 non-null    object \n",
      " 27  site_review_count                81 non-null     object \n",
      " 28  site_review_rating               39 non-null     float64\n",
      " 29  sitename                         1122 non-null   object \n",
      " 30  state                            211 non-null    object \n",
      " 31  traveller_rating                 289 non-null    object \n",
      " 32  uniq_id                          1122 non-null   object \n",
      "dtypes: float64(7), object(26)\n",
      "memory usage: 289.4+ KB\n"
     ]
    }
   ],
   "source": [
    "goa.info()"
   ]
  },
  {
   "cell_type": "markdown",
   "metadata": {},
   "source": [
    "#### checking how many unique scores were recorded by mmt"
   ]
  },
  {
   "cell_type": "code",
   "execution_count": 219,
   "metadata": {},
   "outputs": [
    {
     "name": "stdout",
     "output_type": "stream",
     "text": [
      "3.9    38\n",
      "4.2    37\n",
      "4.0    37\n",
      "4.4    36\n",
      "4.1    33\n",
      "4.3    33\n",
      "5.0    25\n",
      "3.8    22\n",
      "0.0    22\n",
      "3.6    21\n",
      "3.5    21\n",
      "4.5    21\n",
      "3.7    20\n",
      "4.6    17\n",
      "3.4    17\n",
      "3.3    17\n",
      "3.2    16\n",
      "4.8    14\n",
      "3.1    12\n",
      "4.9    11\n",
      "4.7    10\n",
      "2.7     8\n",
      "2.4     7\n",
      "3.0     6\n",
      "1.9     5\n",
      "2.3     5\n",
      "2.5     3\n",
      "2.8     3\n",
      "2.9     2\n",
      "Name: mmt_review_score, dtype: int64\n",
      "Total number of unique review scores recorded by mmt is: 29\n"
     ]
    }
   ],
   "source": [
    "print(goa.mmt_review_score.value_counts())\n",
    "print(f'Total number of unique review scores recorded by mmt is: {len(goa.mmt_review_score.value_counts())}')"
   ]
  },
  {
   "cell_type": "markdown",
   "metadata": {},
   "source": [
    "#### Analysing room types for each property type: We see all room types which have 'bhk' can mostly be apartments and we can use this knowledge to preprocess our data"
   ]
  },
  {
   "cell_type": "code",
   "execution_count": 220,
   "metadata": {},
   "outputs": [
    {
     "data": {
      "text/html": [
       "<div>\n",
       "<style scoped>\n",
       "    .dataframe tbody tr th:only-of-type {\n",
       "        vertical-align: middle;\n",
       "    }\n",
       "\n",
       "    .dataframe tbody tr th {\n",
       "        vertical-align: top;\n",
       "    }\n",
       "\n",
       "    .dataframe thead th {\n",
       "        text-align: right;\n",
       "    }\n",
       "</style>\n",
       "<table border=\"1\" class=\"dataframe\">\n",
       "  <thead>\n",
       "    <tr style=\"text-align: right;\">\n",
       "      <th></th>\n",
       "      <th>property_type</th>\n",
       "      <th>room_types</th>\n",
       "    </tr>\n",
       "  </thead>\n",
       "  <tbody>\n",
       "    <tr>\n",
       "      <th>150</th>\n",
       "      <td>NaN</td>\n",
       "      <td>2 Bhk</td>\n",
       "    </tr>\n",
       "    <tr>\n",
       "      <th>187</th>\n",
       "      <td>NaN</td>\n",
       "      <td>Standard Ac Room</td>\n",
       "    </tr>\n",
       "    <tr>\n",
       "      <th>824</th>\n",
       "      <td>NaN</td>\n",
       "      <td>2 Bhk</td>\n",
       "    </tr>\n",
       "    <tr>\n",
       "      <th>1112</th>\n",
       "      <td>NaN</td>\n",
       "      <td>2 Bhk</td>\n",
       "    </tr>\n",
       "    <tr>\n",
       "      <th>1117</th>\n",
       "      <td>NaN</td>\n",
       "      <td>3 Bhk Aparment</td>\n",
       "    </tr>\n",
       "  </tbody>\n",
       "</table>\n",
       "</div>"
      ],
      "text/plain": [
       "     property_type        room_types\n",
       "150            NaN             2 Bhk\n",
       "187            NaN  Standard Ac Room\n",
       "824            NaN             2 Bhk\n",
       "1112           NaN             2 Bhk\n",
       "1117           NaN    3 Bhk Aparment"
      ]
     },
     "execution_count": 220,
     "metadata": {},
     "output_type": "execute_result"
    }
   ],
   "source": [
    "goa.loc[goa['property_type'].isnull()][['property_type', 'room_types']]"
   ]
  },
  {
   "cell_type": "code",
   "execution_count": 221,
   "metadata": {},
   "outputs": [],
   "source": [
    "#filling nans with xyz\n",
    "goa.property_type.fillna(value='xyz', inplace=True)"
   ]
  },
  {
   "cell_type": "code",
   "execution_count": 222,
   "metadata": {},
   "outputs": [
    {
     "data": {
      "text/plain": [
       "0"
      ]
     },
     "execution_count": 222,
     "metadata": {},
     "output_type": "execute_result"
    }
   ],
   "source": [
    "#ensuring there are no null values in property type column\n",
    "goa.property_type.isnull().sum()"
   ]
  },
  {
   "cell_type": "code",
   "execution_count": 223,
   "metadata": {},
   "outputs": [],
   "source": [
    "\"\"\"\n",
    "prepared a mask to subset only the part in the df where poperty name contains 'apartment' and \n",
    "room types contains 'bhk' and property type contains 'xyz'\n",
    "\"\"\"\n",
    "mask = goa[goa['property_name'].str.lower().str.contains('apartment', na= False) \n",
    "    & goa['room_types'].str.lower().str.contains('bhk', na= False)\n",
    "    & goa['property_type'].str.lower().str.contains('xyz', na= False)]"
   ]
  },
  {
   "cell_type": "code",
   "execution_count": 224,
   "metadata": {},
   "outputs": [],
   "source": [
    "goa.loc[mask.index, 'property_type'] = goa.loc[mask.index, 'property_type'].apply(lambda x: \"Apartment\")"
   ]
  },
  {
   "cell_type": "code",
   "execution_count": 225,
   "metadata": {},
   "outputs": [
    {
     "data": {
      "text/plain": [
       "1 star       505\n",
       "3 star       206\n",
       "1            138\n",
       "2 star        99\n",
       "4 star        53\n",
       "2             48\n",
       "3             37\n",
       "5 star        19\n",
       "4             10\n",
       "5              6\n",
       "Five on 5      1\n",
       "Name: hotel_star_rating, dtype: int64"
      ]
     },
     "execution_count": 225,
     "metadata": {},
     "output_type": "execute_result"
    }
   ],
   "source": [
    "goa['hotel_star_rating'].value_counts()"
   ]
  },
  {
   "cell_type": "markdown",
   "metadata": {},
   "source": [
    "#### The hotel star rating has records like 5 as well as 5 stars. So we apply a lambda function to extract only the numeric part. Interestingly we find that the number of hotels in 1 star category is way more than the other categories. Also, there are more 3 star hotels than 2, 4 or 5 stars."
   ]
  },
  {
   "cell_type": "code",
   "execution_count": 226,
   "metadata": {},
   "outputs": [],
   "source": [
    "#preprocessing star rating\n",
    "goa['hotel_star_rating'] = goa['hotel_star_rating'].apply(lambda s: s.split()[0] if len(s)>1 else s)"
   ]
  },
  {
   "cell_type": "code",
   "execution_count": 227,
   "metadata": {},
   "outputs": [
    {
     "data": {
      "text/plain": [
       "1       643\n",
       "3       243\n",
       "2       147\n",
       "4        63\n",
       "5        25\n",
       "Five      1\n",
       "Name: hotel_star_rating, dtype: int64"
      ]
     },
     "execution_count": 227,
     "metadata": {},
     "output_type": "execute_result"
    }
   ],
   "source": [
    "goa['hotel_star_rating'].value_counts()"
   ]
  },
  {
   "cell_type": "code",
   "execution_count": 228,
   "metadata": {},
   "outputs": [
    {
     "data": {
      "application/vnd.plotly.v1+json": {
       "config": {
        "linkText": "Export to plot.ly",
        "plotlyServerURL": "https://plot.ly",
        "showLink": true
       },
       "data": [
        {
         "marker": {
          "color": "rgba(255, 153, 51, 0.6)",
          "line": {
           "color": "rgba(255, 153, 51, 1.0)",
           "width": 1
          }
         },
         "name": "hotel_star_rating",
         "orientation": "h",
         "text": "",
         "type": "bar",
         "x": [
          643,
          243,
          147,
          63,
          25,
          1
         ],
         "y": [
          "1",
          "3",
          "2",
          "4",
          "5",
          "Five"
         ]
        }
       ],
       "layout": {
        "legend": {
         "bgcolor": "#1A1A1C",
         "font": {
          "color": "#D9D9D9"
         }
        },
        "paper_bgcolor": "#1A1A1C",
        "plot_bgcolor": "#1A1A1C",
        "template": {
         "data": {
          "bar": [
           {
            "error_x": {
             "color": "#2a3f5f"
            },
            "error_y": {
             "color": "#2a3f5f"
            },
            "marker": {
             "line": {
              "color": "#E5ECF6",
              "width": 0.5
             }
            },
            "type": "bar"
           }
          ],
          "barpolar": [
           {
            "marker": {
             "line": {
              "color": "#E5ECF6",
              "width": 0.5
             }
            },
            "type": "barpolar"
           }
          ],
          "carpet": [
           {
            "aaxis": {
             "endlinecolor": "#2a3f5f",
             "gridcolor": "white",
             "linecolor": "white",
             "minorgridcolor": "white",
             "startlinecolor": "#2a3f5f"
            },
            "baxis": {
             "endlinecolor": "#2a3f5f",
             "gridcolor": "white",
             "linecolor": "white",
             "minorgridcolor": "white",
             "startlinecolor": "#2a3f5f"
            },
            "type": "carpet"
           }
          ],
          "choropleth": [
           {
            "colorbar": {
             "outlinewidth": 0,
             "ticks": ""
            },
            "type": "choropleth"
           }
          ],
          "contour": [
           {
            "colorbar": {
             "outlinewidth": 0,
             "ticks": ""
            },
            "colorscale": [
             [
              0,
              "#0d0887"
             ],
             [
              0.1111111111111111,
              "#46039f"
             ],
             [
              0.2222222222222222,
              "#7201a8"
             ],
             [
              0.3333333333333333,
              "#9c179e"
             ],
             [
              0.4444444444444444,
              "#bd3786"
             ],
             [
              0.5555555555555556,
              "#d8576b"
             ],
             [
              0.6666666666666666,
              "#ed7953"
             ],
             [
              0.7777777777777778,
              "#fb9f3a"
             ],
             [
              0.8888888888888888,
              "#fdca26"
             ],
             [
              1,
              "#f0f921"
             ]
            ],
            "type": "contour"
           }
          ],
          "contourcarpet": [
           {
            "colorbar": {
             "outlinewidth": 0,
             "ticks": ""
            },
            "type": "contourcarpet"
           }
          ],
          "heatmap": [
           {
            "colorbar": {
             "outlinewidth": 0,
             "ticks": ""
            },
            "colorscale": [
             [
              0,
              "#0d0887"
             ],
             [
              0.1111111111111111,
              "#46039f"
             ],
             [
              0.2222222222222222,
              "#7201a8"
             ],
             [
              0.3333333333333333,
              "#9c179e"
             ],
             [
              0.4444444444444444,
              "#bd3786"
             ],
             [
              0.5555555555555556,
              "#d8576b"
             ],
             [
              0.6666666666666666,
              "#ed7953"
             ],
             [
              0.7777777777777778,
              "#fb9f3a"
             ],
             [
              0.8888888888888888,
              "#fdca26"
             ],
             [
              1,
              "#f0f921"
             ]
            ],
            "type": "heatmap"
           }
          ],
          "heatmapgl": [
           {
            "colorbar": {
             "outlinewidth": 0,
             "ticks": ""
            },
            "colorscale": [
             [
              0,
              "#0d0887"
             ],
             [
              0.1111111111111111,
              "#46039f"
             ],
             [
              0.2222222222222222,
              "#7201a8"
             ],
             [
              0.3333333333333333,
              "#9c179e"
             ],
             [
              0.4444444444444444,
              "#bd3786"
             ],
             [
              0.5555555555555556,
              "#d8576b"
             ],
             [
              0.6666666666666666,
              "#ed7953"
             ],
             [
              0.7777777777777778,
              "#fb9f3a"
             ],
             [
              0.8888888888888888,
              "#fdca26"
             ],
             [
              1,
              "#f0f921"
             ]
            ],
            "type": "heatmapgl"
           }
          ],
          "histogram": [
           {
            "marker": {
             "colorbar": {
              "outlinewidth": 0,
              "ticks": ""
             }
            },
            "type": "histogram"
           }
          ],
          "histogram2d": [
           {
            "colorbar": {
             "outlinewidth": 0,
             "ticks": ""
            },
            "colorscale": [
             [
              0,
              "#0d0887"
             ],
             [
              0.1111111111111111,
              "#46039f"
             ],
             [
              0.2222222222222222,
              "#7201a8"
             ],
             [
              0.3333333333333333,
              "#9c179e"
             ],
             [
              0.4444444444444444,
              "#bd3786"
             ],
             [
              0.5555555555555556,
              "#d8576b"
             ],
             [
              0.6666666666666666,
              "#ed7953"
             ],
             [
              0.7777777777777778,
              "#fb9f3a"
             ],
             [
              0.8888888888888888,
              "#fdca26"
             ],
             [
              1,
              "#f0f921"
             ]
            ],
            "type": "histogram2d"
           }
          ],
          "histogram2dcontour": [
           {
            "colorbar": {
             "outlinewidth": 0,
             "ticks": ""
            },
            "colorscale": [
             [
              0,
              "#0d0887"
             ],
             [
              0.1111111111111111,
              "#46039f"
             ],
             [
              0.2222222222222222,
              "#7201a8"
             ],
             [
              0.3333333333333333,
              "#9c179e"
             ],
             [
              0.4444444444444444,
              "#bd3786"
             ],
             [
              0.5555555555555556,
              "#d8576b"
             ],
             [
              0.6666666666666666,
              "#ed7953"
             ],
             [
              0.7777777777777778,
              "#fb9f3a"
             ],
             [
              0.8888888888888888,
              "#fdca26"
             ],
             [
              1,
              "#f0f921"
             ]
            ],
            "type": "histogram2dcontour"
           }
          ],
          "mesh3d": [
           {
            "colorbar": {
             "outlinewidth": 0,
             "ticks": ""
            },
            "type": "mesh3d"
           }
          ],
          "parcoords": [
           {
            "line": {
             "colorbar": {
              "outlinewidth": 0,
              "ticks": ""
             }
            },
            "type": "parcoords"
           }
          ],
          "pie": [
           {
            "automargin": true,
            "type": "pie"
           }
          ],
          "scatter": [
           {
            "marker": {
             "colorbar": {
              "outlinewidth": 0,
              "ticks": ""
             }
            },
            "type": "scatter"
           }
          ],
          "scatter3d": [
           {
            "line": {
             "colorbar": {
              "outlinewidth": 0,
              "ticks": ""
             }
            },
            "marker": {
             "colorbar": {
              "outlinewidth": 0,
              "ticks": ""
             }
            },
            "type": "scatter3d"
           }
          ],
          "scattercarpet": [
           {
            "marker": {
             "colorbar": {
              "outlinewidth": 0,
              "ticks": ""
             }
            },
            "type": "scattercarpet"
           }
          ],
          "scattergeo": [
           {
            "marker": {
             "colorbar": {
              "outlinewidth": 0,
              "ticks": ""
             }
            },
            "type": "scattergeo"
           }
          ],
          "scattergl": [
           {
            "marker": {
             "colorbar": {
              "outlinewidth": 0,
              "ticks": ""
             }
            },
            "type": "scattergl"
           }
          ],
          "scattermapbox": [
           {
            "marker": {
             "colorbar": {
              "outlinewidth": 0,
              "ticks": ""
             }
            },
            "type": "scattermapbox"
           }
          ],
          "scatterpolar": [
           {
            "marker": {
             "colorbar": {
              "outlinewidth": 0,
              "ticks": ""
             }
            },
            "type": "scatterpolar"
           }
          ],
          "scatterpolargl": [
           {
            "marker": {
             "colorbar": {
              "outlinewidth": 0,
              "ticks": ""
             }
            },
            "type": "scatterpolargl"
           }
          ],
          "scatterternary": [
           {
            "marker": {
             "colorbar": {
              "outlinewidth": 0,
              "ticks": ""
             }
            },
            "type": "scatterternary"
           }
          ],
          "surface": [
           {
            "colorbar": {
             "outlinewidth": 0,
             "ticks": ""
            },
            "colorscale": [
             [
              0,
              "#0d0887"
             ],
             [
              0.1111111111111111,
              "#46039f"
             ],
             [
              0.2222222222222222,
              "#7201a8"
             ],
             [
              0.3333333333333333,
              "#9c179e"
             ],
             [
              0.4444444444444444,
              "#bd3786"
             ],
             [
              0.5555555555555556,
              "#d8576b"
             ],
             [
              0.6666666666666666,
              "#ed7953"
             ],
             [
              0.7777777777777778,
              "#fb9f3a"
             ],
             [
              0.8888888888888888,
              "#fdca26"
             ],
             [
              1,
              "#f0f921"
             ]
            ],
            "type": "surface"
           }
          ],
          "table": [
           {
            "cells": {
             "fill": {
              "color": "#EBF0F8"
             },
             "line": {
              "color": "white"
             }
            },
            "header": {
             "fill": {
              "color": "#C8D4E3"
             },
             "line": {
              "color": "white"
             }
            },
            "type": "table"
           }
          ]
         },
         "layout": {
          "annotationdefaults": {
           "arrowcolor": "#2a3f5f",
           "arrowhead": 0,
           "arrowwidth": 1
          },
          "coloraxis": {
           "colorbar": {
            "outlinewidth": 0,
            "ticks": ""
           }
          },
          "colorscale": {
           "diverging": [
            [
             0,
             "#8e0152"
            ],
            [
             0.1,
             "#c51b7d"
            ],
            [
             0.2,
             "#de77ae"
            ],
            [
             0.3,
             "#f1b6da"
            ],
            [
             0.4,
             "#fde0ef"
            ],
            [
             0.5,
             "#f7f7f7"
            ],
            [
             0.6,
             "#e6f5d0"
            ],
            [
             0.7,
             "#b8e186"
            ],
            [
             0.8,
             "#7fbc41"
            ],
            [
             0.9,
             "#4d9221"
            ],
            [
             1,
             "#276419"
            ]
           ],
           "sequential": [
            [
             0,
             "#0d0887"
            ],
            [
             0.1111111111111111,
             "#46039f"
            ],
            [
             0.2222222222222222,
             "#7201a8"
            ],
            [
             0.3333333333333333,
             "#9c179e"
            ],
            [
             0.4444444444444444,
             "#bd3786"
            ],
            [
             0.5555555555555556,
             "#d8576b"
            ],
            [
             0.6666666666666666,
             "#ed7953"
            ],
            [
             0.7777777777777778,
             "#fb9f3a"
            ],
            [
             0.8888888888888888,
             "#fdca26"
            ],
            [
             1,
             "#f0f921"
            ]
           ],
           "sequentialminus": [
            [
             0,
             "#0d0887"
            ],
            [
             0.1111111111111111,
             "#46039f"
            ],
            [
             0.2222222222222222,
             "#7201a8"
            ],
            [
             0.3333333333333333,
             "#9c179e"
            ],
            [
             0.4444444444444444,
             "#bd3786"
            ],
            [
             0.5555555555555556,
             "#d8576b"
            ],
            [
             0.6666666666666666,
             "#ed7953"
            ],
            [
             0.7777777777777778,
             "#fb9f3a"
            ],
            [
             0.8888888888888888,
             "#fdca26"
            ],
            [
             1,
             "#f0f921"
            ]
           ]
          },
          "colorway": [
           "#636efa",
           "#EF553B",
           "#00cc96",
           "#ab63fa",
           "#FFA15A",
           "#19d3f3",
           "#FF6692",
           "#B6E880",
           "#FF97FF",
           "#FECB52"
          ],
          "font": {
           "color": "#2a3f5f"
          },
          "geo": {
           "bgcolor": "white",
           "lakecolor": "white",
           "landcolor": "#E5ECF6",
           "showlakes": true,
           "showland": true,
           "subunitcolor": "white"
          },
          "hoverlabel": {
           "align": "left"
          },
          "hovermode": "closest",
          "mapbox": {
           "style": "light"
          },
          "paper_bgcolor": "white",
          "plot_bgcolor": "#E5ECF6",
          "polar": {
           "angularaxis": {
            "gridcolor": "white",
            "linecolor": "white",
            "ticks": ""
           },
           "bgcolor": "#E5ECF6",
           "radialaxis": {
            "gridcolor": "white",
            "linecolor": "white",
            "ticks": ""
           }
          },
          "scene": {
           "xaxis": {
            "backgroundcolor": "#E5ECF6",
            "gridcolor": "white",
            "gridwidth": 2,
            "linecolor": "white",
            "showbackground": true,
            "ticks": "",
            "zerolinecolor": "white"
           },
           "yaxis": {
            "backgroundcolor": "#E5ECF6",
            "gridcolor": "white",
            "gridwidth": 2,
            "linecolor": "white",
            "showbackground": true,
            "ticks": "",
            "zerolinecolor": "white"
           },
           "zaxis": {
            "backgroundcolor": "#E5ECF6",
            "gridcolor": "white",
            "gridwidth": 2,
            "linecolor": "white",
            "showbackground": true,
            "ticks": "",
            "zerolinecolor": "white"
           }
          },
          "shapedefaults": {
           "line": {
            "color": "#2a3f5f"
           }
          },
          "ternary": {
           "aaxis": {
            "gridcolor": "white",
            "linecolor": "white",
            "ticks": ""
           },
           "baxis": {
            "gridcolor": "white",
            "linecolor": "white",
            "ticks": ""
           },
           "bgcolor": "#E5ECF6",
           "caxis": {
            "gridcolor": "white",
            "linecolor": "white",
            "ticks": ""
           }
          },
          "title": {
           "x": 0.05
          },
          "xaxis": {
           "automargin": true,
           "gridcolor": "white",
           "linecolor": "white",
           "ticks": "",
           "title": {
            "standoff": 15
           },
           "zerolinecolor": "white",
           "zerolinewidth": 2
          },
          "yaxis": {
           "automargin": true,
           "gridcolor": "white",
           "linecolor": "white",
           "ticks": "",
           "title": {
            "standoff": 15
           },
           "zerolinecolor": "white",
           "zerolinewidth": 2
          }
         }
        },
        "title": {
         "font": {
          "color": "#D9D9D9"
         },
         "text": "Hotel star rating distribution"
        },
        "xaxis": {
         "gridcolor": "#434343",
         "linecolor": "black",
         "showgrid": true,
         "tickfont": {
          "color": "#C2C2C2"
         },
         "title": {
          "font": {
           "color": "#D9D9D9"
          },
          "text": ""
         },
         "zerolinecolor": "#666570"
        },
        "yaxis": {
         "gridcolor": "#434343",
         "linecolor": "black",
         "showgrid": true,
         "tickfont": {
          "color": "#C2C2C2"
         },
         "title": {
          "font": {
           "color": "#D9D9D9"
          },
          "text": "Count"
         },
         "zerolinecolor": "#666570"
        }
       }
      },
      "text/html": [
       "<div>\n",
       "        \n",
       "        \n",
       "            <div id=\"ccc53a9c-c8ee-4f22-b2a6-55ee2513a64b\" class=\"plotly-graph-div\" style=\"height:525px; width:100%;\"></div>\n",
       "            <script type=\"text/javascript\">\n",
       "                require([\"plotly\"], function(Plotly) {\n",
       "                    window.PLOTLYENV=window.PLOTLYENV || {};\n",
       "                    window.PLOTLYENV.BASE_URL='https://plot.ly';\n",
       "                    \n",
       "                if (document.getElementById(\"ccc53a9c-c8ee-4f22-b2a6-55ee2513a64b\")) {\n",
       "                    Plotly.newPlot(\n",
       "                        'ccc53a9c-c8ee-4f22-b2a6-55ee2513a64b',\n",
       "                        [{\"marker\": {\"color\": \"rgba(255, 153, 51, 0.6)\", \"line\": {\"color\": \"rgba(255, 153, 51, 1.0)\", \"width\": 1}}, \"name\": \"hotel_star_rating\", \"orientation\": \"h\", \"text\": \"\", \"type\": \"bar\", \"x\": [643, 243, 147, 63, 25, 1], \"y\": [\"1\", \"3\", \"2\", \"4\", \"5\", \"Five\"]}],\n",
       "                        {\"legend\": {\"bgcolor\": \"#1A1A1C\", \"font\": {\"color\": \"#D9D9D9\"}}, \"paper_bgcolor\": \"#1A1A1C\", \"plot_bgcolor\": \"#1A1A1C\", \"template\": {\"data\": {\"bar\": [{\"error_x\": {\"color\": \"#2a3f5f\"}, \"error_y\": {\"color\": \"#2a3f5f\"}, \"marker\": {\"line\": {\"color\": \"#E5ECF6\", \"width\": 0.5}}, \"type\": \"bar\"}], \"barpolar\": [{\"marker\": {\"line\": {\"color\": \"#E5ECF6\", \"width\": 0.5}}, \"type\": \"barpolar\"}], \"carpet\": [{\"aaxis\": {\"endlinecolor\": \"#2a3f5f\", \"gridcolor\": \"white\", \"linecolor\": \"white\", \"minorgridcolor\": \"white\", \"startlinecolor\": \"#2a3f5f\"}, \"baxis\": {\"endlinecolor\": \"#2a3f5f\", \"gridcolor\": \"white\", \"linecolor\": \"white\", \"minorgridcolor\": \"white\", \"startlinecolor\": \"#2a3f5f\"}, \"type\": \"carpet\"}], \"choropleth\": [{\"colorbar\": {\"outlinewidth\": 0, \"ticks\": \"\"}, \"type\": \"choropleth\"}], \"contour\": [{\"colorbar\": {\"outlinewidth\": 0, \"ticks\": \"\"}, \"colorscale\": [[0.0, \"#0d0887\"], [0.1111111111111111, \"#46039f\"], [0.2222222222222222, \"#7201a8\"], [0.3333333333333333, \"#9c179e\"], [0.4444444444444444, \"#bd3786\"], [0.5555555555555556, \"#d8576b\"], [0.6666666666666666, \"#ed7953\"], [0.7777777777777778, \"#fb9f3a\"], [0.8888888888888888, \"#fdca26\"], [1.0, \"#f0f921\"]], \"type\": \"contour\"}], \"contourcarpet\": [{\"colorbar\": {\"outlinewidth\": 0, \"ticks\": \"\"}, \"type\": \"contourcarpet\"}], \"heatmap\": [{\"colorbar\": {\"outlinewidth\": 0, \"ticks\": \"\"}, \"colorscale\": [[0.0, \"#0d0887\"], [0.1111111111111111, \"#46039f\"], [0.2222222222222222, \"#7201a8\"], [0.3333333333333333, \"#9c179e\"], [0.4444444444444444, \"#bd3786\"], [0.5555555555555556, \"#d8576b\"], [0.6666666666666666, \"#ed7953\"], [0.7777777777777778, \"#fb9f3a\"], [0.8888888888888888, \"#fdca26\"], [1.0, \"#f0f921\"]], \"type\": \"heatmap\"}], \"heatmapgl\": [{\"colorbar\": {\"outlinewidth\": 0, \"ticks\": \"\"}, \"colorscale\": [[0.0, \"#0d0887\"], [0.1111111111111111, \"#46039f\"], [0.2222222222222222, \"#7201a8\"], [0.3333333333333333, \"#9c179e\"], [0.4444444444444444, \"#bd3786\"], [0.5555555555555556, \"#d8576b\"], [0.6666666666666666, \"#ed7953\"], [0.7777777777777778, \"#fb9f3a\"], [0.8888888888888888, \"#fdca26\"], [1.0, \"#f0f921\"]], \"type\": \"heatmapgl\"}], \"histogram\": [{\"marker\": {\"colorbar\": {\"outlinewidth\": 0, \"ticks\": \"\"}}, \"type\": \"histogram\"}], \"histogram2d\": [{\"colorbar\": {\"outlinewidth\": 0, \"ticks\": \"\"}, \"colorscale\": [[0.0, \"#0d0887\"], [0.1111111111111111, \"#46039f\"], [0.2222222222222222, \"#7201a8\"], [0.3333333333333333, \"#9c179e\"], [0.4444444444444444, \"#bd3786\"], [0.5555555555555556, \"#d8576b\"], [0.6666666666666666, \"#ed7953\"], [0.7777777777777778, \"#fb9f3a\"], [0.8888888888888888, \"#fdca26\"], [1.0, \"#f0f921\"]], \"type\": \"histogram2d\"}], \"histogram2dcontour\": [{\"colorbar\": {\"outlinewidth\": 0, \"ticks\": \"\"}, \"colorscale\": [[0.0, \"#0d0887\"], [0.1111111111111111, \"#46039f\"], [0.2222222222222222, \"#7201a8\"], [0.3333333333333333, \"#9c179e\"], [0.4444444444444444, \"#bd3786\"], [0.5555555555555556, \"#d8576b\"], [0.6666666666666666, \"#ed7953\"], [0.7777777777777778, \"#fb9f3a\"], [0.8888888888888888, \"#fdca26\"], [1.0, \"#f0f921\"]], \"type\": \"histogram2dcontour\"}], \"mesh3d\": [{\"colorbar\": {\"outlinewidth\": 0, \"ticks\": \"\"}, \"type\": \"mesh3d\"}], \"parcoords\": [{\"line\": {\"colorbar\": {\"outlinewidth\": 0, \"ticks\": \"\"}}, \"type\": \"parcoords\"}], \"pie\": [{\"automargin\": true, \"type\": \"pie\"}], \"scatter\": [{\"marker\": {\"colorbar\": {\"outlinewidth\": 0, \"ticks\": \"\"}}, \"type\": \"scatter\"}], \"scatter3d\": [{\"line\": {\"colorbar\": {\"outlinewidth\": 0, \"ticks\": \"\"}}, \"marker\": {\"colorbar\": {\"outlinewidth\": 0, \"ticks\": \"\"}}, \"type\": \"scatter3d\"}], \"scattercarpet\": [{\"marker\": {\"colorbar\": {\"outlinewidth\": 0, \"ticks\": \"\"}}, \"type\": \"scattercarpet\"}], \"scattergeo\": [{\"marker\": {\"colorbar\": {\"outlinewidth\": 0, \"ticks\": \"\"}}, \"type\": \"scattergeo\"}], \"scattergl\": [{\"marker\": {\"colorbar\": {\"outlinewidth\": 0, \"ticks\": \"\"}}, \"type\": \"scattergl\"}], \"scattermapbox\": [{\"marker\": {\"colorbar\": {\"outlinewidth\": 0, \"ticks\": \"\"}}, \"type\": \"scattermapbox\"}], \"scatterpolar\": [{\"marker\": {\"colorbar\": {\"outlinewidth\": 0, \"ticks\": \"\"}}, \"type\": \"scatterpolar\"}], \"scatterpolargl\": [{\"marker\": {\"colorbar\": {\"outlinewidth\": 0, \"ticks\": \"\"}}, \"type\": \"scatterpolargl\"}], \"scatterternary\": [{\"marker\": {\"colorbar\": {\"outlinewidth\": 0, \"ticks\": \"\"}}, \"type\": \"scatterternary\"}], \"surface\": [{\"colorbar\": {\"outlinewidth\": 0, \"ticks\": \"\"}, \"colorscale\": [[0.0, \"#0d0887\"], [0.1111111111111111, \"#46039f\"], [0.2222222222222222, \"#7201a8\"], [0.3333333333333333, \"#9c179e\"], [0.4444444444444444, \"#bd3786\"], [0.5555555555555556, \"#d8576b\"], [0.6666666666666666, \"#ed7953\"], [0.7777777777777778, \"#fb9f3a\"], [0.8888888888888888, \"#fdca26\"], [1.0, \"#f0f921\"]], \"type\": \"surface\"}], \"table\": [{\"cells\": {\"fill\": {\"color\": \"#EBF0F8\"}, \"line\": {\"color\": \"white\"}}, \"header\": {\"fill\": {\"color\": \"#C8D4E3\"}, \"line\": {\"color\": \"white\"}}, \"type\": \"table\"}]}, \"layout\": {\"annotationdefaults\": {\"arrowcolor\": \"#2a3f5f\", \"arrowhead\": 0, \"arrowwidth\": 1}, \"coloraxis\": {\"colorbar\": {\"outlinewidth\": 0, \"ticks\": \"\"}}, \"colorscale\": {\"diverging\": [[0, \"#8e0152\"], [0.1, \"#c51b7d\"], [0.2, \"#de77ae\"], [0.3, \"#f1b6da\"], [0.4, \"#fde0ef\"], [0.5, \"#f7f7f7\"], [0.6, \"#e6f5d0\"], [0.7, \"#b8e186\"], [0.8, \"#7fbc41\"], [0.9, \"#4d9221\"], [1, \"#276419\"]], \"sequential\": [[0.0, \"#0d0887\"], [0.1111111111111111, \"#46039f\"], [0.2222222222222222, \"#7201a8\"], [0.3333333333333333, \"#9c179e\"], [0.4444444444444444, \"#bd3786\"], [0.5555555555555556, \"#d8576b\"], [0.6666666666666666, \"#ed7953\"], [0.7777777777777778, \"#fb9f3a\"], [0.8888888888888888, \"#fdca26\"], [1.0, \"#f0f921\"]], \"sequentialminus\": [[0.0, \"#0d0887\"], [0.1111111111111111, \"#46039f\"], [0.2222222222222222, \"#7201a8\"], [0.3333333333333333, \"#9c179e\"], [0.4444444444444444, \"#bd3786\"], [0.5555555555555556, \"#d8576b\"], [0.6666666666666666, \"#ed7953\"], [0.7777777777777778, \"#fb9f3a\"], [0.8888888888888888, \"#fdca26\"], [1.0, \"#f0f921\"]]}, \"colorway\": [\"#636efa\", \"#EF553B\", \"#00cc96\", \"#ab63fa\", \"#FFA15A\", \"#19d3f3\", \"#FF6692\", \"#B6E880\", \"#FF97FF\", \"#FECB52\"], \"font\": {\"color\": \"#2a3f5f\"}, \"geo\": {\"bgcolor\": \"white\", \"lakecolor\": \"white\", \"landcolor\": \"#E5ECF6\", \"showlakes\": true, \"showland\": true, \"subunitcolor\": \"white\"}, \"hoverlabel\": {\"align\": \"left\"}, \"hovermode\": \"closest\", \"mapbox\": {\"style\": \"light\"}, \"paper_bgcolor\": \"white\", \"plot_bgcolor\": \"#E5ECF6\", \"polar\": {\"angularaxis\": {\"gridcolor\": \"white\", \"linecolor\": \"white\", \"ticks\": \"\"}, \"bgcolor\": \"#E5ECF6\", \"radialaxis\": {\"gridcolor\": \"white\", \"linecolor\": \"white\", \"ticks\": \"\"}}, \"scene\": {\"xaxis\": {\"backgroundcolor\": \"#E5ECF6\", \"gridcolor\": \"white\", \"gridwidth\": 2, \"linecolor\": \"white\", \"showbackground\": true, \"ticks\": \"\", \"zerolinecolor\": \"white\"}, \"yaxis\": {\"backgroundcolor\": \"#E5ECF6\", \"gridcolor\": \"white\", \"gridwidth\": 2, \"linecolor\": \"white\", \"showbackground\": true, \"ticks\": \"\", \"zerolinecolor\": \"white\"}, \"zaxis\": {\"backgroundcolor\": \"#E5ECF6\", \"gridcolor\": \"white\", \"gridwidth\": 2, \"linecolor\": \"white\", \"showbackground\": true, \"ticks\": \"\", \"zerolinecolor\": \"white\"}}, \"shapedefaults\": {\"line\": {\"color\": \"#2a3f5f\"}}, \"ternary\": {\"aaxis\": {\"gridcolor\": \"white\", \"linecolor\": \"white\", \"ticks\": \"\"}, \"baxis\": {\"gridcolor\": \"white\", \"linecolor\": \"white\", \"ticks\": \"\"}, \"bgcolor\": \"#E5ECF6\", \"caxis\": {\"gridcolor\": \"white\", \"linecolor\": \"white\", \"ticks\": \"\"}}, \"title\": {\"x\": 0.05}, \"xaxis\": {\"automargin\": true, \"gridcolor\": \"white\", \"linecolor\": \"white\", \"ticks\": \"\", \"title\": {\"standoff\": 15}, \"zerolinecolor\": \"white\", \"zerolinewidth\": 2}, \"yaxis\": {\"automargin\": true, \"gridcolor\": \"white\", \"linecolor\": \"white\", \"ticks\": \"\", \"title\": {\"standoff\": 15}, \"zerolinecolor\": \"white\", \"zerolinewidth\": 2}}}, \"title\": {\"font\": {\"color\": \"#D9D9D9\"}, \"text\": \"Hotel star rating distribution\"}, \"xaxis\": {\"gridcolor\": \"#434343\", \"linecolor\": \"black\", \"showgrid\": true, \"tickfont\": {\"color\": \"#C2C2C2\"}, \"title\": {\"font\": {\"color\": \"#D9D9D9\"}, \"text\": \"\"}, \"zerolinecolor\": \"#666570\"}, \"yaxis\": {\"gridcolor\": \"#434343\", \"linecolor\": \"black\", \"showgrid\": true, \"tickfont\": {\"color\": \"#C2C2C2\"}, \"title\": {\"font\": {\"color\": \"#D9D9D9\"}, \"text\": \"Count\"}, \"zerolinecolor\": \"#666570\"}},\n",
       "                        {\"showLink\": true, \"linkText\": \"Export to plot.ly\", \"plotlyServerURL\": \"https://plot.ly\", \"responsive\": true}\n",
       "                    ).then(function(){\n",
       "                            \n",
       "var gd = document.getElementById('ccc53a9c-c8ee-4f22-b2a6-55ee2513a64b');\n",
       "var x = new MutationObserver(function (mutations, observer) {{\n",
       "        var display = window.getComputedStyle(gd).display;\n",
       "        if (!display || display === 'none') {{\n",
       "            console.log([gd, 'removed!']);\n",
       "            Plotly.purge(gd);\n",
       "            observer.disconnect();\n",
       "        }}\n",
       "}});\n",
       "\n",
       "// Listen for the removal of the full notebook cells\n",
       "var notebookContainer = gd.closest('#notebook-container');\n",
       "if (notebookContainer) {{\n",
       "    x.observe(notebookContainer, {childList: true});\n",
       "}}\n",
       "\n",
       "// Listen for the clearing of the current output cell\n",
       "var outputEl = gd.closest('.output');\n",
       "if (outputEl) {{\n",
       "    x.observe(outputEl, {childList: true});\n",
       "}}\n",
       "\n",
       "                        })\n",
       "                };\n",
       "                });\n",
       "            </script>\n",
       "        </div>"
      ]
     },
     "metadata": {},
     "output_type": "display_data"
    }
   ],
   "source": [
    "#hotel star distribution and relationship of score with it\n",
    "goa['hotel_star_rating'].value_counts().iplot(kind='barh', yTitle='Count', linecolor='black', title='Hotel star rating distribution')"
   ]
  },
  {
   "cell_type": "code",
   "execution_count": 229,
   "metadata": {},
   "outputs": [],
   "source": [
    "#replacing invalid entries with nan\n",
    "goa['hotel_star_rating'] = goa['hotel_star_rating'].apply(pd.to_numeric, errors='coerce')"
   ]
  },
  {
   "cell_type": "code",
   "execution_count": 230,
   "metadata": {},
   "outputs": [
    {
     "data": {
      "text/plain": [
       "1.0    643\n",
       "3.0    243\n",
       "2.0    147\n",
       "4.0     63\n",
       "5.0     25\n",
       "Name: hotel_star_rating, dtype: int64"
      ]
     },
     "execution_count": 230,
     "metadata": {},
     "output_type": "execute_result"
    }
   ],
   "source": [
    "goa['hotel_star_rating'].value_counts()"
   ]
  },
  {
   "cell_type": "markdown",
   "metadata": {},
   "source": [
    "#### Checking the number of unique travellers associated with each accomodation, ."
   ]
  },
  {
   "cell_type": "code",
   "execution_count": 231,
   "metadata": {},
   "outputs": [],
   "source": [
    "def get_customer_stats_per_hotel(df:pd.DataFrame)->dict:\n",
    "    max_customer = df.groupby(['property_name'])['uniq_id'].agg('count').max()\n",
    "    min_customer = df.groupby(['property_name'])['uniq_id'].agg('count').min()\n",
    "    mean_customer = (df.groupby(['property_name'])['uniq_id'].agg('count').mean()).round()\n",
    "    return {\"The maximum no of customers each accomodation is \": max_customer,\n",
    "            \"The minimum no of customers each accomodation is \": min_customer,\n",
    "            \"The average no of customers each accomodation is \": mean_customer}"
   ]
  },
  {
   "cell_type": "code",
   "execution_count": 232,
   "metadata": {},
   "outputs": [
    {
     "name": "stdout",
     "output_type": "stream",
     "text": [
      "{'The maximum no of customers each accomodation is ': 5, 'The minimum no of customers each accomodation is ': 1, 'The average no of customers each accomodation is ': 1.0}\n"
     ]
    }
   ],
   "source": [
    "print(get_customer_stats_per_hotel(goa))"
   ]
  },
  {
   "cell_type": "markdown",
   "metadata": {},
   "source": [
    "#### The max number of customers who visited a hotel was 5 and min was 1. Hotel Om shiv and Roasdhouse hostels were among the popular picks. While majority of the hotels was visited by only one customer."
   ]
  },
  {
   "cell_type": "code",
   "execution_count": 233,
   "metadata": {},
   "outputs": [
    {
     "data": {
      "application/vnd.plotly.v1+json": {
       "config": {
        "linkText": "Export to plot.ly",
        "plotlyServerURL": "https://plot.ly",
        "showLink": true
       },
       "data": [
        {
         "marker": {
          "color": "rgba(255, 153, 51, 0.6)",
          "line": {
           "color": "rgba(255, 153, 51, 1.0)",
           "width": 1
          }
         },
         "name": "property_name",
         "orientation": "h",
         "text": "",
         "type": "bar",
         "x": [
          5,
          5,
          4,
          4,
          4,
          4,
          4,
          4,
          4,
          4,
          4,
          4,
          4,
          4,
          4,
          4,
          4,
          3,
          3,
          3,
          3,
          3,
          3,
          3,
          3,
          3,
          3,
          3,
          3,
          3,
          3,
          3,
          3,
          3,
          3,
          3,
          3,
          3,
          3,
          3,
          3,
          3,
          3,
          3,
          3,
          3,
          3,
          3,
          3,
          3,
          3,
          3,
          3,
          3,
          3,
          3,
          3,
          3,
          3,
          3,
          3,
          3,
          3,
          3,
          3,
          3,
          3,
          3,
          2,
          2,
          2,
          2,
          2,
          2,
          2,
          2,
          2,
          2,
          2,
          2,
          2,
          2,
          2,
          2,
          2,
          2,
          2,
          2,
          2,
          2,
          2,
          2,
          2,
          2,
          2,
          2,
          2,
          2,
          2,
          2,
          2,
          2,
          2,
          2,
          2,
          2,
          2,
          2,
          2,
          2,
          2,
          2,
          2,
          2,
          2,
          2,
          2,
          2,
          2,
          2,
          2,
          2,
          2,
          2,
          2,
          2,
          2,
          2,
          2,
          2,
          2,
          2,
          2,
          2,
          2,
          2,
          2,
          2,
          2,
          2,
          2,
          2,
          2,
          2,
          2,
          2,
          2,
          2,
          2,
          2,
          2,
          2,
          2,
          2,
          2,
          2,
          2,
          2,
          2,
          2,
          2,
          2,
          2,
          2,
          2,
          2,
          2,
          2,
          2,
          2,
          2,
          2,
          2,
          2,
          2,
          2,
          2,
          2,
          2,
          2,
          2,
          2,
          2,
          2,
          2,
          2,
          2,
          2,
          2,
          2,
          2,
          2,
          2,
          2,
          2,
          2,
          2,
          2,
          2,
          2,
          2,
          2,
          2,
          2,
          2,
          2,
          2,
          2,
          2,
          2,
          2,
          2,
          2,
          2,
          2,
          2,
          2,
          2,
          2,
          2,
          2,
          2,
          2,
          2,
          2,
          2,
          2,
          2,
          2,
          2,
          2,
          2,
          2,
          2,
          2,
          2,
          2,
          2,
          2,
          2,
          2,
          2,
          2,
          2,
          2,
          2,
          2,
          2,
          2,
          2,
          2,
          2,
          2,
          2,
          2,
          2,
          2,
          2,
          2,
          2,
          2,
          2,
          2,
          2,
          2,
          2,
          2,
          2,
          2,
          2,
          2,
          2,
          2,
          2,
          2,
          2,
          2,
          2,
          2,
          2,
          2,
          2,
          1,
          1,
          1,
          1,
          1,
          1,
          1,
          1,
          1,
          1,
          1,
          1,
          1,
          1,
          1,
          1,
          1,
          1,
          1,
          1,
          1,
          1,
          1,
          1,
          1,
          1,
          1,
          1,
          1,
          1,
          1,
          1,
          1,
          1,
          1,
          1,
          1,
          1,
          1,
          1,
          1,
          1,
          1,
          1,
          1,
          1,
          1,
          1,
          1,
          1,
          1,
          1,
          1,
          1,
          1,
          1,
          1,
          1,
          1,
          1,
          1,
          1,
          1,
          1,
          1,
          1,
          1,
          1,
          1,
          1,
          1,
          1,
          1,
          1,
          1,
          1,
          1,
          1,
          1,
          1,
          1,
          1,
          1,
          1,
          1,
          1,
          1,
          1,
          1,
          1,
          1,
          1,
          1,
          1,
          1,
          1,
          1,
          1,
          1,
          1,
          1,
          1,
          1,
          1,
          1,
          1,
          1,
          1,
          1,
          1,
          1,
          1,
          1,
          1,
          1,
          1,
          1,
          1,
          1,
          1,
          1,
          1,
          1,
          1,
          1,
          1,
          1,
          1,
          1,
          1,
          1,
          1,
          1,
          1,
          1,
          1,
          1,
          1,
          1,
          1,
          1,
          1,
          1,
          1,
          1,
          1,
          1,
          1,
          1,
          1,
          1,
          1,
          1,
          1,
          1,
          1,
          1,
          1,
          1,
          1,
          1,
          1,
          1,
          1,
          1,
          1,
          1,
          1,
          1,
          1,
          1,
          1,
          1,
          1,
          1,
          1,
          1,
          1,
          1,
          1,
          1,
          1,
          1,
          1,
          1,
          1,
          1,
          1,
          1,
          1,
          1,
          1,
          1,
          1,
          1,
          1,
          1,
          1,
          1,
          1,
          1,
          1,
          1,
          1,
          1,
          1,
          1,
          1,
          1,
          1,
          1,
          1,
          1,
          1,
          1,
          1,
          1,
          1,
          1,
          1,
          1,
          1,
          1,
          1,
          1,
          1,
          1,
          1,
          1,
          1,
          1,
          1,
          1,
          1,
          1,
          1,
          1,
          1,
          1,
          1,
          1,
          1,
          1,
          1,
          1,
          1,
          1,
          1,
          1,
          1,
          1,
          1,
          1,
          1,
          1,
          1,
          1,
          1,
          1,
          1,
          1,
          1,
          1,
          1,
          1,
          1,
          1,
          1,
          1,
          1,
          1,
          1,
          1,
          1,
          1,
          1,
          1,
          1,
          1,
          1,
          1,
          1,
          1,
          1,
          1,
          1,
          1,
          1,
          1,
          1,
          1,
          1,
          1,
          1,
          1,
          1,
          1,
          1,
          1,
          1,
          1,
          1,
          1,
          1,
          1,
          1,
          1,
          1,
          1,
          1,
          1,
          1,
          1,
          1,
          1,
          1,
          1,
          1,
          1,
          1,
          1,
          1,
          1,
          1,
          1,
          1,
          1,
          1,
          1,
          1,
          1,
          1,
          1,
          1,
          1,
          1,
          1,
          1,
          1,
          1,
          1,
          1,
          1,
          1,
          1,
          1,
          1,
          1,
          1,
          1,
          1,
          1,
          1,
          1,
          1,
          1,
          1,
          1,
          1,
          1,
          1,
          1,
          1,
          1,
          1,
          1,
          1,
          1,
          1,
          1,
          1,
          1,
          1,
          1,
          1,
          1,
          1,
          1,
          1,
          1,
          1,
          1,
          1,
          1,
          1,
          1,
          1,
          1,
          1,
          1,
          1,
          1,
          1,
          1,
          1,
          1,
          1,
          1,
          1,
          1,
          1,
          1,
          1,
          1,
          1,
          1,
          1,
          1,
          1,
          1,
          1,
          1,
          1,
          1,
          1,
          1,
          1,
          1,
          1,
          1,
          1,
          1,
          1,
          1,
          1,
          1,
          1,
          1,
          1,
          1,
          1,
          1,
          1,
          1,
          1,
          1,
          1,
          1,
          1,
          1,
          1,
          1,
          1,
          1,
          1,
          1,
          1,
          1,
          1,
          1,
          1,
          1,
          1,
          1,
          1,
          1,
          1,
          1,
          1,
          1,
          1,
          1,
          1,
          1,
          1,
          1,
          1,
          1,
          1,
          1,
          1
         ],
         "y": [
          "Hotel Om Shiv",
          "Roadhouse Hostels",
          "Riverside Regency Resort",
          "Hotel Satyaheera",
          "Lui Beach Resort",
          "Palmarinha Resort and Suites",
          "Colonia De Braganza Resort",
          "Magic Forest",
          "Coco's Resort",
          "The Golden Suites Calangute",
          "Vagator Suites 1B BHK",
          "FabHotel Candolim",
          "Om Gravity Eco Resort",
          "La Conceicao",
          "Casa Sol",
          "Henrys Place",
          "Holiday Beach Resort By Adore",
          "La Paz Gardens",
          "Kerela Ayurveda Wellness Center",
          "Aldeia Santa Rita",
          "Ocean Heights Appartment",
          "Simply Offbeat Goa Budget Hotel",
          "Diwar Guest House Retreat",
          "The Golden Nest Deluxe",
          "World Choice Sunshine Beach Resorts",
          "Casa Melhor 2BHK Luxurious Apartment Siolim",
          "Field View Cottage Anjuna",
          "Hotel Miramar",
          "Cyema Guest House",
          "Resort Village Royale",
          "Swim Sea Beach Resort",
          "The Naked Space Boutique Hotel",
          "The Only Olive",
          "Sapna Meadows Goa",
          "New Ocean Ride Beach Resort",
          "Calangute Beach Inn",
          "Ocean Myst Gold",
          "Keys Ronil Resort, Goa",
          "Hyatt Place Goa/ Candolim",
          "Hotel Saaj",
          "Ave Maria Beach Resort",
          "Kalki Resorts and Cottages Baga",
          "Cosy Apartment Overlooking the Pool! Vagator",
          "Hotel Goan Clove",
          "Ocean Suite Luxury Boutique Hotel",
          "Baga Bay",
          "Vasco Residency",
          "Samira Beach Resort",
          "Stonewater Eco Resort",
          "Sea Breeze Candolim",
          "La Cabana Beach & Spa",
          "ROY N RON HOLIDAY HOMES",
          "Blue Marine Beach Resort",
          "Hotel North Bay",
          "Annapurna Vishram Dhaam",
          "Casa Melhor Luxurious 1BHK apartment",
          "Excelsior Holiday Homes 2 BHK C",
          "United 21 Emerald Goa",
          "VILLA NOVA",
          "Calangute Beach Side",
          "Sea Breeze Village",
          "Treebo La Flamingo",
          "Valentines Retreat",
          "Casa Melhor Luxurious 1BHk apartment Candolim",
          "La Vaiencia",
          "Vision Greens Phase 1",
          "Goa Anjuna Villas",
          "Robert's Place",
          "Hotel Lucky Star",
          "Cuba Baga",
          "Caphina Tourist Cottages",
          "ARABIAN RETREAT Apartment",
          "Palm Green Holiday home",
          "Poonam Village Resort",
          "Hotel Natasha",
          "JOHNS Guest House",
          "HomeStays Goa",
          "Manvins Inn Calangute",
          "Days Guest House",
          "Jasminn by Mango Hotels",
          "Sodder's Gloria Anne Beach Haven",
          "Golden Sands Betalbatim",
          "Casa Melhor luxury 1BHK Apartment",
          "Royal Touch Beach Huts",
          "Ondas Do Mar Beach Resort Phase - I",
          "Calangute House Service Apartment",
          "Vivanta by Taj - Panaji Goa",
          "Hotel Baywatch Express Urbane",
          "LOTUS INNGOA Holiday Homes",
          "FabHotel Anjuna Beachfront",
          "Zuariview Guest House",
          "SOL BESO",
          "Baywatch Resort",
          "Ivy Retreat Vacations Rentals",
          "Treehouse Neptune Panaji Goa",
          "Sunshine Residency",
          "Ruby Guest House",
          "Villa Sunny Day",
          "Skylark Resort",
          "Guest House Abrigo De Botelho",
          "AC Furnished River view apartment in Baga",
          "Rising Wave Holiday home",
          "Belle Vista Wado - Enviro Green Resorts",
          "The International Centre, Goa",
          "Ginger Hotel - Goa",
          "Sabina Guest House",
          "Antique Mardol",
          "Flower Holiday Home",
          "Resort Mellorosa Goa",
          "Coelho Guest House",
          "Mamas Mids Homestay",
          "Lawande Beach Resort",
          "Romance Holiday Beach Resort",
          "TripThrill Benaulim House",
          "Royal Woods",
          "Fahrenheit Hotels & Resort",
          "Gomati",
          "Ruffles Beach Resort",
          "Resort Dona Alcina",
          "Calangute Lovers Paradise Studios",
          "Dreams Palm Beach Resort",
          "Cosmos Guest House Cosma Gregory Soares",
          "Hotel Aroma",
          "Delta Residency Goa",
          "Swimming Pool Facing 1BHK apartment",
          "Wildernest Nature Resort",
          "Horizon Resort",
          "Luxury 5BHK Villa in Arpora",
          "Santonio Beach Resort",
          "Flowers Guest House",
          "Beach Side Comfortable Holiday Home",
          "Le Seasons Resort",
          "Ocean Residency",
          "Cygnett Inn Celestiial Goa",
          "Beira Mar Alfran",
          "Colva Tavern",
          "Siolim House",
          "Mykonos Blu",
          "Rudra Holidays",
          "Hotel Blessings",
          "Shivam Resort",
          "Celjoan Guest House",
          "Trippy Studio Apartment",
          "Soul Vacation - A Concept Hotel",
          "The Bungalows Light House, Goa",
          "Villa Ikebana",
          "Nelmar Nest Guest House",
          "Ananaz Hotel",
          "The Acacia Hotel & Spa, Goa",
          "LA VIDA Residency Suites Goa",
          "TripThrill Lotus Hermitage Apartment",
          "New Ginger Tree Beach Resort",
          "Hotel City Express",
          "Silver Palm Goa",
          "At Home B and B Miramar",
          "TripThrill La Grace Villa",
          "Vincy Guest House",
          "Sevas Huts and Cabanas",
          "Guest House located in Baga Goa - Cheap",
          "The Fern kadamba Hotel and Spa Goa",
          "G001 Pool Facing Serviced Apartment",
          "Cozy Studio Apartment Calangute",
          "Hard Rock Hotel",
          "Baptista Guest House",
          "Private 8 room Homestay in Vagator",
          "Sawli Guest House 1 Room Kitchen",
          "Hotel Ave Maria",
          "Hotel Panchsheel",
          "Molyma Resorts",
          "Castle House",
          "Silver Sands Sunshine",
          "Aguada Villas",
          "BETELNUT INN Marketed by Adore",
          "Calangute Residency",
          "Safira Riverfront Boutique Resort",
          "Morjim Holiday",
          "Orritel Village Square",
          "So My Resort Goa",
          "La Maison Fontainhas",
          "Urba Luxury Service Apartments",
          "Opus",
          "Summer Ville Resort",
          "Casa Melhor Luxrious 1BHK apartment",
          "Vagator Suites 1C BHK",
          "Spring Beach Cottages",
          "Deltin Suites",
          "Beleza By the Beach",
          "Nature Camp in close proximity to Mollem National Park",
          "Saldanha Kyle Gardens",
          "Yo Yo Goa The Apartment Hotel",
          "Hotel Boshan",
          "Vagator House",
          "Lua Nova",
          "White Square Nirvana",
          "Bela Rozy Guest house",
          "Graciano Cottage",
          "Clarem Guest House",
          "Sand Castles Holiday Homes - 3 Mins Walk from Miramar Beach",
          "Private 3 room Villa in Betalbatim",
          "Marina Bay Beach Resort",
          "Alagoa Resort",
          "Maison Encore Holiday Home",
          "TripThrill Vilanova Holidays",
          "Ocean View Goan Beach house",
          "C Pearl Guest House",
          "A charming, riverside, Portuguese style villa",
          "Bogmallo Heights Service Apartment",
          "Jack Independent Villa Candolim",
          "Moksh Holiday Homes",
          "Studio Apartment in a 3 Star Hotel, Arpora - Goa",
          "AGUIAR GUEST HOUSE",
          "Budget Cheap Guest House Rooms in Goa",
          "Goan Holiday Resort",
          "Royal Mirage Boutique Morjim",
          "Hotel Leela Inn",
          "Sea Breeze Inn",
          "Shangrila Beach Hotel",
          "Willows Elite Tourist Resort",
          "Santiago Beach Resort",
          "SeaShell Villas",
          "Osborne Holiday Resort",
          "Leoney Resort",
          "Casablanca Beach Resort",
          "CasaMelhor 2BHK in Candolim CM002",
          "Angelina Beach Resort Goa",
          "Darisa Resort",
          "Aishwarya Guest Inn",
          "Goan Alcove",
          "The Queeny Hotel",
          "TripThrill Florida Gardens",
          "1 double a/c bedroom with bath, lounge, kitchen",
          "Private 2 room Apartment in Calangute",
          "Senso The Inspiration",
          "Coco Heritage Home",
          "Quiet and peaceful coastal stay in Candolim",
          "TripThrill Costa Holidays",
          "Century-old heritage property - a guest house in Siolim",
          "Villa Fountain Court",
          "White Pearl 2 Bhk Apartment",
          "SeaCoast Colva",
          "Sunita Guest House",
          "Hotel Manoshanti",
          "Nagoa Grande Resort",
          "Hotel Mayura",
          "Manthan Yogic Village",
          "Joie De Vivre Goa",
          "Paparazzi Resort",
          "DreamHome Calangute Villa",
          "Florys Nest Holiday Home Goa",
          "Jhampus Studios",
          "SinQ Abode",
          "Hotel Ashirwad",
          "Luxury 4BHK Beach Villa For Rent in Calangute",
          "L Hotel Eden",
          "Villa Calangute Phase 7",
          "16 Degrees North",
          "Nat Villa",
          "Casa Melhor Luxury 4BHK Penthouse",
          "Hotel Amar",
          "Royal Orchid Beach Resort And Spa - Goa",
          "SMILEY Holiday Service Apartments",
          "A family run budget guest house in Candolim",
          "Bungalows",
          "Indraprastha Palolem 2 BHK Apartment",
          "Shashesca Villa",
          "Hotel Succegado",
          "Peravel Beach Holiday Home",
          "Hotel Supreme",
          "Ananda Resort",
          "Sai Raj Guest House",
          "Larios Beach Holiday",
          "Calangute Plaza In",
          "The Sapphire Comfort",
          "Epitacios",
          "Cupids Heaven Resort",
          "Amigo Plaza",
          "Studio 1BHK Baga",
          "Hotel La Mansion",
          "Pinto Rosario Square Resort and Spa",
          "Joet's Guest House",
          "Backpacker Panda",
          "Wavelet Beach resort Goa",
          "Vision Greens 3 bhk Villa IV",
          "Bhakti Kutir",
          "Seclude Varca",
          "VG 3 bhk apartment",
          "Orchid De Goa",
          "Cosmos Guest House Souxa Xaviers Complex",
          "Stay in a Apartment in Calangute",
          "Arco Iris Boutique Homestay Hotel",
          "Palolem Garden Estate Service Apartments",
          "Sodder's Renton Manor",
          "Dewa Goa Apartment",
          "Dudhsagar Spa Resort",
          "Zac Beach Resort Goa",
          "Villa Colva Bon Vivant Guest House",
          "Cavala Seaside Resort",
          "Hotel Solmar",
          "Divar Heritage Home",
          "Bollywood Seaqueen Beach Resort",
          "WTF MY House",
          "Saldanaha Kyle Gardens",
          "Azzure by Spree Hotels",
          "Agonda Dream View",
          "Casa Lavie",
          "Jack Bagavilla Guest house",
          "Hotel Morjim Breeze",
          "The V Beach Villa",
          "My Kind Of Place",
          "Goa Woodlands Hotel",
          "M N Resorts",
          "Riverside Hotel Mandrem",
          "Palms N Tides",
          "The LaLiT Golf & Spa Resort Goa",
          "Spring Hospitality",
          "Tiara Camelot Baga",
          "3 Bedroom Luxury Villa",
          "Cuba Premium Huts",
          "Private 3 room Villa in Anjuna",
          "Wind Mist Apartments",
          "Viva Calangute",
          "Casa Paradiso",
          "TripThrill Casa Blanca",
          "Golden Tulip Goa",
          "Alila Diwa",
          "The Park Calangute Goa",
          "Down Hill Village Inn",
          "Bollywood Backyard Hostel",
          "Vagator Breeze",
          "Atlanta Beach Resort",
          "Hotel Ria Residency",
          "Lotus Sutra",
          "Rosario's Inn Guest House",
          "TripThrill Westwind Apartments",
          "Marshall Guest House",
          "Ocean Myst Silver Goa",
          "Senhor Agnelo Resort",
          "Woodstock Village",
          "Casa Melhor 1BHK in Candolim CM005",
          "Jack Independent Villa Sangolda",
          "Wanderlust Goa Retreat",
          "La Casa Siolim",
          "La Sunila Clarks Inn Suites",
          "DoubleTree by Hilton Hotel Goa",
          "Happy Residency Goa Raw House",
          "Casa Anjuna",
          "Hotel Suhas Calangute",
          "TripThrill Beach Arcade Apartment",
          "The Casa De Cris",
          "Granpas Inn / Hotel Bougainvillea",
          "Grande Delmon",
          "Le Pearl",
          "At Home B and B Donapaula",
          "HORIZONS SHALOM",
          "Majestic Beach Comforts",
          "Plaza Inn Goa",
          "Stay in a Villa in Candolim",
          "Margarita Residency",
          "Santana Beach Resort",
          "Calangute Beauty 2bhk Luxury Apartment",
          "Famafa Beach Resort",
          "Terra Paraiso Beach Resort",
          "The Lighthouse Aguada",
          "MORJIM SUNSET GUEST HOUSE",
          "Pastina Beach Resort Dona Paula",
          "Hotel Sona Royale",
          "O Pescador Beach Resort",
          "Hotel Mayfair",
          "Hotel Colva Kinara",
          "UNA Homestay Villa Arcangela",
          "Vilo Villa Guest house",
          "Wave Beach Hotel",
          "Grandeur De Sanchi - Luxurious Boutique Beach Resort & Spa",
          "Beach Way Home Stay",
          "Ocean Mist Raw House",
          "CasaMelhor 2BHK in Candolim CM001",
          "10 Calangute",
          "Hotel Riverside",
          "Bricks and Bamboo Hostel",
          "The Tubki Resort",
          "Rendezvous Beach Resort",
          "Mikes Place",
          "The River Palace",
          "Hotel Orion",
          "1 and 2 bhk Suite apartments for rent",
          "Bay 15",
          "Fully Furnished Service Apartments with Swimming pool 880",
          "Goa Clarks Serviced Apartments",
          "SFX Franjo Villa Goa",
          "Menino Regency",
          "A stunning two-storey, five-bedroom villa home in Candolim",
          "Hotel Liberty",
          "Saritas Guest House",
          "Jack Independent Villa Baga",
          "Lotus Beach Resort",
          "Spectacular view of the Arabian Sea",
          "Gare Astoria",
          "Acron Waterfront Resort and Spa",
          "Great OS By The Sea Bungalow",
          "Hotel Mobor Beach Resort",
          "Studio by the Beach on Candolim-Calangute Main Road",
          "Arabian Retreat",
          "The HQ",
          "Mangrove",
          "Bon Vivant Studio Apartment",
          "Hotel La Flor",
          "Private 2 room Villa in Assagao",
          "Fernandes Villa",
          "Mitaroy Goa Hotel",
          "Roundcube Guest House",
          "Sodder's Beach Classic",
          "Summers The Beach Hideaway",
          "Adore Calangute Rooms",
          "Colonial Villa with Private Pool in Sinquerim - Goa",
          "Best Western Devasthali-The Valley Of Gods,",
          "Hotel O 9",
          "Glens Corner",
          "Goa - VIllagio, A Sterling Holidays Resort",
          "Perola Do Mar",
          "Aithi Seva Baga 2 Bhk Flat",
          "Sun Beach Residency",
          "Hotel Linda Goa",
          "Jessica Lavish Live Inn",
          "Hotel Delmon",
          "Panjim Peoples",
          "Surya Palace",
          "Duke's Villa",
          "Resorte Marinha Dourada",
          "Royal Palms",
          "Our Villa Goa",
          "Kiara BnB Home",
          "Luxury Fully Furnished 1 Bhk Apartment",
          "Shiva Beach House",
          "TripThill Sakina Apartments",
          "Club Mahindra Emerald Palms, Goa",
          "Shon De Goa",
          "Hotel Campal",
          "Saiesh International Hotel",
          "Palolem Delights",
          "Lazy Lagoon Sarovar Portico Suites",
          "Adore Star Rooms",
          "Park Hyatt Goa Resort and Spa",
          "Nova Goa",
          "Nature's Nest Goa",
          "Citrus Goa",
          "The Sincro Hotel",
          "V Palms Resort",
          "Romaldo Inn",
          "Luxury Apartment in Arpora Goa",
          "YO YO GOA VILLAGE COTTAGES",
          "Farmagudi Residency",
          "Holiday Pack Guest House",
          "Villa Calangute Phase 5",
          "Teles Guest House",
          "River Rays Resort",
          "Palolem Beach Resort",
          "All Seasons Beach Classic Resort",
          "La Joia Boutique Hotel",
          "Hotel Goa International",
          "Studio 7",
          "Casa Esmeralda",
          "Holiday Inn Resort",
          "Coco Resort Morjim",
          "Jack 2BHK Apartment baga",
          "Wanderers Hostel",
          "The Belmonte by ACE",
          "Veronica Guest House",
          "Riviera Hermitage Anjuna,",
          "Planet Hollywood Beach Resort",
          "Zappia Cove Guest House",
          "Nanu Retreat 530",
          "Neptune Point Hill Top Cottages",
          "Koithra Holiday Home",
          "Tanisha Guest House",
          "Villa Calangute Phase 4",
          "Old Goa Residency",
          "Hotel Krish Baga Goa",
          "Treebo Rainforest Enclave",
          "Riviera Palms Phase 2",
          "16 Degrees North Candolim",
          "Hotel Priti International",
          "Hotel Avenue",
          "Relax Holiday Home",
          "Adore Anjuna Rooms",
          "Dom Pedros Haven",
          "Penthouse Apartment",
          "Cliff Haven",
          "Bay Luxe",
          "White Negro Beach Resort",
          "Mayfair Hideaway Spa Resort",
          "Miramar Residency",
          "Sharanam Green Resort",
          "Novotel Goa Resort & Spa",
          "Ancora Beach Resort Goa",
          "Hotel Braganza Mapusa",
          "Alenea Resort",
          "Casa by The Beach , Calungate Goa",
          "Hidden Paradise",
          "Villa Shraddha Service Appartment",
          "Vivenda Dos Palhacos",
          "Hotel Meraden La Oasis",
          "Silver Sands Beach Resort",
          "Calangute Grande",
          "Goa Home Vacation - Independent Villa near Beach-Colva, Goa",
          "Villa de Aluizio",
          "Highland Heritage",
          "Villa 3BHK in Arpora Phase 3",
          "La Grace Resort",
          "Divine Beach Resort",
          "Golden Guest House",
          "Alor Grande Holiday Resort",
          "The Ocean Park Resort",
          "Kajal Guest House",
          "Vision Green 3 Bhk Villa I",
          "Riva Beach Resort",
          "Pirache Art Hotel",
          "Hotel Tanish",
          "Hotel Sai Baga",
          "Sun N Moon",
          "Nanu Beach Resort and Spa",
          "Amoura Beach Resort",
          "Reliance Holiday Homes Goa",
          "Uber Luxury 2bhk Villa in Candolim",
          "Goa Anjuna Villa 2BHK B",
          "Sawli Guest House 1 Room",
          "Sol De Goa",
          "Hotel Poonam",
          "Vision Green 3 Bhk Villa III",
          "Treehouse Blue, Goa",
          "Paradise Village Beach Resort",
          "Evershine Guest House",
          "Royal Heritage Resort",
          "Cotas Guest House marketed by Adore",
          "New Image Inn",
          "Artisanale Morjim",
          "Ludu Guest House",
          "Swati Guest House",
          "GA 03 Fully Furnished Service Apartment with 2 Washrooms",
          "Stay in luxury white washed casinhas in Candolim",
          "The Fern Gardenia Resort",
          "Fabhotel Anjuna Beachfront",
          "Star of the Sea Resort",
          "Baia Do Sol",
          "Hotel Menino Ponda Goa",
          "THE CITADEL HOTEL",
          "Private 1 room Apartment in Saligao",
          "Boomerang Beach Resort",
          "Joia Do Mar Resort",
          "Holiday Villas in Goa",
          "Blue Beach Resort",
          "Hotel Republica Goa",
          "Tisha Apartment Hotel",
          "Sukhsagar Beach Resort",
          "Hotel Siesta De Goa",
          "Sai Ramnath Guest House",
          "Hotel Viva Baga",
          "Laxmi Guest House",
          "Seascape Goa @ Costa Del Sol",
          "Baga Yotel",
          "Casa Melhor",
          "Stay in a Homestay in Bardez",
          "Gated holiday community",
          "Villa Calangute Phase 3",
          "Pousada Donaciana Wooden Cottages",
          "Villa Orchid",
          "Excelsior Holiday Homes 2 BHK A",
          "Regenta Resort Varca Beach Goa",
          "Casa Melhor 3 bed Duplex Penthouse",
          "Willo's Apartments",
          "iLodge @ Calangute",
          "Sodder's Svelton Manor",
          "Resort Coqueiral",
          "WellnessInn",
          "Furnished Holiday Homes",
          "Neelam's The Grand",
          "Royal Mirage Beach Resort",
          "Magnum Resort",
          "Private 10 room Apartment in Calangute",
          "Holiday Home in Goa - 9 mins from Benaulim Beach",
          "Laura Guest Rooms",
          "SeaShell Beach Suites",
          "Raghunath Guest House",
          "Reliance House",
          "Veera Strand Park Serviced Apartments",
          "Whispering Palms Beach Resort",
          "Chances Resort and Casino",
          "Sangolda Greenz - A Budgeted Stay",
          "The Rivasa Resort",
          "RK Pleasing Homes",
          "Dewa Hotel",
          "Calangute Inn",
          "Micasa by the Sea Goa",
          "Blu Grass",
          "Studio Service Apartments - Arpora",
          "Costa Del Sol Holiday Homes",
          "Portuguese inspired architecture guest house in Candolim",
          "Hotel Shakti Palace",
          "Sunset Beach Resort",
          "Deltin Palms Riverfront",
          "Buddy Guest House",
          "Nxtgen Future Hospitality",
          "Goa - Club Estadia, A Sterling Holiday Resorts",
          "Spazio Leisure Resort Anjuna",
          "Ginger Tree Goveia Resort",
          "Ocean Crest",
          "Hotel Falcon Resorts",
          "Oceana The Holiday Home",
          "Majhi resort",
          "CXScape",
          "The LaLiT Golf & Spa Resort...",
          "Lily Villa",
          "Aston Ajoy Home Comfort Goa",
          "Baywalk Goa",
          "Private 2 room Apartment in Vagator",
          "Villa Bomfim",
          "TripThrill Sapna Residency Apartment",
          "Zense Resort",
          "Inn Anjuna",
          "Rahi Resort De Crossroads",
          "Hotel 4 Pillars",
          "Serviced Apartments Goa",
          "Goan Imperial Holidays",
          "Misquita House",
          "The Hawaii Comforts",
          "No Frills Guest House facility set on Candolim Beach",
          "Royal Mirage Boutique",
          "Sundays Forever A HomeStay",
          "Romaldo Guest House",
          "Beach huts with all the amenities on Benaulim beach",
          "Mandrem Retreat",
          "Resort Ronil Royal",
          "A home away from home - Beach resort style rooms in Vagator",
          "The Sea Horse Resort",
          "Casa Colvale",
          "San Joao Holiday Homes",
          "Stay in a Homestay in Bogmalo",
          "Paradise Inn",
          "La Grace Margao",
          "Vishals Residency",
          "Adore Azzure Rooms",
          "Peles Windsong Wood Cottages on Beach",
          "Coconut Grove",
          "Daffodils Guest House",
          "Happy Residency Goa Guest House",
          "Agonda Palace",
          "Siddam Residency",
          "RETREAT ANJUNA",
          "The Village Inn",
          "Sukhmantra Resort and Spa",
          "Excelsior Holiday Homes 2 BHK  D",
          "John's Highland Comfort",
          "Waters Boutique Guest House",
          "Campal Beach Resort",
          "A wonderful place to relax in Anjuna - Sea View Guest house",
          "Kristal Sands Beach Resort",
          "Miroslav Resort",
          "Hotel Windsor Bay",
          "Parth Inn",
          "Lambana Resort Goa",
          "Ocean Heights Home Stay",
          "Hotel Parth Inn",
          "Treebo Turtle Beach Resort",
          "C 301 2 BHK Serviced Apartment",
          "Leons House",
          "Excelsior Holiday Homes 2 BHK F",
          "Sea Queen Beach Resort",
          "Colonia Santa Maria",
          "Hotel Travellers Inn",
          "Dona Terezinha Resort",
          "Simply Offbeat Goa Eco",
          "Grand Hyatt Goa",
          "Cuba Patnem",
          "Maria Cottages",
          "World Choice Hideaway Beach Resorts",
          "Hotel Lotus Inn",
          "Resort De Coracao",
          "Vagator Suites 1D BHK",
          "The Long Bay",
          "Stay in a Homestay in Aldona",
          "Pinnacle Holiday Homes",
          "Apartment D 2bhk Apartment Vision Green",
          "TripThrill Ruby Residency Apartment",
          "Colva Holiday Homes",
          "Devaaya, the Ayurveda Retreat",
          "Salson Ferns Nest Guest House",
          "Resort Ritchita",
          "Orchid Holiday Home",
          "Nazri Resort",
          "Excelsior Holiday Homes 2 BHK G",
          "Neelam The Glitz",
          "Nandini Casa De Praia",
          "Country Inn & Suites, By Carlson Goa Panjim",
          "Mystique Heights Goa",
          "Hotel Karishma Grand",
          "Deluxe Holiday home",
          "Cidade De Goa",
          "Toor Resort",
          "Budget villa in Candolim with all amenities",
          "The Mandala Goa",
          "The PentaCon a Resort",
          "Palacete Rodrigues",
          "Mandrem Beach Resort Goa",
          "Madhavan's Villa Hotel",
          "Maitri Sweet Living",
          "World Choice Holiday Village",
          "NORA Spiritual Villa Siolim",
          "ac 2BHK apartment 1km from Benaulim beach, South Goa",
          "Apartment C 2 bhk Vision Green",
          "Glory Lazfin Guest House",
          "RnB Ramacon Goa",
          "The Orange House",
          "2br apartment near the beach at Candolim, Goa",
          "Paradise Guest House",
          "Gulmohar Resort",
          "Goa Marriott Resort & Spa",
          "Hotel Grand Liz",
          "Zinhos Beach Resort",
          "Shining Sand Beach Hotel",
          "Pritams Cottages Guest House",
          "Whispering Woods",
          "SMILEY HOTELS RISHI BAGA",
          "Alina Guest House",
          "VILLA BY THE SEA",
          "Casa Chesnut ServiceApartments",
          "Pearl King Villa",
          "Laalegro Holiday Home Goa",
          "Mahamaya Kalika Guest House",
          "Savita Guest House",
          "The Haven",
          "Estrela Do Mar Beach Resort",
          "Vila De Goa",
          "Sonesta Inns",
          "Silver Lining A Family Retreat",
          "Sunkissed Plaza",
          "Hotel Celestiial",
          "Hotel Hacienda Calangute",
          "Williams Beach Retreat",
          "Hotel Rezos",
          "Village Vibes Apartment",
          "Villa Fatima Beach Resort",
          "Coco Beach Village",
          "Diakon Holidays",
          "juSTa Panjim",
          "Goan Heritage Apartment",
          "Goa Villa Holidays",
          "Mansion in Candolim, Goa",
          "Sea Front huts Patnem",
          "Omega Beach Resort",
          "Saaj Guest House",
          "A stunning luxurious villa in Candolim",
          "Blue Beach Nest Service Appartment 1 BHK NO 710",
          "Radisson Blu",
          "Stay in Baga- 2 mins from the beach"
         ]
        }
       ],
       "layout": {
        "legend": {
         "bgcolor": "#1A1A1C",
         "font": {
          "color": "#D9D9D9"
         }
        },
        "paper_bgcolor": "#1A1A1C",
        "plot_bgcolor": "#1A1A1C",
        "template": {
         "data": {
          "bar": [
           {
            "error_x": {
             "color": "#2a3f5f"
            },
            "error_y": {
             "color": "#2a3f5f"
            },
            "marker": {
             "line": {
              "color": "#E5ECF6",
              "width": 0.5
             }
            },
            "type": "bar"
           }
          ],
          "barpolar": [
           {
            "marker": {
             "line": {
              "color": "#E5ECF6",
              "width": 0.5
             }
            },
            "type": "barpolar"
           }
          ],
          "carpet": [
           {
            "aaxis": {
             "endlinecolor": "#2a3f5f",
             "gridcolor": "white",
             "linecolor": "white",
             "minorgridcolor": "white",
             "startlinecolor": "#2a3f5f"
            },
            "baxis": {
             "endlinecolor": "#2a3f5f",
             "gridcolor": "white",
             "linecolor": "white",
             "minorgridcolor": "white",
             "startlinecolor": "#2a3f5f"
            },
            "type": "carpet"
           }
          ],
          "choropleth": [
           {
            "colorbar": {
             "outlinewidth": 0,
             "ticks": ""
            },
            "type": "choropleth"
           }
          ],
          "contour": [
           {
            "colorbar": {
             "outlinewidth": 0,
             "ticks": ""
            },
            "colorscale": [
             [
              0,
              "#0d0887"
             ],
             [
              0.1111111111111111,
              "#46039f"
             ],
             [
              0.2222222222222222,
              "#7201a8"
             ],
             [
              0.3333333333333333,
              "#9c179e"
             ],
             [
              0.4444444444444444,
              "#bd3786"
             ],
             [
              0.5555555555555556,
              "#d8576b"
             ],
             [
              0.6666666666666666,
              "#ed7953"
             ],
             [
              0.7777777777777778,
              "#fb9f3a"
             ],
             [
              0.8888888888888888,
              "#fdca26"
             ],
             [
              1,
              "#f0f921"
             ]
            ],
            "type": "contour"
           }
          ],
          "contourcarpet": [
           {
            "colorbar": {
             "outlinewidth": 0,
             "ticks": ""
            },
            "type": "contourcarpet"
           }
          ],
          "heatmap": [
           {
            "colorbar": {
             "outlinewidth": 0,
             "ticks": ""
            },
            "colorscale": [
             [
              0,
              "#0d0887"
             ],
             [
              0.1111111111111111,
              "#46039f"
             ],
             [
              0.2222222222222222,
              "#7201a8"
             ],
             [
              0.3333333333333333,
              "#9c179e"
             ],
             [
              0.4444444444444444,
              "#bd3786"
             ],
             [
              0.5555555555555556,
              "#d8576b"
             ],
             [
              0.6666666666666666,
              "#ed7953"
             ],
             [
              0.7777777777777778,
              "#fb9f3a"
             ],
             [
              0.8888888888888888,
              "#fdca26"
             ],
             [
              1,
              "#f0f921"
             ]
            ],
            "type": "heatmap"
           }
          ],
          "heatmapgl": [
           {
            "colorbar": {
             "outlinewidth": 0,
             "ticks": ""
            },
            "colorscale": [
             [
              0,
              "#0d0887"
             ],
             [
              0.1111111111111111,
              "#46039f"
             ],
             [
              0.2222222222222222,
              "#7201a8"
             ],
             [
              0.3333333333333333,
              "#9c179e"
             ],
             [
              0.4444444444444444,
              "#bd3786"
             ],
             [
              0.5555555555555556,
              "#d8576b"
             ],
             [
              0.6666666666666666,
              "#ed7953"
             ],
             [
              0.7777777777777778,
              "#fb9f3a"
             ],
             [
              0.8888888888888888,
              "#fdca26"
             ],
             [
              1,
              "#f0f921"
             ]
            ],
            "type": "heatmapgl"
           }
          ],
          "histogram": [
           {
            "marker": {
             "colorbar": {
              "outlinewidth": 0,
              "ticks": ""
             }
            },
            "type": "histogram"
           }
          ],
          "histogram2d": [
           {
            "colorbar": {
             "outlinewidth": 0,
             "ticks": ""
            },
            "colorscale": [
             [
              0,
              "#0d0887"
             ],
             [
              0.1111111111111111,
              "#46039f"
             ],
             [
              0.2222222222222222,
              "#7201a8"
             ],
             [
              0.3333333333333333,
              "#9c179e"
             ],
             [
              0.4444444444444444,
              "#bd3786"
             ],
             [
              0.5555555555555556,
              "#d8576b"
             ],
             [
              0.6666666666666666,
              "#ed7953"
             ],
             [
              0.7777777777777778,
              "#fb9f3a"
             ],
             [
              0.8888888888888888,
              "#fdca26"
             ],
             [
              1,
              "#f0f921"
             ]
            ],
            "type": "histogram2d"
           }
          ],
          "histogram2dcontour": [
           {
            "colorbar": {
             "outlinewidth": 0,
             "ticks": ""
            },
            "colorscale": [
             [
              0,
              "#0d0887"
             ],
             [
              0.1111111111111111,
              "#46039f"
             ],
             [
              0.2222222222222222,
              "#7201a8"
             ],
             [
              0.3333333333333333,
              "#9c179e"
             ],
             [
              0.4444444444444444,
              "#bd3786"
             ],
             [
              0.5555555555555556,
              "#d8576b"
             ],
             [
              0.6666666666666666,
              "#ed7953"
             ],
             [
              0.7777777777777778,
              "#fb9f3a"
             ],
             [
              0.8888888888888888,
              "#fdca26"
             ],
             [
              1,
              "#f0f921"
             ]
            ],
            "type": "histogram2dcontour"
           }
          ],
          "mesh3d": [
           {
            "colorbar": {
             "outlinewidth": 0,
             "ticks": ""
            },
            "type": "mesh3d"
           }
          ],
          "parcoords": [
           {
            "line": {
             "colorbar": {
              "outlinewidth": 0,
              "ticks": ""
             }
            },
            "type": "parcoords"
           }
          ],
          "pie": [
           {
            "automargin": true,
            "type": "pie"
           }
          ],
          "scatter": [
           {
            "marker": {
             "colorbar": {
              "outlinewidth": 0,
              "ticks": ""
             }
            },
            "type": "scatter"
           }
          ],
          "scatter3d": [
           {
            "line": {
             "colorbar": {
              "outlinewidth": 0,
              "ticks": ""
             }
            },
            "marker": {
             "colorbar": {
              "outlinewidth": 0,
              "ticks": ""
             }
            },
            "type": "scatter3d"
           }
          ],
          "scattercarpet": [
           {
            "marker": {
             "colorbar": {
              "outlinewidth": 0,
              "ticks": ""
             }
            },
            "type": "scattercarpet"
           }
          ],
          "scattergeo": [
           {
            "marker": {
             "colorbar": {
              "outlinewidth": 0,
              "ticks": ""
             }
            },
            "type": "scattergeo"
           }
          ],
          "scattergl": [
           {
            "marker": {
             "colorbar": {
              "outlinewidth": 0,
              "ticks": ""
             }
            },
            "type": "scattergl"
           }
          ],
          "scattermapbox": [
           {
            "marker": {
             "colorbar": {
              "outlinewidth": 0,
              "ticks": ""
             }
            },
            "type": "scattermapbox"
           }
          ],
          "scatterpolar": [
           {
            "marker": {
             "colorbar": {
              "outlinewidth": 0,
              "ticks": ""
             }
            },
            "type": "scatterpolar"
           }
          ],
          "scatterpolargl": [
           {
            "marker": {
             "colorbar": {
              "outlinewidth": 0,
              "ticks": ""
             }
            },
            "type": "scatterpolargl"
           }
          ],
          "scatterternary": [
           {
            "marker": {
             "colorbar": {
              "outlinewidth": 0,
              "ticks": ""
             }
            },
            "type": "scatterternary"
           }
          ],
          "surface": [
           {
            "colorbar": {
             "outlinewidth": 0,
             "ticks": ""
            },
            "colorscale": [
             [
              0,
              "#0d0887"
             ],
             [
              0.1111111111111111,
              "#46039f"
             ],
             [
              0.2222222222222222,
              "#7201a8"
             ],
             [
              0.3333333333333333,
              "#9c179e"
             ],
             [
              0.4444444444444444,
              "#bd3786"
             ],
             [
              0.5555555555555556,
              "#d8576b"
             ],
             [
              0.6666666666666666,
              "#ed7953"
             ],
             [
              0.7777777777777778,
              "#fb9f3a"
             ],
             [
              0.8888888888888888,
              "#fdca26"
             ],
             [
              1,
              "#f0f921"
             ]
            ],
            "type": "surface"
           }
          ],
          "table": [
           {
            "cells": {
             "fill": {
              "color": "#EBF0F8"
             },
             "line": {
              "color": "white"
             }
            },
            "header": {
             "fill": {
              "color": "#C8D4E3"
             },
             "line": {
              "color": "white"
             }
            },
            "type": "table"
           }
          ]
         },
         "layout": {
          "annotationdefaults": {
           "arrowcolor": "#2a3f5f",
           "arrowhead": 0,
           "arrowwidth": 1
          },
          "coloraxis": {
           "colorbar": {
            "outlinewidth": 0,
            "ticks": ""
           }
          },
          "colorscale": {
           "diverging": [
            [
             0,
             "#8e0152"
            ],
            [
             0.1,
             "#c51b7d"
            ],
            [
             0.2,
             "#de77ae"
            ],
            [
             0.3,
             "#f1b6da"
            ],
            [
             0.4,
             "#fde0ef"
            ],
            [
             0.5,
             "#f7f7f7"
            ],
            [
             0.6,
             "#e6f5d0"
            ],
            [
             0.7,
             "#b8e186"
            ],
            [
             0.8,
             "#7fbc41"
            ],
            [
             0.9,
             "#4d9221"
            ],
            [
             1,
             "#276419"
            ]
           ],
           "sequential": [
            [
             0,
             "#0d0887"
            ],
            [
             0.1111111111111111,
             "#46039f"
            ],
            [
             0.2222222222222222,
             "#7201a8"
            ],
            [
             0.3333333333333333,
             "#9c179e"
            ],
            [
             0.4444444444444444,
             "#bd3786"
            ],
            [
             0.5555555555555556,
             "#d8576b"
            ],
            [
             0.6666666666666666,
             "#ed7953"
            ],
            [
             0.7777777777777778,
             "#fb9f3a"
            ],
            [
             0.8888888888888888,
             "#fdca26"
            ],
            [
             1,
             "#f0f921"
            ]
           ],
           "sequentialminus": [
            [
             0,
             "#0d0887"
            ],
            [
             0.1111111111111111,
             "#46039f"
            ],
            [
             0.2222222222222222,
             "#7201a8"
            ],
            [
             0.3333333333333333,
             "#9c179e"
            ],
            [
             0.4444444444444444,
             "#bd3786"
            ],
            [
             0.5555555555555556,
             "#d8576b"
            ],
            [
             0.6666666666666666,
             "#ed7953"
            ],
            [
             0.7777777777777778,
             "#fb9f3a"
            ],
            [
             0.8888888888888888,
             "#fdca26"
            ],
            [
             1,
             "#f0f921"
            ]
           ]
          },
          "colorway": [
           "#636efa",
           "#EF553B",
           "#00cc96",
           "#ab63fa",
           "#FFA15A",
           "#19d3f3",
           "#FF6692",
           "#B6E880",
           "#FF97FF",
           "#FECB52"
          ],
          "font": {
           "color": "#2a3f5f"
          },
          "geo": {
           "bgcolor": "white",
           "lakecolor": "white",
           "landcolor": "#E5ECF6",
           "showlakes": true,
           "showland": true,
           "subunitcolor": "white"
          },
          "hoverlabel": {
           "align": "left"
          },
          "hovermode": "closest",
          "mapbox": {
           "style": "light"
          },
          "paper_bgcolor": "white",
          "plot_bgcolor": "#E5ECF6",
          "polar": {
           "angularaxis": {
            "gridcolor": "white",
            "linecolor": "white",
            "ticks": ""
           },
           "bgcolor": "#E5ECF6",
           "radialaxis": {
            "gridcolor": "white",
            "linecolor": "white",
            "ticks": ""
           }
          },
          "scene": {
           "xaxis": {
            "backgroundcolor": "#E5ECF6",
            "gridcolor": "white",
            "gridwidth": 2,
            "linecolor": "white",
            "showbackground": true,
            "ticks": "",
            "zerolinecolor": "white"
           },
           "yaxis": {
            "backgroundcolor": "#E5ECF6",
            "gridcolor": "white",
            "gridwidth": 2,
            "linecolor": "white",
            "showbackground": true,
            "ticks": "",
            "zerolinecolor": "white"
           },
           "zaxis": {
            "backgroundcolor": "#E5ECF6",
            "gridcolor": "white",
            "gridwidth": 2,
            "linecolor": "white",
            "showbackground": true,
            "ticks": "",
            "zerolinecolor": "white"
           }
          },
          "shapedefaults": {
           "line": {
            "color": "#2a3f5f"
           }
          },
          "ternary": {
           "aaxis": {
            "gridcolor": "white",
            "linecolor": "white",
            "ticks": ""
           },
           "baxis": {
            "gridcolor": "white",
            "linecolor": "white",
            "ticks": ""
           },
           "bgcolor": "#E5ECF6",
           "caxis": {
            "gridcolor": "white",
            "linecolor": "white",
            "ticks": ""
           }
          },
          "title": {
           "x": 0.05
          },
          "xaxis": {
           "automargin": true,
           "gridcolor": "white",
           "linecolor": "white",
           "ticks": "",
           "title": {
            "standoff": 15
           },
           "zerolinecolor": "white",
           "zerolinewidth": 2
          },
          "yaxis": {
           "automargin": true,
           "gridcolor": "white",
           "linecolor": "white",
           "ticks": "",
           "title": {
            "standoff": 15
           },
           "zerolinecolor": "white",
           "zerolinewidth": 2
          }
         }
        },
        "title": {
         "font": {
          "color": "#D9D9D9"
         },
         "text": "No. of travlers visited each property"
        },
        "xaxis": {
         "gridcolor": "#434343",
         "linecolor": "black",
         "showgrid": true,
         "tickfont": {
          "color": "#C2C2C2"
         },
         "title": {
          "font": {
           "color": "#D9D9D9"
          },
          "text": ""
         },
         "zerolinecolor": "#666570"
        },
        "yaxis": {
         "gridcolor": "#434343",
         "linecolor": "black",
         "showgrid": true,
         "tickfont": {
          "color": "#C2C2C2"
         },
         "title": {
          "font": {
           "color": "#D9D9D9"
          },
          "text": "Count"
         },
         "zerolinecolor": "#666570"
        }
       }
      },
      "text/html": [
       "<div>\n",
       "        \n",
       "        \n",
       "            <div id=\"7a52df28-3d5d-46b2-9fdc-be1dbcc45a2f\" class=\"plotly-graph-div\" style=\"height:525px; width:100%;\"></div>\n",
       "            <script type=\"text/javascript\">\n",
       "                require([\"plotly\"], function(Plotly) {\n",
       "                    window.PLOTLYENV=window.PLOTLYENV || {};\n",
       "                    window.PLOTLYENV.BASE_URL='https://plot.ly';\n",
       "                    \n",
       "                if (document.getElementById(\"7a52df28-3d5d-46b2-9fdc-be1dbcc45a2f\")) {\n",
       "                    Plotly.newPlot(\n",
       "                        '7a52df28-3d5d-46b2-9fdc-be1dbcc45a2f',\n",
       "                        [{\"marker\": {\"color\": \"rgba(255, 153, 51, 0.6)\", \"line\": {\"color\": \"rgba(255, 153, 51, 1.0)\", \"width\": 1}}, \"name\": \"property_name\", \"orientation\": \"h\", \"text\": \"\", \"type\": \"bar\", \"x\": [5, 5, 4, 4, 4, 4, 4, 4, 4, 4, 4, 4, 4, 4, 4, 4, 4, 3, 3, 3, 3, 3, 3, 3, 3, 3, 3, 3, 3, 3, 3, 3, 3, 3, 3, 3, 3, 3, 3, 3, 3, 3, 3, 3, 3, 3, 3, 3, 3, 3, 3, 3, 3, 3, 3, 3, 3, 3, 3, 3, 3, 3, 3, 3, 3, 3, 3, 3, 2, 2, 2, 2, 2, 2, 2, 2, 2, 2, 2, 2, 2, 2, 2, 2, 2, 2, 2, 2, 2, 2, 2, 2, 2, 2, 2, 2, 2, 2, 2, 2, 2, 2, 2, 2, 2, 2, 2, 2, 2, 2, 2, 2, 2, 2, 2, 2, 2, 2, 2, 2, 2, 2, 2, 2, 2, 2, 2, 2, 2, 2, 2, 2, 2, 2, 2, 2, 2, 2, 2, 2, 2, 2, 2, 2, 2, 2, 2, 2, 2, 2, 2, 2, 2, 2, 2, 2, 2, 2, 2, 2, 2, 2, 2, 2, 2, 2, 2, 2, 2, 2, 2, 2, 2, 2, 2, 2, 2, 2, 2, 2, 2, 2, 2, 2, 2, 2, 2, 2, 2, 2, 2, 2, 2, 2, 2, 2, 2, 2, 2, 2, 2, 2, 2, 2, 2, 2, 2, 2, 2, 2, 2, 2, 2, 2, 2, 2, 2, 2, 2, 2, 2, 2, 2, 2, 2, 2, 2, 2, 2, 2, 2, 2, 2, 2, 2, 2, 2, 2, 2, 2, 2, 2, 2, 2, 2, 2, 2, 2, 2, 2, 2, 2, 2, 2, 2, 2, 2, 2, 2, 2, 2, 2, 2, 2, 2, 2, 2, 2, 2, 2, 2, 2, 2, 2, 2, 2, 2, 2, 2, 2, 2, 2, 1, 1, 1, 1, 1, 1, 1, 1, 1, 1, 1, 1, 1, 1, 1, 1, 1, 1, 1, 1, 1, 1, 1, 1, 1, 1, 1, 1, 1, 1, 1, 1, 1, 1, 1, 1, 1, 1, 1, 1, 1, 1, 1, 1, 1, 1, 1, 1, 1, 1, 1, 1, 1, 1, 1, 1, 1, 1, 1, 1, 1, 1, 1, 1, 1, 1, 1, 1, 1, 1, 1, 1, 1, 1, 1, 1, 1, 1, 1, 1, 1, 1, 1, 1, 1, 1, 1, 1, 1, 1, 1, 1, 1, 1, 1, 1, 1, 1, 1, 1, 1, 1, 1, 1, 1, 1, 1, 1, 1, 1, 1, 1, 1, 1, 1, 1, 1, 1, 1, 1, 1, 1, 1, 1, 1, 1, 1, 1, 1, 1, 1, 1, 1, 1, 1, 1, 1, 1, 1, 1, 1, 1, 1, 1, 1, 1, 1, 1, 1, 1, 1, 1, 1, 1, 1, 1, 1, 1, 1, 1, 1, 1, 1, 1, 1, 1, 1, 1, 1, 1, 1, 1, 1, 1, 1, 1, 1, 1, 1, 1, 1, 1, 1, 1, 1, 1, 1, 1, 1, 1, 1, 1, 1, 1, 1, 1, 1, 1, 1, 1, 1, 1, 1, 1, 1, 1, 1, 1, 1, 1, 1, 1, 1, 1, 1, 1, 1, 1, 1, 1, 1, 1, 1, 1, 1, 1, 1, 1, 1, 1, 1, 1, 1, 1, 1, 1, 1, 1, 1, 1, 1, 1, 1, 1, 1, 1, 1, 1, 1, 1, 1, 1, 1, 1, 1, 1, 1, 1, 1, 1, 1, 1, 1, 1, 1, 1, 1, 1, 1, 1, 1, 1, 1, 1, 1, 1, 1, 1, 1, 1, 1, 1, 1, 1, 1, 1, 1, 1, 1, 1, 1, 1, 1, 1, 1, 1, 1, 1, 1, 1, 1, 1, 1, 1, 1, 1, 1, 1, 1, 1, 1, 1, 1, 1, 1, 1, 1, 1, 1, 1, 1, 1, 1, 1, 1, 1, 1, 1, 1, 1, 1, 1, 1, 1, 1, 1, 1, 1, 1, 1, 1, 1, 1, 1, 1, 1, 1, 1, 1, 1, 1, 1, 1, 1, 1, 1, 1, 1, 1, 1, 1, 1, 1, 1, 1, 1, 1, 1, 1, 1, 1, 1, 1, 1, 1, 1, 1, 1, 1, 1, 1, 1, 1, 1, 1, 1, 1, 1, 1, 1, 1, 1, 1, 1, 1, 1, 1, 1, 1, 1, 1, 1, 1, 1, 1, 1, 1, 1, 1, 1, 1, 1, 1, 1, 1, 1, 1, 1, 1, 1, 1, 1, 1, 1, 1, 1, 1, 1, 1, 1, 1, 1, 1, 1, 1, 1, 1, 1, 1, 1, 1, 1, 1, 1, 1, 1, 1, 1, 1, 1, 1, 1, 1, 1, 1, 1, 1, 1, 1, 1, 1, 1, 1, 1, 1, 1, 1, 1, 1, 1, 1], \"y\": [\"Hotel Om Shiv\", \"Roadhouse Hostels\", \"Riverside Regency Resort\", \"Hotel Satyaheera\", \"Lui Beach Resort\", \"Palmarinha Resort and Suites\", \"Colonia De Braganza Resort\", \"Magic Forest\", \"Coco's Resort\", \"The Golden Suites Calangute\", \"Vagator Suites 1B BHK\", \"FabHotel Candolim\", \"Om Gravity Eco Resort\", \"La Conceicao\", \"Casa Sol\", \"Henrys Place\", \"Holiday Beach Resort By Adore\", \"La Paz Gardens\", \"Kerela Ayurveda Wellness Center\", \"Aldeia Santa Rita\", \"Ocean Heights Appartment\", \"Simply Offbeat Goa Budget Hotel\", \"Diwar Guest House Retreat\", \"The Golden Nest Deluxe\", \"World Choice Sunshine Beach Resorts\", \"Casa Melhor 2BHK Luxurious Apartment Siolim\", \"Field View Cottage Anjuna\", \"Hotel Miramar\", \"Cyema Guest House\", \"Resort Village Royale\", \"Swim Sea Beach Resort\", \"The Naked Space Boutique Hotel\", \"The Only Olive\", \"Sapna Meadows Goa\", \"New Ocean Ride Beach Resort\", \"Calangute Beach Inn\", \"Ocean Myst Gold\", \"Keys Ronil Resort, Goa\", \"Hyatt Place Goa/ Candolim\", \"Hotel Saaj\", \"Ave Maria Beach Resort\", \"Kalki Resorts and Cottages Baga\", \"Cosy Apartment Overlooking the Pool! Vagator\", \"Hotel Goan Clove\", \"Ocean Suite Luxury Boutique Hotel\", \"Baga Bay\", \"Vasco Residency\", \"Samira Beach Resort\", \"Stonewater Eco Resort\", \"Sea Breeze Candolim\", \"La Cabana Beach & Spa\", \"ROY N RON HOLIDAY HOMES\", \"Blue Marine Beach Resort\", \"Hotel North Bay\", \"Annapurna Vishram Dhaam\", \"Casa Melhor Luxurious 1BHK apartment\", \"Excelsior Holiday Homes 2 BHK C\", \"United 21 Emerald Goa\", \"VILLA NOVA\", \"Calangute Beach Side\", \"Sea Breeze Village\", \"Treebo La Flamingo\", \"Valentines Retreat\", \"Casa Melhor Luxurious 1BHk apartment Candolim\", \"La Vaiencia\", \"Vision Greens Phase 1\", \"Goa Anjuna Villas\", \"Robert's Place\", \"Hotel Lucky Star\", \"Cuba Baga\", \"Caphina Tourist Cottages\", \"ARABIAN RETREAT Apartment\", \"Palm Green Holiday home\", \"Poonam Village Resort\", \"Hotel Natasha\", \"JOHNS Guest House\", \"HomeStays Goa\", \"Manvins Inn Calangute\", \"Days Guest House\", \"Jasminn by Mango Hotels\", \"Sodder's Gloria Anne Beach Haven\", \"Golden Sands Betalbatim\", \"Casa Melhor luxury 1BHK Apartment\", \"Royal Touch Beach Huts\", \"Ondas Do Mar Beach Resort Phase - I\", \"Calangute House Service Apartment\", \"Vivanta by Taj - Panaji Goa\", \"Hotel Baywatch Express Urbane\", \"LOTUS INNGOA Holiday Homes\", \"FabHotel Anjuna Beachfront\", \"Zuariview Guest House\", \"SOL BESO\", \"Baywatch Resort\", \"Ivy Retreat Vacations Rentals\", \"Treehouse Neptune Panaji Goa\", \"Sunshine Residency\", \"Ruby Guest House\", \"Villa Sunny Day\", \"Skylark Resort\", \"Guest House Abrigo De Botelho\", \"AC Furnished River view apartment in Baga\", \"Rising Wave Holiday home\", \"Belle Vista Wado - Enviro Green Resorts\", \"The International Centre, Goa\", \"Ginger Hotel - Goa\", \"Sabina Guest House\", \"Antique Mardol\", \"Flower Holiday Home\", \"Resort Mellorosa Goa\", \"Coelho Guest House\", \"Mamas Mids Homestay\", \"Lawande Beach Resort\", \"Romance Holiday Beach Resort\", \"TripThrill Benaulim House\", \"Royal Woods\", \"Fahrenheit Hotels & Resort\", \"Gomati\", \"Ruffles Beach Resort\", \"Resort Dona Alcina\", \"Calangute Lovers Paradise Studios\", \"Dreams Palm Beach Resort\", \"Cosmos Guest House Cosma Gregory Soares\", \"Hotel Aroma\", \"Delta Residency Goa\", \"Swimming Pool Facing 1BHK apartment\", \"Wildernest Nature Resort\", \"Horizon Resort\", \"Luxury 5BHK Villa in Arpora\", \"Santonio Beach Resort\", \"Flowers Guest House\", \"Beach Side Comfortable Holiday Home\", \"Le Seasons Resort\", \"Ocean Residency\", \"Cygnett Inn Celestiial Goa\", \"Beira Mar Alfran\", \"Colva Tavern\", \"Siolim House\", \"Mykonos Blu\", \"Rudra Holidays\", \"Hotel Blessings\", \"Shivam Resort\", \"Celjoan Guest House\", \"Trippy Studio Apartment\", \"Soul Vacation - A Concept Hotel\", \"The Bungalows Light House, Goa\", \"Villa Ikebana\", \"Nelmar Nest Guest House\", \"Ananaz Hotel\", \"The Acacia Hotel & Spa, Goa\", \"LA VIDA Residency Suites Goa\", \"TripThrill Lotus Hermitage Apartment\", \"New Ginger Tree Beach Resort\", \"Hotel City Express\", \"Silver Palm Goa\", \"At Home B and B Miramar\", \"TripThrill La Grace Villa\", \"Vincy Guest House\", \"Sevas Huts and Cabanas\", \"Guest House located in Baga Goa - Cheap\", \"The Fern kadamba Hotel and Spa Goa\", \"G001 Pool Facing Serviced Apartment\", \"Cozy Studio Apartment Calangute\", \"Hard Rock Hotel\", \"Baptista Guest House\", \"Private 8 room Homestay in Vagator\", \"Sawli Guest House 1 Room Kitchen\", \"Hotel Ave Maria\", \"Hotel Panchsheel\", \"Molyma Resorts\", \"Castle House\", \"Silver Sands Sunshine\", \"Aguada Villas\", \"BETELNUT INN Marketed by Adore\", \"Calangute Residency\", \"Safira Riverfront Boutique Resort\", \"Morjim Holiday\", \"Orritel Village Square\", \"So My Resort Goa\", \"La Maison Fontainhas\", \"Urba Luxury Service Apartments\", \"Opus\", \"Summer Ville Resort\", \"Casa Melhor Luxrious 1BHK apartment\", \"Vagator Suites 1C BHK\", \"Spring Beach Cottages\", \"Deltin Suites\", \"Beleza By the Beach\", \"Nature Camp in close proximity to Mollem National Park\", \"Saldanha Kyle Gardens\", \"Yo Yo Goa The Apartment Hotel\", \"Hotel Boshan\", \"Vagator House\", \"Lua Nova\", \"White Square Nirvana\", \"Bela Rozy Guest house\", \"Graciano Cottage\", \"Clarem Guest House\", \"Sand Castles Holiday Homes - 3 Mins Walk from Miramar Beach\", \"Private 3 room Villa in Betalbatim\", \"Marina Bay Beach Resort\", \"Alagoa Resort\", \"Maison Encore Holiday Home\", \"TripThrill Vilanova Holidays\", \"Ocean View Goan Beach house\", \"C Pearl Guest House\", \"A charming, riverside, Portuguese style villa\", \"Bogmallo Heights Service Apartment\", \"Jack Independent Villa Candolim\", \"Moksh Holiday Homes\", \"Studio Apartment in a 3 Star Hotel, Arpora - Goa\", \"AGUIAR GUEST HOUSE\", \"Budget Cheap Guest House Rooms in Goa\", \"Goan Holiday Resort\", \"Royal Mirage Boutique Morjim\", \"Hotel Leela Inn\", \"Sea Breeze Inn\", \"Shangrila Beach Hotel\", \"Willows Elite Tourist Resort\", \"Santiago Beach Resort\", \"SeaShell Villas\", \"Osborne Holiday Resort\", \"Leoney Resort\", \"Casablanca Beach Resort\", \"CasaMelhor 2BHK in Candolim CM002\", \"Angelina Beach Resort Goa\", \"Darisa Resort\", \"Aishwarya Guest Inn\", \"Goan Alcove\", \"The Queeny Hotel\", \"TripThrill Florida Gardens\", \"1 double a/c bedroom with bath, lounge, kitchen\", \"Private 2 room Apartment in Calangute\", \"Senso The Inspiration\", \"Coco Heritage Home\", \"Quiet and peaceful coastal stay in Candolim\", \"TripThrill Costa Holidays\", \"Century-old heritage property - a guest house in Siolim\", \"Villa Fountain Court\", \"White Pearl 2 Bhk Apartment\", \"SeaCoast Colva\", \"Sunita Guest House\", \"Hotel Manoshanti\", \"Nagoa Grande Resort\", \"Hotel Mayura\", \"Manthan Yogic Village\", \"Joie De Vivre Goa\", \"Paparazzi Resort\", \"DreamHome Calangute Villa\", \"Florys Nest Holiday Home Goa\", \"Jhampus Studios\", \"SinQ Abode\", \"Hotel Ashirwad\", \"Luxury 4BHK Beach Villa For Rent in Calangute\", \"L Hotel Eden\", \"Villa Calangute Phase 7\", \"16 Degrees North\", \"Nat Villa\", \"Casa Melhor Luxury 4BHK Penthouse\", \"Hotel Amar\", \"Royal Orchid Beach Resort And Spa - Goa\", \"SMILEY Holiday Service Apartments\", \"A family run budget guest house in Candolim\", \"Bungalows\", \"Indraprastha Palolem 2 BHK Apartment\", \"Shashesca Villa\", \"Hotel Succegado\", \"Peravel Beach Holiday Home\", \"Hotel Supreme\", \"Ananda Resort\", \"Sai Raj Guest House\", \"Larios Beach Holiday\", \"Calangute Plaza In\", \"The Sapphire Comfort\", \"Epitacios\", \"Cupids Heaven Resort\", \"Amigo Plaza\", \"Studio 1BHK Baga\", \"Hotel La Mansion\", \"Pinto Rosario Square Resort and Spa\", \"Joet's Guest House\", \"Backpacker Panda\", \"Wavelet Beach resort Goa\", \"Vision Greens 3 bhk Villa IV\", \"Bhakti Kutir\", \"Seclude Varca\", \"VG 3 bhk apartment\", \"Orchid De Goa\", \"Cosmos Guest House Souxa Xaviers Complex\", \"Stay in a Apartment in Calangute\", \"Arco Iris Boutique Homestay Hotel\", \"Palolem Garden Estate Service Apartments\", \"Sodder's Renton Manor\", \"Dewa Goa Apartment\", \"Dudhsagar Spa Resort\", \"Zac Beach Resort Goa\", \"Villa Colva Bon Vivant Guest House\", \"Cavala Seaside Resort\", \"Hotel Solmar\", \"Divar Heritage Home\", \"Bollywood Seaqueen Beach Resort\", \"WTF MY House\", \"Saldanaha Kyle Gardens\", \"Azzure by Spree Hotels\", \"Agonda Dream View\", \"Casa Lavie\", \"Jack Bagavilla Guest house\", \"Hotel Morjim Breeze\", \"The V Beach Villa\", \"My Kind Of Place\", \"Goa Woodlands Hotel\", \"M N Resorts\", \"Riverside Hotel Mandrem\", \"Palms N Tides\", \"The LaLiT Golf & Spa Resort Goa\", \"Spring Hospitality\", \"Tiara Camelot Baga\", \"3 Bedroom Luxury Villa\", \"Cuba Premium Huts\", \"Private 3 room Villa in Anjuna\", \"Wind Mist Apartments\", \"Viva Calangute\", \"Casa Paradiso\", \"TripThrill Casa Blanca\", \"Golden Tulip Goa\", \"Alila Diwa\", \"The Park Calangute Goa\", \"Down Hill Village Inn\", \"Bollywood Backyard Hostel\", \"Vagator Breeze\", \"Atlanta Beach Resort\", \"Hotel Ria Residency\", \"Lotus Sutra\", \"Rosario's Inn Guest House\", \"TripThrill Westwind Apartments\", \"Marshall Guest House\", \"Ocean Myst Silver Goa\", \"Senhor Agnelo Resort\", \"Woodstock Village\", \"Casa Melhor 1BHK in Candolim CM005\", \"Jack Independent Villa Sangolda\", \"Wanderlust Goa Retreat\", \"La Casa Siolim\", \"La Sunila Clarks Inn Suites\", \"DoubleTree by Hilton Hotel Goa\", \"Happy Residency Goa Raw House\", \"Casa Anjuna\", \"Hotel Suhas Calangute\", \"TripThrill Beach Arcade Apartment\", \"The Casa De Cris\", \"Granpas Inn / Hotel Bougainvillea\", \"Grande Delmon\", \"Le Pearl\", \"At Home B and B Donapaula\", \"HORIZONS SHALOM\", \"Majestic Beach Comforts\", \"Plaza Inn Goa\", \"Stay in a Villa in Candolim\", \"Margarita Residency\", \"Santana Beach Resort\", \"Calangute Beauty 2bhk Luxury Apartment\", \"Famafa Beach Resort\", \"Terra Paraiso Beach Resort\", \"The Lighthouse Aguada\", \"MORJIM SUNSET GUEST HOUSE\", \"Pastina Beach Resort Dona Paula\", \"Hotel Sona Royale\", \"O Pescador Beach Resort\", \"Hotel Mayfair\", \"Hotel Colva Kinara\", \"UNA Homestay Villa Arcangela\", \"Vilo Villa Guest house\", \"Wave Beach Hotel\", \"Grandeur De Sanchi - Luxurious Boutique Beach Resort & Spa\", \"Beach Way Home Stay\", \"Ocean Mist Raw House\", \"CasaMelhor 2BHK in Candolim CM001\", \"10 Calangute\", \"Hotel Riverside\", \"Bricks and Bamboo Hostel\", \"The Tubki Resort\", \"Rendezvous Beach Resort\", \"Mikes Place\", \"The River Palace\", \"Hotel Orion\", \"1 and 2 bhk Suite apartments for rent\", \"Bay 15\", \"Fully Furnished Service Apartments with Swimming pool 880\", \"Goa Clarks Serviced Apartments\", \"SFX Franjo Villa Goa\", \"Menino Regency\", \"A stunning two-storey, five-bedroom villa home in Candolim\", \"Hotel Liberty\", \"Saritas Guest House\", \"Jack Independent Villa Baga\", \"Lotus Beach Resort\", \"Spectacular view of the Arabian Sea\", \"Gare Astoria\", \"Acron Waterfront Resort and Spa\", \"Great OS By The Sea Bungalow\", \"Hotel Mobor Beach Resort\", \"Studio by the Beach on Candolim-Calangute Main Road\", \"Arabian Retreat\", \"The HQ\", \"Mangrove\", \"Bon Vivant Studio Apartment\", \"Hotel La Flor\", \"Private 2 room Villa in Assagao\", \"Fernandes Villa\", \"Mitaroy Goa Hotel\", \"Roundcube Guest House\", \"Sodder's Beach Classic\", \"Summers The Beach Hideaway\", \"Adore Calangute Rooms\", \"Colonial Villa with Private Pool in Sinquerim - Goa\", \"Best Western Devasthali-The Valley Of Gods,\", \"Hotel O 9\", \"Glens Corner\", \"Goa - VIllagio, A Sterling Holidays Resort\", \"Perola Do Mar\", \"Aithi Seva Baga 2 Bhk Flat\", \"Sun Beach Residency\", \"Hotel Linda Goa\", \"Jessica Lavish Live Inn\", \"Hotel Delmon\", \"Panjim Peoples\", \"Surya Palace\", \"Duke's Villa\", \"Resorte Marinha Dourada\", \"Royal Palms\", \"Our Villa Goa\", \"Kiara BnB Home\", \"Luxury Fully Furnished 1 Bhk Apartment\", \"Shiva Beach House\", \"TripThill Sakina Apartments\", \"Club Mahindra Emerald Palms, Goa\", \"Shon De Goa\", \"Hotel Campal\", \"Saiesh International Hotel\", \"Palolem Delights\", \"Lazy Lagoon Sarovar Portico Suites\", \"Adore Star Rooms\", \"Park Hyatt Goa Resort and Spa\", \"Nova Goa\", \"Nature's Nest Goa\", \"Citrus Goa\", \"The Sincro Hotel\", \"V Palms Resort\", \"Romaldo Inn\", \"Luxury Apartment in Arpora Goa\", \"YO YO GOA VILLAGE COTTAGES\", \"Farmagudi Residency\", \"Holiday Pack Guest House\", \"Villa Calangute Phase 5\", \"Teles Guest House\", \"River Rays Resort\", \"Palolem Beach Resort\", \"All Seasons Beach Classic Resort\", \"La Joia Boutique Hotel\", \"Hotel Goa International\", \"Studio 7\", \"Casa Esmeralda\", \"Holiday Inn Resort\", \"Coco Resort Morjim\", \"Jack 2BHK Apartment baga\", \"Wanderers Hostel\", \"The Belmonte by ACE\", \"Veronica Guest House\", \"Riviera Hermitage Anjuna,\", \"Planet Hollywood Beach Resort\", \"Zappia Cove Guest House\", \"Nanu Retreat 530\", \"Neptune Point Hill Top Cottages\", \"Koithra Holiday Home\", \"Tanisha Guest House\", \"Villa Calangute Phase 4\", \"Old Goa Residency\", \"Hotel Krish Baga Goa\", \"Treebo Rainforest Enclave\", \"Riviera Palms Phase 2\", \"16 Degrees North Candolim\", \"Hotel Priti International\", \"Hotel Avenue\", \"Relax Holiday Home\", \"Adore Anjuna Rooms\", \"Dom Pedros Haven\", \"Penthouse Apartment\", \"Cliff Haven\", \"Bay Luxe\", \"White Negro Beach Resort\", \"Mayfair Hideaway Spa Resort\", \"Miramar Residency\", \"Sharanam Green Resort\", \"Novotel Goa Resort & Spa\", \"Ancora Beach Resort Goa\", \"Hotel Braganza Mapusa\", \"Alenea Resort\", \"Casa by The Beach , Calungate Goa\", \"Hidden Paradise\", \"Villa Shraddha Service Appartment\", \"Vivenda Dos Palhacos\", \"Hotel Meraden La Oasis\", \"Silver Sands Beach Resort\", \"Calangute Grande\", \"Goa Home Vacation - Independent Villa near Beach-Colva, Goa\", \"Villa de Aluizio\", \"Highland Heritage\", \"Villa 3BHK in Arpora Phase 3\", \"La Grace Resort\", \"Divine Beach Resort\", \"Golden Guest House\", \"Alor Grande Holiday Resort\", \"The Ocean Park Resort\", \"Kajal Guest House\", \"Vision Green 3 Bhk Villa I\", \"Riva Beach Resort\", \"Pirache Art Hotel\", \"Hotel Tanish\", \"Hotel Sai Baga\", \"Sun N Moon\", \"Nanu Beach Resort and Spa\", \"Amoura Beach Resort\", \"Reliance Holiday Homes Goa\", \"Uber Luxury 2bhk Villa in Candolim\", \"Goa Anjuna Villa 2BHK B\", \"Sawli Guest House 1 Room\", \"Sol De Goa\", \"Hotel Poonam\", \"Vision Green 3 Bhk Villa III\", \"Treehouse Blue, Goa\", \"Paradise Village Beach Resort\", \"Evershine Guest House\", \"Royal Heritage Resort\", \"Cotas Guest House marketed by Adore\", \"New Image Inn\", \"Artisanale Morjim\", \"Ludu Guest House\", \"Swati Guest House\", \"GA 03 Fully Furnished Service Apartment with 2 Washrooms\", \"Stay in luxury white washed casinhas in Candolim\", \"The Fern Gardenia Resort\", \"Fabhotel Anjuna Beachfront\", \"Star of the Sea Resort\", \"Baia Do Sol\", \"Hotel Menino Ponda Goa\", \"THE CITADEL HOTEL\", \"Private 1 room Apartment in Saligao\", \"Boomerang Beach Resort\", \"Joia Do Mar Resort\", \"Holiday Villas in Goa\", \"Blue Beach Resort\", \"Hotel Republica Goa\", \"Tisha Apartment Hotel\", \"Sukhsagar Beach Resort\", \"Hotel Siesta De Goa\", \"Sai Ramnath Guest House\", \"Hotel Viva Baga\", \"Laxmi Guest House\", \"Seascape Goa @ Costa Del Sol\", \"Baga Yotel\", \"Casa Melhor\", \"Stay in a Homestay in Bardez\", \"Gated holiday community\", \"Villa Calangute Phase 3\", \"Pousada Donaciana Wooden Cottages\", \"Villa Orchid\", \"Excelsior Holiday Homes 2 BHK A\", \"Regenta Resort Varca Beach Goa\", \"Casa Melhor 3 bed Duplex Penthouse\", \"Willo's Apartments\", \"iLodge @ Calangute\", \"Sodder's Svelton Manor\", \"Resort Coqueiral\", \"WellnessInn\", \"Furnished Holiday Homes\", \"Neelam's The Grand\", \"Royal Mirage Beach Resort\", \"Magnum Resort\", \"Private 10 room Apartment in Calangute\", \"Holiday Home in Goa - 9 mins from Benaulim Beach\", \"Laura Guest Rooms\", \"SeaShell Beach Suites\", \"Raghunath Guest House\", \"Reliance House\", \"Veera Strand Park Serviced Apartments\", \"Whispering Palms Beach Resort\", \"Chances Resort and Casino\", \"Sangolda Greenz - A Budgeted Stay\", \"The Rivasa Resort\", \"RK Pleasing Homes\", \"Dewa Hotel\", \"Calangute Inn\", \"Micasa by the Sea Goa\", \"Blu Grass\", \"Studio Service Apartments - Arpora\", \"Costa Del Sol Holiday Homes\", \"Portuguese inspired architecture guest house in Candolim\", \"Hotel Shakti Palace\", \"Sunset Beach Resort\", \"Deltin Palms Riverfront\", \"Buddy Guest House\", \"Nxtgen Future Hospitality\", \"Goa - Club Estadia, A Sterling Holiday Resorts\", \"Spazio Leisure Resort Anjuna\", \"Ginger Tree Goveia Resort\", \"Ocean Crest\", \"Hotel Falcon Resorts\", \"Oceana The Holiday Home\", \"Majhi resort\", \"CXScape\", \"The LaLiT Golf & Spa Resort...\", \"Lily Villa\", \"Aston Ajoy Home Comfort Goa\", \"Baywalk Goa\", \"Private 2 room Apartment in Vagator\", \"Villa Bomfim\", \"TripThrill Sapna Residency Apartment\", \"Zense Resort\", \"Inn Anjuna\", \"Rahi Resort De Crossroads\", \"Hotel 4 Pillars\", \"Serviced Apartments Goa\", \"Goan Imperial Holidays\", \"Misquita House\", \"The Hawaii Comforts\", \"No Frills Guest House facility set on Candolim Beach\", \"Royal Mirage Boutique\", \"Sundays Forever A HomeStay\", \"Romaldo Guest House\", \"Beach huts with all the amenities on Benaulim beach\", \"Mandrem Retreat\", \"Resort Ronil Royal\", \"A home away from home - Beach resort style rooms in Vagator\", \"The Sea Horse Resort\", \"Casa Colvale\", \"San Joao Holiday Homes\", \"Stay in a Homestay in Bogmalo\", \"Paradise Inn\", \"La Grace Margao\", \"Vishals Residency\", \"Adore Azzure Rooms\", \"Peles Windsong Wood Cottages on Beach\", \"Coconut Grove\", \"Daffodils Guest House\", \"Happy Residency Goa Guest House\", \"Agonda Palace\", \"Siddam Residency\", \"RETREAT ANJUNA\", \"The Village Inn\", \"Sukhmantra Resort and Spa\", \"Excelsior Holiday Homes 2 BHK  D\", \"John's Highland Comfort\", \"Waters Boutique Guest House\", \"Campal Beach Resort\", \"A wonderful place to relax in Anjuna - Sea View Guest house\", \"Kristal Sands Beach Resort\", \"Miroslav Resort\", \"Hotel Windsor Bay\", \"Parth Inn\", \"Lambana Resort Goa\", \"Ocean Heights Home Stay\", \"Hotel Parth Inn\", \"Treebo Turtle Beach Resort\", \"C 301 2 BHK Serviced Apartment\", \"Leons House\", \"Excelsior Holiday Homes 2 BHK F\", \"Sea Queen Beach Resort\", \"Colonia Santa Maria\", \"Hotel Travellers Inn\", \"Dona Terezinha Resort\", \"Simply Offbeat Goa Eco\", \"Grand Hyatt Goa\", \"Cuba Patnem\", \"Maria Cottages\", \"World Choice Hideaway Beach Resorts\", \"Hotel Lotus Inn\", \"Resort De Coracao\", \"Vagator Suites 1D BHK\", \"The Long Bay\", \"Stay in a Homestay in Aldona\", \"Pinnacle Holiday Homes\", \"Apartment D 2bhk Apartment Vision Green\", \"TripThrill Ruby Residency Apartment\", \"Colva Holiday Homes\", \"Devaaya, the Ayurveda Retreat\", \"Salson Ferns Nest Guest House\", \"Resort Ritchita\", \"Orchid Holiday Home\", \"Nazri Resort\", \"Excelsior Holiday Homes 2 BHK G\", \"Neelam The Glitz\", \"Nandini Casa De Praia\", \"Country Inn & Suites, By Carlson Goa Panjim\", \"Mystique Heights Goa\", \"Hotel Karishma Grand\", \"Deluxe Holiday home\", \"Cidade De Goa\", \"Toor Resort\", \"Budget villa in Candolim with all amenities\", \"The Mandala Goa\", \"The PentaCon a Resort\", \"Palacete Rodrigues\", \"Mandrem Beach Resort Goa\", \"Madhavan's Villa Hotel\", \"Maitri Sweet Living\", \"World Choice Holiday Village\", \"NORA Spiritual Villa Siolim\", \"ac 2BHK apartment 1km from Benaulim beach, South Goa\", \"Apartment C 2 bhk Vision Green\", \"Glory Lazfin Guest House\", \"RnB Ramacon Goa\", \"The Orange House\", \"2br apartment near the beach at Candolim, Goa\", \"Paradise Guest House\", \"Gulmohar Resort\", \"Goa Marriott Resort & Spa\", \"Hotel Grand Liz\", \"Zinhos Beach Resort\", \"Shining Sand Beach Hotel\", \"Pritams Cottages Guest House\", \"Whispering Woods\", \"SMILEY HOTELS RISHI BAGA\", \"Alina Guest House\", \"VILLA BY THE SEA\", \"Casa Chesnut ServiceApartments\", \"Pearl King Villa\", \"Laalegro Holiday Home Goa\", \"Mahamaya Kalika Guest House\", \"Savita Guest House\", \"The Haven\", \"Estrela Do Mar Beach Resort\", \"Vila De Goa\", \"Sonesta Inns\", \"Silver Lining A Family Retreat\", \"Sunkissed Plaza\", \"Hotel Celestiial\", \"Hotel Hacienda Calangute\", \"Williams Beach Retreat\", \"Hotel Rezos\", \"Village Vibes Apartment\", \"Villa Fatima Beach Resort\", \"Coco Beach Village\", \"Diakon Holidays\", \"juSTa Panjim\", \"Goan Heritage Apartment\", \"Goa Villa Holidays\", \"Mansion in Candolim, Goa\", \"Sea Front huts Patnem\", \"Omega Beach Resort\", \"Saaj Guest House\", \"A stunning luxurious villa in Candolim\", \"Blue Beach Nest Service Appartment 1 BHK NO 710\", \"Radisson Blu\", \"Stay in Baga- 2 mins from the beach\"]}],\n",
       "                        {\"legend\": {\"bgcolor\": \"#1A1A1C\", \"font\": {\"color\": \"#D9D9D9\"}}, \"paper_bgcolor\": \"#1A1A1C\", \"plot_bgcolor\": \"#1A1A1C\", \"template\": {\"data\": {\"bar\": [{\"error_x\": {\"color\": \"#2a3f5f\"}, \"error_y\": {\"color\": \"#2a3f5f\"}, \"marker\": {\"line\": {\"color\": \"#E5ECF6\", \"width\": 0.5}}, \"type\": \"bar\"}], \"barpolar\": [{\"marker\": {\"line\": {\"color\": \"#E5ECF6\", \"width\": 0.5}}, \"type\": \"barpolar\"}], \"carpet\": [{\"aaxis\": {\"endlinecolor\": \"#2a3f5f\", \"gridcolor\": \"white\", \"linecolor\": \"white\", \"minorgridcolor\": \"white\", \"startlinecolor\": \"#2a3f5f\"}, \"baxis\": {\"endlinecolor\": \"#2a3f5f\", \"gridcolor\": \"white\", \"linecolor\": \"white\", \"minorgridcolor\": \"white\", \"startlinecolor\": \"#2a3f5f\"}, \"type\": \"carpet\"}], \"choropleth\": [{\"colorbar\": {\"outlinewidth\": 0, \"ticks\": \"\"}, \"type\": \"choropleth\"}], \"contour\": [{\"colorbar\": {\"outlinewidth\": 0, \"ticks\": \"\"}, \"colorscale\": [[0.0, \"#0d0887\"], [0.1111111111111111, \"#46039f\"], [0.2222222222222222, \"#7201a8\"], [0.3333333333333333, \"#9c179e\"], [0.4444444444444444, \"#bd3786\"], [0.5555555555555556, \"#d8576b\"], [0.6666666666666666, \"#ed7953\"], [0.7777777777777778, \"#fb9f3a\"], [0.8888888888888888, \"#fdca26\"], [1.0, \"#f0f921\"]], \"type\": \"contour\"}], \"contourcarpet\": [{\"colorbar\": {\"outlinewidth\": 0, \"ticks\": \"\"}, \"type\": \"contourcarpet\"}], \"heatmap\": [{\"colorbar\": {\"outlinewidth\": 0, \"ticks\": \"\"}, \"colorscale\": [[0.0, \"#0d0887\"], [0.1111111111111111, \"#46039f\"], [0.2222222222222222, \"#7201a8\"], [0.3333333333333333, \"#9c179e\"], [0.4444444444444444, \"#bd3786\"], [0.5555555555555556, \"#d8576b\"], [0.6666666666666666, \"#ed7953\"], [0.7777777777777778, \"#fb9f3a\"], [0.8888888888888888, \"#fdca26\"], [1.0, \"#f0f921\"]], \"type\": \"heatmap\"}], \"heatmapgl\": [{\"colorbar\": {\"outlinewidth\": 0, \"ticks\": \"\"}, \"colorscale\": [[0.0, \"#0d0887\"], [0.1111111111111111, \"#46039f\"], [0.2222222222222222, \"#7201a8\"], [0.3333333333333333, \"#9c179e\"], [0.4444444444444444, \"#bd3786\"], [0.5555555555555556, \"#d8576b\"], [0.6666666666666666, \"#ed7953\"], [0.7777777777777778, \"#fb9f3a\"], [0.8888888888888888, \"#fdca26\"], [1.0, \"#f0f921\"]], \"type\": \"heatmapgl\"}], \"histogram\": [{\"marker\": {\"colorbar\": {\"outlinewidth\": 0, \"ticks\": \"\"}}, \"type\": \"histogram\"}], \"histogram2d\": [{\"colorbar\": {\"outlinewidth\": 0, \"ticks\": \"\"}, \"colorscale\": [[0.0, \"#0d0887\"], [0.1111111111111111, \"#46039f\"], [0.2222222222222222, \"#7201a8\"], [0.3333333333333333, \"#9c179e\"], [0.4444444444444444, \"#bd3786\"], [0.5555555555555556, \"#d8576b\"], [0.6666666666666666, \"#ed7953\"], [0.7777777777777778, \"#fb9f3a\"], [0.8888888888888888, \"#fdca26\"], [1.0, \"#f0f921\"]], \"type\": \"histogram2d\"}], \"histogram2dcontour\": [{\"colorbar\": {\"outlinewidth\": 0, \"ticks\": \"\"}, \"colorscale\": [[0.0, \"#0d0887\"], [0.1111111111111111, \"#46039f\"], [0.2222222222222222, \"#7201a8\"], [0.3333333333333333, \"#9c179e\"], [0.4444444444444444, \"#bd3786\"], [0.5555555555555556, \"#d8576b\"], [0.6666666666666666, \"#ed7953\"], [0.7777777777777778, \"#fb9f3a\"], [0.8888888888888888, \"#fdca26\"], [1.0, \"#f0f921\"]], \"type\": \"histogram2dcontour\"}], \"mesh3d\": [{\"colorbar\": {\"outlinewidth\": 0, \"ticks\": \"\"}, \"type\": \"mesh3d\"}], \"parcoords\": [{\"line\": {\"colorbar\": {\"outlinewidth\": 0, \"ticks\": \"\"}}, \"type\": \"parcoords\"}], \"pie\": [{\"automargin\": true, \"type\": \"pie\"}], \"scatter\": [{\"marker\": {\"colorbar\": {\"outlinewidth\": 0, \"ticks\": \"\"}}, \"type\": \"scatter\"}], \"scatter3d\": [{\"line\": {\"colorbar\": {\"outlinewidth\": 0, \"ticks\": \"\"}}, \"marker\": {\"colorbar\": {\"outlinewidth\": 0, \"ticks\": \"\"}}, \"type\": \"scatter3d\"}], \"scattercarpet\": [{\"marker\": {\"colorbar\": {\"outlinewidth\": 0, \"ticks\": \"\"}}, \"type\": \"scattercarpet\"}], \"scattergeo\": [{\"marker\": {\"colorbar\": {\"outlinewidth\": 0, \"ticks\": \"\"}}, \"type\": \"scattergeo\"}], \"scattergl\": [{\"marker\": {\"colorbar\": {\"outlinewidth\": 0, \"ticks\": \"\"}}, \"type\": \"scattergl\"}], \"scattermapbox\": [{\"marker\": {\"colorbar\": {\"outlinewidth\": 0, \"ticks\": \"\"}}, \"type\": \"scattermapbox\"}], \"scatterpolar\": [{\"marker\": {\"colorbar\": {\"outlinewidth\": 0, \"ticks\": \"\"}}, \"type\": \"scatterpolar\"}], \"scatterpolargl\": [{\"marker\": {\"colorbar\": {\"outlinewidth\": 0, \"ticks\": \"\"}}, \"type\": \"scatterpolargl\"}], \"scatterternary\": [{\"marker\": {\"colorbar\": {\"outlinewidth\": 0, \"ticks\": \"\"}}, \"type\": \"scatterternary\"}], \"surface\": [{\"colorbar\": {\"outlinewidth\": 0, \"ticks\": \"\"}, \"colorscale\": [[0.0, \"#0d0887\"], [0.1111111111111111, \"#46039f\"], [0.2222222222222222, \"#7201a8\"], [0.3333333333333333, \"#9c179e\"], [0.4444444444444444, \"#bd3786\"], [0.5555555555555556, \"#d8576b\"], [0.6666666666666666, \"#ed7953\"], [0.7777777777777778, \"#fb9f3a\"], [0.8888888888888888, \"#fdca26\"], [1.0, \"#f0f921\"]], \"type\": \"surface\"}], \"table\": [{\"cells\": {\"fill\": {\"color\": \"#EBF0F8\"}, \"line\": {\"color\": \"white\"}}, \"header\": {\"fill\": {\"color\": \"#C8D4E3\"}, \"line\": {\"color\": \"white\"}}, \"type\": \"table\"}]}, \"layout\": {\"annotationdefaults\": {\"arrowcolor\": \"#2a3f5f\", \"arrowhead\": 0, \"arrowwidth\": 1}, \"coloraxis\": {\"colorbar\": {\"outlinewidth\": 0, \"ticks\": \"\"}}, \"colorscale\": {\"diverging\": [[0, \"#8e0152\"], [0.1, \"#c51b7d\"], [0.2, \"#de77ae\"], [0.3, \"#f1b6da\"], [0.4, \"#fde0ef\"], [0.5, \"#f7f7f7\"], [0.6, \"#e6f5d0\"], [0.7, \"#b8e186\"], [0.8, \"#7fbc41\"], [0.9, \"#4d9221\"], [1, \"#276419\"]], \"sequential\": [[0.0, \"#0d0887\"], [0.1111111111111111, \"#46039f\"], [0.2222222222222222, \"#7201a8\"], [0.3333333333333333, \"#9c179e\"], [0.4444444444444444, \"#bd3786\"], [0.5555555555555556, \"#d8576b\"], [0.6666666666666666, \"#ed7953\"], [0.7777777777777778, \"#fb9f3a\"], [0.8888888888888888, \"#fdca26\"], [1.0, \"#f0f921\"]], \"sequentialminus\": [[0.0, \"#0d0887\"], [0.1111111111111111, \"#46039f\"], [0.2222222222222222, \"#7201a8\"], [0.3333333333333333, \"#9c179e\"], [0.4444444444444444, \"#bd3786\"], [0.5555555555555556, \"#d8576b\"], [0.6666666666666666, \"#ed7953\"], [0.7777777777777778, \"#fb9f3a\"], [0.8888888888888888, \"#fdca26\"], [1.0, \"#f0f921\"]]}, \"colorway\": [\"#636efa\", \"#EF553B\", \"#00cc96\", \"#ab63fa\", \"#FFA15A\", \"#19d3f3\", \"#FF6692\", \"#B6E880\", \"#FF97FF\", \"#FECB52\"], \"font\": {\"color\": \"#2a3f5f\"}, \"geo\": {\"bgcolor\": \"white\", \"lakecolor\": \"white\", \"landcolor\": \"#E5ECF6\", \"showlakes\": true, \"showland\": true, \"subunitcolor\": \"white\"}, \"hoverlabel\": {\"align\": \"left\"}, \"hovermode\": \"closest\", \"mapbox\": {\"style\": \"light\"}, \"paper_bgcolor\": \"white\", \"plot_bgcolor\": \"#E5ECF6\", \"polar\": {\"angularaxis\": {\"gridcolor\": \"white\", \"linecolor\": \"white\", \"ticks\": \"\"}, \"bgcolor\": \"#E5ECF6\", \"radialaxis\": {\"gridcolor\": \"white\", \"linecolor\": \"white\", \"ticks\": \"\"}}, \"scene\": {\"xaxis\": {\"backgroundcolor\": \"#E5ECF6\", \"gridcolor\": \"white\", \"gridwidth\": 2, \"linecolor\": \"white\", \"showbackground\": true, \"ticks\": \"\", \"zerolinecolor\": \"white\"}, \"yaxis\": {\"backgroundcolor\": \"#E5ECF6\", \"gridcolor\": \"white\", \"gridwidth\": 2, \"linecolor\": \"white\", \"showbackground\": true, \"ticks\": \"\", \"zerolinecolor\": \"white\"}, \"zaxis\": {\"backgroundcolor\": \"#E5ECF6\", \"gridcolor\": \"white\", \"gridwidth\": 2, \"linecolor\": \"white\", \"showbackground\": true, \"ticks\": \"\", \"zerolinecolor\": \"white\"}}, \"shapedefaults\": {\"line\": {\"color\": \"#2a3f5f\"}}, \"ternary\": {\"aaxis\": {\"gridcolor\": \"white\", \"linecolor\": \"white\", \"ticks\": \"\"}, \"baxis\": {\"gridcolor\": \"white\", \"linecolor\": \"white\", \"ticks\": \"\"}, \"bgcolor\": \"#E5ECF6\", \"caxis\": {\"gridcolor\": \"white\", \"linecolor\": \"white\", \"ticks\": \"\"}}, \"title\": {\"x\": 0.05}, \"xaxis\": {\"automargin\": true, \"gridcolor\": \"white\", \"linecolor\": \"white\", \"ticks\": \"\", \"title\": {\"standoff\": 15}, \"zerolinecolor\": \"white\", \"zerolinewidth\": 2}, \"yaxis\": {\"automargin\": true, \"gridcolor\": \"white\", \"linecolor\": \"white\", \"ticks\": \"\", \"title\": {\"standoff\": 15}, \"zerolinecolor\": \"white\", \"zerolinewidth\": 2}}}, \"title\": {\"font\": {\"color\": \"#D9D9D9\"}, \"text\": \"No. of travlers visited each property\"}, \"xaxis\": {\"gridcolor\": \"#434343\", \"linecolor\": \"black\", \"showgrid\": true, \"tickfont\": {\"color\": \"#C2C2C2\"}, \"title\": {\"font\": {\"color\": \"#D9D9D9\"}, \"text\": \"\"}, \"zerolinecolor\": \"#666570\"}, \"yaxis\": {\"gridcolor\": \"#434343\", \"linecolor\": \"black\", \"showgrid\": true, \"tickfont\": {\"color\": \"#C2C2C2\"}, \"title\": {\"font\": {\"color\": \"#D9D9D9\"}, \"text\": \"Count\"}, \"zerolinecolor\": \"#666570\"}},\n",
       "                        {\"showLink\": true, \"linkText\": \"Export to plot.ly\", \"plotlyServerURL\": \"https://plot.ly\", \"responsive\": true}\n",
       "                    ).then(function(){\n",
       "                            \n",
       "var gd = document.getElementById('7a52df28-3d5d-46b2-9fdc-be1dbcc45a2f');\n",
       "var x = new MutationObserver(function (mutations, observer) {{\n",
       "        var display = window.getComputedStyle(gd).display;\n",
       "        if (!display || display === 'none') {{\n",
       "            console.log([gd, 'removed!']);\n",
       "            Plotly.purge(gd);\n",
       "            observer.disconnect();\n",
       "        }}\n",
       "}});\n",
       "\n",
       "// Listen for the removal of the full notebook cells\n",
       "var notebookContainer = gd.closest('#notebook-container');\n",
       "if (notebookContainer) {{\n",
       "    x.observe(notebookContainer, {childList: true});\n",
       "}}\n",
       "\n",
       "// Listen for the clearing of the current output cell\n",
       "var outputEl = gd.closest('.output');\n",
       "if (outputEl) {{\n",
       "    x.observe(outputEl, {childList: true});\n",
       "}}\n",
       "\n",
       "                        })\n",
       "                };\n",
       "                });\n",
       "            </script>\n",
       "        </div>"
      ]
     },
     "metadata": {},
     "output_type": "display_data"
    }
   ],
   "source": [
    "goa['property_name'].value_counts().iplot(kind='barh', yTitle='Count', linecolor='black', title='No. of travlers visited each property')"
   ]
  },
  {
   "cell_type": "markdown",
   "metadata": {},
   "source": [
    "#### Customer preference of property types: The customers usually preferred hotels over other types of accomodation. This can be due to customer age and other details as well. Usually, hostels are preferred by single and solo travellers with lower budgets while families stick to comfortable hotels and average to higher rentals. This is worth investigating but the data does not provide more details on customers."
   ]
  },
  {
   "cell_type": "code",
   "execution_count": 234,
   "metadata": {},
   "outputs": [
    {
     "data": {
      "application/vnd.plotly.v1+json": {
       "config": {
        "linkText": "Export to plot.ly",
        "plotlyServerURL": "https://plot.ly",
        "showLink": true
       },
       "data": [
        {
         "marker": {
          "color": "rgba(255, 153, 51, 0.6)",
          "line": {
           "color": "rgba(255, 153, 51, 1.0)",
           "width": 1
          }
         },
         "name": "property_type",
         "orientation": "h",
         "text": "",
         "type": "bar",
         "x": [
          1076,
          16,
          11,
          6,
          4,
          3,
          2,
          2,
          1,
          1
         ],
         "y": [
          "Hotel",
          "Apartment",
          "Guest House",
          "Homestay",
          "Villa",
          "Beach Hut",
          "Hostel",
          "Cottage",
          "Resort",
          "xyz"
         ]
        }
       ],
       "layout": {
        "legend": {
         "bgcolor": "#1A1A1C",
         "font": {
          "color": "#D9D9D9"
         }
        },
        "paper_bgcolor": "#1A1A1C",
        "plot_bgcolor": "#1A1A1C",
        "template": {
         "data": {
          "bar": [
           {
            "error_x": {
             "color": "#2a3f5f"
            },
            "error_y": {
             "color": "#2a3f5f"
            },
            "marker": {
             "line": {
              "color": "#E5ECF6",
              "width": 0.5
             }
            },
            "type": "bar"
           }
          ],
          "barpolar": [
           {
            "marker": {
             "line": {
              "color": "#E5ECF6",
              "width": 0.5
             }
            },
            "type": "barpolar"
           }
          ],
          "carpet": [
           {
            "aaxis": {
             "endlinecolor": "#2a3f5f",
             "gridcolor": "white",
             "linecolor": "white",
             "minorgridcolor": "white",
             "startlinecolor": "#2a3f5f"
            },
            "baxis": {
             "endlinecolor": "#2a3f5f",
             "gridcolor": "white",
             "linecolor": "white",
             "minorgridcolor": "white",
             "startlinecolor": "#2a3f5f"
            },
            "type": "carpet"
           }
          ],
          "choropleth": [
           {
            "colorbar": {
             "outlinewidth": 0,
             "ticks": ""
            },
            "type": "choropleth"
           }
          ],
          "contour": [
           {
            "colorbar": {
             "outlinewidth": 0,
             "ticks": ""
            },
            "colorscale": [
             [
              0,
              "#0d0887"
             ],
             [
              0.1111111111111111,
              "#46039f"
             ],
             [
              0.2222222222222222,
              "#7201a8"
             ],
             [
              0.3333333333333333,
              "#9c179e"
             ],
             [
              0.4444444444444444,
              "#bd3786"
             ],
             [
              0.5555555555555556,
              "#d8576b"
             ],
             [
              0.6666666666666666,
              "#ed7953"
             ],
             [
              0.7777777777777778,
              "#fb9f3a"
             ],
             [
              0.8888888888888888,
              "#fdca26"
             ],
             [
              1,
              "#f0f921"
             ]
            ],
            "type": "contour"
           }
          ],
          "contourcarpet": [
           {
            "colorbar": {
             "outlinewidth": 0,
             "ticks": ""
            },
            "type": "contourcarpet"
           }
          ],
          "heatmap": [
           {
            "colorbar": {
             "outlinewidth": 0,
             "ticks": ""
            },
            "colorscale": [
             [
              0,
              "#0d0887"
             ],
             [
              0.1111111111111111,
              "#46039f"
             ],
             [
              0.2222222222222222,
              "#7201a8"
             ],
             [
              0.3333333333333333,
              "#9c179e"
             ],
             [
              0.4444444444444444,
              "#bd3786"
             ],
             [
              0.5555555555555556,
              "#d8576b"
             ],
             [
              0.6666666666666666,
              "#ed7953"
             ],
             [
              0.7777777777777778,
              "#fb9f3a"
             ],
             [
              0.8888888888888888,
              "#fdca26"
             ],
             [
              1,
              "#f0f921"
             ]
            ],
            "type": "heatmap"
           }
          ],
          "heatmapgl": [
           {
            "colorbar": {
             "outlinewidth": 0,
             "ticks": ""
            },
            "colorscale": [
             [
              0,
              "#0d0887"
             ],
             [
              0.1111111111111111,
              "#46039f"
             ],
             [
              0.2222222222222222,
              "#7201a8"
             ],
             [
              0.3333333333333333,
              "#9c179e"
             ],
             [
              0.4444444444444444,
              "#bd3786"
             ],
             [
              0.5555555555555556,
              "#d8576b"
             ],
             [
              0.6666666666666666,
              "#ed7953"
             ],
             [
              0.7777777777777778,
              "#fb9f3a"
             ],
             [
              0.8888888888888888,
              "#fdca26"
             ],
             [
              1,
              "#f0f921"
             ]
            ],
            "type": "heatmapgl"
           }
          ],
          "histogram": [
           {
            "marker": {
             "colorbar": {
              "outlinewidth": 0,
              "ticks": ""
             }
            },
            "type": "histogram"
           }
          ],
          "histogram2d": [
           {
            "colorbar": {
             "outlinewidth": 0,
             "ticks": ""
            },
            "colorscale": [
             [
              0,
              "#0d0887"
             ],
             [
              0.1111111111111111,
              "#46039f"
             ],
             [
              0.2222222222222222,
              "#7201a8"
             ],
             [
              0.3333333333333333,
              "#9c179e"
             ],
             [
              0.4444444444444444,
              "#bd3786"
             ],
             [
              0.5555555555555556,
              "#d8576b"
             ],
             [
              0.6666666666666666,
              "#ed7953"
             ],
             [
              0.7777777777777778,
              "#fb9f3a"
             ],
             [
              0.8888888888888888,
              "#fdca26"
             ],
             [
              1,
              "#f0f921"
             ]
            ],
            "type": "histogram2d"
           }
          ],
          "histogram2dcontour": [
           {
            "colorbar": {
             "outlinewidth": 0,
             "ticks": ""
            },
            "colorscale": [
             [
              0,
              "#0d0887"
             ],
             [
              0.1111111111111111,
              "#46039f"
             ],
             [
              0.2222222222222222,
              "#7201a8"
             ],
             [
              0.3333333333333333,
              "#9c179e"
             ],
             [
              0.4444444444444444,
              "#bd3786"
             ],
             [
              0.5555555555555556,
              "#d8576b"
             ],
             [
              0.6666666666666666,
              "#ed7953"
             ],
             [
              0.7777777777777778,
              "#fb9f3a"
             ],
             [
              0.8888888888888888,
              "#fdca26"
             ],
             [
              1,
              "#f0f921"
             ]
            ],
            "type": "histogram2dcontour"
           }
          ],
          "mesh3d": [
           {
            "colorbar": {
             "outlinewidth": 0,
             "ticks": ""
            },
            "type": "mesh3d"
           }
          ],
          "parcoords": [
           {
            "line": {
             "colorbar": {
              "outlinewidth": 0,
              "ticks": ""
             }
            },
            "type": "parcoords"
           }
          ],
          "pie": [
           {
            "automargin": true,
            "type": "pie"
           }
          ],
          "scatter": [
           {
            "marker": {
             "colorbar": {
              "outlinewidth": 0,
              "ticks": ""
             }
            },
            "type": "scatter"
           }
          ],
          "scatter3d": [
           {
            "line": {
             "colorbar": {
              "outlinewidth": 0,
              "ticks": ""
             }
            },
            "marker": {
             "colorbar": {
              "outlinewidth": 0,
              "ticks": ""
             }
            },
            "type": "scatter3d"
           }
          ],
          "scattercarpet": [
           {
            "marker": {
             "colorbar": {
              "outlinewidth": 0,
              "ticks": ""
             }
            },
            "type": "scattercarpet"
           }
          ],
          "scattergeo": [
           {
            "marker": {
             "colorbar": {
              "outlinewidth": 0,
              "ticks": ""
             }
            },
            "type": "scattergeo"
           }
          ],
          "scattergl": [
           {
            "marker": {
             "colorbar": {
              "outlinewidth": 0,
              "ticks": ""
             }
            },
            "type": "scattergl"
           }
          ],
          "scattermapbox": [
           {
            "marker": {
             "colorbar": {
              "outlinewidth": 0,
              "ticks": ""
             }
            },
            "type": "scattermapbox"
           }
          ],
          "scatterpolar": [
           {
            "marker": {
             "colorbar": {
              "outlinewidth": 0,
              "ticks": ""
             }
            },
            "type": "scatterpolar"
           }
          ],
          "scatterpolargl": [
           {
            "marker": {
             "colorbar": {
              "outlinewidth": 0,
              "ticks": ""
             }
            },
            "type": "scatterpolargl"
           }
          ],
          "scatterternary": [
           {
            "marker": {
             "colorbar": {
              "outlinewidth": 0,
              "ticks": ""
             }
            },
            "type": "scatterternary"
           }
          ],
          "surface": [
           {
            "colorbar": {
             "outlinewidth": 0,
             "ticks": ""
            },
            "colorscale": [
             [
              0,
              "#0d0887"
             ],
             [
              0.1111111111111111,
              "#46039f"
             ],
             [
              0.2222222222222222,
              "#7201a8"
             ],
             [
              0.3333333333333333,
              "#9c179e"
             ],
             [
              0.4444444444444444,
              "#bd3786"
             ],
             [
              0.5555555555555556,
              "#d8576b"
             ],
             [
              0.6666666666666666,
              "#ed7953"
             ],
             [
              0.7777777777777778,
              "#fb9f3a"
             ],
             [
              0.8888888888888888,
              "#fdca26"
             ],
             [
              1,
              "#f0f921"
             ]
            ],
            "type": "surface"
           }
          ],
          "table": [
           {
            "cells": {
             "fill": {
              "color": "#EBF0F8"
             },
             "line": {
              "color": "white"
             }
            },
            "header": {
             "fill": {
              "color": "#C8D4E3"
             },
             "line": {
              "color": "white"
             }
            },
            "type": "table"
           }
          ]
         },
         "layout": {
          "annotationdefaults": {
           "arrowcolor": "#2a3f5f",
           "arrowhead": 0,
           "arrowwidth": 1
          },
          "coloraxis": {
           "colorbar": {
            "outlinewidth": 0,
            "ticks": ""
           }
          },
          "colorscale": {
           "diverging": [
            [
             0,
             "#8e0152"
            ],
            [
             0.1,
             "#c51b7d"
            ],
            [
             0.2,
             "#de77ae"
            ],
            [
             0.3,
             "#f1b6da"
            ],
            [
             0.4,
             "#fde0ef"
            ],
            [
             0.5,
             "#f7f7f7"
            ],
            [
             0.6,
             "#e6f5d0"
            ],
            [
             0.7,
             "#b8e186"
            ],
            [
             0.8,
             "#7fbc41"
            ],
            [
             0.9,
             "#4d9221"
            ],
            [
             1,
             "#276419"
            ]
           ],
           "sequential": [
            [
             0,
             "#0d0887"
            ],
            [
             0.1111111111111111,
             "#46039f"
            ],
            [
             0.2222222222222222,
             "#7201a8"
            ],
            [
             0.3333333333333333,
             "#9c179e"
            ],
            [
             0.4444444444444444,
             "#bd3786"
            ],
            [
             0.5555555555555556,
             "#d8576b"
            ],
            [
             0.6666666666666666,
             "#ed7953"
            ],
            [
             0.7777777777777778,
             "#fb9f3a"
            ],
            [
             0.8888888888888888,
             "#fdca26"
            ],
            [
             1,
             "#f0f921"
            ]
           ],
           "sequentialminus": [
            [
             0,
             "#0d0887"
            ],
            [
             0.1111111111111111,
             "#46039f"
            ],
            [
             0.2222222222222222,
             "#7201a8"
            ],
            [
             0.3333333333333333,
             "#9c179e"
            ],
            [
             0.4444444444444444,
             "#bd3786"
            ],
            [
             0.5555555555555556,
             "#d8576b"
            ],
            [
             0.6666666666666666,
             "#ed7953"
            ],
            [
             0.7777777777777778,
             "#fb9f3a"
            ],
            [
             0.8888888888888888,
             "#fdca26"
            ],
            [
             1,
             "#f0f921"
            ]
           ]
          },
          "colorway": [
           "#636efa",
           "#EF553B",
           "#00cc96",
           "#ab63fa",
           "#FFA15A",
           "#19d3f3",
           "#FF6692",
           "#B6E880",
           "#FF97FF",
           "#FECB52"
          ],
          "font": {
           "color": "#2a3f5f"
          },
          "geo": {
           "bgcolor": "white",
           "lakecolor": "white",
           "landcolor": "#E5ECF6",
           "showlakes": true,
           "showland": true,
           "subunitcolor": "white"
          },
          "hoverlabel": {
           "align": "left"
          },
          "hovermode": "closest",
          "mapbox": {
           "style": "light"
          },
          "paper_bgcolor": "white",
          "plot_bgcolor": "#E5ECF6",
          "polar": {
           "angularaxis": {
            "gridcolor": "white",
            "linecolor": "white",
            "ticks": ""
           },
           "bgcolor": "#E5ECF6",
           "radialaxis": {
            "gridcolor": "white",
            "linecolor": "white",
            "ticks": ""
           }
          },
          "scene": {
           "xaxis": {
            "backgroundcolor": "#E5ECF6",
            "gridcolor": "white",
            "gridwidth": 2,
            "linecolor": "white",
            "showbackground": true,
            "ticks": "",
            "zerolinecolor": "white"
           },
           "yaxis": {
            "backgroundcolor": "#E5ECF6",
            "gridcolor": "white",
            "gridwidth": 2,
            "linecolor": "white",
            "showbackground": true,
            "ticks": "",
            "zerolinecolor": "white"
           },
           "zaxis": {
            "backgroundcolor": "#E5ECF6",
            "gridcolor": "white",
            "gridwidth": 2,
            "linecolor": "white",
            "showbackground": true,
            "ticks": "",
            "zerolinecolor": "white"
           }
          },
          "shapedefaults": {
           "line": {
            "color": "#2a3f5f"
           }
          },
          "ternary": {
           "aaxis": {
            "gridcolor": "white",
            "linecolor": "white",
            "ticks": ""
           },
           "baxis": {
            "gridcolor": "white",
            "linecolor": "white",
            "ticks": ""
           },
           "bgcolor": "#E5ECF6",
           "caxis": {
            "gridcolor": "white",
            "linecolor": "white",
            "ticks": ""
           }
          },
          "title": {
           "x": 0.05
          },
          "xaxis": {
           "automargin": true,
           "gridcolor": "white",
           "linecolor": "white",
           "ticks": "",
           "title": {
            "standoff": 15
           },
           "zerolinecolor": "white",
           "zerolinewidth": 2
          },
          "yaxis": {
           "automargin": true,
           "gridcolor": "white",
           "linecolor": "white",
           "ticks": "",
           "title": {
            "standoff": 15
           },
           "zerolinecolor": "white",
           "zerolinewidth": 2
          }
         }
        },
        "title": {
         "font": {
          "color": "#D9D9D9"
         },
         "text": "No. of travlers visited each hotel"
        },
        "xaxis": {
         "gridcolor": "#434343",
         "linecolor": "black",
         "showgrid": true,
         "tickfont": {
          "color": "#C2C2C2"
         },
         "title": {
          "font": {
           "color": "#D9D9D9"
          },
          "text": ""
         },
         "zerolinecolor": "#666570"
        },
        "yaxis": {
         "gridcolor": "#434343",
         "linecolor": "black",
         "showgrid": true,
         "tickfont": {
          "color": "#C2C2C2"
         },
         "title": {
          "font": {
           "color": "#D9D9D9"
          },
          "text": "Count"
         },
         "zerolinecolor": "#666570"
        }
       }
      },
      "text/html": [
       "<div>\n",
       "        \n",
       "        \n",
       "            <div id=\"a8136d59-f247-4d71-a83f-e5aed2d18269\" class=\"plotly-graph-div\" style=\"height:525px; width:100%;\"></div>\n",
       "            <script type=\"text/javascript\">\n",
       "                require([\"plotly\"], function(Plotly) {\n",
       "                    window.PLOTLYENV=window.PLOTLYENV || {};\n",
       "                    window.PLOTLYENV.BASE_URL='https://plot.ly';\n",
       "                    \n",
       "                if (document.getElementById(\"a8136d59-f247-4d71-a83f-e5aed2d18269\")) {\n",
       "                    Plotly.newPlot(\n",
       "                        'a8136d59-f247-4d71-a83f-e5aed2d18269',\n",
       "                        [{\"marker\": {\"color\": \"rgba(255, 153, 51, 0.6)\", \"line\": {\"color\": \"rgba(255, 153, 51, 1.0)\", \"width\": 1}}, \"name\": \"property_type\", \"orientation\": \"h\", \"text\": \"\", \"type\": \"bar\", \"x\": [1076, 16, 11, 6, 4, 3, 2, 2, 1, 1], \"y\": [\"Hotel\", \"Apartment\", \"Guest House\", \"Homestay\", \"Villa\", \"Beach Hut\", \"Hostel\", \"Cottage\", \"Resort\", \"xyz\"]}],\n",
       "                        {\"legend\": {\"bgcolor\": \"#1A1A1C\", \"font\": {\"color\": \"#D9D9D9\"}}, \"paper_bgcolor\": \"#1A1A1C\", \"plot_bgcolor\": \"#1A1A1C\", \"template\": {\"data\": {\"bar\": [{\"error_x\": {\"color\": \"#2a3f5f\"}, \"error_y\": {\"color\": \"#2a3f5f\"}, \"marker\": {\"line\": {\"color\": \"#E5ECF6\", \"width\": 0.5}}, \"type\": \"bar\"}], \"barpolar\": [{\"marker\": {\"line\": {\"color\": \"#E5ECF6\", \"width\": 0.5}}, \"type\": \"barpolar\"}], \"carpet\": [{\"aaxis\": {\"endlinecolor\": \"#2a3f5f\", \"gridcolor\": \"white\", \"linecolor\": \"white\", \"minorgridcolor\": \"white\", \"startlinecolor\": \"#2a3f5f\"}, \"baxis\": {\"endlinecolor\": \"#2a3f5f\", \"gridcolor\": \"white\", \"linecolor\": \"white\", \"minorgridcolor\": \"white\", \"startlinecolor\": \"#2a3f5f\"}, \"type\": \"carpet\"}], \"choropleth\": [{\"colorbar\": {\"outlinewidth\": 0, \"ticks\": \"\"}, \"type\": \"choropleth\"}], \"contour\": [{\"colorbar\": {\"outlinewidth\": 0, \"ticks\": \"\"}, \"colorscale\": [[0.0, \"#0d0887\"], [0.1111111111111111, \"#46039f\"], [0.2222222222222222, \"#7201a8\"], [0.3333333333333333, \"#9c179e\"], [0.4444444444444444, \"#bd3786\"], [0.5555555555555556, \"#d8576b\"], [0.6666666666666666, \"#ed7953\"], [0.7777777777777778, \"#fb9f3a\"], [0.8888888888888888, \"#fdca26\"], [1.0, \"#f0f921\"]], \"type\": \"contour\"}], \"contourcarpet\": [{\"colorbar\": {\"outlinewidth\": 0, \"ticks\": \"\"}, \"type\": \"contourcarpet\"}], \"heatmap\": [{\"colorbar\": {\"outlinewidth\": 0, \"ticks\": \"\"}, \"colorscale\": [[0.0, \"#0d0887\"], [0.1111111111111111, \"#46039f\"], [0.2222222222222222, \"#7201a8\"], [0.3333333333333333, \"#9c179e\"], [0.4444444444444444, \"#bd3786\"], [0.5555555555555556, \"#d8576b\"], [0.6666666666666666, \"#ed7953\"], [0.7777777777777778, \"#fb9f3a\"], [0.8888888888888888, \"#fdca26\"], [1.0, \"#f0f921\"]], \"type\": \"heatmap\"}], \"heatmapgl\": [{\"colorbar\": {\"outlinewidth\": 0, \"ticks\": \"\"}, \"colorscale\": [[0.0, \"#0d0887\"], [0.1111111111111111, \"#46039f\"], [0.2222222222222222, \"#7201a8\"], [0.3333333333333333, \"#9c179e\"], [0.4444444444444444, \"#bd3786\"], [0.5555555555555556, \"#d8576b\"], [0.6666666666666666, \"#ed7953\"], [0.7777777777777778, \"#fb9f3a\"], [0.8888888888888888, \"#fdca26\"], [1.0, \"#f0f921\"]], \"type\": \"heatmapgl\"}], \"histogram\": [{\"marker\": {\"colorbar\": {\"outlinewidth\": 0, \"ticks\": \"\"}}, \"type\": \"histogram\"}], \"histogram2d\": [{\"colorbar\": {\"outlinewidth\": 0, \"ticks\": \"\"}, \"colorscale\": [[0.0, \"#0d0887\"], [0.1111111111111111, \"#46039f\"], [0.2222222222222222, \"#7201a8\"], [0.3333333333333333, \"#9c179e\"], [0.4444444444444444, \"#bd3786\"], [0.5555555555555556, \"#d8576b\"], [0.6666666666666666, \"#ed7953\"], [0.7777777777777778, \"#fb9f3a\"], [0.8888888888888888, \"#fdca26\"], [1.0, \"#f0f921\"]], \"type\": \"histogram2d\"}], \"histogram2dcontour\": [{\"colorbar\": {\"outlinewidth\": 0, \"ticks\": \"\"}, \"colorscale\": [[0.0, \"#0d0887\"], [0.1111111111111111, \"#46039f\"], [0.2222222222222222, \"#7201a8\"], [0.3333333333333333, \"#9c179e\"], [0.4444444444444444, \"#bd3786\"], [0.5555555555555556, \"#d8576b\"], [0.6666666666666666, \"#ed7953\"], [0.7777777777777778, \"#fb9f3a\"], [0.8888888888888888, \"#fdca26\"], [1.0, \"#f0f921\"]], \"type\": \"histogram2dcontour\"}], \"mesh3d\": [{\"colorbar\": {\"outlinewidth\": 0, \"ticks\": \"\"}, \"type\": \"mesh3d\"}], \"parcoords\": [{\"line\": {\"colorbar\": {\"outlinewidth\": 0, \"ticks\": \"\"}}, \"type\": \"parcoords\"}], \"pie\": [{\"automargin\": true, \"type\": \"pie\"}], \"scatter\": [{\"marker\": {\"colorbar\": {\"outlinewidth\": 0, \"ticks\": \"\"}}, \"type\": \"scatter\"}], \"scatter3d\": [{\"line\": {\"colorbar\": {\"outlinewidth\": 0, \"ticks\": \"\"}}, \"marker\": {\"colorbar\": {\"outlinewidth\": 0, \"ticks\": \"\"}}, \"type\": \"scatter3d\"}], \"scattercarpet\": [{\"marker\": {\"colorbar\": {\"outlinewidth\": 0, \"ticks\": \"\"}}, \"type\": \"scattercarpet\"}], \"scattergeo\": [{\"marker\": {\"colorbar\": {\"outlinewidth\": 0, \"ticks\": \"\"}}, \"type\": \"scattergeo\"}], \"scattergl\": [{\"marker\": {\"colorbar\": {\"outlinewidth\": 0, \"ticks\": \"\"}}, \"type\": \"scattergl\"}], \"scattermapbox\": [{\"marker\": {\"colorbar\": {\"outlinewidth\": 0, \"ticks\": \"\"}}, \"type\": \"scattermapbox\"}], \"scatterpolar\": [{\"marker\": {\"colorbar\": {\"outlinewidth\": 0, \"ticks\": \"\"}}, \"type\": \"scatterpolar\"}], \"scatterpolargl\": [{\"marker\": {\"colorbar\": {\"outlinewidth\": 0, \"ticks\": \"\"}}, \"type\": \"scatterpolargl\"}], \"scatterternary\": [{\"marker\": {\"colorbar\": {\"outlinewidth\": 0, \"ticks\": \"\"}}, \"type\": \"scatterternary\"}], \"surface\": [{\"colorbar\": {\"outlinewidth\": 0, \"ticks\": \"\"}, \"colorscale\": [[0.0, \"#0d0887\"], [0.1111111111111111, \"#46039f\"], [0.2222222222222222, \"#7201a8\"], [0.3333333333333333, \"#9c179e\"], [0.4444444444444444, \"#bd3786\"], [0.5555555555555556, \"#d8576b\"], [0.6666666666666666, \"#ed7953\"], [0.7777777777777778, \"#fb9f3a\"], [0.8888888888888888, \"#fdca26\"], [1.0, \"#f0f921\"]], \"type\": \"surface\"}], \"table\": [{\"cells\": {\"fill\": {\"color\": \"#EBF0F8\"}, \"line\": {\"color\": \"white\"}}, \"header\": {\"fill\": {\"color\": \"#C8D4E3\"}, \"line\": {\"color\": \"white\"}}, \"type\": \"table\"}]}, \"layout\": {\"annotationdefaults\": {\"arrowcolor\": \"#2a3f5f\", \"arrowhead\": 0, \"arrowwidth\": 1}, \"coloraxis\": {\"colorbar\": {\"outlinewidth\": 0, \"ticks\": \"\"}}, \"colorscale\": {\"diverging\": [[0, \"#8e0152\"], [0.1, \"#c51b7d\"], [0.2, \"#de77ae\"], [0.3, \"#f1b6da\"], [0.4, \"#fde0ef\"], [0.5, \"#f7f7f7\"], [0.6, \"#e6f5d0\"], [0.7, \"#b8e186\"], [0.8, \"#7fbc41\"], [0.9, \"#4d9221\"], [1, \"#276419\"]], \"sequential\": [[0.0, \"#0d0887\"], [0.1111111111111111, \"#46039f\"], [0.2222222222222222, \"#7201a8\"], [0.3333333333333333, \"#9c179e\"], [0.4444444444444444, \"#bd3786\"], [0.5555555555555556, \"#d8576b\"], [0.6666666666666666, \"#ed7953\"], [0.7777777777777778, \"#fb9f3a\"], [0.8888888888888888, \"#fdca26\"], [1.0, \"#f0f921\"]], \"sequentialminus\": [[0.0, \"#0d0887\"], [0.1111111111111111, \"#46039f\"], [0.2222222222222222, \"#7201a8\"], [0.3333333333333333, \"#9c179e\"], [0.4444444444444444, \"#bd3786\"], [0.5555555555555556, \"#d8576b\"], [0.6666666666666666, \"#ed7953\"], [0.7777777777777778, \"#fb9f3a\"], [0.8888888888888888, \"#fdca26\"], [1.0, \"#f0f921\"]]}, \"colorway\": [\"#636efa\", \"#EF553B\", \"#00cc96\", \"#ab63fa\", \"#FFA15A\", \"#19d3f3\", \"#FF6692\", \"#B6E880\", \"#FF97FF\", \"#FECB52\"], \"font\": {\"color\": \"#2a3f5f\"}, \"geo\": {\"bgcolor\": \"white\", \"lakecolor\": \"white\", \"landcolor\": \"#E5ECF6\", \"showlakes\": true, \"showland\": true, \"subunitcolor\": \"white\"}, \"hoverlabel\": {\"align\": \"left\"}, \"hovermode\": \"closest\", \"mapbox\": {\"style\": \"light\"}, \"paper_bgcolor\": \"white\", \"plot_bgcolor\": \"#E5ECF6\", \"polar\": {\"angularaxis\": {\"gridcolor\": \"white\", \"linecolor\": \"white\", \"ticks\": \"\"}, \"bgcolor\": \"#E5ECF6\", \"radialaxis\": {\"gridcolor\": \"white\", \"linecolor\": \"white\", \"ticks\": \"\"}}, \"scene\": {\"xaxis\": {\"backgroundcolor\": \"#E5ECF6\", \"gridcolor\": \"white\", \"gridwidth\": 2, \"linecolor\": \"white\", \"showbackground\": true, \"ticks\": \"\", \"zerolinecolor\": \"white\"}, \"yaxis\": {\"backgroundcolor\": \"#E5ECF6\", \"gridcolor\": \"white\", \"gridwidth\": 2, \"linecolor\": \"white\", \"showbackground\": true, \"ticks\": \"\", \"zerolinecolor\": \"white\"}, \"zaxis\": {\"backgroundcolor\": \"#E5ECF6\", \"gridcolor\": \"white\", \"gridwidth\": 2, \"linecolor\": \"white\", \"showbackground\": true, \"ticks\": \"\", \"zerolinecolor\": \"white\"}}, \"shapedefaults\": {\"line\": {\"color\": \"#2a3f5f\"}}, \"ternary\": {\"aaxis\": {\"gridcolor\": \"white\", \"linecolor\": \"white\", \"ticks\": \"\"}, \"baxis\": {\"gridcolor\": \"white\", \"linecolor\": \"white\", \"ticks\": \"\"}, \"bgcolor\": \"#E5ECF6\", \"caxis\": {\"gridcolor\": \"white\", \"linecolor\": \"white\", \"ticks\": \"\"}}, \"title\": {\"x\": 0.05}, \"xaxis\": {\"automargin\": true, \"gridcolor\": \"white\", \"linecolor\": \"white\", \"ticks\": \"\", \"title\": {\"standoff\": 15}, \"zerolinecolor\": \"white\", \"zerolinewidth\": 2}, \"yaxis\": {\"automargin\": true, \"gridcolor\": \"white\", \"linecolor\": \"white\", \"ticks\": \"\", \"title\": {\"standoff\": 15}, \"zerolinecolor\": \"white\", \"zerolinewidth\": 2}}}, \"title\": {\"font\": {\"color\": \"#D9D9D9\"}, \"text\": \"No. of travlers visited each hotel\"}, \"xaxis\": {\"gridcolor\": \"#434343\", \"linecolor\": \"black\", \"showgrid\": true, \"tickfont\": {\"color\": \"#C2C2C2\"}, \"title\": {\"font\": {\"color\": \"#D9D9D9\"}, \"text\": \"\"}, \"zerolinecolor\": \"#666570\"}, \"yaxis\": {\"gridcolor\": \"#434343\", \"linecolor\": \"black\", \"showgrid\": true, \"tickfont\": {\"color\": \"#C2C2C2\"}, \"title\": {\"font\": {\"color\": \"#D9D9D9\"}, \"text\": \"Count\"}, \"zerolinecolor\": \"#666570\"}},\n",
       "                        {\"showLink\": true, \"linkText\": \"Export to plot.ly\", \"plotlyServerURL\": \"https://plot.ly\", \"responsive\": true}\n",
       "                    ).then(function(){\n",
       "                            \n",
       "var gd = document.getElementById('a8136d59-f247-4d71-a83f-e5aed2d18269');\n",
       "var x = new MutationObserver(function (mutations, observer) {{\n",
       "        var display = window.getComputedStyle(gd).display;\n",
       "        if (!display || display === 'none') {{\n",
       "            console.log([gd, 'removed!']);\n",
       "            Plotly.purge(gd);\n",
       "            observer.disconnect();\n",
       "        }}\n",
       "}});\n",
       "\n",
       "// Listen for the removal of the full notebook cells\n",
       "var notebookContainer = gd.closest('#notebook-container');\n",
       "if (notebookContainer) {{\n",
       "    x.observe(notebookContainer, {childList: true});\n",
       "}}\n",
       "\n",
       "// Listen for the clearing of the current output cell\n",
       "var outputEl = gd.closest('.output');\n",
       "if (outputEl) {{\n",
       "    x.observe(outputEl, {childList: true});\n",
       "}}\n",
       "\n",
       "                        })\n",
       "                };\n",
       "                });\n",
       "            </script>\n",
       "        </div>"
      ]
     },
     "metadata": {},
     "output_type": "display_data"
    }
   ],
   "source": [
    "goa['property_type'].value_counts().iplot(kind='barh', yTitle='Count', linecolor='black', title='No. of travlers visited each hotel')"
   ]
  },
  {
   "cell_type": "code",
   "execution_count": 235,
   "metadata": {},
   "outputs": [
    {
     "data": {
      "text/html": [
       "<div>\n",
       "<style scoped>\n",
       "    .dataframe tbody tr th:only-of-type {\n",
       "        vertical-align: middle;\n",
       "    }\n",
       "\n",
       "    .dataframe tbody tr th {\n",
       "        vertical-align: top;\n",
       "    }\n",
       "\n",
       "    .dataframe thead th {\n",
       "        text-align: right;\n",
       "    }\n",
       "</style>\n",
       "<table border=\"1\" class=\"dataframe\">\n",
       "  <thead>\n",
       "    <tr style=\"text-align: right;\">\n",
       "      <th></th>\n",
       "      <th>property_type</th>\n",
       "      <th>room_types</th>\n",
       "    </tr>\n",
       "  </thead>\n",
       "  <tbody>\n",
       "    <tr>\n",
       "      <th>0</th>\n",
       "      <td>Hotel</td>\n",
       "      <td>Standard Ac</td>\n",
       "    </tr>\n",
       "    <tr>\n",
       "      <th>1</th>\n",
       "      <td>Hotel</td>\n",
       "      <td>Luxury Flat 1 Bhk</td>\n",
       "    </tr>\n",
       "    <tr>\n",
       "      <th>2</th>\n",
       "      <td>Hotel</td>\n",
       "      <td>4 Bedroom Pool Villa</td>\n",
       "    </tr>\n",
       "    <tr>\n",
       "      <th>3</th>\n",
       "      <td>Apartment</td>\n",
       "      <td>2 Bhk Apartment</td>\n",
       "    </tr>\n",
       "    <tr>\n",
       "      <th>4</th>\n",
       "      <td>Hotel</td>\n",
       "      <td>`standard Room</td>\n",
       "    </tr>\n",
       "  </tbody>\n",
       "</table>\n",
       "</div>"
      ],
      "text/plain": [
       "  property_type            room_types\n",
       "0         Hotel           Standard Ac\n",
       "1         Hotel     Luxury Flat 1 Bhk\n",
       "2         Hotel  4 Bedroom Pool Villa\n",
       "3     Apartment       2 Bhk Apartment\n",
       "4         Hotel        `standard Room"
      ]
     },
     "execution_count": 235,
     "metadata": {},
     "output_type": "execute_result"
    }
   ],
   "source": [
    "goa[['property_type','room_types']].head()"
   ]
  },
  {
   "cell_type": "code",
   "execution_count": 236,
   "metadata": {},
   "outputs": [
    {
     "name": "stdout",
     "output_type": "stream",
     "text": [
      "<class 'pandas.core.frame.DataFrame'>\n",
      "RangeIndex: 1122 entries, 0 to 1121\n",
      "Data columns (total 33 columns):\n",
      " #   Column                           Non-Null Count  Dtype  \n",
      "---  ------                           --------------  -----  \n",
      " 0   area                             931 non-null    object \n",
      " 1   city                             1122 non-null   object \n",
      " 2   country                          1117 non-null   object \n",
      " 3   crawl_date                       662 non-null    object \n",
      " 4   highlight_value                  965 non-null    object \n",
      " 5   hotel_overview                   1006 non-null   object \n",
      " 6   hotel_star_rating                1121 non-null   float64\n",
      " 7   image_urls                       472 non-null    object \n",
      " 8   in_your_room                     897 non-null    object \n",
      " 9   is_value_plus                    1122 non-null   object \n",
      " 10  latitude                         1121 non-null   float64\n",
      " 11  longitude                        1121 non-null   float64\n",
      " 12  mmt_holidayiq_review_count       497 non-null    float64\n",
      " 13  mmt_location_rating              658 non-null    object \n",
      " 14  mmt_review_count                 399 non-null    float64\n",
      " 15  mmt_review_rating                658 non-null    object \n",
      " 16  mmt_review_score                 519 non-null    float64\n",
      " 17  mmt_traveller_type_review_count  994 non-null    object \n",
      " 18  mmt_tripadvisor_count            571 non-null    float64\n",
      " 19  pageurl                          1122 non-null   object \n",
      " 20  property_address                 1122 non-null   object \n",
      " 21  property_id                      1122 non-null   object \n",
      " 22  property_name                    1122 non-null   object \n",
      " 23  property_type                    1122 non-null   object \n",
      " 24  qts                              229 non-null    object \n",
      " 25  query_time_stamp                 1122 non-null   object \n",
      " 26  room_types                       742 non-null    object \n",
      " 27  site_review_count                81 non-null     object \n",
      " 28  site_review_rating               39 non-null     float64\n",
      " 29  sitename                         1122 non-null   object \n",
      " 30  state                            211 non-null    object \n",
      " 31  traveller_rating                 289 non-null    object \n",
      " 32  uniq_id                          1122 non-null   object \n",
      "dtypes: float64(8), object(25)\n",
      "memory usage: 289.4+ KB\n"
     ]
    }
   ],
   "source": [
    "goa.info()"
   ]
  },
  {
   "cell_type": "code",
   "execution_count": 238,
   "metadata": {},
   "outputs": [
    {
     "data": {
      "text/html": [
       "<div>\n",
       "<style scoped>\n",
       "    .dataframe tbody tr th:only-of-type {\n",
       "        vertical-align: middle;\n",
       "    }\n",
       "\n",
       "    .dataframe tbody tr th {\n",
       "        vertical-align: top;\n",
       "    }\n",
       "\n",
       "    .dataframe thead th {\n",
       "        text-align: right;\n",
       "    }\n",
       "</style>\n",
       "<table border=\"1\" class=\"dataframe\">\n",
       "  <thead>\n",
       "    <tr style=\"text-align: right;\">\n",
       "      <th></th>\n",
       "      <th>area</th>\n",
       "      <th>city</th>\n",
       "      <th>country</th>\n",
       "      <th>crawl_date</th>\n",
       "      <th>highlight_value</th>\n",
       "      <th>hotel_overview</th>\n",
       "      <th>hotel_star_rating</th>\n",
       "      <th>image_urls</th>\n",
       "      <th>in_your_room</th>\n",
       "      <th>is_value_plus</th>\n",
       "      <th>...</th>\n",
       "      <th>property_type</th>\n",
       "      <th>qts</th>\n",
       "      <th>query_time_stamp</th>\n",
       "      <th>room_types</th>\n",
       "      <th>site_review_count</th>\n",
       "      <th>site_review_rating</th>\n",
       "      <th>sitename</th>\n",
       "      <th>state</th>\n",
       "      <th>traveller_rating</th>\n",
       "      <th>uniq_id</th>\n",
       "    </tr>\n",
       "  </thead>\n",
       "  <tbody>\n",
       "    <tr>\n",
       "      <th>187</th>\n",
       "      <td>Anjuna Bardez</td>\n",
       "      <td>Goa</td>\n",
       "      <td>India</td>\n",
       "      <td>2016-09-04</td>\n",
       "      <td>Airport Transfer|Doctor on Call|Fitness Centre|Laundry Service|Outdoor Activities|Parking Facility|Railway Station Transfer|Restaurant|Room Service|Sun Beds (pool)|Swimming Pool|Taxi Services|WiFi at a charge</td>\n",
       "      <td>Whispering Woods, Goa, ensures that its guests enjoy their stay to the fullest. The hotel is designed to render a relaxing refuge to the guests. It offers uncompromising comfort and convenience with necessary amenities and neatly arranged cosy rooms. Guests can visit places like Nyex Beach Club(3 km), Anjuna Beach(3 km), Baga Beach(5 km), Calangute Beach(6 km), St Alex Church(6 km) and many more.ÃƒÆ’Ã¢â‚¬Å¡Ãƒâ€šÃ‚Â  ÃƒÆ’Ã¢â‚¬Å¡Ãƒâ€šÃ‚Â  The rooms are designed to offer the perfect blend of solace and convenience. Elegantly appointed and equipped with carefully selected amenities, the rooms are perfect haven to retire to after a long day. They give the most relaxed feeling and comfort of home to the patrons. The hotel is located at a distance of 19 km from Thivim Railway Station and 43 km from Goa International Airport.ÃƒÆ’Ã¢â‚¬Å¡Ãƒâ€šÃ‚Â  ÃƒÆ’Ã¢â‚¬Å¡Ãƒâ€šÃ‚Â  Have a great stay at Whispering Woods, Goa!</td>\n",
       "      <td>2.0</td>\n",
       "      <td>NaN</td>\n",
       "      <td>Room Service|Hot &amp; Cold Running Water|Air conditioning|Refrigerator|TV|Attached Bathroom</td>\n",
       "      <td>no</td>\n",
       "      <td>...</td>\n",
       "      <td>xyz</td>\n",
       "      <td>2016-09-04 10:11:02 +0000</td>\n",
       "      <td>2016-09-04 10:11:02 +0000</td>\n",
       "      <td>Standard Ac Room</td>\n",
       "      <td>NaN</td>\n",
       "      <td>NaN</td>\n",
       "      <td>makemytrip</td>\n",
       "      <td>Goa</td>\n",
       "      <td>Location:3.5/5 | Hospitality:3.5/5 | Facilities:3.7/5 | Cleanliness:3.2/5 | Value for Money:3.5/5 | Food:1.3/5</td>\n",
       "      <td>4f461bf1efc74dfca6e62fb81c477aac</td>\n",
       "    </tr>\n",
       "  </tbody>\n",
       "</table>\n",
       "<p>1 rows × 33 columns</p>\n",
       "</div>"
      ],
      "text/plain": [
       "              area city country  crawl_date  \\\n",
       "187  Anjuna Bardez  Goa   India  2016-09-04   \n",
       "\n",
       "                                                                                                                                                                                                      highlight_value  \\\n",
       "187  Airport Transfer|Doctor on Call|Fitness Centre|Laundry Service|Outdoor Activities|Parking Facility|Railway Station Transfer|Restaurant|Room Service|Sun Beds (pool)|Swimming Pool|Taxi Services|WiFi at a charge   \n",
       "\n",
       "                                                                                                                                                                                                                                                                                                                                                                                                                                                                                                                                                                                                                                                                                                                                                                                                                                                                                                                                         hotel_overview  \\\n",
       "187  Whispering Woods, Goa, ensures that its guests enjoy their stay to the fullest. The hotel is designed to render a relaxing refuge to the guests. It offers uncompromising comfort and convenience with necessary amenities and neatly arranged cosy rooms. Guests can visit places like Nyex Beach Club(3 km), Anjuna Beach(3 km), Baga Beach(5 km), Calangute Beach(6 km), St Alex Church(6 km) and many more.ÃƒÆ’Ã¢â‚¬Å¡Ãƒâ€šÃ‚Â  ÃƒÆ’Ã¢â‚¬Å¡Ãƒâ€šÃ‚Â  The rooms are designed to offer the perfect blend of solace and convenience. Elegantly appointed and equipped with carefully selected amenities, the rooms are perfect haven to retire to after a long day. They give the most relaxed feeling and comfort of home to the patrons. The hotel is located at a distance of 19 km from Thivim Railway Station and 43 km from Goa International Airport.ÃƒÆ’Ã¢â‚¬Å¡Ãƒâ€šÃ‚Â  ÃƒÆ’Ã¢â‚¬Å¡Ãƒâ€šÃ‚Â  Have a great stay at Whispering Woods, Goa!   \n",
       "\n",
       "     hotel_star_rating image_urls  \\\n",
       "187                2.0        NaN   \n",
       "\n",
       "                                                                                 in_your_room  \\\n",
       "187  Room Service|Hot & Cold Running Water|Air conditioning|Refrigerator|TV|Attached Bathroom   \n",
       "\n",
       "    is_value_plus  ...  property_type                        qts  \\\n",
       "187            no  ...            xyz  2016-09-04 10:11:02 +0000   \n",
       "\n",
       "              query_time_stamp        room_types  site_review_count  \\\n",
       "187  2016-09-04 10:11:02 +0000  Standard Ac Room                NaN   \n",
       "\n",
       "    site_review_rating    sitename state  \\\n",
       "187                NaN  makemytrip   Goa   \n",
       "\n",
       "                                                                                                   traveller_rating  \\\n",
       "187  Location:3.5/5 | Hospitality:3.5/5 | Facilities:3.7/5 | Cleanliness:3.2/5 | Value for Money:3.5/5 | Food:1.3/5   \n",
       "\n",
       "                              uniq_id  \n",
       "187  4f461bf1efc74dfca6e62fb81c477aac  \n",
       "\n",
       "[1 rows x 33 columns]"
      ]
     },
     "execution_count": 238,
     "metadata": {},
     "output_type": "execute_result"
    }
   ],
   "source": [
    "goa.loc[goa['property_type'] == 'xyz']"
   ]
  },
  {
   "cell_type": "markdown",
   "metadata": {},
   "source": [
    "#### Let's understand the distribution of star ratings by each type of accomodations. Quite obviously, hotels which we know see most of the bookings have all sorts if star ratings with highest numbers of 5 and 3 stars. We can ignore xyz category as we had treated all the null types to be xyz in our preceeding steps and that's just one record. Interestingly, there's one 5 star villa and one 3 star villa, while there's one cottage with a 3 star rating as well."
   ]
  },
  {
   "cell_type": "code",
   "execution_count": 239,
   "metadata": {},
   "outputs": [
    {
     "data": {
      "application/vnd.plotly.v1+json": {
       "config": {
        "linkText": "Export to plot.ly",
        "plotlyServerURL": "https://plot.ly",
        "showLink": true
       },
       "data": [
        {
         "marker": {
          "color": "rgba(255, 153, 51, 0.6)",
          "line": {
           "color": "rgba(255, 153, 51, 1.0)",
           "width": 1
          }
         },
         "name": "hotel_star_rating",
         "orientation": "h",
         "text": "",
         "type": "bar",
         "x": [
          16,
          2,
          1,
          1,
          1,
          10,
          1,
          4,
          2,
          2,
          607,
          241,
          140,
          63,
          24,
          1,
          2,
          1,
          1,
          1
         ],
         "y": [
          "(Apartment,1.0)",
          "(Beach Hut,2.0)",
          "(Beach Hut,1.0)",
          "(Cottage,1.0)",
          "(Cottage,3.0)",
          "(Guest House,1.0)",
          "(Guest House,2.0)",
          "(Homestay,1.0)",
          "(Homestay,2.0)",
          "(Hostel,1.0)",
          "(Hotel,1.0)",
          "(Hotel,3.0)",
          "(Hotel,2.0)",
          "(Hotel,4.0)",
          "(Hotel,5.0)",
          "(Resort,2.0)",
          "(Villa,1.0)",
          "(Villa,3.0)",
          "(Villa,5.0)",
          "(xyz,2.0)"
         ]
        }
       ],
       "layout": {
        "legend": {
         "bgcolor": "#1A1A1C",
         "font": {
          "color": "#D9D9D9"
         }
        },
        "paper_bgcolor": "#1A1A1C",
        "plot_bgcolor": "#1A1A1C",
        "template": {
         "data": {
          "bar": [
           {
            "error_x": {
             "color": "#2a3f5f"
            },
            "error_y": {
             "color": "#2a3f5f"
            },
            "marker": {
             "line": {
              "color": "#E5ECF6",
              "width": 0.5
             }
            },
            "type": "bar"
           }
          ],
          "barpolar": [
           {
            "marker": {
             "line": {
              "color": "#E5ECF6",
              "width": 0.5
             }
            },
            "type": "barpolar"
           }
          ],
          "carpet": [
           {
            "aaxis": {
             "endlinecolor": "#2a3f5f",
             "gridcolor": "white",
             "linecolor": "white",
             "minorgridcolor": "white",
             "startlinecolor": "#2a3f5f"
            },
            "baxis": {
             "endlinecolor": "#2a3f5f",
             "gridcolor": "white",
             "linecolor": "white",
             "minorgridcolor": "white",
             "startlinecolor": "#2a3f5f"
            },
            "type": "carpet"
           }
          ],
          "choropleth": [
           {
            "colorbar": {
             "outlinewidth": 0,
             "ticks": ""
            },
            "type": "choropleth"
           }
          ],
          "contour": [
           {
            "colorbar": {
             "outlinewidth": 0,
             "ticks": ""
            },
            "colorscale": [
             [
              0,
              "#0d0887"
             ],
             [
              0.1111111111111111,
              "#46039f"
             ],
             [
              0.2222222222222222,
              "#7201a8"
             ],
             [
              0.3333333333333333,
              "#9c179e"
             ],
             [
              0.4444444444444444,
              "#bd3786"
             ],
             [
              0.5555555555555556,
              "#d8576b"
             ],
             [
              0.6666666666666666,
              "#ed7953"
             ],
             [
              0.7777777777777778,
              "#fb9f3a"
             ],
             [
              0.8888888888888888,
              "#fdca26"
             ],
             [
              1,
              "#f0f921"
             ]
            ],
            "type": "contour"
           }
          ],
          "contourcarpet": [
           {
            "colorbar": {
             "outlinewidth": 0,
             "ticks": ""
            },
            "type": "contourcarpet"
           }
          ],
          "heatmap": [
           {
            "colorbar": {
             "outlinewidth": 0,
             "ticks": ""
            },
            "colorscale": [
             [
              0,
              "#0d0887"
             ],
             [
              0.1111111111111111,
              "#46039f"
             ],
             [
              0.2222222222222222,
              "#7201a8"
             ],
             [
              0.3333333333333333,
              "#9c179e"
             ],
             [
              0.4444444444444444,
              "#bd3786"
             ],
             [
              0.5555555555555556,
              "#d8576b"
             ],
             [
              0.6666666666666666,
              "#ed7953"
             ],
             [
              0.7777777777777778,
              "#fb9f3a"
             ],
             [
              0.8888888888888888,
              "#fdca26"
             ],
             [
              1,
              "#f0f921"
             ]
            ],
            "type": "heatmap"
           }
          ],
          "heatmapgl": [
           {
            "colorbar": {
             "outlinewidth": 0,
             "ticks": ""
            },
            "colorscale": [
             [
              0,
              "#0d0887"
             ],
             [
              0.1111111111111111,
              "#46039f"
             ],
             [
              0.2222222222222222,
              "#7201a8"
             ],
             [
              0.3333333333333333,
              "#9c179e"
             ],
             [
              0.4444444444444444,
              "#bd3786"
             ],
             [
              0.5555555555555556,
              "#d8576b"
             ],
             [
              0.6666666666666666,
              "#ed7953"
             ],
             [
              0.7777777777777778,
              "#fb9f3a"
             ],
             [
              0.8888888888888888,
              "#fdca26"
             ],
             [
              1,
              "#f0f921"
             ]
            ],
            "type": "heatmapgl"
           }
          ],
          "histogram": [
           {
            "marker": {
             "colorbar": {
              "outlinewidth": 0,
              "ticks": ""
             }
            },
            "type": "histogram"
           }
          ],
          "histogram2d": [
           {
            "colorbar": {
             "outlinewidth": 0,
             "ticks": ""
            },
            "colorscale": [
             [
              0,
              "#0d0887"
             ],
             [
              0.1111111111111111,
              "#46039f"
             ],
             [
              0.2222222222222222,
              "#7201a8"
             ],
             [
              0.3333333333333333,
              "#9c179e"
             ],
             [
              0.4444444444444444,
              "#bd3786"
             ],
             [
              0.5555555555555556,
              "#d8576b"
             ],
             [
              0.6666666666666666,
              "#ed7953"
             ],
             [
              0.7777777777777778,
              "#fb9f3a"
             ],
             [
              0.8888888888888888,
              "#fdca26"
             ],
             [
              1,
              "#f0f921"
             ]
            ],
            "type": "histogram2d"
           }
          ],
          "histogram2dcontour": [
           {
            "colorbar": {
             "outlinewidth": 0,
             "ticks": ""
            },
            "colorscale": [
             [
              0,
              "#0d0887"
             ],
             [
              0.1111111111111111,
              "#46039f"
             ],
             [
              0.2222222222222222,
              "#7201a8"
             ],
             [
              0.3333333333333333,
              "#9c179e"
             ],
             [
              0.4444444444444444,
              "#bd3786"
             ],
             [
              0.5555555555555556,
              "#d8576b"
             ],
             [
              0.6666666666666666,
              "#ed7953"
             ],
             [
              0.7777777777777778,
              "#fb9f3a"
             ],
             [
              0.8888888888888888,
              "#fdca26"
             ],
             [
              1,
              "#f0f921"
             ]
            ],
            "type": "histogram2dcontour"
           }
          ],
          "mesh3d": [
           {
            "colorbar": {
             "outlinewidth": 0,
             "ticks": ""
            },
            "type": "mesh3d"
           }
          ],
          "parcoords": [
           {
            "line": {
             "colorbar": {
              "outlinewidth": 0,
              "ticks": ""
             }
            },
            "type": "parcoords"
           }
          ],
          "pie": [
           {
            "automargin": true,
            "type": "pie"
           }
          ],
          "scatter": [
           {
            "marker": {
             "colorbar": {
              "outlinewidth": 0,
              "ticks": ""
             }
            },
            "type": "scatter"
           }
          ],
          "scatter3d": [
           {
            "line": {
             "colorbar": {
              "outlinewidth": 0,
              "ticks": ""
             }
            },
            "marker": {
             "colorbar": {
              "outlinewidth": 0,
              "ticks": ""
             }
            },
            "type": "scatter3d"
           }
          ],
          "scattercarpet": [
           {
            "marker": {
             "colorbar": {
              "outlinewidth": 0,
              "ticks": ""
             }
            },
            "type": "scattercarpet"
           }
          ],
          "scattergeo": [
           {
            "marker": {
             "colorbar": {
              "outlinewidth": 0,
              "ticks": ""
             }
            },
            "type": "scattergeo"
           }
          ],
          "scattergl": [
           {
            "marker": {
             "colorbar": {
              "outlinewidth": 0,
              "ticks": ""
             }
            },
            "type": "scattergl"
           }
          ],
          "scattermapbox": [
           {
            "marker": {
             "colorbar": {
              "outlinewidth": 0,
              "ticks": ""
             }
            },
            "type": "scattermapbox"
           }
          ],
          "scatterpolar": [
           {
            "marker": {
             "colorbar": {
              "outlinewidth": 0,
              "ticks": ""
             }
            },
            "type": "scatterpolar"
           }
          ],
          "scatterpolargl": [
           {
            "marker": {
             "colorbar": {
              "outlinewidth": 0,
              "ticks": ""
             }
            },
            "type": "scatterpolargl"
           }
          ],
          "scatterternary": [
           {
            "marker": {
             "colorbar": {
              "outlinewidth": 0,
              "ticks": ""
             }
            },
            "type": "scatterternary"
           }
          ],
          "surface": [
           {
            "colorbar": {
             "outlinewidth": 0,
             "ticks": ""
            },
            "colorscale": [
             [
              0,
              "#0d0887"
             ],
             [
              0.1111111111111111,
              "#46039f"
             ],
             [
              0.2222222222222222,
              "#7201a8"
             ],
             [
              0.3333333333333333,
              "#9c179e"
             ],
             [
              0.4444444444444444,
              "#bd3786"
             ],
             [
              0.5555555555555556,
              "#d8576b"
             ],
             [
              0.6666666666666666,
              "#ed7953"
             ],
             [
              0.7777777777777778,
              "#fb9f3a"
             ],
             [
              0.8888888888888888,
              "#fdca26"
             ],
             [
              1,
              "#f0f921"
             ]
            ],
            "type": "surface"
           }
          ],
          "table": [
           {
            "cells": {
             "fill": {
              "color": "#EBF0F8"
             },
             "line": {
              "color": "white"
             }
            },
            "header": {
             "fill": {
              "color": "#C8D4E3"
             },
             "line": {
              "color": "white"
             }
            },
            "type": "table"
           }
          ]
         },
         "layout": {
          "annotationdefaults": {
           "arrowcolor": "#2a3f5f",
           "arrowhead": 0,
           "arrowwidth": 1
          },
          "coloraxis": {
           "colorbar": {
            "outlinewidth": 0,
            "ticks": ""
           }
          },
          "colorscale": {
           "diverging": [
            [
             0,
             "#8e0152"
            ],
            [
             0.1,
             "#c51b7d"
            ],
            [
             0.2,
             "#de77ae"
            ],
            [
             0.3,
             "#f1b6da"
            ],
            [
             0.4,
             "#fde0ef"
            ],
            [
             0.5,
             "#f7f7f7"
            ],
            [
             0.6,
             "#e6f5d0"
            ],
            [
             0.7,
             "#b8e186"
            ],
            [
             0.8,
             "#7fbc41"
            ],
            [
             0.9,
             "#4d9221"
            ],
            [
             1,
             "#276419"
            ]
           ],
           "sequential": [
            [
             0,
             "#0d0887"
            ],
            [
             0.1111111111111111,
             "#46039f"
            ],
            [
             0.2222222222222222,
             "#7201a8"
            ],
            [
             0.3333333333333333,
             "#9c179e"
            ],
            [
             0.4444444444444444,
             "#bd3786"
            ],
            [
             0.5555555555555556,
             "#d8576b"
            ],
            [
             0.6666666666666666,
             "#ed7953"
            ],
            [
             0.7777777777777778,
             "#fb9f3a"
            ],
            [
             0.8888888888888888,
             "#fdca26"
            ],
            [
             1,
             "#f0f921"
            ]
           ],
           "sequentialminus": [
            [
             0,
             "#0d0887"
            ],
            [
             0.1111111111111111,
             "#46039f"
            ],
            [
             0.2222222222222222,
             "#7201a8"
            ],
            [
             0.3333333333333333,
             "#9c179e"
            ],
            [
             0.4444444444444444,
             "#bd3786"
            ],
            [
             0.5555555555555556,
             "#d8576b"
            ],
            [
             0.6666666666666666,
             "#ed7953"
            ],
            [
             0.7777777777777778,
             "#fb9f3a"
            ],
            [
             0.8888888888888888,
             "#fdca26"
            ],
            [
             1,
             "#f0f921"
            ]
           ]
          },
          "colorway": [
           "#636efa",
           "#EF553B",
           "#00cc96",
           "#ab63fa",
           "#FFA15A",
           "#19d3f3",
           "#FF6692",
           "#B6E880",
           "#FF97FF",
           "#FECB52"
          ],
          "font": {
           "color": "#2a3f5f"
          },
          "geo": {
           "bgcolor": "white",
           "lakecolor": "white",
           "landcolor": "#E5ECF6",
           "showlakes": true,
           "showland": true,
           "subunitcolor": "white"
          },
          "hoverlabel": {
           "align": "left"
          },
          "hovermode": "closest",
          "mapbox": {
           "style": "light"
          },
          "paper_bgcolor": "white",
          "plot_bgcolor": "#E5ECF6",
          "polar": {
           "angularaxis": {
            "gridcolor": "white",
            "linecolor": "white",
            "ticks": ""
           },
           "bgcolor": "#E5ECF6",
           "radialaxis": {
            "gridcolor": "white",
            "linecolor": "white",
            "ticks": ""
           }
          },
          "scene": {
           "xaxis": {
            "backgroundcolor": "#E5ECF6",
            "gridcolor": "white",
            "gridwidth": 2,
            "linecolor": "white",
            "showbackground": true,
            "ticks": "",
            "zerolinecolor": "white"
           },
           "yaxis": {
            "backgroundcolor": "#E5ECF6",
            "gridcolor": "white",
            "gridwidth": 2,
            "linecolor": "white",
            "showbackground": true,
            "ticks": "",
            "zerolinecolor": "white"
           },
           "zaxis": {
            "backgroundcolor": "#E5ECF6",
            "gridcolor": "white",
            "gridwidth": 2,
            "linecolor": "white",
            "showbackground": true,
            "ticks": "",
            "zerolinecolor": "white"
           }
          },
          "shapedefaults": {
           "line": {
            "color": "#2a3f5f"
           }
          },
          "ternary": {
           "aaxis": {
            "gridcolor": "white",
            "linecolor": "white",
            "ticks": ""
           },
           "baxis": {
            "gridcolor": "white",
            "linecolor": "white",
            "ticks": ""
           },
           "bgcolor": "#E5ECF6",
           "caxis": {
            "gridcolor": "white",
            "linecolor": "white",
            "ticks": ""
           }
          },
          "title": {
           "x": 0.05
          },
          "xaxis": {
           "automargin": true,
           "gridcolor": "white",
           "linecolor": "white",
           "ticks": "",
           "title": {
            "standoff": 15
           },
           "zerolinecolor": "white",
           "zerolinewidth": 2
          },
          "yaxis": {
           "automargin": true,
           "gridcolor": "white",
           "linecolor": "white",
           "ticks": "",
           "title": {
            "standoff": 15
           },
           "zerolinecolor": "white",
           "zerolinewidth": 2
          }
         }
        },
        "title": {
         "font": {
          "color": "#D9D9D9"
         },
         "text": "Hotel star rating distribution for each type of property"
        },
        "xaxis": {
         "gridcolor": "#434343",
         "linecolor": "black",
         "showgrid": true,
         "tickfont": {
          "color": "#C2C2C2"
         },
         "title": {
          "font": {
           "color": "#D9D9D9"
          },
          "text": ""
         },
         "zerolinecolor": "#666570"
        },
        "yaxis": {
         "gridcolor": "#434343",
         "linecolor": "black",
         "showgrid": true,
         "tickfont": {
          "color": "#C2C2C2"
         },
         "title": {
          "font": {
           "color": "#D9D9D9"
          },
          "text": "star ratings"
         },
         "zerolinecolor": "#666570"
        }
       }
      },
      "text/html": [
       "<div>\n",
       "        \n",
       "        \n",
       "            <div id=\"110e4904-1725-432a-a96f-0fbfd0d56f25\" class=\"plotly-graph-div\" style=\"height:525px; width:100%;\"></div>\n",
       "            <script type=\"text/javascript\">\n",
       "                require([\"plotly\"], function(Plotly) {\n",
       "                    window.PLOTLYENV=window.PLOTLYENV || {};\n",
       "                    window.PLOTLYENV.BASE_URL='https://plot.ly';\n",
       "                    \n",
       "                if (document.getElementById(\"110e4904-1725-432a-a96f-0fbfd0d56f25\")) {\n",
       "                    Plotly.newPlot(\n",
       "                        '110e4904-1725-432a-a96f-0fbfd0d56f25',\n",
       "                        [{\"marker\": {\"color\": \"rgba(255, 153, 51, 0.6)\", \"line\": {\"color\": \"rgba(255, 153, 51, 1.0)\", \"width\": 1}}, \"name\": \"hotel_star_rating\", \"orientation\": \"h\", \"text\": \"\", \"type\": \"bar\", \"x\": [16, 2, 1, 1, 1, 10, 1, 4, 2, 2, 607, 241, 140, 63, 24, 1, 2, 1, 1, 1], \"y\": [\"(Apartment,1.0)\", \"(Beach Hut,2.0)\", \"(Beach Hut,1.0)\", \"(Cottage,1.0)\", \"(Cottage,3.0)\", \"(Guest House,1.0)\", \"(Guest House,2.0)\", \"(Homestay,1.0)\", \"(Homestay,2.0)\", \"(Hostel,1.0)\", \"(Hotel,1.0)\", \"(Hotel,3.0)\", \"(Hotel,2.0)\", \"(Hotel,4.0)\", \"(Hotel,5.0)\", \"(Resort,2.0)\", \"(Villa,1.0)\", \"(Villa,3.0)\", \"(Villa,5.0)\", \"(xyz,2.0)\"]}],\n",
       "                        {\"legend\": {\"bgcolor\": \"#1A1A1C\", \"font\": {\"color\": \"#D9D9D9\"}}, \"paper_bgcolor\": \"#1A1A1C\", \"plot_bgcolor\": \"#1A1A1C\", \"template\": {\"data\": {\"bar\": [{\"error_x\": {\"color\": \"#2a3f5f\"}, \"error_y\": {\"color\": \"#2a3f5f\"}, \"marker\": {\"line\": {\"color\": \"#E5ECF6\", \"width\": 0.5}}, \"type\": \"bar\"}], \"barpolar\": [{\"marker\": {\"line\": {\"color\": \"#E5ECF6\", \"width\": 0.5}}, \"type\": \"barpolar\"}], \"carpet\": [{\"aaxis\": {\"endlinecolor\": \"#2a3f5f\", \"gridcolor\": \"white\", \"linecolor\": \"white\", \"minorgridcolor\": \"white\", \"startlinecolor\": \"#2a3f5f\"}, \"baxis\": {\"endlinecolor\": \"#2a3f5f\", \"gridcolor\": \"white\", \"linecolor\": \"white\", \"minorgridcolor\": \"white\", \"startlinecolor\": \"#2a3f5f\"}, \"type\": \"carpet\"}], \"choropleth\": [{\"colorbar\": {\"outlinewidth\": 0, \"ticks\": \"\"}, \"type\": \"choropleth\"}], \"contour\": [{\"colorbar\": {\"outlinewidth\": 0, \"ticks\": \"\"}, \"colorscale\": [[0.0, \"#0d0887\"], [0.1111111111111111, \"#46039f\"], [0.2222222222222222, \"#7201a8\"], [0.3333333333333333, \"#9c179e\"], [0.4444444444444444, \"#bd3786\"], [0.5555555555555556, \"#d8576b\"], [0.6666666666666666, \"#ed7953\"], [0.7777777777777778, \"#fb9f3a\"], [0.8888888888888888, \"#fdca26\"], [1.0, \"#f0f921\"]], \"type\": \"contour\"}], \"contourcarpet\": [{\"colorbar\": {\"outlinewidth\": 0, \"ticks\": \"\"}, \"type\": \"contourcarpet\"}], \"heatmap\": [{\"colorbar\": {\"outlinewidth\": 0, \"ticks\": \"\"}, \"colorscale\": [[0.0, \"#0d0887\"], [0.1111111111111111, \"#46039f\"], [0.2222222222222222, \"#7201a8\"], [0.3333333333333333, \"#9c179e\"], [0.4444444444444444, \"#bd3786\"], [0.5555555555555556, \"#d8576b\"], [0.6666666666666666, \"#ed7953\"], [0.7777777777777778, \"#fb9f3a\"], [0.8888888888888888, \"#fdca26\"], [1.0, \"#f0f921\"]], \"type\": \"heatmap\"}], \"heatmapgl\": [{\"colorbar\": {\"outlinewidth\": 0, \"ticks\": \"\"}, \"colorscale\": [[0.0, \"#0d0887\"], [0.1111111111111111, \"#46039f\"], [0.2222222222222222, \"#7201a8\"], [0.3333333333333333, \"#9c179e\"], [0.4444444444444444, \"#bd3786\"], [0.5555555555555556, \"#d8576b\"], [0.6666666666666666, \"#ed7953\"], [0.7777777777777778, \"#fb9f3a\"], [0.8888888888888888, \"#fdca26\"], [1.0, \"#f0f921\"]], \"type\": \"heatmapgl\"}], \"histogram\": [{\"marker\": {\"colorbar\": {\"outlinewidth\": 0, \"ticks\": \"\"}}, \"type\": \"histogram\"}], \"histogram2d\": [{\"colorbar\": {\"outlinewidth\": 0, \"ticks\": \"\"}, \"colorscale\": [[0.0, \"#0d0887\"], [0.1111111111111111, \"#46039f\"], [0.2222222222222222, \"#7201a8\"], [0.3333333333333333, \"#9c179e\"], [0.4444444444444444, \"#bd3786\"], [0.5555555555555556, \"#d8576b\"], [0.6666666666666666, \"#ed7953\"], [0.7777777777777778, \"#fb9f3a\"], [0.8888888888888888, \"#fdca26\"], [1.0, \"#f0f921\"]], \"type\": \"histogram2d\"}], \"histogram2dcontour\": [{\"colorbar\": {\"outlinewidth\": 0, \"ticks\": \"\"}, \"colorscale\": [[0.0, \"#0d0887\"], [0.1111111111111111, \"#46039f\"], [0.2222222222222222, \"#7201a8\"], [0.3333333333333333, \"#9c179e\"], [0.4444444444444444, \"#bd3786\"], [0.5555555555555556, \"#d8576b\"], [0.6666666666666666, \"#ed7953\"], [0.7777777777777778, \"#fb9f3a\"], [0.8888888888888888, \"#fdca26\"], [1.0, \"#f0f921\"]], \"type\": \"histogram2dcontour\"}], \"mesh3d\": [{\"colorbar\": {\"outlinewidth\": 0, \"ticks\": \"\"}, \"type\": \"mesh3d\"}], \"parcoords\": [{\"line\": {\"colorbar\": {\"outlinewidth\": 0, \"ticks\": \"\"}}, \"type\": \"parcoords\"}], \"pie\": [{\"automargin\": true, \"type\": \"pie\"}], \"scatter\": [{\"marker\": {\"colorbar\": {\"outlinewidth\": 0, \"ticks\": \"\"}}, \"type\": \"scatter\"}], \"scatter3d\": [{\"line\": {\"colorbar\": {\"outlinewidth\": 0, \"ticks\": \"\"}}, \"marker\": {\"colorbar\": {\"outlinewidth\": 0, \"ticks\": \"\"}}, \"type\": \"scatter3d\"}], \"scattercarpet\": [{\"marker\": {\"colorbar\": {\"outlinewidth\": 0, \"ticks\": \"\"}}, \"type\": \"scattercarpet\"}], \"scattergeo\": [{\"marker\": {\"colorbar\": {\"outlinewidth\": 0, \"ticks\": \"\"}}, \"type\": \"scattergeo\"}], \"scattergl\": [{\"marker\": {\"colorbar\": {\"outlinewidth\": 0, \"ticks\": \"\"}}, \"type\": \"scattergl\"}], \"scattermapbox\": [{\"marker\": {\"colorbar\": {\"outlinewidth\": 0, \"ticks\": \"\"}}, \"type\": \"scattermapbox\"}], \"scatterpolar\": [{\"marker\": {\"colorbar\": {\"outlinewidth\": 0, \"ticks\": \"\"}}, \"type\": \"scatterpolar\"}], \"scatterpolargl\": [{\"marker\": {\"colorbar\": {\"outlinewidth\": 0, \"ticks\": \"\"}}, \"type\": \"scatterpolargl\"}], \"scatterternary\": [{\"marker\": {\"colorbar\": {\"outlinewidth\": 0, \"ticks\": \"\"}}, \"type\": \"scatterternary\"}], \"surface\": [{\"colorbar\": {\"outlinewidth\": 0, \"ticks\": \"\"}, \"colorscale\": [[0.0, \"#0d0887\"], [0.1111111111111111, \"#46039f\"], [0.2222222222222222, \"#7201a8\"], [0.3333333333333333, \"#9c179e\"], [0.4444444444444444, \"#bd3786\"], [0.5555555555555556, \"#d8576b\"], [0.6666666666666666, \"#ed7953\"], [0.7777777777777778, \"#fb9f3a\"], [0.8888888888888888, \"#fdca26\"], [1.0, \"#f0f921\"]], \"type\": \"surface\"}], \"table\": [{\"cells\": {\"fill\": {\"color\": \"#EBF0F8\"}, \"line\": {\"color\": \"white\"}}, \"header\": {\"fill\": {\"color\": \"#C8D4E3\"}, \"line\": {\"color\": \"white\"}}, \"type\": \"table\"}]}, \"layout\": {\"annotationdefaults\": {\"arrowcolor\": \"#2a3f5f\", \"arrowhead\": 0, \"arrowwidth\": 1}, \"coloraxis\": {\"colorbar\": {\"outlinewidth\": 0, \"ticks\": \"\"}}, \"colorscale\": {\"diverging\": [[0, \"#8e0152\"], [0.1, \"#c51b7d\"], [0.2, \"#de77ae\"], [0.3, \"#f1b6da\"], [0.4, \"#fde0ef\"], [0.5, \"#f7f7f7\"], [0.6, \"#e6f5d0\"], [0.7, \"#b8e186\"], [0.8, \"#7fbc41\"], [0.9, \"#4d9221\"], [1, \"#276419\"]], \"sequential\": [[0.0, \"#0d0887\"], [0.1111111111111111, \"#46039f\"], [0.2222222222222222, \"#7201a8\"], [0.3333333333333333, \"#9c179e\"], [0.4444444444444444, \"#bd3786\"], [0.5555555555555556, \"#d8576b\"], [0.6666666666666666, \"#ed7953\"], [0.7777777777777778, \"#fb9f3a\"], [0.8888888888888888, \"#fdca26\"], [1.0, \"#f0f921\"]], \"sequentialminus\": [[0.0, \"#0d0887\"], [0.1111111111111111, \"#46039f\"], [0.2222222222222222, \"#7201a8\"], [0.3333333333333333, \"#9c179e\"], [0.4444444444444444, \"#bd3786\"], [0.5555555555555556, \"#d8576b\"], [0.6666666666666666, \"#ed7953\"], [0.7777777777777778, \"#fb9f3a\"], [0.8888888888888888, \"#fdca26\"], [1.0, \"#f0f921\"]]}, \"colorway\": [\"#636efa\", \"#EF553B\", \"#00cc96\", \"#ab63fa\", \"#FFA15A\", \"#19d3f3\", \"#FF6692\", \"#B6E880\", \"#FF97FF\", \"#FECB52\"], \"font\": {\"color\": \"#2a3f5f\"}, \"geo\": {\"bgcolor\": \"white\", \"lakecolor\": \"white\", \"landcolor\": \"#E5ECF6\", \"showlakes\": true, \"showland\": true, \"subunitcolor\": \"white\"}, \"hoverlabel\": {\"align\": \"left\"}, \"hovermode\": \"closest\", \"mapbox\": {\"style\": \"light\"}, \"paper_bgcolor\": \"white\", \"plot_bgcolor\": \"#E5ECF6\", \"polar\": {\"angularaxis\": {\"gridcolor\": \"white\", \"linecolor\": \"white\", \"ticks\": \"\"}, \"bgcolor\": \"#E5ECF6\", \"radialaxis\": {\"gridcolor\": \"white\", \"linecolor\": \"white\", \"ticks\": \"\"}}, \"scene\": {\"xaxis\": {\"backgroundcolor\": \"#E5ECF6\", \"gridcolor\": \"white\", \"gridwidth\": 2, \"linecolor\": \"white\", \"showbackground\": true, \"ticks\": \"\", \"zerolinecolor\": \"white\"}, \"yaxis\": {\"backgroundcolor\": \"#E5ECF6\", \"gridcolor\": \"white\", \"gridwidth\": 2, \"linecolor\": \"white\", \"showbackground\": true, \"ticks\": \"\", \"zerolinecolor\": \"white\"}, \"zaxis\": {\"backgroundcolor\": \"#E5ECF6\", \"gridcolor\": \"white\", \"gridwidth\": 2, \"linecolor\": \"white\", \"showbackground\": true, \"ticks\": \"\", \"zerolinecolor\": \"white\"}}, \"shapedefaults\": {\"line\": {\"color\": \"#2a3f5f\"}}, \"ternary\": {\"aaxis\": {\"gridcolor\": \"white\", \"linecolor\": \"white\", \"ticks\": \"\"}, \"baxis\": {\"gridcolor\": \"white\", \"linecolor\": \"white\", \"ticks\": \"\"}, \"bgcolor\": \"#E5ECF6\", \"caxis\": {\"gridcolor\": \"white\", \"linecolor\": \"white\", \"ticks\": \"\"}}, \"title\": {\"x\": 0.05}, \"xaxis\": {\"automargin\": true, \"gridcolor\": \"white\", \"linecolor\": \"white\", \"ticks\": \"\", \"title\": {\"standoff\": 15}, \"zerolinecolor\": \"white\", \"zerolinewidth\": 2}, \"yaxis\": {\"automargin\": true, \"gridcolor\": \"white\", \"linecolor\": \"white\", \"ticks\": \"\", \"title\": {\"standoff\": 15}, \"zerolinecolor\": \"white\", \"zerolinewidth\": 2}}}, \"title\": {\"font\": {\"color\": \"#D9D9D9\"}, \"text\": \"Hotel star rating distribution for each type of property\"}, \"xaxis\": {\"gridcolor\": \"#434343\", \"linecolor\": \"black\", \"showgrid\": true, \"tickfont\": {\"color\": \"#C2C2C2\"}, \"title\": {\"font\": {\"color\": \"#D9D9D9\"}, \"text\": \"\"}, \"zerolinecolor\": \"#666570\"}, \"yaxis\": {\"gridcolor\": \"#434343\", \"linecolor\": \"black\", \"showgrid\": true, \"tickfont\": {\"color\": \"#C2C2C2\"}, \"title\": {\"font\": {\"color\": \"#D9D9D9\"}, \"text\": \"star ratings\"}, \"zerolinecolor\": \"#666570\"}},\n",
       "                        {\"showLink\": true, \"linkText\": \"Export to plot.ly\", \"plotlyServerURL\": \"https://plot.ly\", \"responsive\": true}\n",
       "                    ).then(function(){\n",
       "                            \n",
       "var gd = document.getElementById('110e4904-1725-432a-a96f-0fbfd0d56f25');\n",
       "var x = new MutationObserver(function (mutations, observer) {{\n",
       "        var display = window.getComputedStyle(gd).display;\n",
       "        if (!display || display === 'none') {{\n",
       "            console.log([gd, 'removed!']);\n",
       "            Plotly.purge(gd);\n",
       "            observer.disconnect();\n",
       "        }}\n",
       "}});\n",
       "\n",
       "// Listen for the removal of the full notebook cells\n",
       "var notebookContainer = gd.closest('#notebook-container');\n",
       "if (notebookContainer) {{\n",
       "    x.observe(notebookContainer, {childList: true});\n",
       "}}\n",
       "\n",
       "// Listen for the clearing of the current output cell\n",
       "var outputEl = gd.closest('.output');\n",
       "if (outputEl) {{\n",
       "    x.observe(outputEl, {childList: true});\n",
       "}}\n",
       "\n",
       "                        })\n",
       "                };\n",
       "                });\n",
       "            </script>\n",
       "        </div>"
      ]
     },
     "metadata": {},
     "output_type": "display_data"
    }
   ],
   "source": [
    "goa.groupby(['property_type'])['hotel_star_rating'].value_counts().iplot(kind='barh', yTitle='star ratings', linecolor='black', title='Hotel star rating distribution for each type of property')"
   ]
  },
  {
   "cell_type": "markdown",
   "metadata": {},
   "source": [
    "#### Let's understand if there is any relationship between hotel's star rating and mmt review score"
   ]
  },
  {
   "cell_type": "markdown",
   "metadata": {},
   "source": [
    "#### Although the data is highly imbalanced when it comes to different ratings but we can notice, higher rated hotels tend to have a higher mmt score too. The properties rated 4 and 5 have more records with higher mmt rating score, while the proerties rated 1, 2 and 3 have more or less equal number of high and low mmt rating scores."
   ]
  },
  {
   "cell_type": "code",
   "execution_count": 240,
   "metadata": {},
   "outputs": [
    {
     "data": {
      "application/vnd.plotly.v1+json": {
       "config": {
        "plotlyServerURL": "https://plot.ly"
       },
       "data": [
        {
         "marker": {
          "color": [
           4,
           -1,
           0,
           -1,
           -1,
           -1,
           -1,
           4,
           -1,
           -1,
           -1,
           -1,
           -1,
           -1,
           -1,
           -1,
           -1,
           4,
           -1,
           4,
           -1,
           4,
           4,
           -1,
           4,
           3,
           -1,
           2,
           3,
           3,
           -1,
           4,
           -1,
           -1,
           -1,
           4,
           3,
           -1,
           -1,
           3,
           -1,
           3,
           4,
           4,
           -1,
           3,
           4,
           3,
           -1,
           -1,
           -1,
           -1,
           -1,
           -1,
           -1,
           -1,
           3,
           -1,
           3,
           4,
           2,
           4,
           -1,
           -1,
           3,
           4,
           -1,
           -1,
           -1,
           -1,
           3,
           -1,
           3,
           -1,
           -1,
           -1,
           -1,
           -1,
           3,
           -1,
           -1,
           -1,
           -1,
           -1,
           -1,
           -1,
           3,
           -1,
           4,
           -1,
           -1,
           -1,
           -1,
           -1,
           3,
           -1,
           -1,
           4,
           -1,
           -1,
           -1,
           4,
           -1,
           -1,
           -1,
           -1,
           -1,
           -1,
           4,
           1,
           -1,
           3,
           -1,
           4,
           4,
           4,
           3,
           4,
           3,
           -1,
           -1,
           -1,
           -1,
           3,
           -1,
           -1,
           3,
           3,
           -1,
           4,
           -1,
           -1,
           -1,
           -1,
           4,
           -1,
           -1,
           -1,
           -1,
           -1,
           3,
           3,
           -1,
           4,
           4,
           -1,
           4,
           -1,
           -1,
           -1,
           -1,
           -1,
           -1,
           -1,
           4,
           4,
           0,
           -1,
           4,
           3,
           -1,
           0,
           3,
           3,
           4,
           3,
           -1,
           2,
           -1,
           3,
           -1,
           -1,
           3,
           -1,
           -1,
           4,
           4,
           3,
           -1,
           -1,
           4,
           4,
           0,
           3,
           -1,
           4,
           4,
           3,
           3,
           -1,
           4,
           -1,
           -1,
           4,
           4,
           -1,
           -1,
           4,
           4,
           -1,
           -1,
           -1,
           4,
           -1,
           -1,
           -1,
           -1,
           -1,
           4,
           3,
           -1,
           2,
           -1,
           4,
           3,
           -1,
           3,
           3,
           -1,
           -1,
           3,
           2,
           -1,
           -1,
           -1,
           -1,
           4,
           4,
           -1,
           -1,
           -1,
           -1,
           -1,
           2,
           4,
           4,
           -1,
           3,
           -1,
           -1,
           -1,
           -1,
           -1,
           -1,
           3,
           -1,
           4,
           -1,
           -1,
           -1,
           4,
           3,
           -1,
           -1,
           -1,
           -1,
           -1,
           3,
           3,
           4,
           4,
           4,
           4,
           -1,
           -1,
           -1,
           4,
           -1,
           -1,
           -1,
           -1,
           3,
           -1,
           -1,
           -1,
           2,
           -1,
           -1,
           -1,
           3,
           -1,
           -1,
           -1,
           4,
           4,
           -1,
           -1,
           3,
           4,
           4,
           -1,
           0,
           -1,
           4,
           -1,
           3,
           3,
           3,
           3,
           3,
           2,
           3,
           3,
           3,
           2,
           4,
           4,
           4,
           3,
           4,
           4,
           4,
           2,
           3,
           4,
           4,
           4,
           3,
           3,
           -1,
           3,
           3,
           3,
           4,
           2,
           3,
           3,
           3,
           4,
           4,
           -1,
           3,
           2,
           3,
           3,
           3,
           3,
           2,
           4,
           3,
           -1,
           4,
           3,
           2,
           4,
           3,
           -1,
           3,
           3,
           -1,
           4,
           -1,
           4,
           3,
           -1,
           4,
           4,
           4,
           3,
           2,
           3,
           3,
           3,
           3,
           -1,
           3,
           4,
           -1,
           -1,
           4,
           3,
           3,
           4,
           3,
           4,
           -1,
           3,
           3,
           -1,
           3,
           4,
           3,
           -1,
           -1,
           -1,
           4,
           2,
           -1,
           -1,
           -1,
           -1,
           -1,
           -1,
           -1,
           -1,
           3,
           3,
           -1,
           -1,
           -1,
           1,
           -1,
           -1,
           -1,
           -1,
           3,
           -1,
           -1,
           -1,
           -1,
           -1,
           -1,
           -1,
           -1,
           -1,
           4,
           -1,
           -1,
           -1,
           -1,
           -1,
           3,
           -1,
           4,
           4,
           -1,
           -1,
           4,
           4,
           -1,
           -1,
           -1,
           2,
           1,
           3,
           3,
           4,
           -1,
           3,
           -1,
           -1,
           -1,
           -1,
           -1,
           -1,
           3,
           4,
           3,
           4,
           -1,
           4,
           -1,
           -1,
           3,
           4,
           -1,
           -1,
           4,
           -1,
           2,
           -1,
           -1,
           -1,
           -1,
           -1,
           -1,
           4,
           4,
           -1,
           -1,
           -1,
           4,
           2,
           -1,
           4,
           3,
           4,
           -1,
           -1,
           -1,
           -1,
           -1,
           3,
           3,
           3,
           -1,
           2,
           3,
           -1,
           -1,
           3,
           3,
           3,
           -1,
           -1,
           -1,
           1,
           -1,
           -1,
           -1,
           4,
           4,
           4,
           -1,
           -1,
           -1,
           -1,
           4,
           -1,
           4,
           -1,
           -1,
           -1,
           4,
           -1,
           -1,
           4,
           -1,
           2,
           -1,
           4,
           -1,
           4,
           3,
           -1,
           -1,
           2,
           4,
           3,
           -1,
           -1,
           -1,
           -1,
           -1,
           -1,
           3,
           -1,
           -1,
           -1,
           3,
           3,
           3,
           4,
           4,
           -1,
           -1,
           -1,
           3,
           3,
           4,
           -1,
           3,
           4,
           4,
           -1,
           -1,
           4,
           -1,
           -1,
           4,
           4,
           3,
           -1,
           4,
           3,
           -1,
           -1,
           3,
           3,
           -1,
           -1,
           -1,
           3,
           4,
           3,
           3,
           -1,
           3,
           -1,
           2,
           -1,
           -1,
           -1,
           -1,
           -1,
           4,
           -1,
           3,
           -1,
           -1,
           3,
           3,
           -1,
           3,
           4,
           3,
           -1,
           -1,
           3,
           4,
           -1,
           3,
           4,
           -1,
           -1,
           -1,
           4,
           -1,
           -1,
           4,
           -1,
           -1,
           3,
           4,
           3,
           -1,
           -1,
           2,
           -1,
           -1,
           4,
           4,
           -1,
           4,
           -1,
           -1,
           3,
           4,
           -1,
           -1,
           2,
           -1,
           3,
           -1,
           -1,
           -1,
           -1,
           -1,
           3,
           -1,
           2,
           -1,
           -1,
           -1,
           4,
           -1,
           4,
           -1,
           0,
           4,
           0,
           0,
           -1,
           3,
           4,
           3,
           0,
           -1,
           -1,
           4,
           4,
           4,
           4,
           -1,
           -1,
           -1,
           -1,
           -1,
           0,
           -1,
           -1,
           -1,
           -1,
           -1,
           -1,
           -1,
           -1,
           -1,
           0,
           -1,
           0,
           4,
           -1,
           -1,
           -1,
           -1,
           -1,
           -1,
           -1,
           4,
           4,
           -1,
           -1,
           -1,
           -1,
           -1,
           -1,
           -1,
           -1,
           -1,
           -1,
           -1,
           -1,
           -1,
           -1,
           -1,
           -1,
           -1,
           -1,
           -1,
           -1,
           -1,
           -1,
           -1,
           0,
           -1,
           3,
           -1,
           -1,
           -1,
           -1,
           -1,
           -1,
           4,
           -1,
           4,
           4,
           3,
           -1,
           -1,
           -1,
           -1,
           -1,
           -1,
           -1,
           -1,
           -1,
           -1,
           3,
           4,
           -1,
           3,
           3,
           4,
           3,
           3,
           4,
           3,
           3,
           3,
           3,
           3,
           2,
           3,
           4,
           -1,
           4,
           -1,
           3,
           3,
           4,
           -1,
           4,
           3,
           -1,
           4,
           -1,
           4,
           -1,
           4,
           3,
           -1,
           4,
           3,
           3,
           4,
           4,
           3,
           4,
           4,
           0,
           -1,
           0,
           4,
           4,
           4,
           -1,
           -1,
           -1,
           -1,
           -1,
           -1,
           -1,
           -1,
           -1,
           -1,
           -1,
           -1,
           -1,
           -1,
           -1,
           -1,
           4,
           3,
           3,
           4,
           -1,
           -1,
           -1,
           -1,
           -1,
           -1,
           -1,
           -1,
           -1,
           -1,
           -1,
           4,
           4,
           4,
           4,
           -1,
           -1,
           4,
           -1,
           -1,
           4,
           3,
           -1,
           3,
           -1,
           -1,
           -1,
           3,
           -1,
           3,
           0,
           -1,
           0,
           2,
           4,
           -1,
           -1,
           4,
           0,
           4,
           0,
           3,
           4,
           0,
           -1,
           0,
           -1,
           3,
           -1,
           4,
           -1,
           4,
           4,
           2,
           4,
           -1,
           3,
           -1,
           -1,
           3,
           3,
           -1,
           -1,
           -1,
           4,
           -1,
           -1,
           -1,
           4,
           -1,
           -1,
           -1,
           -1,
           4,
           -1,
           -1,
           3,
           3,
           3,
           -1,
           -1,
           -1,
           -1,
           4,
           3,
           -1,
           4,
           3,
           -1,
           -1,
           -1,
           -1,
           -1,
           4,
           -1,
           4,
           3,
           -1,
           3,
           -1,
           3,
           -1,
           -1,
           -1,
           -1,
           -1,
           -1,
           -1,
           2,
           4,
           3,
           -1,
           4,
           -1,
           3,
           -1,
           -1,
           3,
           -1,
           -1,
           -1,
           -1,
           -1,
           4,
           -1,
           -1,
           3,
           4,
           3,
           3,
           -1,
           -1,
           2,
           4,
           -1,
           4,
           -1,
           3,
           -1,
           3,
           4,
           -1,
           -1,
           3,
           3,
           3,
           3,
           -1,
           -1,
           -1,
           4,
           3,
           -1,
           4,
           -1,
           1,
           4,
           -1,
           -1,
           4,
           -1,
           3,
           -1,
           3,
           -1,
           -1,
           3,
           -1,
           -1,
           3,
           3,
           4,
           -1,
           -1,
           -1,
           3,
           -1,
           -1,
           4,
           -1,
           -1,
           -1,
           3,
           3,
           4,
           3,
           -1,
           -1,
           4,
           4,
           4,
           -1,
           -1,
           3,
           4,
           -1,
           4,
           -1,
           -1,
           -1,
           -1,
           3,
           -1,
           -1,
           -1,
           3,
           4,
           -1,
           -1,
           -1,
           -1,
           3,
           3,
           -1,
           -1,
           3,
           -1,
           -1,
           4,
           4,
           -1,
           3,
           -1,
           4,
           4,
           -1,
           3,
           -1,
           4,
           3,
           -1,
           3,
           4,
           4,
           -1,
           -1,
           -1,
           -1,
           -1,
           3,
           -1,
           -1,
           -1,
           3,
           -1,
           4,
           2,
           -1,
           3,
           2,
           4,
           -1,
           -1,
           3,
           -1,
           4,
           4,
           3,
           4,
           2,
           4,
           4,
           4,
           -1,
           -1,
           -1,
           -1,
           -1,
           4,
           -1,
           -1,
           4,
           -1,
           3,
           4,
           -1,
           4,
           -1,
           -1,
           -1,
           3,
           -1,
           -1,
           -1,
           -1,
           -1,
           -1,
           -1,
           -1,
           -1,
           -1,
           -1,
           -1,
           -1,
           -1,
           -1,
           -1,
           3,
           4,
           3,
           4,
           3,
           3,
           4,
           4,
           3,
           -1,
           -1,
           0,
           4,
           -1,
           -1,
           4,
           -1,
           4,
           4
          ],
          "size": 10
         },
         "mode": "markers",
         "name": "mmt review scores",
         "type": "scatter",
         "x": [
          2,
          3,
          1,
          1,
          1,
          1,
          1,
          1,
          1,
          1,
          1,
          4,
          4,
          1,
          1,
          1,
          1,
          1,
          1,
          4,
          2,
          4,
          3,
          1,
          3,
          2,
          1,
          1,
          2,
          2,
          1,
          1,
          2,
          1,
          2,
          1,
          3,
          1,
          1,
          3,
          3,
          3,
          1,
          1,
          1,
          2,
          1,
          1,
          1,
          1,
          1,
          1,
          1,
          1,
          3,
          1,
          1,
          1,
          3,
          1,
          2,
          4,
          3,
          1,
          2,
          1,
          1,
          1,
          1,
          1,
          3,
          1,
          3,
          1,
          1,
          1,
          1,
          1,
          1,
          3,
          1,
          1,
          1,
          1,
          1,
          1,
          4,
          1,
          5,
          1,
          1,
          1,
          1,
          1,
          4,
          3,
          1,
          1,
          1,
          1,
          1,
          1,
          1,
          1,
          1,
          1,
          1,
          1,
          4,
          1,
          1,
          2,
          1,
          3,
          1,
          2,
          5,
          5,
          3,
          1,
          3,
          1,
          1,
          1,
          3,
          1,
          3,
          3,
          1,
          5,
          1,
          1,
          1,
          1,
          2,
          1,
          1,
          1,
          1,
          1,
          1,
          2,
          1,
          3,
          3,
          1,
          1,
          1,
          1,
          2,
          1,
          1,
          1,
          1,
          3,
          5,
          2,
          1,
          2,
          3,
          1,
          1,
          2,
          3,
          4,
          2,
          1,
          1,
          1,
          2,
          1,
          1,
          2,
          1,
          1,
          3,
          5,
          2,
          1,
          2,
          3,
          1,
          1,
          2,
          1,
          1,
          1,
          2,
          2,
          2,
          3,
          1,
          1,
          1,
          1,
          1,
          1,
          5,
          4,
          1,
          1,
          1,
          3,
          5,
          1,
          1,
          1,
          1,
          3,
          4,
          1,
          1,
          1,
          4,
          3,
          1,
          1,
          3,
          1,
          1,
          1,
          4,
          1,
          1,
          1,
          1,
          1,
          4,
          3,
          1,
          1,
          1,
          1,
          3,
          3,
          3,
          2,
          3,
          1,
          1,
          3,
          3,
          1,
          4,
          3,
          1,
          1,
          1,
          1,
          1,
          3,
          1,
          1,
          1,
          1,
          1,
          1,
          1,
          3,
          1,
          2,
          3,
          3,
          1,
          1,
          3,
          1,
          1,
          1,
          1,
          2,
          3,
          1,
          3,
          1,
          1,
          1,
          1,
          1,
          3,
          1,
          1,
          2,
          3,
          3,
          1,
          1,
          3,
          1,
          2,
          1,
          1,
          2,
          4,
          2,
          2,
          1,
          1,
          4,
          3,
          3,
          2,
          1,
          2,
          2,
          3,
          1,
          3,
          3,
          3,
          1,
          3,
          2,
          4,
          3,
          2,
          4,
          2,
          2,
          1,
          1,
          1,
          2,
          4,
          2,
          1,
          2,
          3,
          3,
          4,
          2,
          3,
          4,
          3,
          3,
          3,
          1,
          1,
          2,
          3,
          3,
          1,
          3,
          3,
          1,
          2,
          3,
          3,
          1,
          3,
          3,
          3,
          3,
          3,
          2,
          1,
          3,
          1,
          3,
          3,
          1,
          3,
          2,
          2,
          2,
          4,
          3,
          3,
          2,
          3,
          3,
          3,
          3,
          3,
          2,
          3,
          2,
          3,
          3,
          3,
          3,
          1,
          1,
          4,
          1,
          1,
          1,
          2,
          3,
          1,
          2,
          3,
          3,
          1,
          1,
          1,
          3,
          1,
          1,
          1,
          1,
          1,
          1,
          1,
          1,
          1,
          1,
          2,
          1,
          1,
          1,
          1,
          1,
          3,
          1,
          1,
          2,
          1,
          1,
          1,
          3,
          1,
          1,
          3,
          3,
          2,
          1,
          1,
          5,
          5,
          1,
          4,
          1,
          2,
          3,
          2,
          4,
          1,
          1,
          1,
          3,
          1,
          1,
          1,
          1,
          4,
          2,
          1,
          4,
          1,
          3,
          1,
          1,
          3,
          1,
          1,
          1,
          1,
          1,
          1,
          1,
          1,
          1,
          3,
          1,
          1,
          5,
          5,
          1,
          1,
          3,
          4,
          1,
          1,
          3,
          3,
          1,
          1,
          1,
          1,
          3,
          1,
          1,
          3,
          3,
          1,
          1,
          3,
          1,
          1,
          2,
          4,
          1,
          1,
          1,
          3,
          1,
          3,
          1,
          1,
          1,
          1,
          3,
          1,
          1,
          1,
          3,
          4,
          1,
          3,
          2,
          1,
          1,
          1,
          1,
          1,
          4,
          1,
          2,
          1,
          3,
          3,
          5,
          3,
          3,
          1,
          3,
          1,
          3,
          2,
          3,
          1,
          1,
          2,
          1,
          1,
          1,
          1,
          4,
          1,
          3,
          2,
          3,
          5,
          1,
          2,
          1,
          1,
          1,
          3,
          1,
          1,
          3,
          3,
          1,
          1,
          4,
          1,
          1,
          1,
          4,
          3,
          3,
          3,
          4,
          1,
          3,
          1,
          3,
          1,
          1,
          1,
          1,
          3,
          1,
          2,
          3,
          2,
          2,
          1,
          1,
          1,
          3,
          1,
          1,
          3,
          1,
          5,
          4,
          1,
          2,
          1,
          1,
          1,
          3,
          1,
          1,
          1,
          2,
          3,
          1,
          4,
          4,
          1,
          2,
          1,
          1,
          1,
          2,
          3,
          1,
          1,
          2,
          1,
          2,
          2,
          1,
          3,
          1,
          1,
          3,
          1,
          2,
          1,
          1,
          2,
          3,
          1,
          1,
          1,
          1,
          1,
          1,
          1,
          1,
          1,
          1,
          1,
          2,
          1,
          2,
          1,
          1,
          1,
          1,
          4,
          5,
          3,
          5,
          2,
          1,
          2,
          2,
          2,
          4,
          2,
          1,
          4,
          2,
          3,
          1,
          5,
          3,
          3,
          1,
          2,
          3,
          1,
          2,
          3,
          3,
          1,
          1,
          1,
          2,
          1,
          1,
          1,
          2,
          1,
          3,
          2,
          1,
          2,
          1,
          1,
          1,
          1,
          1,
          2,
          4,
          1,
          3,
          1,
          1,
          1,
          1,
          1,
          1,
          1,
          1,
          1,
          1,
          1,
          1,
          1,
          1,
          1,
          1,
          1,
          2,
          2,
          1,
          1,
          1,
          1,
          3,
          1,
          2,
          2,
          4,
          1,
          1,
          3,
          2,
          1,
          1,
          1,
          3,
          3,
          2,
          1,
          1,
          1,
          3,
          3,
          1,
          1,
          4,
          3,
          1,
          1,
          1,
          5,
          3,
          3,
          4,
          2,
          3,
          3,
          2,
          3,
          3,
          2,
          2,
          1,
          3,
          1,
          3,
          3,
          5,
          1,
          3,
          1,
          1,
          1,
          1,
          3,
          1,
          5,
          4,
          3,
          4,
          3,
          3,
          1,
          2,
          3,
          3,
          1,
          1,
          2,
          1,
          1,
          1,
          1,
          2,
          1,
          1,
          1,
          1,
          1,
          2,
          1,
          1,
          4,
          3,
          1,
          1,
          3,
          3,
          1,
          2,
          3,
          3,
          3,
          1,
          1,
          2,
          1,
          1,
          1,
          1,
          1,
          1,
          1,
          1,
          2,
          3,
          3,
          5,
          1,
          1,
          3,
          1,
          3,
          3,
          1,
          1,
          2,
          1,
          1,
          1,
          1,
          2,
          2,
          1,
          1,
          1,
          3,
          1,
          1,
          1,
          1,
          1,
          1,
          1,
          3,
          4,
          1,
          4,
          3,
          1,
          2,
          2,
          3,
          1,
          1,
          1,
          1,
          2,
          1,
          3,
          1,
          1,
          1,
          3,
          1,
          1,
          1,
          1,
          1,
          1,
          1,
          1,
          1,
          1,
          1,
          1,
          1,
          3,
          1,
          3,
          1,
          2,
          1,
          1,
          1,
          1,
          3,
          1,
          3,
          1,
          3,
          2,
          1,
          1,
          1,
          1,
          3,
          1,
          5,
          4,
          1,
          3,
          1,
          3,
          1,
          1,
          1,
          1,
          1,
          1,
          1,
          1,
          1,
          3,
          1,
          3,
          1,
          3,
          1,
          1,
          2,
          1,
          1,
          1,
          2,
          1,
          1,
          1,
          1,
          2,
          1,
          1,
          1,
          1,
          1,
          2,
          3,
          1,
          1,
          3,
          1,
          1,
          3,
          4,
          1,
          1,
          2,
          3,
          3,
          1,
          1,
          1,
          1,
          4,
          1,
          1,
          3,
          2,
          1,
          2,
          1,
          1,
          3,
          1,
          3,
          1,
          2,
          1,
          1,
          3,
          1,
          2,
          1,
          3,
          1,
          2,
          1,
          1,
          3,
          1,
          1,
          3,
          1,
          1,
          1,
          3,
          1,
          3,
          2,
          1,
          1,
          3,
          3,
          3,
          1,
          1,
          1,
          3,
          1,
          1,
          1,
          1,
          1,
          1,
          3,
          1,
          1,
          1,
          3,
          1,
          1,
          1,
          1,
          1,
          1,
          3,
          1,
          1,
          1,
          1,
          1,
          1,
          1,
          1,
          2,
          3,
          1,
          5,
          1,
          3,
          1,
          1,
          4,
          1,
          1,
          3,
          3,
          1,
          1,
          4,
          3,
          3,
          4,
          1,
          4,
          1,
          3,
          1,
          2,
          3,
          1,
          1,
          1,
          4,
          1,
          2,
          3,
          1,
          4,
          2,
          1,
          1,
          1,
          3,
          2,
          1,
          2,
          3,
          null,
          1,
          1,
          2,
          1,
          1,
          2,
          1,
          4,
          1,
          1,
          1,
          1,
          1,
          3,
          1,
          1,
          3,
          2,
          1,
          1,
          1,
          1,
          2,
          1,
          1,
          3,
          1,
          1,
          2,
          1,
          1,
          4,
          3,
          1,
          1,
          2,
          2,
          2,
          5,
          1,
          1,
          1,
          1,
          1,
          3,
          1,
          3,
          1,
          4,
          3
         ],
         "y": [
          4.3,
          null,
          0,
          null,
          null,
          null,
          null,
          4.1,
          null,
          null,
          null,
          null,
          null,
          null,
          null,
          null,
          null,
          4.4,
          null,
          4.2,
          null,
          4.3,
          4.1,
          null,
          4.9,
          3.5,
          null,
          2.7,
          3.7,
          3.8,
          null,
          4.6,
          null,
          null,
          null,
          4.2,
          3.3,
          null,
          null,
          3.6,
          null,
          3.7,
          5,
          4.4,
          null,
          3.2,
          4.9,
          3.5,
          null,
          null,
          null,
          null,
          null,
          null,
          null,
          null,
          3.6,
          null,
          3.4,
          4.4,
          2.4,
          4.4,
          null,
          null,
          3.4,
          4.9,
          null,
          null,
          null,
          null,
          3.9,
          null,
          3.6,
          null,
          null,
          null,
          null,
          null,
          4,
          null,
          null,
          null,
          null,
          null,
          null,
          null,
          4,
          null,
          4.6,
          null,
          null,
          null,
          null,
          null,
          4,
          null,
          null,
          4.4,
          null,
          null,
          null,
          4.5,
          null,
          null,
          null,
          null,
          null,
          null,
          4.3,
          1.9,
          null,
          4,
          null,
          4.5,
          4.5,
          4.2,
          3.5,
          4.3,
          3.2,
          null,
          null,
          null,
          null,
          3.5,
          null,
          null,
          3.5,
          3.9,
          null,
          4.7,
          null,
          null,
          null,
          null,
          4.2,
          null,
          null,
          null,
          null,
          null,
          3.8,
          3.6,
          null,
          4.1,
          4.2,
          null,
          4.6,
          null,
          null,
          null,
          null,
          null,
          null,
          null,
          4.6,
          4.5,
          0,
          null,
          4.4,
          3.8,
          null,
          0,
          3.9,
          3.2,
          4.8,
          3.9,
          null,
          2.9,
          null,
          4,
          null,
          null,
          3.7,
          null,
          null,
          4.2,
          4.5,
          3.4,
          null,
          null,
          4.3,
          4.1,
          0,
          4,
          null,
          4.5,
          4.2,
          3.6,
          3.6,
          null,
          4.2,
          null,
          null,
          4.2,
          5,
          null,
          null,
          4.4,
          4.1,
          null,
          null,
          null,
          4.1,
          null,
          null,
          null,
          null,
          null,
          4.3,
          3.8,
          null,
          3,
          null,
          4.1,
          3.8,
          null,
          3.6,
          3.7,
          null,
          null,
          3.2,
          2.5,
          null,
          null,
          null,
          null,
          4.4,
          4.4,
          null,
          null,
          null,
          null,
          null,
          2.7,
          4.1,
          4.1,
          null,
          3.4,
          null,
          null,
          null,
          null,
          null,
          null,
          3.2,
          null,
          4.8,
          null,
          null,
          null,
          4.6,
          3.7,
          null,
          null,
          null,
          null,
          null,
          3.8,
          3.8,
          4.7,
          4.1,
          4.2,
          5,
          null,
          null,
          null,
          4.7,
          null,
          null,
          null,
          null,
          3.4,
          null,
          null,
          null,
          3,
          null,
          null,
          null,
          3.9,
          null,
          null,
          null,
          4.4,
          5,
          null,
          null,
          3.9,
          5,
          4.5,
          null,
          0,
          null,
          4.4,
          null,
          3.8,
          3.8,
          3.5,
          4,
          3.6,
          2.8,
          3.5,
          3.2,
          3.8,
          2.9,
          4.5,
          4.8,
          4.8,
          3.6,
          4.5,
          4.9,
          4.4,
          2.8,
          3.3,
          4.2,
          4.4,
          5,
          3.9,
          3.6,
          null,
          3.9,
          3.3,
          3.2,
          4.2,
          2.7,
          3.6,
          3.7,
          3.3,
          4.4,
          4.1,
          null,
          3.7,
          2.3,
          3.1,
          3.2,
          3.4,
          3.4,
          3,
          4.4,
          4,
          null,
          4.3,
          3.1,
          2.5,
          4.4,
          3.5,
          null,
          3.3,
          4,
          null,
          4.2,
          null,
          4.2,
          3.9,
          null,
          4.1,
          4.4,
          4.1,
          3.9,
          2.8,
          4,
          3.8,
          3.3,
          3.1,
          null,
          3.8,
          4.2,
          null,
          null,
          4.1,
          3.8,
          3.2,
          4.2,
          4,
          4.1,
          null,
          3.5,
          3.6,
          null,
          3.6,
          4.3,
          3.8,
          null,
          null,
          null,
          4.8,
          3,
          null,
          null,
          null,
          null,
          null,
          null,
          null,
          null,
          3.5,
          3.5,
          null,
          null,
          null,
          1.9,
          null,
          null,
          null,
          null,
          4,
          null,
          null,
          null,
          null,
          null,
          null,
          null,
          null,
          null,
          5,
          null,
          null,
          null,
          null,
          null,
          4,
          null,
          4.9,
          4.6,
          null,
          null,
          5,
          4.4,
          null,
          null,
          null,
          2.3,
          1.9,
          3.9,
          3.5,
          4.2,
          null,
          3.4,
          null,
          null,
          null,
          null,
          null,
          null,
          4,
          4.5,
          3.7,
          4.1,
          null,
          4.7,
          null,
          null,
          4,
          4.4,
          null,
          null,
          5,
          null,
          2.3,
          null,
          null,
          null,
          null,
          null,
          null,
          4.6,
          4.4,
          null,
          null,
          null,
          4.2,
          2.7,
          null,
          4.5,
          3.8,
          4.1,
          null,
          null,
          null,
          null,
          null,
          3.5,
          3.7,
          3.9,
          null,
          2.3,
          3.9,
          null,
          null,
          3.9,
          4,
          3.9,
          null,
          null,
          null,
          1.9,
          null,
          null,
          null,
          4.9,
          4.2,
          4.3,
          null,
          null,
          null,
          null,
          4.4,
          null,
          4.4,
          null,
          null,
          null,
          4.1,
          null,
          null,
          4.3,
          null,
          2.7,
          null,
          4.1,
          null,
          4.1,
          3.9,
          null,
          null,
          2.7,
          4.8,
          3.8,
          null,
          null,
          null,
          null,
          null,
          null,
          3.8,
          null,
          null,
          null,
          3.4,
          3.9,
          3.1,
          4.8,
          4.6,
          null,
          null,
          null,
          3.1,
          3.7,
          4.7,
          null,
          3.8,
          4.6,
          4.3,
          null,
          null,
          4.4,
          null,
          null,
          4.1,
          4.2,
          3.9,
          null,
          4.8,
          3.9,
          null,
          null,
          4,
          3.4,
          null,
          null,
          null,
          3.9,
          4.1,
          3.1,
          3.3,
          null,
          4,
          null,
          2.7,
          null,
          null,
          null,
          null,
          null,
          4.5,
          null,
          3.9,
          null,
          null,
          3.4,
          3.2,
          null,
          3.7,
          4.1,
          3.6,
          null,
          null,
          3.3,
          4.6,
          null,
          3.9,
          4.4,
          null,
          null,
          null,
          4.3,
          null,
          null,
          4.3,
          null,
          null,
          3.7,
          4.3,
          3.5,
          null,
          null,
          2.4,
          null,
          null,
          4.4,
          5,
          null,
          4.6,
          null,
          null,
          3.9,
          4.3,
          null,
          null,
          2.4,
          null,
          3.9,
          null,
          null,
          null,
          null,
          null,
          3.1,
          null,
          3,
          null,
          null,
          null,
          4.9,
          null,
          4.9,
          null,
          0,
          4.5,
          0,
          0,
          null,
          3.5,
          4.3,
          3.4,
          0,
          null,
          null,
          4.8,
          5,
          4.7,
          5,
          null,
          null,
          null,
          null,
          null,
          0,
          null,
          null,
          null,
          null,
          null,
          null,
          null,
          null,
          null,
          0,
          null,
          0,
          4.1,
          null,
          null,
          null,
          null,
          null,
          null,
          null,
          4.8,
          4.5,
          null,
          null,
          null,
          null,
          null,
          null,
          null,
          null,
          null,
          null,
          null,
          null,
          null,
          null,
          null,
          null,
          null,
          null,
          null,
          null,
          null,
          null,
          null,
          0,
          null,
          3.8,
          null,
          null,
          null,
          null,
          null,
          null,
          4.4,
          null,
          4.2,
          4.3,
          3.5,
          null,
          null,
          null,
          null,
          null,
          null,
          null,
          null,
          null,
          null,
          3.9,
          4.2,
          null,
          3.9,
          3.2,
          4.3,
          3.9,
          3.9,
          4.4,
          3.6,
          3.7,
          3.7,
          3.1,
          3.6,
          3,
          3.3,
          4.2,
          null,
          4.2,
          null,
          3.9,
          4,
          4.5,
          null,
          4.2,
          3.2,
          null,
          5,
          null,
          4.2,
          null,
          4.3,
          4,
          null,
          4.4,
          3.3,
          4,
          4.4,
          4.3,
          3.2,
          4.2,
          4.3,
          0,
          null,
          0,
          5,
          4.4,
          5,
          null,
          null,
          null,
          null,
          null,
          null,
          null,
          null,
          null,
          null,
          null,
          null,
          null,
          null,
          null,
          null,
          5,
          4,
          3.1,
          4.1,
          null,
          null,
          null,
          null,
          null,
          null,
          null,
          null,
          null,
          null,
          null,
          4.1,
          4.5,
          4.2,
          4.4,
          null,
          null,
          4.2,
          null,
          null,
          4.2,
          3.6,
          null,
          3.7,
          null,
          null,
          null,
          3.9,
          null,
          3.3,
          0,
          null,
          0,
          2.4,
          5,
          null,
          null,
          4.2,
          0,
          5,
          0,
          3.2,
          4.3,
          0,
          null,
          0,
          null,
          3.4,
          null,
          4.6,
          null,
          4.2,
          4.6,
          2.4,
          4.3,
          null,
          3.5,
          null,
          null,
          3.6,
          4,
          null,
          null,
          null,
          4.8,
          null,
          null,
          null,
          4.4,
          null,
          null,
          null,
          null,
          4.9,
          null,
          null,
          3.5,
          3.3,
          3.3,
          null,
          null,
          null,
          null,
          4.2,
          3.9,
          null,
          5,
          4,
          null,
          null,
          null,
          null,
          null,
          4.1,
          null,
          4.3,
          3.8,
          null,
          3.9,
          null,
          3.8,
          null,
          null,
          null,
          null,
          null,
          null,
          null,
          2.5,
          5,
          3.4,
          null,
          4.3,
          null,
          3.1,
          null,
          null,
          3.3,
          null,
          null,
          null,
          null,
          null,
          4.6,
          null,
          null,
          4,
          4.5,
          3.6,
          3.2,
          null,
          null,
          2.7,
          4.6,
          null,
          4.9,
          null,
          4,
          null,
          3.4,
          4.1,
          null,
          null,
          3.7,
          3.9,
          3.6,
          3.9,
          null,
          null,
          null,
          4.2,
          4,
          null,
          5,
          null,
          1.9,
          4.7,
          null,
          null,
          4.4,
          null,
          3.5,
          null,
          3.5,
          null,
          null,
          3.9,
          null,
          null,
          4,
          3.4,
          4.8,
          null,
          null,
          null,
          4,
          null,
          null,
          4.2,
          null,
          null,
          null,
          3.9,
          3.2,
          4.3,
          3.7,
          null,
          null,
          5,
          4.5,
          4.4,
          null,
          null,
          4,
          4.7,
          null,
          4.6,
          null,
          null,
          null,
          null,
          3.9,
          null,
          null,
          null,
          3.1,
          4.3,
          null,
          null,
          null,
          null,
          3.3,
          3.4,
          null,
          null,
          4,
          null,
          null,
          4.1,
          5,
          null,
          3.7,
          null,
          4.7,
          4.2,
          null,
          3.1,
          null,
          5,
          4,
          null,
          3.3,
          4.3,
          4.3,
          null,
          null,
          null,
          null,
          null,
          4,
          null,
          null,
          null,
          3.3,
          null,
          4.4,
          2.4,
          null,
          3.9,
          2.3,
          4.1,
          null,
          null,
          3.7,
          null,
          4.5,
          4.4,
          3.7,
          4.5,
          2.4,
          4.1,
          4.3,
          4.1,
          null,
          null,
          null,
          null,
          null,
          4.3,
          null,
          null,
          5,
          null,
          4,
          4.6,
          null,
          4.8,
          null,
          null,
          null,
          3.5,
          null,
          null,
          null,
          null,
          null,
          null,
          null,
          null,
          null,
          null,
          null,
          null,
          null,
          null,
          null,
          null,
          4,
          4.3,
          4,
          4.9,
          4,
          3.6,
          4.8,
          4.7,
          3.8,
          null,
          null,
          0,
          4.5,
          null,
          null,
          4.2,
          null,
          4.3,
          4.1
         ]
        }
       ],
       "layout": {
        "showlegend": true,
        "template": {
         "data": {
          "bar": [
           {
            "error_x": {
             "color": "#2a3f5f"
            },
            "error_y": {
             "color": "#2a3f5f"
            },
            "marker": {
             "line": {
              "color": "#E5ECF6",
              "width": 0.5
             }
            },
            "type": "bar"
           }
          ],
          "barpolar": [
           {
            "marker": {
             "line": {
              "color": "#E5ECF6",
              "width": 0.5
             }
            },
            "type": "barpolar"
           }
          ],
          "carpet": [
           {
            "aaxis": {
             "endlinecolor": "#2a3f5f",
             "gridcolor": "white",
             "linecolor": "white",
             "minorgridcolor": "white",
             "startlinecolor": "#2a3f5f"
            },
            "baxis": {
             "endlinecolor": "#2a3f5f",
             "gridcolor": "white",
             "linecolor": "white",
             "minorgridcolor": "white",
             "startlinecolor": "#2a3f5f"
            },
            "type": "carpet"
           }
          ],
          "choropleth": [
           {
            "colorbar": {
             "outlinewidth": 0,
             "ticks": ""
            },
            "type": "choropleth"
           }
          ],
          "contour": [
           {
            "colorbar": {
             "outlinewidth": 0,
             "ticks": ""
            },
            "colorscale": [
             [
              0,
              "#0d0887"
             ],
             [
              0.1111111111111111,
              "#46039f"
             ],
             [
              0.2222222222222222,
              "#7201a8"
             ],
             [
              0.3333333333333333,
              "#9c179e"
             ],
             [
              0.4444444444444444,
              "#bd3786"
             ],
             [
              0.5555555555555556,
              "#d8576b"
             ],
             [
              0.6666666666666666,
              "#ed7953"
             ],
             [
              0.7777777777777778,
              "#fb9f3a"
             ],
             [
              0.8888888888888888,
              "#fdca26"
             ],
             [
              1,
              "#f0f921"
             ]
            ],
            "type": "contour"
           }
          ],
          "contourcarpet": [
           {
            "colorbar": {
             "outlinewidth": 0,
             "ticks": ""
            },
            "type": "contourcarpet"
           }
          ],
          "heatmap": [
           {
            "colorbar": {
             "outlinewidth": 0,
             "ticks": ""
            },
            "colorscale": [
             [
              0,
              "#0d0887"
             ],
             [
              0.1111111111111111,
              "#46039f"
             ],
             [
              0.2222222222222222,
              "#7201a8"
             ],
             [
              0.3333333333333333,
              "#9c179e"
             ],
             [
              0.4444444444444444,
              "#bd3786"
             ],
             [
              0.5555555555555556,
              "#d8576b"
             ],
             [
              0.6666666666666666,
              "#ed7953"
             ],
             [
              0.7777777777777778,
              "#fb9f3a"
             ],
             [
              0.8888888888888888,
              "#fdca26"
             ],
             [
              1,
              "#f0f921"
             ]
            ],
            "type": "heatmap"
           }
          ],
          "heatmapgl": [
           {
            "colorbar": {
             "outlinewidth": 0,
             "ticks": ""
            },
            "colorscale": [
             [
              0,
              "#0d0887"
             ],
             [
              0.1111111111111111,
              "#46039f"
             ],
             [
              0.2222222222222222,
              "#7201a8"
             ],
             [
              0.3333333333333333,
              "#9c179e"
             ],
             [
              0.4444444444444444,
              "#bd3786"
             ],
             [
              0.5555555555555556,
              "#d8576b"
             ],
             [
              0.6666666666666666,
              "#ed7953"
             ],
             [
              0.7777777777777778,
              "#fb9f3a"
             ],
             [
              0.8888888888888888,
              "#fdca26"
             ],
             [
              1,
              "#f0f921"
             ]
            ],
            "type": "heatmapgl"
           }
          ],
          "histogram": [
           {
            "marker": {
             "colorbar": {
              "outlinewidth": 0,
              "ticks": ""
             }
            },
            "type": "histogram"
           }
          ],
          "histogram2d": [
           {
            "colorbar": {
             "outlinewidth": 0,
             "ticks": ""
            },
            "colorscale": [
             [
              0,
              "#0d0887"
             ],
             [
              0.1111111111111111,
              "#46039f"
             ],
             [
              0.2222222222222222,
              "#7201a8"
             ],
             [
              0.3333333333333333,
              "#9c179e"
             ],
             [
              0.4444444444444444,
              "#bd3786"
             ],
             [
              0.5555555555555556,
              "#d8576b"
             ],
             [
              0.6666666666666666,
              "#ed7953"
             ],
             [
              0.7777777777777778,
              "#fb9f3a"
             ],
             [
              0.8888888888888888,
              "#fdca26"
             ],
             [
              1,
              "#f0f921"
             ]
            ],
            "type": "histogram2d"
           }
          ],
          "histogram2dcontour": [
           {
            "colorbar": {
             "outlinewidth": 0,
             "ticks": ""
            },
            "colorscale": [
             [
              0,
              "#0d0887"
             ],
             [
              0.1111111111111111,
              "#46039f"
             ],
             [
              0.2222222222222222,
              "#7201a8"
             ],
             [
              0.3333333333333333,
              "#9c179e"
             ],
             [
              0.4444444444444444,
              "#bd3786"
             ],
             [
              0.5555555555555556,
              "#d8576b"
             ],
             [
              0.6666666666666666,
              "#ed7953"
             ],
             [
              0.7777777777777778,
              "#fb9f3a"
             ],
             [
              0.8888888888888888,
              "#fdca26"
             ],
             [
              1,
              "#f0f921"
             ]
            ],
            "type": "histogram2dcontour"
           }
          ],
          "mesh3d": [
           {
            "colorbar": {
             "outlinewidth": 0,
             "ticks": ""
            },
            "type": "mesh3d"
           }
          ],
          "parcoords": [
           {
            "line": {
             "colorbar": {
              "outlinewidth": 0,
              "ticks": ""
             }
            },
            "type": "parcoords"
           }
          ],
          "pie": [
           {
            "automargin": true,
            "type": "pie"
           }
          ],
          "scatter": [
           {
            "marker": {
             "colorbar": {
              "outlinewidth": 0,
              "ticks": ""
             }
            },
            "type": "scatter"
           }
          ],
          "scatter3d": [
           {
            "line": {
             "colorbar": {
              "outlinewidth": 0,
              "ticks": ""
             }
            },
            "marker": {
             "colorbar": {
              "outlinewidth": 0,
              "ticks": ""
             }
            },
            "type": "scatter3d"
           }
          ],
          "scattercarpet": [
           {
            "marker": {
             "colorbar": {
              "outlinewidth": 0,
              "ticks": ""
             }
            },
            "type": "scattercarpet"
           }
          ],
          "scattergeo": [
           {
            "marker": {
             "colorbar": {
              "outlinewidth": 0,
              "ticks": ""
             }
            },
            "type": "scattergeo"
           }
          ],
          "scattergl": [
           {
            "marker": {
             "colorbar": {
              "outlinewidth": 0,
              "ticks": ""
             }
            },
            "type": "scattergl"
           }
          ],
          "scattermapbox": [
           {
            "marker": {
             "colorbar": {
              "outlinewidth": 0,
              "ticks": ""
             }
            },
            "type": "scattermapbox"
           }
          ],
          "scatterpolar": [
           {
            "marker": {
             "colorbar": {
              "outlinewidth": 0,
              "ticks": ""
             }
            },
            "type": "scatterpolar"
           }
          ],
          "scatterpolargl": [
           {
            "marker": {
             "colorbar": {
              "outlinewidth": 0,
              "ticks": ""
             }
            },
            "type": "scatterpolargl"
           }
          ],
          "scatterternary": [
           {
            "marker": {
             "colorbar": {
              "outlinewidth": 0,
              "ticks": ""
             }
            },
            "type": "scatterternary"
           }
          ],
          "surface": [
           {
            "colorbar": {
             "outlinewidth": 0,
             "ticks": ""
            },
            "colorscale": [
             [
              0,
              "#0d0887"
             ],
             [
              0.1111111111111111,
              "#46039f"
             ],
             [
              0.2222222222222222,
              "#7201a8"
             ],
             [
              0.3333333333333333,
              "#9c179e"
             ],
             [
              0.4444444444444444,
              "#bd3786"
             ],
             [
              0.5555555555555556,
              "#d8576b"
             ],
             [
              0.6666666666666666,
              "#ed7953"
             ],
             [
              0.7777777777777778,
              "#fb9f3a"
             ],
             [
              0.8888888888888888,
              "#fdca26"
             ],
             [
              1,
              "#f0f921"
             ]
            ],
            "type": "surface"
           }
          ],
          "table": [
           {
            "cells": {
             "fill": {
              "color": "#EBF0F8"
             },
             "line": {
              "color": "white"
             }
            },
            "header": {
             "fill": {
              "color": "#C8D4E3"
             },
             "line": {
              "color": "white"
             }
            },
            "type": "table"
           }
          ]
         },
         "layout": {
          "annotationdefaults": {
           "arrowcolor": "#2a3f5f",
           "arrowhead": 0,
           "arrowwidth": 1
          },
          "coloraxis": {
           "colorbar": {
            "outlinewidth": 0,
            "ticks": ""
           }
          },
          "colorscale": {
           "diverging": [
            [
             0,
             "#8e0152"
            ],
            [
             0.1,
             "#c51b7d"
            ],
            [
             0.2,
             "#de77ae"
            ],
            [
             0.3,
             "#f1b6da"
            ],
            [
             0.4,
             "#fde0ef"
            ],
            [
             0.5,
             "#f7f7f7"
            ],
            [
             0.6,
             "#e6f5d0"
            ],
            [
             0.7,
             "#b8e186"
            ],
            [
             0.8,
             "#7fbc41"
            ],
            [
             0.9,
             "#4d9221"
            ],
            [
             1,
             "#276419"
            ]
           ],
           "sequential": [
            [
             0,
             "#0d0887"
            ],
            [
             0.1111111111111111,
             "#46039f"
            ],
            [
             0.2222222222222222,
             "#7201a8"
            ],
            [
             0.3333333333333333,
             "#9c179e"
            ],
            [
             0.4444444444444444,
             "#bd3786"
            ],
            [
             0.5555555555555556,
             "#d8576b"
            ],
            [
             0.6666666666666666,
             "#ed7953"
            ],
            [
             0.7777777777777778,
             "#fb9f3a"
            ],
            [
             0.8888888888888888,
             "#fdca26"
            ],
            [
             1,
             "#f0f921"
            ]
           ],
           "sequentialminus": [
            [
             0,
             "#0d0887"
            ],
            [
             0.1111111111111111,
             "#46039f"
            ],
            [
             0.2222222222222222,
             "#7201a8"
            ],
            [
             0.3333333333333333,
             "#9c179e"
            ],
            [
             0.4444444444444444,
             "#bd3786"
            ],
            [
             0.5555555555555556,
             "#d8576b"
            ],
            [
             0.6666666666666666,
             "#ed7953"
            ],
            [
             0.7777777777777778,
             "#fb9f3a"
            ],
            [
             0.8888888888888888,
             "#fdca26"
            ],
            [
             1,
             "#f0f921"
            ]
           ]
          },
          "colorway": [
           "#636efa",
           "#EF553B",
           "#00cc96",
           "#ab63fa",
           "#FFA15A",
           "#19d3f3",
           "#FF6692",
           "#B6E880",
           "#FF97FF",
           "#FECB52"
          ],
          "font": {
           "color": "#2a3f5f"
          },
          "geo": {
           "bgcolor": "white",
           "lakecolor": "white",
           "landcolor": "#E5ECF6",
           "showlakes": true,
           "showland": true,
           "subunitcolor": "white"
          },
          "hoverlabel": {
           "align": "left"
          },
          "hovermode": "closest",
          "mapbox": {
           "style": "light"
          },
          "paper_bgcolor": "white",
          "plot_bgcolor": "#E5ECF6",
          "polar": {
           "angularaxis": {
            "gridcolor": "white",
            "linecolor": "white",
            "ticks": ""
           },
           "bgcolor": "#E5ECF6",
           "radialaxis": {
            "gridcolor": "white",
            "linecolor": "white",
            "ticks": ""
           }
          },
          "scene": {
           "xaxis": {
            "backgroundcolor": "#E5ECF6",
            "gridcolor": "white",
            "gridwidth": 2,
            "linecolor": "white",
            "showbackground": true,
            "ticks": "",
            "zerolinecolor": "white"
           },
           "yaxis": {
            "backgroundcolor": "#E5ECF6",
            "gridcolor": "white",
            "gridwidth": 2,
            "linecolor": "white",
            "showbackground": true,
            "ticks": "",
            "zerolinecolor": "white"
           },
           "zaxis": {
            "backgroundcolor": "#E5ECF6",
            "gridcolor": "white",
            "gridwidth": 2,
            "linecolor": "white",
            "showbackground": true,
            "ticks": "",
            "zerolinecolor": "white"
           }
          },
          "shapedefaults": {
           "line": {
            "color": "#2a3f5f"
           }
          },
          "ternary": {
           "aaxis": {
            "gridcolor": "white",
            "linecolor": "white",
            "ticks": ""
           },
           "baxis": {
            "gridcolor": "white",
            "linecolor": "white",
            "ticks": ""
           },
           "bgcolor": "#E5ECF6",
           "caxis": {
            "gridcolor": "white",
            "linecolor": "white",
            "ticks": ""
           }
          },
          "title": {
           "x": 0.05
          },
          "xaxis": {
           "automargin": true,
           "gridcolor": "white",
           "linecolor": "white",
           "ticks": "",
           "title": {
            "standoff": 15
           },
           "zerolinecolor": "white",
           "zerolinewidth": 2
          },
          "yaxis": {
           "automargin": true,
           "gridcolor": "white",
           "linecolor": "white",
           "ticks": "",
           "title": {
            "standoff": 15
           },
           "zerolinecolor": "white",
           "zerolinewidth": 2
          }
         }
        },
        "title": {
         "text": "Property's star rating vs MMT review score",
         "x": 0.5,
         "y": 0.9
        },
        "xaxis": {
         "title": {
          "text": "Property star ratings"
         }
        },
        "yaxis": {
         "title": {
          "text": "Mmt review scores"
         }
        }
       }
      },
      "text/html": [
       "<div>\n",
       "        \n",
       "        \n",
       "            <div id=\"dae135dc-6612-4801-8bfb-96d6225fe75e\" class=\"plotly-graph-div\" style=\"height:525px; width:100%;\"></div>\n",
       "            <script type=\"text/javascript\">\n",
       "                require([\"plotly\"], function(Plotly) {\n",
       "                    window.PLOTLYENV=window.PLOTLYENV || {};\n",
       "                    \n",
       "                if (document.getElementById(\"dae135dc-6612-4801-8bfb-96d6225fe75e\")) {\n",
       "                    Plotly.newPlot(\n",
       "                        'dae135dc-6612-4801-8bfb-96d6225fe75e',\n",
       "                        [{\"marker\": {\"color\": [4, -1, 0, -1, -1, -1, -1, 4, -1, -1, -1, -1, -1, -1, -1, -1, -1, 4, -1, 4, -1, 4, 4, -1, 4, 3, -1, 2, 3, 3, -1, 4, -1, -1, -1, 4, 3, -1, -1, 3, -1, 3, 4, 4, -1, 3, 4, 3, -1, -1, -1, -1, -1, -1, -1, -1, 3, -1, 3, 4, 2, 4, -1, -1, 3, 4, -1, -1, -1, -1, 3, -1, 3, -1, -1, -1, -1, -1, 3, -1, -1, -1, -1, -1, -1, -1, 3, -1, 4, -1, -1, -1, -1, -1, 3, -1, -1, 4, -1, -1, -1, 4, -1, -1, -1, -1, -1, -1, 4, 1, -1, 3, -1, 4, 4, 4, 3, 4, 3, -1, -1, -1, -1, 3, -1, -1, 3, 3, -1, 4, -1, -1, -1, -1, 4, -1, -1, -1, -1, -1, 3, 3, -1, 4, 4, -1, 4, -1, -1, -1, -1, -1, -1, -1, 4, 4, 0, -1, 4, 3, -1, 0, 3, 3, 4, 3, -1, 2, -1, 3, -1, -1, 3, -1, -1, 4, 4, 3, -1, -1, 4, 4, 0, 3, -1, 4, 4, 3, 3, -1, 4, -1, -1, 4, 4, -1, -1, 4, 4, -1, -1, -1, 4, -1, -1, -1, -1, -1, 4, 3, -1, 2, -1, 4, 3, -1, 3, 3, -1, -1, 3, 2, -1, -1, -1, -1, 4, 4, -1, -1, -1, -1, -1, 2, 4, 4, -1, 3, -1, -1, -1, -1, -1, -1, 3, -1, 4, -1, -1, -1, 4, 3, -1, -1, -1, -1, -1, 3, 3, 4, 4, 4, 4, -1, -1, -1, 4, -1, -1, -1, -1, 3, -1, -1, -1, 2, -1, -1, -1, 3, -1, -1, -1, 4, 4, -1, -1, 3, 4, 4, -1, 0, -1, 4, -1, 3, 3, 3, 3, 3, 2, 3, 3, 3, 2, 4, 4, 4, 3, 4, 4, 4, 2, 3, 4, 4, 4, 3, 3, -1, 3, 3, 3, 4, 2, 3, 3, 3, 4, 4, -1, 3, 2, 3, 3, 3, 3, 2, 4, 3, -1, 4, 3, 2, 4, 3, -1, 3, 3, -1, 4, -1, 4, 3, -1, 4, 4, 4, 3, 2, 3, 3, 3, 3, -1, 3, 4, -1, -1, 4, 3, 3, 4, 3, 4, -1, 3, 3, -1, 3, 4, 3, -1, -1, -1, 4, 2, -1, -1, -1, -1, -1, -1, -1, -1, 3, 3, -1, -1, -1, 1, -1, -1, -1, -1, 3, -1, -1, -1, -1, -1, -1, -1, -1, -1, 4, -1, -1, -1, -1, -1, 3, -1, 4, 4, -1, -1, 4, 4, -1, -1, -1, 2, 1, 3, 3, 4, -1, 3, -1, -1, -1, -1, -1, -1, 3, 4, 3, 4, -1, 4, -1, -1, 3, 4, -1, -1, 4, -1, 2, -1, -1, -1, -1, -1, -1, 4, 4, -1, -1, -1, 4, 2, -1, 4, 3, 4, -1, -1, -1, -1, -1, 3, 3, 3, -1, 2, 3, -1, -1, 3, 3, 3, -1, -1, -1, 1, -1, -1, -1, 4, 4, 4, -1, -1, -1, -1, 4, -1, 4, -1, -1, -1, 4, -1, -1, 4, -1, 2, -1, 4, -1, 4, 3, -1, -1, 2, 4, 3, -1, -1, -1, -1, -1, -1, 3, -1, -1, -1, 3, 3, 3, 4, 4, -1, -1, -1, 3, 3, 4, -1, 3, 4, 4, -1, -1, 4, -1, -1, 4, 4, 3, -1, 4, 3, -1, -1, 3, 3, -1, -1, -1, 3, 4, 3, 3, -1, 3, -1, 2, -1, -1, -1, -1, -1, 4, -1, 3, -1, -1, 3, 3, -1, 3, 4, 3, -1, -1, 3, 4, -1, 3, 4, -1, -1, -1, 4, -1, -1, 4, -1, -1, 3, 4, 3, -1, -1, 2, -1, -1, 4, 4, -1, 4, -1, -1, 3, 4, -1, -1, 2, -1, 3, -1, -1, -1, -1, -1, 3, -1, 2, -1, -1, -1, 4, -1, 4, -1, 0, 4, 0, 0, -1, 3, 4, 3, 0, -1, -1, 4, 4, 4, 4, -1, -1, -1, -1, -1, 0, -1, -1, -1, -1, -1, -1, -1, -1, -1, 0, -1, 0, 4, -1, -1, -1, -1, -1, -1, -1, 4, 4, -1, -1, -1, -1, -1, -1, -1, -1, -1, -1, -1, -1, -1, -1, -1, -1, -1, -1, -1, -1, -1, -1, -1, 0, -1, 3, -1, -1, -1, -1, -1, -1, 4, -1, 4, 4, 3, -1, -1, -1, -1, -1, -1, -1, -1, -1, -1, 3, 4, -1, 3, 3, 4, 3, 3, 4, 3, 3, 3, 3, 3, 2, 3, 4, -1, 4, -1, 3, 3, 4, -1, 4, 3, -1, 4, -1, 4, -1, 4, 3, -1, 4, 3, 3, 4, 4, 3, 4, 4, 0, -1, 0, 4, 4, 4, -1, -1, -1, -1, -1, -1, -1, -1, -1, -1, -1, -1, -1, -1, -1, -1, 4, 3, 3, 4, -1, -1, -1, -1, -1, -1, -1, -1, -1, -1, -1, 4, 4, 4, 4, -1, -1, 4, -1, -1, 4, 3, -1, 3, -1, -1, -1, 3, -1, 3, 0, -1, 0, 2, 4, -1, -1, 4, 0, 4, 0, 3, 4, 0, -1, 0, -1, 3, -1, 4, -1, 4, 4, 2, 4, -1, 3, -1, -1, 3, 3, -1, -1, -1, 4, -1, -1, -1, 4, -1, -1, -1, -1, 4, -1, -1, 3, 3, 3, -1, -1, -1, -1, 4, 3, -1, 4, 3, -1, -1, -1, -1, -1, 4, -1, 4, 3, -1, 3, -1, 3, -1, -1, -1, -1, -1, -1, -1, 2, 4, 3, -1, 4, -1, 3, -1, -1, 3, -1, -1, -1, -1, -1, 4, -1, -1, 3, 4, 3, 3, -1, -1, 2, 4, -1, 4, -1, 3, -1, 3, 4, -1, -1, 3, 3, 3, 3, -1, -1, -1, 4, 3, -1, 4, -1, 1, 4, -1, -1, 4, -1, 3, -1, 3, -1, -1, 3, -1, -1, 3, 3, 4, -1, -1, -1, 3, -1, -1, 4, -1, -1, -1, 3, 3, 4, 3, -1, -1, 4, 4, 4, -1, -1, 3, 4, -1, 4, -1, -1, -1, -1, 3, -1, -1, -1, 3, 4, -1, -1, -1, -1, 3, 3, -1, -1, 3, -1, -1, 4, 4, -1, 3, -1, 4, 4, -1, 3, -1, 4, 3, -1, 3, 4, 4, -1, -1, -1, -1, -1, 3, -1, -1, -1, 3, -1, 4, 2, -1, 3, 2, 4, -1, -1, 3, -1, 4, 4, 3, 4, 2, 4, 4, 4, -1, -1, -1, -1, -1, 4, -1, -1, 4, -1, 3, 4, -1, 4, -1, -1, -1, 3, -1, -1, -1, -1, -1, -1, -1, -1, -1, -1, -1, -1, -1, -1, -1, -1, 3, 4, 3, 4, 3, 3, 4, 4, 3, -1, -1, 0, 4, -1, -1, 4, -1, 4, 4], \"size\": 10}, \"mode\": \"markers\", \"name\": \"mmt review scores\", \"type\": \"scatter\", \"x\": [2.0, 3.0, 1.0, 1.0, 1.0, 1.0, 1.0, 1.0, 1.0, 1.0, 1.0, 4.0, 4.0, 1.0, 1.0, 1.0, 1.0, 1.0, 1.0, 4.0, 2.0, 4.0, 3.0, 1.0, 3.0, 2.0, 1.0, 1.0, 2.0, 2.0, 1.0, 1.0, 2.0, 1.0, 2.0, 1.0, 3.0, 1.0, 1.0, 3.0, 3.0, 3.0, 1.0, 1.0, 1.0, 2.0, 1.0, 1.0, 1.0, 1.0, 1.0, 1.0, 1.0, 1.0, 3.0, 1.0, 1.0, 1.0, 3.0, 1.0, 2.0, 4.0, 3.0, 1.0, 2.0, 1.0, 1.0, 1.0, 1.0, 1.0, 3.0, 1.0, 3.0, 1.0, 1.0, 1.0, 1.0, 1.0, 1.0, 3.0, 1.0, 1.0, 1.0, 1.0, 1.0, 1.0, 4.0, 1.0, 5.0, 1.0, 1.0, 1.0, 1.0, 1.0, 4.0, 3.0, 1.0, 1.0, 1.0, 1.0, 1.0, 1.0, 1.0, 1.0, 1.0, 1.0, 1.0, 1.0, 4.0, 1.0, 1.0, 2.0, 1.0, 3.0, 1.0, 2.0, 5.0, 5.0, 3.0, 1.0, 3.0, 1.0, 1.0, 1.0, 3.0, 1.0, 3.0, 3.0, 1.0, 5.0, 1.0, 1.0, 1.0, 1.0, 2.0, 1.0, 1.0, 1.0, 1.0, 1.0, 1.0, 2.0, 1.0, 3.0, 3.0, 1.0, 1.0, 1.0, 1.0, 2.0, 1.0, 1.0, 1.0, 1.0, 3.0, 5.0, 2.0, 1.0, 2.0, 3.0, 1.0, 1.0, 2.0, 3.0, 4.0, 2.0, 1.0, 1.0, 1.0, 2.0, 1.0, 1.0, 2.0, 1.0, 1.0, 3.0, 5.0, 2.0, 1.0, 2.0, 3.0, 1.0, 1.0, 2.0, 1.0, 1.0, 1.0, 2.0, 2.0, 2.0, 3.0, 1.0, 1.0, 1.0, 1.0, 1.0, 1.0, 5.0, 4.0, 1.0, 1.0, 1.0, 3.0, 5.0, 1.0, 1.0, 1.0, 1.0, 3.0, 4.0, 1.0, 1.0, 1.0, 4.0, 3.0, 1.0, 1.0, 3.0, 1.0, 1.0, 1.0, 4.0, 1.0, 1.0, 1.0, 1.0, 1.0, 4.0, 3.0, 1.0, 1.0, 1.0, 1.0, 3.0, 3.0, 3.0, 2.0, 3.0, 1.0, 1.0, 3.0, 3.0, 1.0, 4.0, 3.0, 1.0, 1.0, 1.0, 1.0, 1.0, 3.0, 1.0, 1.0, 1.0, 1.0, 1.0, 1.0, 1.0, 3.0, 1.0, 2.0, 3.0, 3.0, 1.0, 1.0, 3.0, 1.0, 1.0, 1.0, 1.0, 2.0, 3.0, 1.0, 3.0, 1.0, 1.0, 1.0, 1.0, 1.0, 3.0, 1.0, 1.0, 2.0, 3.0, 3.0, 1.0, 1.0, 3.0, 1.0, 2.0, 1.0, 1.0, 2.0, 4.0, 2.0, 2.0, 1.0, 1.0, 4.0, 3.0, 3.0, 2.0, 1.0, 2.0, 2.0, 3.0, 1.0, 3.0, 3.0, 3.0, 1.0, 3.0, 2.0, 4.0, 3.0, 2.0, 4.0, 2.0, 2.0, 1.0, 1.0, 1.0, 2.0, 4.0, 2.0, 1.0, 2.0, 3.0, 3.0, 4.0, 2.0, 3.0, 4.0, 3.0, 3.0, 3.0, 1.0, 1.0, 2.0, 3.0, 3.0, 1.0, 3.0, 3.0, 1.0, 2.0, 3.0, 3.0, 1.0, 3.0, 3.0, 3.0, 3.0, 3.0, 2.0, 1.0, 3.0, 1.0, 3.0, 3.0, 1.0, 3.0, 2.0, 2.0, 2.0, 4.0, 3.0, 3.0, 2.0, 3.0, 3.0, 3.0, 3.0, 3.0, 2.0, 3.0, 2.0, 3.0, 3.0, 3.0, 3.0, 1.0, 1.0, 4.0, 1.0, 1.0, 1.0, 2.0, 3.0, 1.0, 2.0, 3.0, 3.0, 1.0, 1.0, 1.0, 3.0, 1.0, 1.0, 1.0, 1.0, 1.0, 1.0, 1.0, 1.0, 1.0, 1.0, 2.0, 1.0, 1.0, 1.0, 1.0, 1.0, 3.0, 1.0, 1.0, 2.0, 1.0, 1.0, 1.0, 3.0, 1.0, 1.0, 3.0, 3.0, 2.0, 1.0, 1.0, 5.0, 5.0, 1.0, 4.0, 1.0, 2.0, 3.0, 2.0, 4.0, 1.0, 1.0, 1.0, 3.0, 1.0, 1.0, 1.0, 1.0, 4.0, 2.0, 1.0, 4.0, 1.0, 3.0, 1.0, 1.0, 3.0, 1.0, 1.0, 1.0, 1.0, 1.0, 1.0, 1.0, 1.0, 1.0, 3.0, 1.0, 1.0, 5.0, 5.0, 1.0, 1.0, 3.0, 4.0, 1.0, 1.0, 3.0, 3.0, 1.0, 1.0, 1.0, 1.0, 3.0, 1.0, 1.0, 3.0, 3.0, 1.0, 1.0, 3.0, 1.0, 1.0, 2.0, 4.0, 1.0, 1.0, 1.0, 3.0, 1.0, 3.0, 1.0, 1.0, 1.0, 1.0, 3.0, 1.0, 1.0, 1.0, 3.0, 4.0, 1.0, 3.0, 2.0, 1.0, 1.0, 1.0, 1.0, 1.0, 4.0, 1.0, 2.0, 1.0, 3.0, 3.0, 5.0, 3.0, 3.0, 1.0, 3.0, 1.0, 3.0, 2.0, 3.0, 1.0, 1.0, 2.0, 1.0, 1.0, 1.0, 1.0, 4.0, 1.0, 3.0, 2.0, 3.0, 5.0, 1.0, 2.0, 1.0, 1.0, 1.0, 3.0, 1.0, 1.0, 3.0, 3.0, 1.0, 1.0, 4.0, 1.0, 1.0, 1.0, 4.0, 3.0, 3.0, 3.0, 4.0, 1.0, 3.0, 1.0, 3.0, 1.0, 1.0, 1.0, 1.0, 3.0, 1.0, 2.0, 3.0, 2.0, 2.0, 1.0, 1.0, 1.0, 3.0, 1.0, 1.0, 3.0, 1.0, 5.0, 4.0, 1.0, 2.0, 1.0, 1.0, 1.0, 3.0, 1.0, 1.0, 1.0, 2.0, 3.0, 1.0, 4.0, 4.0, 1.0, 2.0, 1.0, 1.0, 1.0, 2.0, 3.0, 1.0, 1.0, 2.0, 1.0, 2.0, 2.0, 1.0, 3.0, 1.0, 1.0, 3.0, 1.0, 2.0, 1.0, 1.0, 2.0, 3.0, 1.0, 1.0, 1.0, 1.0, 1.0, 1.0, 1.0, 1.0, 1.0, 1.0, 1.0, 2.0, 1.0, 2.0, 1.0, 1.0, 1.0, 1.0, 4.0, 5.0, 3.0, 5.0, 2.0, 1.0, 2.0, 2.0, 2.0, 4.0, 2.0, 1.0, 4.0, 2.0, 3.0, 1.0, 5.0, 3.0, 3.0, 1.0, 2.0, 3.0, 1.0, 2.0, 3.0, 3.0, 1.0, 1.0, 1.0, 2.0, 1.0, 1.0, 1.0, 2.0, 1.0, 3.0, 2.0, 1.0, 2.0, 1.0, 1.0, 1.0, 1.0, 1.0, 2.0, 4.0, 1.0, 3.0, 1.0, 1.0, 1.0, 1.0, 1.0, 1.0, 1.0, 1.0, 1.0, 1.0, 1.0, 1.0, 1.0, 1.0, 1.0, 1.0, 1.0, 2.0, 2.0, 1.0, 1.0, 1.0, 1.0, 3.0, 1.0, 2.0, 2.0, 4.0, 1.0, 1.0, 3.0, 2.0, 1.0, 1.0, 1.0, 3.0, 3.0, 2.0, 1.0, 1.0, 1.0, 3.0, 3.0, 1.0, 1.0, 4.0, 3.0, 1.0, 1.0, 1.0, 5.0, 3.0, 3.0, 4.0, 2.0, 3.0, 3.0, 2.0, 3.0, 3.0, 2.0, 2.0, 1.0, 3.0, 1.0, 3.0, 3.0, 5.0, 1.0, 3.0, 1.0, 1.0, 1.0, 1.0, 3.0, 1.0, 5.0, 4.0, 3.0, 4.0, 3.0, 3.0, 1.0, 2.0, 3.0, 3.0, 1.0, 1.0, 2.0, 1.0, 1.0, 1.0, 1.0, 2.0, 1.0, 1.0, 1.0, 1.0, 1.0, 2.0, 1.0, 1.0, 4.0, 3.0, 1.0, 1.0, 3.0, 3.0, 1.0, 2.0, 3.0, 3.0, 3.0, 1.0, 1.0, 2.0, 1.0, 1.0, 1.0, 1.0, 1.0, 1.0, 1.0, 1.0, 2.0, 3.0, 3.0, 5.0, 1.0, 1.0, 3.0, 1.0, 3.0, 3.0, 1.0, 1.0, 2.0, 1.0, 1.0, 1.0, 1.0, 2.0, 2.0, 1.0, 1.0, 1.0, 3.0, 1.0, 1.0, 1.0, 1.0, 1.0, 1.0, 1.0, 3.0, 4.0, 1.0, 4.0, 3.0, 1.0, 2.0, 2.0, 3.0, 1.0, 1.0, 1.0, 1.0, 2.0, 1.0, 3.0, 1.0, 1.0, 1.0, 3.0, 1.0, 1.0, 1.0, 1.0, 1.0, 1.0, 1.0, 1.0, 1.0, 1.0, 1.0, 1.0, 1.0, 3.0, 1.0, 3.0, 1.0, 2.0, 1.0, 1.0, 1.0, 1.0, 3.0, 1.0, 3.0, 1.0, 3.0, 2.0, 1.0, 1.0, 1.0, 1.0, 3.0, 1.0, 5.0, 4.0, 1.0, 3.0, 1.0, 3.0, 1.0, 1.0, 1.0, 1.0, 1.0, 1.0, 1.0, 1.0, 1.0, 3.0, 1.0, 3.0, 1.0, 3.0, 1.0, 1.0, 2.0, 1.0, 1.0, 1.0, 2.0, 1.0, 1.0, 1.0, 1.0, 2.0, 1.0, 1.0, 1.0, 1.0, 1.0, 2.0, 3.0, 1.0, 1.0, 3.0, 1.0, 1.0, 3.0, 4.0, 1.0, 1.0, 2.0, 3.0, 3.0, 1.0, 1.0, 1.0, 1.0, 4.0, 1.0, 1.0, 3.0, 2.0, 1.0, 2.0, 1.0, 1.0, 3.0, 1.0, 3.0, 1.0, 2.0, 1.0, 1.0, 3.0, 1.0, 2.0, 1.0, 3.0, 1.0, 2.0, 1.0, 1.0, 3.0, 1.0, 1.0, 3.0, 1.0, 1.0, 1.0, 3.0, 1.0, 3.0, 2.0, 1.0, 1.0, 3.0, 3.0, 3.0, 1.0, 1.0, 1.0, 3.0, 1.0, 1.0, 1.0, 1.0, 1.0, 1.0, 3.0, 1.0, 1.0, 1.0, 3.0, 1.0, 1.0, 1.0, 1.0, 1.0, 1.0, 3.0, 1.0, 1.0, 1.0, 1.0, 1.0, 1.0, 1.0, 1.0, 2.0, 3.0, 1.0, 5.0, 1.0, 3.0, 1.0, 1.0, 4.0, 1.0, 1.0, 3.0, 3.0, 1.0, 1.0, 4.0, 3.0, 3.0, 4.0, 1.0, 4.0, 1.0, 3.0, 1.0, 2.0, 3.0, 1.0, 1.0, 1.0, 4.0, 1.0, 2.0, 3.0, 1.0, 4.0, 2.0, 1.0, 1.0, 1.0, 3.0, 2.0, 1.0, 2.0, 3.0, null, 1.0, 1.0, 2.0, 1.0, 1.0, 2.0, 1.0, 4.0, 1.0, 1.0, 1.0, 1.0, 1.0, 3.0, 1.0, 1.0, 3.0, 2.0, 1.0, 1.0, 1.0, 1.0, 2.0, 1.0, 1.0, 3.0, 1.0, 1.0, 2.0, 1.0, 1.0, 4.0, 3.0, 1.0, 1.0, 2.0, 2.0, 2.0, 5.0, 1.0, 1.0, 1.0, 1.0, 1.0, 3.0, 1.0, 3.0, 1.0, 4.0, 3.0], \"y\": [4.3, null, 0.0, null, null, null, null, 4.1, null, null, null, null, null, null, null, null, null, 4.4, null, 4.2, null, 4.3, 4.1, null, 4.9, 3.5, null, 2.7, 3.7, 3.8, null, 4.6, null, null, null, 4.2, 3.3, null, null, 3.6, null, 3.7, 5.0, 4.4, null, 3.2, 4.9, 3.5, null, null, null, null, null, null, null, null, 3.6, null, 3.4, 4.4, 2.4, 4.4, null, null, 3.4, 4.9, null, null, null, null, 3.9, null, 3.6, null, null, null, null, null, 4.0, null, null, null, null, null, null, null, 4.0, null, 4.6, null, null, null, null, null, 4.0, null, null, 4.4, null, null, null, 4.5, null, null, null, null, null, null, 4.3, 1.9, null, 4.0, null, 4.5, 4.5, 4.2, 3.5, 4.3, 3.2, null, null, null, null, 3.5, null, null, 3.5, 3.9, null, 4.7, null, null, null, null, 4.2, null, null, null, null, null, 3.8, 3.6, null, 4.1, 4.2, null, 4.6, null, null, null, null, null, null, null, 4.6, 4.5, 0.0, null, 4.4, 3.8, null, 0.0, 3.9, 3.2, 4.8, 3.9, null, 2.9, null, 4.0, null, null, 3.7, null, null, 4.2, 4.5, 3.4, null, null, 4.3, 4.1, 0.0, 4.0, null, 4.5, 4.2, 3.6, 3.6, null, 4.2, null, null, 4.2, 5.0, null, null, 4.4, 4.1, null, null, null, 4.1, null, null, null, null, null, 4.3, 3.8, null, 3.0, null, 4.1, 3.8, null, 3.6, 3.7, null, null, 3.2, 2.5, null, null, null, null, 4.4, 4.4, null, null, null, null, null, 2.7, 4.1, 4.1, null, 3.4, null, null, null, null, null, null, 3.2, null, 4.8, null, null, null, 4.6, 3.7, null, null, null, null, null, 3.8, 3.8, 4.7, 4.1, 4.2, 5.0, null, null, null, 4.7, null, null, null, null, 3.4, null, null, null, 3.0, null, null, null, 3.9, null, null, null, 4.4, 5.0, null, null, 3.9, 5.0, 4.5, null, 0.0, null, 4.4, null, 3.8, 3.8, 3.5, 4.0, 3.6, 2.8, 3.5, 3.2, 3.8, 2.9, 4.5, 4.8, 4.8, 3.6, 4.5, 4.9, 4.4, 2.8, 3.3, 4.2, 4.4, 5.0, 3.9, 3.6, null, 3.9, 3.3, 3.2, 4.2, 2.7, 3.6, 3.7, 3.3, 4.4, 4.1, null, 3.7, 2.3, 3.1, 3.2, 3.4, 3.4, 3.0, 4.4, 4.0, null, 4.3, 3.1, 2.5, 4.4, 3.5, null, 3.3, 4.0, null, 4.2, null, 4.2, 3.9, null, 4.1, 4.4, 4.1, 3.9, 2.8, 4.0, 3.8, 3.3, 3.1, null, 3.8, 4.2, null, null, 4.1, 3.8, 3.2, 4.2, 4.0, 4.1, null, 3.5, 3.6, null, 3.6, 4.3, 3.8, null, null, null, 4.8, 3.0, null, null, null, null, null, null, null, null, 3.5, 3.5, null, null, null, 1.9, null, null, null, null, 4.0, null, null, null, null, null, null, null, null, null, 5.0, null, null, null, null, null, 4.0, null, 4.9, 4.6, null, null, 5.0, 4.4, null, null, null, 2.3, 1.9, 3.9, 3.5, 4.2, null, 3.4, null, null, null, null, null, null, 4.0, 4.5, 3.7, 4.1, null, 4.7, null, null, 4.0, 4.4, null, null, 5.0, null, 2.3, null, null, null, null, null, null, 4.6, 4.4, null, null, null, 4.2, 2.7, null, 4.5, 3.8, 4.1, null, null, null, null, null, 3.5, 3.7, 3.9, null, 2.3, 3.9, null, null, 3.9, 4.0, 3.9, null, null, null, 1.9, null, null, null, 4.9, 4.2, 4.3, null, null, null, null, 4.4, null, 4.4, null, null, null, 4.1, null, null, 4.3, null, 2.7, null, 4.1, null, 4.1, 3.9, null, null, 2.7, 4.8, 3.8, null, null, null, null, null, null, 3.8, null, null, null, 3.4, 3.9, 3.1, 4.8, 4.6, null, null, null, 3.1, 3.7, 4.7, null, 3.8, 4.6, 4.3, null, null, 4.4, null, null, 4.1, 4.2, 3.9, null, 4.8, 3.9, null, null, 4.0, 3.4, null, null, null, 3.9, 4.1, 3.1, 3.3, null, 4.0, null, 2.7, null, null, null, null, null, 4.5, null, 3.9, null, null, 3.4, 3.2, null, 3.7, 4.1, 3.6, null, null, 3.3, 4.6, null, 3.9, 4.4, null, null, null, 4.3, null, null, 4.3, null, null, 3.7, 4.3, 3.5, null, null, 2.4, null, null, 4.4, 5.0, null, 4.6, null, null, 3.9, 4.3, null, null, 2.4, null, 3.9, null, null, null, null, null, 3.1, null, 3.0, null, null, null, 4.9, null, 4.9, null, 0.0, 4.5, 0.0, 0.0, null, 3.5, 4.3, 3.4, 0.0, null, null, 4.8, 5.0, 4.7, 5.0, null, null, null, null, null, 0.0, null, null, null, null, null, null, null, null, null, 0.0, null, 0.0, 4.1, null, null, null, null, null, null, null, 4.8, 4.5, null, null, null, null, null, null, null, null, null, null, null, null, null, null, null, null, null, null, null, null, null, null, null, 0.0, null, 3.8, null, null, null, null, null, null, 4.4, null, 4.2, 4.3, 3.5, null, null, null, null, null, null, null, null, null, null, 3.9, 4.2, null, 3.9, 3.2, 4.3, 3.9, 3.9, 4.4, 3.6, 3.7, 3.7, 3.1, 3.6, 3.0, 3.3, 4.2, null, 4.2, null, 3.9, 4.0, 4.5, null, 4.2, 3.2, null, 5.0, null, 4.2, null, 4.3, 4.0, null, 4.4, 3.3, 4.0, 4.4, 4.3, 3.2, 4.2, 4.3, 0.0, null, 0.0, 5.0, 4.4, 5.0, null, null, null, null, null, null, null, null, null, null, null, null, null, null, null, null, 5.0, 4.0, 3.1, 4.1, null, null, null, null, null, null, null, null, null, null, null, 4.1, 4.5, 4.2, 4.4, null, null, 4.2, null, null, 4.2, 3.6, null, 3.7, null, null, null, 3.9, null, 3.3, 0.0, null, 0.0, 2.4, 5.0, null, null, 4.2, 0.0, 5.0, 0.0, 3.2, 4.3, 0.0, null, 0.0, null, 3.4, null, 4.6, null, 4.2, 4.6, 2.4, 4.3, null, 3.5, null, null, 3.6, 4.0, null, null, null, 4.8, null, null, null, 4.4, null, null, null, null, 4.9, null, null, 3.5, 3.3, 3.3, null, null, null, null, 4.2, 3.9, null, 5.0, 4.0, null, null, null, null, null, 4.1, null, 4.3, 3.8, null, 3.9, null, 3.8, null, null, null, null, null, null, null, 2.5, 5.0, 3.4, null, 4.3, null, 3.1, null, null, 3.3, null, null, null, null, null, 4.6, null, null, 4.0, 4.5, 3.6, 3.2, null, null, 2.7, 4.6, null, 4.9, null, 4.0, null, 3.4, 4.1, null, null, 3.7, 3.9, 3.6, 3.9, null, null, null, 4.2, 4.0, null, 5.0, null, 1.9, 4.7, null, null, 4.4, null, 3.5, null, 3.5, null, null, 3.9, null, null, 4.0, 3.4, 4.8, null, null, null, 4.0, null, null, 4.2, null, null, null, 3.9, 3.2, 4.3, 3.7, null, null, 5.0, 4.5, 4.4, null, null, 4.0, 4.7, null, 4.6, null, null, null, null, 3.9, null, null, null, 3.1, 4.3, null, null, null, null, 3.3, 3.4, null, null, 4.0, null, null, 4.1, 5.0, null, 3.7, null, 4.7, 4.2, null, 3.1, null, 5.0, 4.0, null, 3.3, 4.3, 4.3, null, null, null, null, null, 4.0, null, null, null, 3.3, null, 4.4, 2.4, null, 3.9, 2.3, 4.1, null, null, 3.7, null, 4.5, 4.4, 3.7, 4.5, 2.4, 4.1, 4.3, 4.1, null, null, null, null, null, 4.3, null, null, 5.0, null, 4.0, 4.6, null, 4.8, null, null, null, 3.5, null, null, null, null, null, null, null, null, null, null, null, null, null, null, null, null, 4.0, 4.3, 4.0, 4.9, 4.0, 3.6, 4.8, 4.7, 3.8, null, null, 0.0, 4.5, null, null, 4.2, null, 4.3, 4.1]}],\n",
       "                        {\"showlegend\": true, \"template\": {\"data\": {\"bar\": [{\"error_x\": {\"color\": \"#2a3f5f\"}, \"error_y\": {\"color\": \"#2a3f5f\"}, \"marker\": {\"line\": {\"color\": \"#E5ECF6\", \"width\": 0.5}}, \"type\": \"bar\"}], \"barpolar\": [{\"marker\": {\"line\": {\"color\": \"#E5ECF6\", \"width\": 0.5}}, \"type\": \"barpolar\"}], \"carpet\": [{\"aaxis\": {\"endlinecolor\": \"#2a3f5f\", \"gridcolor\": \"white\", \"linecolor\": \"white\", \"minorgridcolor\": \"white\", \"startlinecolor\": \"#2a3f5f\"}, \"baxis\": {\"endlinecolor\": \"#2a3f5f\", \"gridcolor\": \"white\", \"linecolor\": \"white\", \"minorgridcolor\": \"white\", \"startlinecolor\": \"#2a3f5f\"}, \"type\": \"carpet\"}], \"choropleth\": [{\"colorbar\": {\"outlinewidth\": 0, \"ticks\": \"\"}, \"type\": \"choropleth\"}], \"contour\": [{\"colorbar\": {\"outlinewidth\": 0, \"ticks\": \"\"}, \"colorscale\": [[0.0, \"#0d0887\"], [0.1111111111111111, \"#46039f\"], [0.2222222222222222, \"#7201a8\"], [0.3333333333333333, \"#9c179e\"], [0.4444444444444444, \"#bd3786\"], [0.5555555555555556, \"#d8576b\"], [0.6666666666666666, \"#ed7953\"], [0.7777777777777778, \"#fb9f3a\"], [0.8888888888888888, \"#fdca26\"], [1.0, \"#f0f921\"]], \"type\": \"contour\"}], \"contourcarpet\": [{\"colorbar\": {\"outlinewidth\": 0, \"ticks\": \"\"}, \"type\": \"contourcarpet\"}], \"heatmap\": [{\"colorbar\": {\"outlinewidth\": 0, \"ticks\": \"\"}, \"colorscale\": [[0.0, \"#0d0887\"], [0.1111111111111111, \"#46039f\"], [0.2222222222222222, \"#7201a8\"], [0.3333333333333333, \"#9c179e\"], [0.4444444444444444, \"#bd3786\"], [0.5555555555555556, \"#d8576b\"], [0.6666666666666666, \"#ed7953\"], [0.7777777777777778, \"#fb9f3a\"], [0.8888888888888888, \"#fdca26\"], [1.0, \"#f0f921\"]], \"type\": \"heatmap\"}], \"heatmapgl\": [{\"colorbar\": {\"outlinewidth\": 0, \"ticks\": \"\"}, \"colorscale\": [[0.0, \"#0d0887\"], [0.1111111111111111, \"#46039f\"], [0.2222222222222222, \"#7201a8\"], [0.3333333333333333, \"#9c179e\"], [0.4444444444444444, \"#bd3786\"], [0.5555555555555556, \"#d8576b\"], [0.6666666666666666, \"#ed7953\"], [0.7777777777777778, \"#fb9f3a\"], [0.8888888888888888, \"#fdca26\"], [1.0, \"#f0f921\"]], \"type\": \"heatmapgl\"}], \"histogram\": [{\"marker\": {\"colorbar\": {\"outlinewidth\": 0, \"ticks\": \"\"}}, \"type\": \"histogram\"}], \"histogram2d\": [{\"colorbar\": {\"outlinewidth\": 0, \"ticks\": \"\"}, \"colorscale\": [[0.0, \"#0d0887\"], [0.1111111111111111, \"#46039f\"], [0.2222222222222222, \"#7201a8\"], [0.3333333333333333, \"#9c179e\"], [0.4444444444444444, \"#bd3786\"], [0.5555555555555556, \"#d8576b\"], [0.6666666666666666, \"#ed7953\"], [0.7777777777777778, \"#fb9f3a\"], [0.8888888888888888, \"#fdca26\"], [1.0, \"#f0f921\"]], \"type\": \"histogram2d\"}], \"histogram2dcontour\": [{\"colorbar\": {\"outlinewidth\": 0, \"ticks\": \"\"}, \"colorscale\": [[0.0, \"#0d0887\"], [0.1111111111111111, \"#46039f\"], [0.2222222222222222, \"#7201a8\"], [0.3333333333333333, \"#9c179e\"], [0.4444444444444444, \"#bd3786\"], [0.5555555555555556, \"#d8576b\"], [0.6666666666666666, \"#ed7953\"], [0.7777777777777778, \"#fb9f3a\"], [0.8888888888888888, \"#fdca26\"], [1.0, \"#f0f921\"]], \"type\": \"histogram2dcontour\"}], \"mesh3d\": [{\"colorbar\": {\"outlinewidth\": 0, \"ticks\": \"\"}, \"type\": \"mesh3d\"}], \"parcoords\": [{\"line\": {\"colorbar\": {\"outlinewidth\": 0, \"ticks\": \"\"}}, \"type\": \"parcoords\"}], \"pie\": [{\"automargin\": true, \"type\": \"pie\"}], \"scatter\": [{\"marker\": {\"colorbar\": {\"outlinewidth\": 0, \"ticks\": \"\"}}, \"type\": \"scatter\"}], \"scatter3d\": [{\"line\": {\"colorbar\": {\"outlinewidth\": 0, \"ticks\": \"\"}}, \"marker\": {\"colorbar\": {\"outlinewidth\": 0, \"ticks\": \"\"}}, \"type\": \"scatter3d\"}], \"scattercarpet\": [{\"marker\": {\"colorbar\": {\"outlinewidth\": 0, \"ticks\": \"\"}}, \"type\": \"scattercarpet\"}], \"scattergeo\": [{\"marker\": {\"colorbar\": {\"outlinewidth\": 0, \"ticks\": \"\"}}, \"type\": \"scattergeo\"}], \"scattergl\": [{\"marker\": {\"colorbar\": {\"outlinewidth\": 0, \"ticks\": \"\"}}, \"type\": \"scattergl\"}], \"scattermapbox\": [{\"marker\": {\"colorbar\": {\"outlinewidth\": 0, \"ticks\": \"\"}}, \"type\": \"scattermapbox\"}], \"scatterpolar\": [{\"marker\": {\"colorbar\": {\"outlinewidth\": 0, \"ticks\": \"\"}}, \"type\": \"scatterpolar\"}], \"scatterpolargl\": [{\"marker\": {\"colorbar\": {\"outlinewidth\": 0, \"ticks\": \"\"}}, \"type\": \"scatterpolargl\"}], \"scatterternary\": [{\"marker\": {\"colorbar\": {\"outlinewidth\": 0, \"ticks\": \"\"}}, \"type\": \"scatterternary\"}], \"surface\": [{\"colorbar\": {\"outlinewidth\": 0, \"ticks\": \"\"}, \"colorscale\": [[0.0, \"#0d0887\"], [0.1111111111111111, \"#46039f\"], [0.2222222222222222, \"#7201a8\"], [0.3333333333333333, \"#9c179e\"], [0.4444444444444444, \"#bd3786\"], [0.5555555555555556, \"#d8576b\"], [0.6666666666666666, \"#ed7953\"], [0.7777777777777778, \"#fb9f3a\"], [0.8888888888888888, \"#fdca26\"], [1.0, \"#f0f921\"]], \"type\": \"surface\"}], \"table\": [{\"cells\": {\"fill\": {\"color\": \"#EBF0F8\"}, \"line\": {\"color\": \"white\"}}, \"header\": {\"fill\": {\"color\": \"#C8D4E3\"}, \"line\": {\"color\": \"white\"}}, \"type\": \"table\"}]}, \"layout\": {\"annotationdefaults\": {\"arrowcolor\": \"#2a3f5f\", \"arrowhead\": 0, \"arrowwidth\": 1}, \"coloraxis\": {\"colorbar\": {\"outlinewidth\": 0, \"ticks\": \"\"}}, \"colorscale\": {\"diverging\": [[0, \"#8e0152\"], [0.1, \"#c51b7d\"], [0.2, \"#de77ae\"], [0.3, \"#f1b6da\"], [0.4, \"#fde0ef\"], [0.5, \"#f7f7f7\"], [0.6, \"#e6f5d0\"], [0.7, \"#b8e186\"], [0.8, \"#7fbc41\"], [0.9, \"#4d9221\"], [1, \"#276419\"]], \"sequential\": [[0.0, \"#0d0887\"], [0.1111111111111111, \"#46039f\"], [0.2222222222222222, \"#7201a8\"], [0.3333333333333333, \"#9c179e\"], [0.4444444444444444, \"#bd3786\"], [0.5555555555555556, \"#d8576b\"], [0.6666666666666666, \"#ed7953\"], [0.7777777777777778, \"#fb9f3a\"], [0.8888888888888888, \"#fdca26\"], [1.0, \"#f0f921\"]], \"sequentialminus\": [[0.0, \"#0d0887\"], [0.1111111111111111, \"#46039f\"], [0.2222222222222222, \"#7201a8\"], [0.3333333333333333, \"#9c179e\"], [0.4444444444444444, \"#bd3786\"], [0.5555555555555556, \"#d8576b\"], [0.6666666666666666, \"#ed7953\"], [0.7777777777777778, \"#fb9f3a\"], [0.8888888888888888, \"#fdca26\"], [1.0, \"#f0f921\"]]}, \"colorway\": [\"#636efa\", \"#EF553B\", \"#00cc96\", \"#ab63fa\", \"#FFA15A\", \"#19d3f3\", \"#FF6692\", \"#B6E880\", \"#FF97FF\", \"#FECB52\"], \"font\": {\"color\": \"#2a3f5f\"}, \"geo\": {\"bgcolor\": \"white\", \"lakecolor\": \"white\", \"landcolor\": \"#E5ECF6\", \"showlakes\": true, \"showland\": true, \"subunitcolor\": \"white\"}, \"hoverlabel\": {\"align\": \"left\"}, \"hovermode\": \"closest\", \"mapbox\": {\"style\": \"light\"}, \"paper_bgcolor\": \"white\", \"plot_bgcolor\": \"#E5ECF6\", \"polar\": {\"angularaxis\": {\"gridcolor\": \"white\", \"linecolor\": \"white\", \"ticks\": \"\"}, \"bgcolor\": \"#E5ECF6\", \"radialaxis\": {\"gridcolor\": \"white\", \"linecolor\": \"white\", \"ticks\": \"\"}}, \"scene\": {\"xaxis\": {\"backgroundcolor\": \"#E5ECF6\", \"gridcolor\": \"white\", \"gridwidth\": 2, \"linecolor\": \"white\", \"showbackground\": true, \"ticks\": \"\", \"zerolinecolor\": \"white\"}, \"yaxis\": {\"backgroundcolor\": \"#E5ECF6\", \"gridcolor\": \"white\", \"gridwidth\": 2, \"linecolor\": \"white\", \"showbackground\": true, \"ticks\": \"\", \"zerolinecolor\": \"white\"}, \"zaxis\": {\"backgroundcolor\": \"#E5ECF6\", \"gridcolor\": \"white\", \"gridwidth\": 2, \"linecolor\": \"white\", \"showbackground\": true, \"ticks\": \"\", \"zerolinecolor\": \"white\"}}, \"shapedefaults\": {\"line\": {\"color\": \"#2a3f5f\"}}, \"ternary\": {\"aaxis\": {\"gridcolor\": \"white\", \"linecolor\": \"white\", \"ticks\": \"\"}, \"baxis\": {\"gridcolor\": \"white\", \"linecolor\": \"white\", \"ticks\": \"\"}, \"bgcolor\": \"#E5ECF6\", \"caxis\": {\"gridcolor\": \"white\", \"linecolor\": \"white\", \"ticks\": \"\"}}, \"title\": {\"x\": 0.05}, \"xaxis\": {\"automargin\": true, \"gridcolor\": \"white\", \"linecolor\": \"white\", \"ticks\": \"\", \"title\": {\"standoff\": 15}, \"zerolinecolor\": \"white\", \"zerolinewidth\": 2}, \"yaxis\": {\"automargin\": true, \"gridcolor\": \"white\", \"linecolor\": \"white\", \"ticks\": \"\", \"title\": {\"standoff\": 15}, \"zerolinecolor\": \"white\", \"zerolinewidth\": 2}}}, \"title\": {\"text\": \"Property's star rating vs MMT review score\", \"x\": 0.5, \"y\": 0.9}, \"xaxis\": {\"title\": {\"text\": \"Property star ratings\"}}, \"yaxis\": {\"title\": {\"text\": \"Mmt review scores\"}}},\n",
       "                        {\"responsive\": true}\n",
       "                    ).then(function(){\n",
       "                            \n",
       "var gd = document.getElementById('dae135dc-6612-4801-8bfb-96d6225fe75e');\n",
       "var x = new MutationObserver(function (mutations, observer) {{\n",
       "        var display = window.getComputedStyle(gd).display;\n",
       "        if (!display || display === 'none') {{\n",
       "            console.log([gd, 'removed!']);\n",
       "            Plotly.purge(gd);\n",
       "            observer.disconnect();\n",
       "        }}\n",
       "}});\n",
       "\n",
       "// Listen for the removal of the full notebook cells\n",
       "var notebookContainer = gd.closest('#notebook-container');\n",
       "if (notebookContainer) {{\n",
       "    x.observe(notebookContainer, {childList: true});\n",
       "}}\n",
       "\n",
       "// Listen for the clearing of the current output cell\n",
       "var outputEl = gd.closest('.output');\n",
       "if (outputEl) {{\n",
       "    x.observe(outputEl, {childList: true});\n",
       "}}\n",
       "\n",
       "                        })\n",
       "                };\n",
       "                });\n",
       "            </script>\n",
       "        </div>"
      ]
     },
     "metadata": {},
     "output_type": "display_data"
    }
   ],
   "source": [
    "#colour coding the review scores\n",
    "colrs = [0 if 0<=s<=1 else 1 if 1<s<=2 else 2 if 2<s<=3 else 3\\\n",
    "    if 3<s<=4 else 4 if 4<s<=5 else -1\\\n",
    "    for s in goa['mmt_review_score'].values]\n",
    "fig = go.Figure(data=go.Scatter(x=goa.hotel_star_rating,\n",
    "                                y=goa.mmt_review_score, \n",
    "                                mode='markers',\n",
    "                                marker=dict(\n",
    "                                size=10,\n",
    "                                color=colrs),\n",
    "                                name=\"mmt review scores\"))\n",
    "fig.update_layout(title={\n",
    "    'text':\"Property's star rating vs MMT review score\",\n",
    "    'y':0.9,\n",
    "    'x':0.5},\n",
    "    xaxis_title=\"Property star ratings\",\n",
    "    yaxis_title=\"Mmt review scores\",showlegend=True)\n",
    "fig.show()"
   ]
  },
  {
   "cell_type": "markdown",
   "metadata": {},
   "source": [
    "## Content based recommender"
   ]
  },
  {
   "cell_type": "code",
   "execution_count": 241,
   "metadata": {},
   "outputs": [],
   "source": [
    "# There are lot of ascii characters which if not ignored will create wrong word frequency\n",
    "goa['hotel_overview'] = goa['hotel_overview'].apply(lambda x: x.encode(\"ascii\", \"ignore\") if x is not np.NaN else x)"
   ]
  },
  {
   "cell_type": "code",
   "execution_count": 242,
   "metadata": {},
   "outputs": [],
   "source": [
    "# function to return description on giving the id of the concerned property\n",
    "def get_details(df:pd.DataFrame, property_id:str)->dict:\n",
    "    return {property_id: [{'name': df.loc[df['property_id']== property_id][['property_name', 'hotel_overview']].values[0][0]},\n",
    "           {'name': df.loc[df['property_id']== property_id][['property_name', 'hotel_overview']].values[0][1]}]}"
   ]
  },
  {
   "cell_type": "code",
   "execution_count": 243,
   "metadata": {},
   "outputs": [],
   "source": [
    "# Generalised function to get common words\n",
    "def get_top_ngram(corpus: str, no_words=20, *ngrams_params):\n",
    "    if ngrams_params:\n",
    "        ngrams_args = [x for x in ngrams_params]\n",
    "        stop_words = ''\n",
    "        n = ''\n",
    "        for x in ngrams_args:\n",
    "            if isinstance(x, str):\n",
    "                stop_words += x\n",
    "            elif isinstance(x, int):\n",
    "                n += str(x)\n",
    "                n = int(n)\n",
    "            else:\n",
    "                return \"please enter valid stopwords or ngrams range\"  \n",
    "        if n:\n",
    "            if stop_words:\n",
    "                vec = CountVectorizer(ngram_range=(n, n), stop_words=stop_words).fit(corpus)\n",
    "            else:\n",
    "                vec = CountVectorizer(ngram_range=(n, n)).fit(corpus)\n",
    "        elif stop_words:\n",
    "            vec = CountVectorizer(stop_words='english').fit(corpus)\n",
    "            \n",
    "    else:\n",
    "        vec = CountVectorizer().fit(corpus)    \n",
    "    \n",
    "    bow = vec.transform(corpus)\n",
    "    sum_words = bow.sum(axis=0)\n",
    "    words_freq = [(word, sum_words[0, idx]) for word, idx in vec.vocabulary_.items()]\n",
    "    words_freq =sorted(words_freq, key = lambda x: x[1], reverse=True)\n",
    "    return words_freq[:no_words]"
   ]
  },
  {
   "cell_type": "code",
   "execution_count": 244,
   "metadata": {},
   "outputs": [],
   "source": [
    "top_words = pd.DataFrame(get_top_ngram(goa['hotel_overview'].dropna(), 20))\n",
    "top_words.columns = ['words', 'count']"
   ]
  },
  {
   "cell_type": "code",
   "execution_count": 245,
   "metadata": {},
   "outputs": [],
   "source": [
    "# function to plot bar chart of the top 20 words of hote description\n",
    "def plot_barcharts(df:pd.DataFrame, title: str)->None:\n",
    "    fig = go.Figure(data=[\n",
    "    go.Bar(x= df['words'],y=df['count'],text= df['words'], textposition='auto')])\n",
    "    fig.update_layout(\n",
    "    title={\n",
    "    'text':title,\n",
    "    'y':0.9,\n",
    "    'x':0.5},\n",
    "    xaxis_title=\"top words\",\n",
    "    yaxis_title=\"word counts\",\n",
    "    )\n",
    "    fig.show()\n",
    "    "
   ]
  },
  {
   "cell_type": "code",
   "execution_count": 246,
   "metadata": {},
   "outputs": [
    {
     "data": {
      "application/vnd.plotly.v1+json": {
       "config": {
        "plotlyServerURL": "https://plot.ly"
       },
       "data": [
        {
         "text": [
          "the",
          "and",
          "of",
          "is",
          "km",
          "in",
          "with",
          "to",
          "from",
          "hotel",
          "beach",
          "at",
          "goa",
          "are",
          "for",
          "guests",
          "rooms",
          "can",
          "property",
          "like"
         ],
         "textposition": "auto",
         "type": "bar",
         "x": [
          "the",
          "and",
          "of",
          "is",
          "km",
          "in",
          "with",
          "to",
          "from",
          "hotel",
          "beach",
          "at",
          "goa",
          "are",
          "for",
          "guests",
          "rooms",
          "can",
          "property",
          "like"
         ],
         "y": [
          8361,
          8147,
          4124,
          2903,
          2762,
          2620,
          2327,
          2275,
          2142,
          2085,
          2059,
          2007,
          1797,
          1780,
          1450,
          1388,
          1376,
          1277,
          1146,
          1106
         ]
        }
       ],
       "layout": {
        "template": {
         "data": {
          "bar": [
           {
            "error_x": {
             "color": "#2a3f5f"
            },
            "error_y": {
             "color": "#2a3f5f"
            },
            "marker": {
             "line": {
              "color": "#E5ECF6",
              "width": 0.5
             }
            },
            "type": "bar"
           }
          ],
          "barpolar": [
           {
            "marker": {
             "line": {
              "color": "#E5ECF6",
              "width": 0.5
             }
            },
            "type": "barpolar"
           }
          ],
          "carpet": [
           {
            "aaxis": {
             "endlinecolor": "#2a3f5f",
             "gridcolor": "white",
             "linecolor": "white",
             "minorgridcolor": "white",
             "startlinecolor": "#2a3f5f"
            },
            "baxis": {
             "endlinecolor": "#2a3f5f",
             "gridcolor": "white",
             "linecolor": "white",
             "minorgridcolor": "white",
             "startlinecolor": "#2a3f5f"
            },
            "type": "carpet"
           }
          ],
          "choropleth": [
           {
            "colorbar": {
             "outlinewidth": 0,
             "ticks": ""
            },
            "type": "choropleth"
           }
          ],
          "contour": [
           {
            "colorbar": {
             "outlinewidth": 0,
             "ticks": ""
            },
            "colorscale": [
             [
              0,
              "#0d0887"
             ],
             [
              0.1111111111111111,
              "#46039f"
             ],
             [
              0.2222222222222222,
              "#7201a8"
             ],
             [
              0.3333333333333333,
              "#9c179e"
             ],
             [
              0.4444444444444444,
              "#bd3786"
             ],
             [
              0.5555555555555556,
              "#d8576b"
             ],
             [
              0.6666666666666666,
              "#ed7953"
             ],
             [
              0.7777777777777778,
              "#fb9f3a"
             ],
             [
              0.8888888888888888,
              "#fdca26"
             ],
             [
              1,
              "#f0f921"
             ]
            ],
            "type": "contour"
           }
          ],
          "contourcarpet": [
           {
            "colorbar": {
             "outlinewidth": 0,
             "ticks": ""
            },
            "type": "contourcarpet"
           }
          ],
          "heatmap": [
           {
            "colorbar": {
             "outlinewidth": 0,
             "ticks": ""
            },
            "colorscale": [
             [
              0,
              "#0d0887"
             ],
             [
              0.1111111111111111,
              "#46039f"
             ],
             [
              0.2222222222222222,
              "#7201a8"
             ],
             [
              0.3333333333333333,
              "#9c179e"
             ],
             [
              0.4444444444444444,
              "#bd3786"
             ],
             [
              0.5555555555555556,
              "#d8576b"
             ],
             [
              0.6666666666666666,
              "#ed7953"
             ],
             [
              0.7777777777777778,
              "#fb9f3a"
             ],
             [
              0.8888888888888888,
              "#fdca26"
             ],
             [
              1,
              "#f0f921"
             ]
            ],
            "type": "heatmap"
           }
          ],
          "heatmapgl": [
           {
            "colorbar": {
             "outlinewidth": 0,
             "ticks": ""
            },
            "colorscale": [
             [
              0,
              "#0d0887"
             ],
             [
              0.1111111111111111,
              "#46039f"
             ],
             [
              0.2222222222222222,
              "#7201a8"
             ],
             [
              0.3333333333333333,
              "#9c179e"
             ],
             [
              0.4444444444444444,
              "#bd3786"
             ],
             [
              0.5555555555555556,
              "#d8576b"
             ],
             [
              0.6666666666666666,
              "#ed7953"
             ],
             [
              0.7777777777777778,
              "#fb9f3a"
             ],
             [
              0.8888888888888888,
              "#fdca26"
             ],
             [
              1,
              "#f0f921"
             ]
            ],
            "type": "heatmapgl"
           }
          ],
          "histogram": [
           {
            "marker": {
             "colorbar": {
              "outlinewidth": 0,
              "ticks": ""
             }
            },
            "type": "histogram"
           }
          ],
          "histogram2d": [
           {
            "colorbar": {
             "outlinewidth": 0,
             "ticks": ""
            },
            "colorscale": [
             [
              0,
              "#0d0887"
             ],
             [
              0.1111111111111111,
              "#46039f"
             ],
             [
              0.2222222222222222,
              "#7201a8"
             ],
             [
              0.3333333333333333,
              "#9c179e"
             ],
             [
              0.4444444444444444,
              "#bd3786"
             ],
             [
              0.5555555555555556,
              "#d8576b"
             ],
             [
              0.6666666666666666,
              "#ed7953"
             ],
             [
              0.7777777777777778,
              "#fb9f3a"
             ],
             [
              0.8888888888888888,
              "#fdca26"
             ],
             [
              1,
              "#f0f921"
             ]
            ],
            "type": "histogram2d"
           }
          ],
          "histogram2dcontour": [
           {
            "colorbar": {
             "outlinewidth": 0,
             "ticks": ""
            },
            "colorscale": [
             [
              0,
              "#0d0887"
             ],
             [
              0.1111111111111111,
              "#46039f"
             ],
             [
              0.2222222222222222,
              "#7201a8"
             ],
             [
              0.3333333333333333,
              "#9c179e"
             ],
             [
              0.4444444444444444,
              "#bd3786"
             ],
             [
              0.5555555555555556,
              "#d8576b"
             ],
             [
              0.6666666666666666,
              "#ed7953"
             ],
             [
              0.7777777777777778,
              "#fb9f3a"
             ],
             [
              0.8888888888888888,
              "#fdca26"
             ],
             [
              1,
              "#f0f921"
             ]
            ],
            "type": "histogram2dcontour"
           }
          ],
          "mesh3d": [
           {
            "colorbar": {
             "outlinewidth": 0,
             "ticks": ""
            },
            "type": "mesh3d"
           }
          ],
          "parcoords": [
           {
            "line": {
             "colorbar": {
              "outlinewidth": 0,
              "ticks": ""
             }
            },
            "type": "parcoords"
           }
          ],
          "pie": [
           {
            "automargin": true,
            "type": "pie"
           }
          ],
          "scatter": [
           {
            "marker": {
             "colorbar": {
              "outlinewidth": 0,
              "ticks": ""
             }
            },
            "type": "scatter"
           }
          ],
          "scatter3d": [
           {
            "line": {
             "colorbar": {
              "outlinewidth": 0,
              "ticks": ""
             }
            },
            "marker": {
             "colorbar": {
              "outlinewidth": 0,
              "ticks": ""
             }
            },
            "type": "scatter3d"
           }
          ],
          "scattercarpet": [
           {
            "marker": {
             "colorbar": {
              "outlinewidth": 0,
              "ticks": ""
             }
            },
            "type": "scattercarpet"
           }
          ],
          "scattergeo": [
           {
            "marker": {
             "colorbar": {
              "outlinewidth": 0,
              "ticks": ""
             }
            },
            "type": "scattergeo"
           }
          ],
          "scattergl": [
           {
            "marker": {
             "colorbar": {
              "outlinewidth": 0,
              "ticks": ""
             }
            },
            "type": "scattergl"
           }
          ],
          "scattermapbox": [
           {
            "marker": {
             "colorbar": {
              "outlinewidth": 0,
              "ticks": ""
             }
            },
            "type": "scattermapbox"
           }
          ],
          "scatterpolar": [
           {
            "marker": {
             "colorbar": {
              "outlinewidth": 0,
              "ticks": ""
             }
            },
            "type": "scatterpolar"
           }
          ],
          "scatterpolargl": [
           {
            "marker": {
             "colorbar": {
              "outlinewidth": 0,
              "ticks": ""
             }
            },
            "type": "scatterpolargl"
           }
          ],
          "scatterternary": [
           {
            "marker": {
             "colorbar": {
              "outlinewidth": 0,
              "ticks": ""
             }
            },
            "type": "scatterternary"
           }
          ],
          "surface": [
           {
            "colorbar": {
             "outlinewidth": 0,
             "ticks": ""
            },
            "colorscale": [
             [
              0,
              "#0d0887"
             ],
             [
              0.1111111111111111,
              "#46039f"
             ],
             [
              0.2222222222222222,
              "#7201a8"
             ],
             [
              0.3333333333333333,
              "#9c179e"
             ],
             [
              0.4444444444444444,
              "#bd3786"
             ],
             [
              0.5555555555555556,
              "#d8576b"
             ],
             [
              0.6666666666666666,
              "#ed7953"
             ],
             [
              0.7777777777777778,
              "#fb9f3a"
             ],
             [
              0.8888888888888888,
              "#fdca26"
             ],
             [
              1,
              "#f0f921"
             ]
            ],
            "type": "surface"
           }
          ],
          "table": [
           {
            "cells": {
             "fill": {
              "color": "#EBF0F8"
             },
             "line": {
              "color": "white"
             }
            },
            "header": {
             "fill": {
              "color": "#C8D4E3"
             },
             "line": {
              "color": "white"
             }
            },
            "type": "table"
           }
          ]
         },
         "layout": {
          "annotationdefaults": {
           "arrowcolor": "#2a3f5f",
           "arrowhead": 0,
           "arrowwidth": 1
          },
          "coloraxis": {
           "colorbar": {
            "outlinewidth": 0,
            "ticks": ""
           }
          },
          "colorscale": {
           "diverging": [
            [
             0,
             "#8e0152"
            ],
            [
             0.1,
             "#c51b7d"
            ],
            [
             0.2,
             "#de77ae"
            ],
            [
             0.3,
             "#f1b6da"
            ],
            [
             0.4,
             "#fde0ef"
            ],
            [
             0.5,
             "#f7f7f7"
            ],
            [
             0.6,
             "#e6f5d0"
            ],
            [
             0.7,
             "#b8e186"
            ],
            [
             0.8,
             "#7fbc41"
            ],
            [
             0.9,
             "#4d9221"
            ],
            [
             1,
             "#276419"
            ]
           ],
           "sequential": [
            [
             0,
             "#0d0887"
            ],
            [
             0.1111111111111111,
             "#46039f"
            ],
            [
             0.2222222222222222,
             "#7201a8"
            ],
            [
             0.3333333333333333,
             "#9c179e"
            ],
            [
             0.4444444444444444,
             "#bd3786"
            ],
            [
             0.5555555555555556,
             "#d8576b"
            ],
            [
             0.6666666666666666,
             "#ed7953"
            ],
            [
             0.7777777777777778,
             "#fb9f3a"
            ],
            [
             0.8888888888888888,
             "#fdca26"
            ],
            [
             1,
             "#f0f921"
            ]
           ],
           "sequentialminus": [
            [
             0,
             "#0d0887"
            ],
            [
             0.1111111111111111,
             "#46039f"
            ],
            [
             0.2222222222222222,
             "#7201a8"
            ],
            [
             0.3333333333333333,
             "#9c179e"
            ],
            [
             0.4444444444444444,
             "#bd3786"
            ],
            [
             0.5555555555555556,
             "#d8576b"
            ],
            [
             0.6666666666666666,
             "#ed7953"
            ],
            [
             0.7777777777777778,
             "#fb9f3a"
            ],
            [
             0.8888888888888888,
             "#fdca26"
            ],
            [
             1,
             "#f0f921"
            ]
           ]
          },
          "colorway": [
           "#636efa",
           "#EF553B",
           "#00cc96",
           "#ab63fa",
           "#FFA15A",
           "#19d3f3",
           "#FF6692",
           "#B6E880",
           "#FF97FF",
           "#FECB52"
          ],
          "font": {
           "color": "#2a3f5f"
          },
          "geo": {
           "bgcolor": "white",
           "lakecolor": "white",
           "landcolor": "#E5ECF6",
           "showlakes": true,
           "showland": true,
           "subunitcolor": "white"
          },
          "hoverlabel": {
           "align": "left"
          },
          "hovermode": "closest",
          "mapbox": {
           "style": "light"
          },
          "paper_bgcolor": "white",
          "plot_bgcolor": "#E5ECF6",
          "polar": {
           "angularaxis": {
            "gridcolor": "white",
            "linecolor": "white",
            "ticks": ""
           },
           "bgcolor": "#E5ECF6",
           "radialaxis": {
            "gridcolor": "white",
            "linecolor": "white",
            "ticks": ""
           }
          },
          "scene": {
           "xaxis": {
            "backgroundcolor": "#E5ECF6",
            "gridcolor": "white",
            "gridwidth": 2,
            "linecolor": "white",
            "showbackground": true,
            "ticks": "",
            "zerolinecolor": "white"
           },
           "yaxis": {
            "backgroundcolor": "#E5ECF6",
            "gridcolor": "white",
            "gridwidth": 2,
            "linecolor": "white",
            "showbackground": true,
            "ticks": "",
            "zerolinecolor": "white"
           },
           "zaxis": {
            "backgroundcolor": "#E5ECF6",
            "gridcolor": "white",
            "gridwidth": 2,
            "linecolor": "white",
            "showbackground": true,
            "ticks": "",
            "zerolinecolor": "white"
           }
          },
          "shapedefaults": {
           "line": {
            "color": "#2a3f5f"
           }
          },
          "ternary": {
           "aaxis": {
            "gridcolor": "white",
            "linecolor": "white",
            "ticks": ""
           },
           "baxis": {
            "gridcolor": "white",
            "linecolor": "white",
            "ticks": ""
           },
           "bgcolor": "#E5ECF6",
           "caxis": {
            "gridcolor": "white",
            "linecolor": "white",
            "ticks": ""
           }
          },
          "title": {
           "x": 0.05
          },
          "xaxis": {
           "automargin": true,
           "gridcolor": "white",
           "linecolor": "white",
           "ticks": "",
           "title": {
            "standoff": 15
           },
           "zerolinecolor": "white",
           "zerolinewidth": 2
          },
          "yaxis": {
           "automargin": true,
           "gridcolor": "white",
           "linecolor": "white",
           "ticks": "",
           "title": {
            "standoff": 15
           },
           "zerolinecolor": "white",
           "zerolinewidth": 2
          }
         }
        },
        "title": {
         "text": "Top 20 words in hotel description before removing stop words",
         "x": 0.5,
         "y": 0.9
        },
        "xaxis": {
         "title": {
          "text": "top words"
         }
        },
        "yaxis": {
         "title": {
          "text": "word counts"
         }
        }
       }
      },
      "text/html": [
       "<div>\n",
       "        \n",
       "        \n",
       "            <div id=\"d3d75cc3-3414-4ec0-a480-bf6ce7825a55\" class=\"plotly-graph-div\" style=\"height:525px; width:100%;\"></div>\n",
       "            <script type=\"text/javascript\">\n",
       "                require([\"plotly\"], function(Plotly) {\n",
       "                    window.PLOTLYENV=window.PLOTLYENV || {};\n",
       "                    \n",
       "                if (document.getElementById(\"d3d75cc3-3414-4ec0-a480-bf6ce7825a55\")) {\n",
       "                    Plotly.newPlot(\n",
       "                        'd3d75cc3-3414-4ec0-a480-bf6ce7825a55',\n",
       "                        [{\"text\": [\"the\", \"and\", \"of\", \"is\", \"km\", \"in\", \"with\", \"to\", \"from\", \"hotel\", \"beach\", \"at\", \"goa\", \"are\", \"for\", \"guests\", \"rooms\", \"can\", \"property\", \"like\"], \"textposition\": \"auto\", \"type\": \"bar\", \"x\": [\"the\", \"and\", \"of\", \"is\", \"km\", \"in\", \"with\", \"to\", \"from\", \"hotel\", \"beach\", \"at\", \"goa\", \"are\", \"for\", \"guests\", \"rooms\", \"can\", \"property\", \"like\"], \"y\": [8361, 8147, 4124, 2903, 2762, 2620, 2327, 2275, 2142, 2085, 2059, 2007, 1797, 1780, 1450, 1388, 1376, 1277, 1146, 1106]}],\n",
       "                        {\"template\": {\"data\": {\"bar\": [{\"error_x\": {\"color\": \"#2a3f5f\"}, \"error_y\": {\"color\": \"#2a3f5f\"}, \"marker\": {\"line\": {\"color\": \"#E5ECF6\", \"width\": 0.5}}, \"type\": \"bar\"}], \"barpolar\": [{\"marker\": {\"line\": {\"color\": \"#E5ECF6\", \"width\": 0.5}}, \"type\": \"barpolar\"}], \"carpet\": [{\"aaxis\": {\"endlinecolor\": \"#2a3f5f\", \"gridcolor\": \"white\", \"linecolor\": \"white\", \"minorgridcolor\": \"white\", \"startlinecolor\": \"#2a3f5f\"}, \"baxis\": {\"endlinecolor\": \"#2a3f5f\", \"gridcolor\": \"white\", \"linecolor\": \"white\", \"minorgridcolor\": \"white\", \"startlinecolor\": \"#2a3f5f\"}, \"type\": \"carpet\"}], \"choropleth\": [{\"colorbar\": {\"outlinewidth\": 0, \"ticks\": \"\"}, \"type\": \"choropleth\"}], \"contour\": [{\"colorbar\": {\"outlinewidth\": 0, \"ticks\": \"\"}, \"colorscale\": [[0.0, \"#0d0887\"], [0.1111111111111111, \"#46039f\"], [0.2222222222222222, \"#7201a8\"], [0.3333333333333333, \"#9c179e\"], [0.4444444444444444, \"#bd3786\"], [0.5555555555555556, \"#d8576b\"], [0.6666666666666666, \"#ed7953\"], [0.7777777777777778, \"#fb9f3a\"], [0.8888888888888888, \"#fdca26\"], [1.0, \"#f0f921\"]], \"type\": \"contour\"}], \"contourcarpet\": [{\"colorbar\": {\"outlinewidth\": 0, \"ticks\": \"\"}, \"type\": \"contourcarpet\"}], \"heatmap\": [{\"colorbar\": {\"outlinewidth\": 0, \"ticks\": \"\"}, \"colorscale\": [[0.0, \"#0d0887\"], [0.1111111111111111, \"#46039f\"], [0.2222222222222222, \"#7201a8\"], [0.3333333333333333, \"#9c179e\"], [0.4444444444444444, \"#bd3786\"], [0.5555555555555556, \"#d8576b\"], [0.6666666666666666, \"#ed7953\"], [0.7777777777777778, \"#fb9f3a\"], [0.8888888888888888, \"#fdca26\"], [1.0, \"#f0f921\"]], \"type\": \"heatmap\"}], \"heatmapgl\": [{\"colorbar\": {\"outlinewidth\": 0, \"ticks\": \"\"}, \"colorscale\": [[0.0, \"#0d0887\"], [0.1111111111111111, \"#46039f\"], [0.2222222222222222, \"#7201a8\"], [0.3333333333333333, \"#9c179e\"], [0.4444444444444444, \"#bd3786\"], [0.5555555555555556, \"#d8576b\"], [0.6666666666666666, \"#ed7953\"], [0.7777777777777778, \"#fb9f3a\"], [0.8888888888888888, \"#fdca26\"], [1.0, \"#f0f921\"]], \"type\": \"heatmapgl\"}], \"histogram\": [{\"marker\": {\"colorbar\": {\"outlinewidth\": 0, \"ticks\": \"\"}}, \"type\": \"histogram\"}], \"histogram2d\": [{\"colorbar\": {\"outlinewidth\": 0, \"ticks\": \"\"}, \"colorscale\": [[0.0, \"#0d0887\"], [0.1111111111111111, \"#46039f\"], [0.2222222222222222, \"#7201a8\"], [0.3333333333333333, \"#9c179e\"], [0.4444444444444444, \"#bd3786\"], [0.5555555555555556, \"#d8576b\"], [0.6666666666666666, \"#ed7953\"], [0.7777777777777778, \"#fb9f3a\"], [0.8888888888888888, \"#fdca26\"], [1.0, \"#f0f921\"]], \"type\": \"histogram2d\"}], \"histogram2dcontour\": [{\"colorbar\": {\"outlinewidth\": 0, \"ticks\": \"\"}, \"colorscale\": [[0.0, \"#0d0887\"], [0.1111111111111111, \"#46039f\"], [0.2222222222222222, \"#7201a8\"], [0.3333333333333333, \"#9c179e\"], [0.4444444444444444, \"#bd3786\"], [0.5555555555555556, \"#d8576b\"], [0.6666666666666666, \"#ed7953\"], [0.7777777777777778, \"#fb9f3a\"], [0.8888888888888888, \"#fdca26\"], [1.0, \"#f0f921\"]], \"type\": \"histogram2dcontour\"}], \"mesh3d\": [{\"colorbar\": {\"outlinewidth\": 0, \"ticks\": \"\"}, \"type\": \"mesh3d\"}], \"parcoords\": [{\"line\": {\"colorbar\": {\"outlinewidth\": 0, \"ticks\": \"\"}}, \"type\": \"parcoords\"}], \"pie\": [{\"automargin\": true, \"type\": \"pie\"}], \"scatter\": [{\"marker\": {\"colorbar\": {\"outlinewidth\": 0, \"ticks\": \"\"}}, \"type\": \"scatter\"}], \"scatter3d\": [{\"line\": {\"colorbar\": {\"outlinewidth\": 0, \"ticks\": \"\"}}, \"marker\": {\"colorbar\": {\"outlinewidth\": 0, \"ticks\": \"\"}}, \"type\": \"scatter3d\"}], \"scattercarpet\": [{\"marker\": {\"colorbar\": {\"outlinewidth\": 0, \"ticks\": \"\"}}, \"type\": \"scattercarpet\"}], \"scattergeo\": [{\"marker\": {\"colorbar\": {\"outlinewidth\": 0, \"ticks\": \"\"}}, \"type\": \"scattergeo\"}], \"scattergl\": [{\"marker\": {\"colorbar\": {\"outlinewidth\": 0, \"ticks\": \"\"}}, \"type\": \"scattergl\"}], \"scattermapbox\": [{\"marker\": {\"colorbar\": {\"outlinewidth\": 0, \"ticks\": \"\"}}, \"type\": \"scattermapbox\"}], \"scatterpolar\": [{\"marker\": {\"colorbar\": {\"outlinewidth\": 0, \"ticks\": \"\"}}, \"type\": \"scatterpolar\"}], \"scatterpolargl\": [{\"marker\": {\"colorbar\": {\"outlinewidth\": 0, \"ticks\": \"\"}}, \"type\": \"scatterpolargl\"}], \"scatterternary\": [{\"marker\": {\"colorbar\": {\"outlinewidth\": 0, \"ticks\": \"\"}}, \"type\": \"scatterternary\"}], \"surface\": [{\"colorbar\": {\"outlinewidth\": 0, \"ticks\": \"\"}, \"colorscale\": [[0.0, \"#0d0887\"], [0.1111111111111111, \"#46039f\"], [0.2222222222222222, \"#7201a8\"], [0.3333333333333333, \"#9c179e\"], [0.4444444444444444, \"#bd3786\"], [0.5555555555555556, \"#d8576b\"], [0.6666666666666666, \"#ed7953\"], [0.7777777777777778, \"#fb9f3a\"], [0.8888888888888888, \"#fdca26\"], [1.0, \"#f0f921\"]], \"type\": \"surface\"}], \"table\": [{\"cells\": {\"fill\": {\"color\": \"#EBF0F8\"}, \"line\": {\"color\": \"white\"}}, \"header\": {\"fill\": {\"color\": \"#C8D4E3\"}, \"line\": {\"color\": \"white\"}}, \"type\": \"table\"}]}, \"layout\": {\"annotationdefaults\": {\"arrowcolor\": \"#2a3f5f\", \"arrowhead\": 0, \"arrowwidth\": 1}, \"coloraxis\": {\"colorbar\": {\"outlinewidth\": 0, \"ticks\": \"\"}}, \"colorscale\": {\"diverging\": [[0, \"#8e0152\"], [0.1, \"#c51b7d\"], [0.2, \"#de77ae\"], [0.3, \"#f1b6da\"], [0.4, \"#fde0ef\"], [0.5, \"#f7f7f7\"], [0.6, \"#e6f5d0\"], [0.7, \"#b8e186\"], [0.8, \"#7fbc41\"], [0.9, \"#4d9221\"], [1, \"#276419\"]], \"sequential\": [[0.0, \"#0d0887\"], [0.1111111111111111, \"#46039f\"], [0.2222222222222222, \"#7201a8\"], [0.3333333333333333, \"#9c179e\"], [0.4444444444444444, \"#bd3786\"], [0.5555555555555556, \"#d8576b\"], [0.6666666666666666, \"#ed7953\"], [0.7777777777777778, \"#fb9f3a\"], [0.8888888888888888, \"#fdca26\"], [1.0, \"#f0f921\"]], \"sequentialminus\": [[0.0, \"#0d0887\"], [0.1111111111111111, \"#46039f\"], [0.2222222222222222, \"#7201a8\"], [0.3333333333333333, \"#9c179e\"], [0.4444444444444444, \"#bd3786\"], [0.5555555555555556, \"#d8576b\"], [0.6666666666666666, \"#ed7953\"], [0.7777777777777778, \"#fb9f3a\"], [0.8888888888888888, \"#fdca26\"], [1.0, \"#f0f921\"]]}, \"colorway\": [\"#636efa\", \"#EF553B\", \"#00cc96\", \"#ab63fa\", \"#FFA15A\", \"#19d3f3\", \"#FF6692\", \"#B6E880\", \"#FF97FF\", \"#FECB52\"], \"font\": {\"color\": \"#2a3f5f\"}, \"geo\": {\"bgcolor\": \"white\", \"lakecolor\": \"white\", \"landcolor\": \"#E5ECF6\", \"showlakes\": true, \"showland\": true, \"subunitcolor\": \"white\"}, \"hoverlabel\": {\"align\": \"left\"}, \"hovermode\": \"closest\", \"mapbox\": {\"style\": \"light\"}, \"paper_bgcolor\": \"white\", \"plot_bgcolor\": \"#E5ECF6\", \"polar\": {\"angularaxis\": {\"gridcolor\": \"white\", \"linecolor\": \"white\", \"ticks\": \"\"}, \"bgcolor\": \"#E5ECF6\", \"radialaxis\": {\"gridcolor\": \"white\", \"linecolor\": \"white\", \"ticks\": \"\"}}, \"scene\": {\"xaxis\": {\"backgroundcolor\": \"#E5ECF6\", \"gridcolor\": \"white\", \"gridwidth\": 2, \"linecolor\": \"white\", \"showbackground\": true, \"ticks\": \"\", \"zerolinecolor\": \"white\"}, \"yaxis\": {\"backgroundcolor\": \"#E5ECF6\", \"gridcolor\": \"white\", \"gridwidth\": 2, \"linecolor\": \"white\", \"showbackground\": true, \"ticks\": \"\", \"zerolinecolor\": \"white\"}, \"zaxis\": {\"backgroundcolor\": \"#E5ECF6\", \"gridcolor\": \"white\", \"gridwidth\": 2, \"linecolor\": \"white\", \"showbackground\": true, \"ticks\": \"\", \"zerolinecolor\": \"white\"}}, \"shapedefaults\": {\"line\": {\"color\": \"#2a3f5f\"}}, \"ternary\": {\"aaxis\": {\"gridcolor\": \"white\", \"linecolor\": \"white\", \"ticks\": \"\"}, \"baxis\": {\"gridcolor\": \"white\", \"linecolor\": \"white\", \"ticks\": \"\"}, \"bgcolor\": \"#E5ECF6\", \"caxis\": {\"gridcolor\": \"white\", \"linecolor\": \"white\", \"ticks\": \"\"}}, \"title\": {\"x\": 0.05}, \"xaxis\": {\"automargin\": true, \"gridcolor\": \"white\", \"linecolor\": \"white\", \"ticks\": \"\", \"title\": {\"standoff\": 15}, \"zerolinecolor\": \"white\", \"zerolinewidth\": 2}, \"yaxis\": {\"automargin\": true, \"gridcolor\": \"white\", \"linecolor\": \"white\", \"ticks\": \"\", \"title\": {\"standoff\": 15}, \"zerolinecolor\": \"white\", \"zerolinewidth\": 2}}}, \"title\": {\"text\": \"Top 20 words in hotel description before removing stop words\", \"x\": 0.5, \"y\": 0.9}, \"xaxis\": {\"title\": {\"text\": \"top words\"}}, \"yaxis\": {\"title\": {\"text\": \"word counts\"}}},\n",
       "                        {\"responsive\": true}\n",
       "                    ).then(function(){\n",
       "                            \n",
       "var gd = document.getElementById('d3d75cc3-3414-4ec0-a480-bf6ce7825a55');\n",
       "var x = new MutationObserver(function (mutations, observer) {{\n",
       "        var display = window.getComputedStyle(gd).display;\n",
       "        if (!display || display === 'none') {{\n",
       "            console.log([gd, 'removed!']);\n",
       "            Plotly.purge(gd);\n",
       "            observer.disconnect();\n",
       "        }}\n",
       "}});\n",
       "\n",
       "// Listen for the removal of the full notebook cells\n",
       "var notebookContainer = gd.closest('#notebook-container');\n",
       "if (notebookContainer) {{\n",
       "    x.observe(notebookContainer, {childList: true});\n",
       "}}\n",
       "\n",
       "// Listen for the clearing of the current output cell\n",
       "var outputEl = gd.closest('.output');\n",
       "if (outputEl) {{\n",
       "    x.observe(outputEl, {childList: true});\n",
       "}}\n",
       "\n",
       "                        })\n",
       "                };\n",
       "                });\n",
       "            </script>\n",
       "        </div>"
      ]
     },
     "metadata": {},
     "output_type": "display_data"
    }
   ],
   "source": [
    "#plot the top 20 words from the hote description\n",
    "plot_barcharts(top_words, \"Top 20 words in hotel description before removing stop words\")"
   ]
  },
  {
   "cell_type": "code",
   "execution_count": 247,
   "metadata": {},
   "outputs": [
    {
     "data": {
      "application/vnd.plotly.v1+json": {
       "config": {
        "plotlyServerURL": "https://plot.ly"
       },
       "data": [
        {
         "text": [
          "km",
          "hotel",
          "beach",
          "goa",
          "guests",
          "rooms",
          "property",
          "like",
          "room",
          "stay",
          "airport",
          "located",
          "railway",
          "station",
          "amenities",
          "offers",
          "service",
          "resort",
          "facilities",
          "pool"
         ],
         "textposition": "auto",
         "type": "bar",
         "x": [
          "km",
          "hotel",
          "beach",
          "goa",
          "guests",
          "rooms",
          "property",
          "like",
          "room",
          "stay",
          "airport",
          "located",
          "railway",
          "station",
          "amenities",
          "offers",
          "service",
          "resort",
          "facilities",
          "pool"
         ],
         "y": [
          2762,
          2085,
          2059,
          1797,
          1388,
          1376,
          1146,
          1106,
          978,
          961,
          928,
          862,
          850,
          849,
          843,
          838,
          837,
          824,
          816,
          659
         ]
        }
       ],
       "layout": {
        "template": {
         "data": {
          "bar": [
           {
            "error_x": {
             "color": "#2a3f5f"
            },
            "error_y": {
             "color": "#2a3f5f"
            },
            "marker": {
             "line": {
              "color": "#E5ECF6",
              "width": 0.5
             }
            },
            "type": "bar"
           }
          ],
          "barpolar": [
           {
            "marker": {
             "line": {
              "color": "#E5ECF6",
              "width": 0.5
             }
            },
            "type": "barpolar"
           }
          ],
          "carpet": [
           {
            "aaxis": {
             "endlinecolor": "#2a3f5f",
             "gridcolor": "white",
             "linecolor": "white",
             "minorgridcolor": "white",
             "startlinecolor": "#2a3f5f"
            },
            "baxis": {
             "endlinecolor": "#2a3f5f",
             "gridcolor": "white",
             "linecolor": "white",
             "minorgridcolor": "white",
             "startlinecolor": "#2a3f5f"
            },
            "type": "carpet"
           }
          ],
          "choropleth": [
           {
            "colorbar": {
             "outlinewidth": 0,
             "ticks": ""
            },
            "type": "choropleth"
           }
          ],
          "contour": [
           {
            "colorbar": {
             "outlinewidth": 0,
             "ticks": ""
            },
            "colorscale": [
             [
              0,
              "#0d0887"
             ],
             [
              0.1111111111111111,
              "#46039f"
             ],
             [
              0.2222222222222222,
              "#7201a8"
             ],
             [
              0.3333333333333333,
              "#9c179e"
             ],
             [
              0.4444444444444444,
              "#bd3786"
             ],
             [
              0.5555555555555556,
              "#d8576b"
             ],
             [
              0.6666666666666666,
              "#ed7953"
             ],
             [
              0.7777777777777778,
              "#fb9f3a"
             ],
             [
              0.8888888888888888,
              "#fdca26"
             ],
             [
              1,
              "#f0f921"
             ]
            ],
            "type": "contour"
           }
          ],
          "contourcarpet": [
           {
            "colorbar": {
             "outlinewidth": 0,
             "ticks": ""
            },
            "type": "contourcarpet"
           }
          ],
          "heatmap": [
           {
            "colorbar": {
             "outlinewidth": 0,
             "ticks": ""
            },
            "colorscale": [
             [
              0,
              "#0d0887"
             ],
             [
              0.1111111111111111,
              "#46039f"
             ],
             [
              0.2222222222222222,
              "#7201a8"
             ],
             [
              0.3333333333333333,
              "#9c179e"
             ],
             [
              0.4444444444444444,
              "#bd3786"
             ],
             [
              0.5555555555555556,
              "#d8576b"
             ],
             [
              0.6666666666666666,
              "#ed7953"
             ],
             [
              0.7777777777777778,
              "#fb9f3a"
             ],
             [
              0.8888888888888888,
              "#fdca26"
             ],
             [
              1,
              "#f0f921"
             ]
            ],
            "type": "heatmap"
           }
          ],
          "heatmapgl": [
           {
            "colorbar": {
             "outlinewidth": 0,
             "ticks": ""
            },
            "colorscale": [
             [
              0,
              "#0d0887"
             ],
             [
              0.1111111111111111,
              "#46039f"
             ],
             [
              0.2222222222222222,
              "#7201a8"
             ],
             [
              0.3333333333333333,
              "#9c179e"
             ],
             [
              0.4444444444444444,
              "#bd3786"
             ],
             [
              0.5555555555555556,
              "#d8576b"
             ],
             [
              0.6666666666666666,
              "#ed7953"
             ],
             [
              0.7777777777777778,
              "#fb9f3a"
             ],
             [
              0.8888888888888888,
              "#fdca26"
             ],
             [
              1,
              "#f0f921"
             ]
            ],
            "type": "heatmapgl"
           }
          ],
          "histogram": [
           {
            "marker": {
             "colorbar": {
              "outlinewidth": 0,
              "ticks": ""
             }
            },
            "type": "histogram"
           }
          ],
          "histogram2d": [
           {
            "colorbar": {
             "outlinewidth": 0,
             "ticks": ""
            },
            "colorscale": [
             [
              0,
              "#0d0887"
             ],
             [
              0.1111111111111111,
              "#46039f"
             ],
             [
              0.2222222222222222,
              "#7201a8"
             ],
             [
              0.3333333333333333,
              "#9c179e"
             ],
             [
              0.4444444444444444,
              "#bd3786"
             ],
             [
              0.5555555555555556,
              "#d8576b"
             ],
             [
              0.6666666666666666,
              "#ed7953"
             ],
             [
              0.7777777777777778,
              "#fb9f3a"
             ],
             [
              0.8888888888888888,
              "#fdca26"
             ],
             [
              1,
              "#f0f921"
             ]
            ],
            "type": "histogram2d"
           }
          ],
          "histogram2dcontour": [
           {
            "colorbar": {
             "outlinewidth": 0,
             "ticks": ""
            },
            "colorscale": [
             [
              0,
              "#0d0887"
             ],
             [
              0.1111111111111111,
              "#46039f"
             ],
             [
              0.2222222222222222,
              "#7201a8"
             ],
             [
              0.3333333333333333,
              "#9c179e"
             ],
             [
              0.4444444444444444,
              "#bd3786"
             ],
             [
              0.5555555555555556,
              "#d8576b"
             ],
             [
              0.6666666666666666,
              "#ed7953"
             ],
             [
              0.7777777777777778,
              "#fb9f3a"
             ],
             [
              0.8888888888888888,
              "#fdca26"
             ],
             [
              1,
              "#f0f921"
             ]
            ],
            "type": "histogram2dcontour"
           }
          ],
          "mesh3d": [
           {
            "colorbar": {
             "outlinewidth": 0,
             "ticks": ""
            },
            "type": "mesh3d"
           }
          ],
          "parcoords": [
           {
            "line": {
             "colorbar": {
              "outlinewidth": 0,
              "ticks": ""
             }
            },
            "type": "parcoords"
           }
          ],
          "pie": [
           {
            "automargin": true,
            "type": "pie"
           }
          ],
          "scatter": [
           {
            "marker": {
             "colorbar": {
              "outlinewidth": 0,
              "ticks": ""
             }
            },
            "type": "scatter"
           }
          ],
          "scatter3d": [
           {
            "line": {
             "colorbar": {
              "outlinewidth": 0,
              "ticks": ""
             }
            },
            "marker": {
             "colorbar": {
              "outlinewidth": 0,
              "ticks": ""
             }
            },
            "type": "scatter3d"
           }
          ],
          "scattercarpet": [
           {
            "marker": {
             "colorbar": {
              "outlinewidth": 0,
              "ticks": ""
             }
            },
            "type": "scattercarpet"
           }
          ],
          "scattergeo": [
           {
            "marker": {
             "colorbar": {
              "outlinewidth": 0,
              "ticks": ""
             }
            },
            "type": "scattergeo"
           }
          ],
          "scattergl": [
           {
            "marker": {
             "colorbar": {
              "outlinewidth": 0,
              "ticks": ""
             }
            },
            "type": "scattergl"
           }
          ],
          "scattermapbox": [
           {
            "marker": {
             "colorbar": {
              "outlinewidth": 0,
              "ticks": ""
             }
            },
            "type": "scattermapbox"
           }
          ],
          "scatterpolar": [
           {
            "marker": {
             "colorbar": {
              "outlinewidth": 0,
              "ticks": ""
             }
            },
            "type": "scatterpolar"
           }
          ],
          "scatterpolargl": [
           {
            "marker": {
             "colorbar": {
              "outlinewidth": 0,
              "ticks": ""
             }
            },
            "type": "scatterpolargl"
           }
          ],
          "scatterternary": [
           {
            "marker": {
             "colorbar": {
              "outlinewidth": 0,
              "ticks": ""
             }
            },
            "type": "scatterternary"
           }
          ],
          "surface": [
           {
            "colorbar": {
             "outlinewidth": 0,
             "ticks": ""
            },
            "colorscale": [
             [
              0,
              "#0d0887"
             ],
             [
              0.1111111111111111,
              "#46039f"
             ],
             [
              0.2222222222222222,
              "#7201a8"
             ],
             [
              0.3333333333333333,
              "#9c179e"
             ],
             [
              0.4444444444444444,
              "#bd3786"
             ],
             [
              0.5555555555555556,
              "#d8576b"
             ],
             [
              0.6666666666666666,
              "#ed7953"
             ],
             [
              0.7777777777777778,
              "#fb9f3a"
             ],
             [
              0.8888888888888888,
              "#fdca26"
             ],
             [
              1,
              "#f0f921"
             ]
            ],
            "type": "surface"
           }
          ],
          "table": [
           {
            "cells": {
             "fill": {
              "color": "#EBF0F8"
             },
             "line": {
              "color": "white"
             }
            },
            "header": {
             "fill": {
              "color": "#C8D4E3"
             },
             "line": {
              "color": "white"
             }
            },
            "type": "table"
           }
          ]
         },
         "layout": {
          "annotationdefaults": {
           "arrowcolor": "#2a3f5f",
           "arrowhead": 0,
           "arrowwidth": 1
          },
          "coloraxis": {
           "colorbar": {
            "outlinewidth": 0,
            "ticks": ""
           }
          },
          "colorscale": {
           "diverging": [
            [
             0,
             "#8e0152"
            ],
            [
             0.1,
             "#c51b7d"
            ],
            [
             0.2,
             "#de77ae"
            ],
            [
             0.3,
             "#f1b6da"
            ],
            [
             0.4,
             "#fde0ef"
            ],
            [
             0.5,
             "#f7f7f7"
            ],
            [
             0.6,
             "#e6f5d0"
            ],
            [
             0.7,
             "#b8e186"
            ],
            [
             0.8,
             "#7fbc41"
            ],
            [
             0.9,
             "#4d9221"
            ],
            [
             1,
             "#276419"
            ]
           ],
           "sequential": [
            [
             0,
             "#0d0887"
            ],
            [
             0.1111111111111111,
             "#46039f"
            ],
            [
             0.2222222222222222,
             "#7201a8"
            ],
            [
             0.3333333333333333,
             "#9c179e"
            ],
            [
             0.4444444444444444,
             "#bd3786"
            ],
            [
             0.5555555555555556,
             "#d8576b"
            ],
            [
             0.6666666666666666,
             "#ed7953"
            ],
            [
             0.7777777777777778,
             "#fb9f3a"
            ],
            [
             0.8888888888888888,
             "#fdca26"
            ],
            [
             1,
             "#f0f921"
            ]
           ],
           "sequentialminus": [
            [
             0,
             "#0d0887"
            ],
            [
             0.1111111111111111,
             "#46039f"
            ],
            [
             0.2222222222222222,
             "#7201a8"
            ],
            [
             0.3333333333333333,
             "#9c179e"
            ],
            [
             0.4444444444444444,
             "#bd3786"
            ],
            [
             0.5555555555555556,
             "#d8576b"
            ],
            [
             0.6666666666666666,
             "#ed7953"
            ],
            [
             0.7777777777777778,
             "#fb9f3a"
            ],
            [
             0.8888888888888888,
             "#fdca26"
            ],
            [
             1,
             "#f0f921"
            ]
           ]
          },
          "colorway": [
           "#636efa",
           "#EF553B",
           "#00cc96",
           "#ab63fa",
           "#FFA15A",
           "#19d3f3",
           "#FF6692",
           "#B6E880",
           "#FF97FF",
           "#FECB52"
          ],
          "font": {
           "color": "#2a3f5f"
          },
          "geo": {
           "bgcolor": "white",
           "lakecolor": "white",
           "landcolor": "#E5ECF6",
           "showlakes": true,
           "showland": true,
           "subunitcolor": "white"
          },
          "hoverlabel": {
           "align": "left"
          },
          "hovermode": "closest",
          "mapbox": {
           "style": "light"
          },
          "paper_bgcolor": "white",
          "plot_bgcolor": "#E5ECF6",
          "polar": {
           "angularaxis": {
            "gridcolor": "white",
            "linecolor": "white",
            "ticks": ""
           },
           "bgcolor": "#E5ECF6",
           "radialaxis": {
            "gridcolor": "white",
            "linecolor": "white",
            "ticks": ""
           }
          },
          "scene": {
           "xaxis": {
            "backgroundcolor": "#E5ECF6",
            "gridcolor": "white",
            "gridwidth": 2,
            "linecolor": "white",
            "showbackground": true,
            "ticks": "",
            "zerolinecolor": "white"
           },
           "yaxis": {
            "backgroundcolor": "#E5ECF6",
            "gridcolor": "white",
            "gridwidth": 2,
            "linecolor": "white",
            "showbackground": true,
            "ticks": "",
            "zerolinecolor": "white"
           },
           "zaxis": {
            "backgroundcolor": "#E5ECF6",
            "gridcolor": "white",
            "gridwidth": 2,
            "linecolor": "white",
            "showbackground": true,
            "ticks": "",
            "zerolinecolor": "white"
           }
          },
          "shapedefaults": {
           "line": {
            "color": "#2a3f5f"
           }
          },
          "ternary": {
           "aaxis": {
            "gridcolor": "white",
            "linecolor": "white",
            "ticks": ""
           },
           "baxis": {
            "gridcolor": "white",
            "linecolor": "white",
            "ticks": ""
           },
           "bgcolor": "#E5ECF6",
           "caxis": {
            "gridcolor": "white",
            "linecolor": "white",
            "ticks": ""
           }
          },
          "title": {
           "x": 0.05
          },
          "xaxis": {
           "automargin": true,
           "gridcolor": "white",
           "linecolor": "white",
           "ticks": "",
           "title": {
            "standoff": 15
           },
           "zerolinecolor": "white",
           "zerolinewidth": 2
          },
          "yaxis": {
           "automargin": true,
           "gridcolor": "white",
           "linecolor": "white",
           "ticks": "",
           "title": {
            "standoff": 15
           },
           "zerolinecolor": "white",
           "zerolinewidth": 2
          }
         }
        },
        "title": {
         "text": "Top 20 words in hotel description after removing stop words",
         "x": 0.5,
         "y": 0.9
        },
        "xaxis": {
         "title": {
          "text": "top words"
         }
        },
        "yaxis": {
         "title": {
          "text": "word counts"
         }
        }
       }
      },
      "text/html": [
       "<div>\n",
       "        \n",
       "        \n",
       "            <div id=\"bc1565d8-ebf1-47d8-9b69-c7fece325625\" class=\"plotly-graph-div\" style=\"height:525px; width:100%;\"></div>\n",
       "            <script type=\"text/javascript\">\n",
       "                require([\"plotly\"], function(Plotly) {\n",
       "                    window.PLOTLYENV=window.PLOTLYENV || {};\n",
       "                    \n",
       "                if (document.getElementById(\"bc1565d8-ebf1-47d8-9b69-c7fece325625\")) {\n",
       "                    Plotly.newPlot(\n",
       "                        'bc1565d8-ebf1-47d8-9b69-c7fece325625',\n",
       "                        [{\"text\": [\"km\", \"hotel\", \"beach\", \"goa\", \"guests\", \"rooms\", \"property\", \"like\", \"room\", \"stay\", \"airport\", \"located\", \"railway\", \"station\", \"amenities\", \"offers\", \"service\", \"resort\", \"facilities\", \"pool\"], \"textposition\": \"auto\", \"type\": \"bar\", \"x\": [\"km\", \"hotel\", \"beach\", \"goa\", \"guests\", \"rooms\", \"property\", \"like\", \"room\", \"stay\", \"airport\", \"located\", \"railway\", \"station\", \"amenities\", \"offers\", \"service\", \"resort\", \"facilities\", \"pool\"], \"y\": [2762, 2085, 2059, 1797, 1388, 1376, 1146, 1106, 978, 961, 928, 862, 850, 849, 843, 838, 837, 824, 816, 659]}],\n",
       "                        {\"template\": {\"data\": {\"bar\": [{\"error_x\": {\"color\": \"#2a3f5f\"}, \"error_y\": {\"color\": \"#2a3f5f\"}, \"marker\": {\"line\": {\"color\": \"#E5ECF6\", \"width\": 0.5}}, \"type\": \"bar\"}], \"barpolar\": [{\"marker\": {\"line\": {\"color\": \"#E5ECF6\", \"width\": 0.5}}, \"type\": \"barpolar\"}], \"carpet\": [{\"aaxis\": {\"endlinecolor\": \"#2a3f5f\", \"gridcolor\": \"white\", \"linecolor\": \"white\", \"minorgridcolor\": \"white\", \"startlinecolor\": \"#2a3f5f\"}, \"baxis\": {\"endlinecolor\": \"#2a3f5f\", \"gridcolor\": \"white\", \"linecolor\": \"white\", \"minorgridcolor\": \"white\", \"startlinecolor\": \"#2a3f5f\"}, \"type\": \"carpet\"}], \"choropleth\": [{\"colorbar\": {\"outlinewidth\": 0, \"ticks\": \"\"}, \"type\": \"choropleth\"}], \"contour\": [{\"colorbar\": {\"outlinewidth\": 0, \"ticks\": \"\"}, \"colorscale\": [[0.0, \"#0d0887\"], [0.1111111111111111, \"#46039f\"], [0.2222222222222222, \"#7201a8\"], [0.3333333333333333, \"#9c179e\"], [0.4444444444444444, \"#bd3786\"], [0.5555555555555556, \"#d8576b\"], [0.6666666666666666, \"#ed7953\"], [0.7777777777777778, \"#fb9f3a\"], [0.8888888888888888, \"#fdca26\"], [1.0, \"#f0f921\"]], \"type\": \"contour\"}], \"contourcarpet\": [{\"colorbar\": {\"outlinewidth\": 0, \"ticks\": \"\"}, \"type\": \"contourcarpet\"}], \"heatmap\": [{\"colorbar\": {\"outlinewidth\": 0, \"ticks\": \"\"}, \"colorscale\": [[0.0, \"#0d0887\"], [0.1111111111111111, \"#46039f\"], [0.2222222222222222, \"#7201a8\"], [0.3333333333333333, \"#9c179e\"], [0.4444444444444444, \"#bd3786\"], [0.5555555555555556, \"#d8576b\"], [0.6666666666666666, \"#ed7953\"], [0.7777777777777778, \"#fb9f3a\"], [0.8888888888888888, \"#fdca26\"], [1.0, \"#f0f921\"]], \"type\": \"heatmap\"}], \"heatmapgl\": [{\"colorbar\": {\"outlinewidth\": 0, \"ticks\": \"\"}, \"colorscale\": [[0.0, \"#0d0887\"], [0.1111111111111111, \"#46039f\"], [0.2222222222222222, \"#7201a8\"], [0.3333333333333333, \"#9c179e\"], [0.4444444444444444, \"#bd3786\"], [0.5555555555555556, \"#d8576b\"], [0.6666666666666666, \"#ed7953\"], [0.7777777777777778, \"#fb9f3a\"], [0.8888888888888888, \"#fdca26\"], [1.0, \"#f0f921\"]], \"type\": \"heatmapgl\"}], \"histogram\": [{\"marker\": {\"colorbar\": {\"outlinewidth\": 0, \"ticks\": \"\"}}, \"type\": \"histogram\"}], \"histogram2d\": [{\"colorbar\": {\"outlinewidth\": 0, \"ticks\": \"\"}, \"colorscale\": [[0.0, \"#0d0887\"], [0.1111111111111111, \"#46039f\"], [0.2222222222222222, \"#7201a8\"], [0.3333333333333333, \"#9c179e\"], [0.4444444444444444, \"#bd3786\"], [0.5555555555555556, \"#d8576b\"], [0.6666666666666666, \"#ed7953\"], [0.7777777777777778, \"#fb9f3a\"], [0.8888888888888888, \"#fdca26\"], [1.0, \"#f0f921\"]], \"type\": \"histogram2d\"}], \"histogram2dcontour\": [{\"colorbar\": {\"outlinewidth\": 0, \"ticks\": \"\"}, \"colorscale\": [[0.0, \"#0d0887\"], [0.1111111111111111, \"#46039f\"], [0.2222222222222222, \"#7201a8\"], [0.3333333333333333, \"#9c179e\"], [0.4444444444444444, \"#bd3786\"], [0.5555555555555556, \"#d8576b\"], [0.6666666666666666, \"#ed7953\"], [0.7777777777777778, \"#fb9f3a\"], [0.8888888888888888, \"#fdca26\"], [1.0, \"#f0f921\"]], \"type\": \"histogram2dcontour\"}], \"mesh3d\": [{\"colorbar\": {\"outlinewidth\": 0, \"ticks\": \"\"}, \"type\": \"mesh3d\"}], \"parcoords\": [{\"line\": {\"colorbar\": {\"outlinewidth\": 0, \"ticks\": \"\"}}, \"type\": \"parcoords\"}], \"pie\": [{\"automargin\": true, \"type\": \"pie\"}], \"scatter\": [{\"marker\": {\"colorbar\": {\"outlinewidth\": 0, \"ticks\": \"\"}}, \"type\": \"scatter\"}], \"scatter3d\": [{\"line\": {\"colorbar\": {\"outlinewidth\": 0, \"ticks\": \"\"}}, \"marker\": {\"colorbar\": {\"outlinewidth\": 0, \"ticks\": \"\"}}, \"type\": \"scatter3d\"}], \"scattercarpet\": [{\"marker\": {\"colorbar\": {\"outlinewidth\": 0, \"ticks\": \"\"}}, \"type\": \"scattercarpet\"}], \"scattergeo\": [{\"marker\": {\"colorbar\": {\"outlinewidth\": 0, \"ticks\": \"\"}}, \"type\": \"scattergeo\"}], \"scattergl\": [{\"marker\": {\"colorbar\": {\"outlinewidth\": 0, \"ticks\": \"\"}}, \"type\": \"scattergl\"}], \"scattermapbox\": [{\"marker\": {\"colorbar\": {\"outlinewidth\": 0, \"ticks\": \"\"}}, \"type\": \"scattermapbox\"}], \"scatterpolar\": [{\"marker\": {\"colorbar\": {\"outlinewidth\": 0, \"ticks\": \"\"}}, \"type\": \"scatterpolar\"}], \"scatterpolargl\": [{\"marker\": {\"colorbar\": {\"outlinewidth\": 0, \"ticks\": \"\"}}, \"type\": \"scatterpolargl\"}], \"scatterternary\": [{\"marker\": {\"colorbar\": {\"outlinewidth\": 0, \"ticks\": \"\"}}, \"type\": \"scatterternary\"}], \"surface\": [{\"colorbar\": {\"outlinewidth\": 0, \"ticks\": \"\"}, \"colorscale\": [[0.0, \"#0d0887\"], [0.1111111111111111, \"#46039f\"], [0.2222222222222222, \"#7201a8\"], [0.3333333333333333, \"#9c179e\"], [0.4444444444444444, \"#bd3786\"], [0.5555555555555556, \"#d8576b\"], [0.6666666666666666, \"#ed7953\"], [0.7777777777777778, \"#fb9f3a\"], [0.8888888888888888, \"#fdca26\"], [1.0, \"#f0f921\"]], \"type\": \"surface\"}], \"table\": [{\"cells\": {\"fill\": {\"color\": \"#EBF0F8\"}, \"line\": {\"color\": \"white\"}}, \"header\": {\"fill\": {\"color\": \"#C8D4E3\"}, \"line\": {\"color\": \"white\"}}, \"type\": \"table\"}]}, \"layout\": {\"annotationdefaults\": {\"arrowcolor\": \"#2a3f5f\", \"arrowhead\": 0, \"arrowwidth\": 1}, \"coloraxis\": {\"colorbar\": {\"outlinewidth\": 0, \"ticks\": \"\"}}, \"colorscale\": {\"diverging\": [[0, \"#8e0152\"], [0.1, \"#c51b7d\"], [0.2, \"#de77ae\"], [0.3, \"#f1b6da\"], [0.4, \"#fde0ef\"], [0.5, \"#f7f7f7\"], [0.6, \"#e6f5d0\"], [0.7, \"#b8e186\"], [0.8, \"#7fbc41\"], [0.9, \"#4d9221\"], [1, \"#276419\"]], \"sequential\": [[0.0, \"#0d0887\"], [0.1111111111111111, \"#46039f\"], [0.2222222222222222, \"#7201a8\"], [0.3333333333333333, \"#9c179e\"], [0.4444444444444444, \"#bd3786\"], [0.5555555555555556, \"#d8576b\"], [0.6666666666666666, \"#ed7953\"], [0.7777777777777778, \"#fb9f3a\"], [0.8888888888888888, \"#fdca26\"], [1.0, \"#f0f921\"]], \"sequentialminus\": [[0.0, \"#0d0887\"], [0.1111111111111111, \"#46039f\"], [0.2222222222222222, \"#7201a8\"], [0.3333333333333333, \"#9c179e\"], [0.4444444444444444, \"#bd3786\"], [0.5555555555555556, \"#d8576b\"], [0.6666666666666666, \"#ed7953\"], [0.7777777777777778, \"#fb9f3a\"], [0.8888888888888888, \"#fdca26\"], [1.0, \"#f0f921\"]]}, \"colorway\": [\"#636efa\", \"#EF553B\", \"#00cc96\", \"#ab63fa\", \"#FFA15A\", \"#19d3f3\", \"#FF6692\", \"#B6E880\", \"#FF97FF\", \"#FECB52\"], \"font\": {\"color\": \"#2a3f5f\"}, \"geo\": {\"bgcolor\": \"white\", \"lakecolor\": \"white\", \"landcolor\": \"#E5ECF6\", \"showlakes\": true, \"showland\": true, \"subunitcolor\": \"white\"}, \"hoverlabel\": {\"align\": \"left\"}, \"hovermode\": \"closest\", \"mapbox\": {\"style\": \"light\"}, \"paper_bgcolor\": \"white\", \"plot_bgcolor\": \"#E5ECF6\", \"polar\": {\"angularaxis\": {\"gridcolor\": \"white\", \"linecolor\": \"white\", \"ticks\": \"\"}, \"bgcolor\": \"#E5ECF6\", \"radialaxis\": {\"gridcolor\": \"white\", \"linecolor\": \"white\", \"ticks\": \"\"}}, \"scene\": {\"xaxis\": {\"backgroundcolor\": \"#E5ECF6\", \"gridcolor\": \"white\", \"gridwidth\": 2, \"linecolor\": \"white\", \"showbackground\": true, \"ticks\": \"\", \"zerolinecolor\": \"white\"}, \"yaxis\": {\"backgroundcolor\": \"#E5ECF6\", \"gridcolor\": \"white\", \"gridwidth\": 2, \"linecolor\": \"white\", \"showbackground\": true, \"ticks\": \"\", \"zerolinecolor\": \"white\"}, \"zaxis\": {\"backgroundcolor\": \"#E5ECF6\", \"gridcolor\": \"white\", \"gridwidth\": 2, \"linecolor\": \"white\", \"showbackground\": true, \"ticks\": \"\", \"zerolinecolor\": \"white\"}}, \"shapedefaults\": {\"line\": {\"color\": \"#2a3f5f\"}}, \"ternary\": {\"aaxis\": {\"gridcolor\": \"white\", \"linecolor\": \"white\", \"ticks\": \"\"}, \"baxis\": {\"gridcolor\": \"white\", \"linecolor\": \"white\", \"ticks\": \"\"}, \"bgcolor\": \"#E5ECF6\", \"caxis\": {\"gridcolor\": \"white\", \"linecolor\": \"white\", \"ticks\": \"\"}}, \"title\": {\"x\": 0.05}, \"xaxis\": {\"automargin\": true, \"gridcolor\": \"white\", \"linecolor\": \"white\", \"ticks\": \"\", \"title\": {\"standoff\": 15}, \"zerolinecolor\": \"white\", \"zerolinewidth\": 2}, \"yaxis\": {\"automargin\": true, \"gridcolor\": \"white\", \"linecolor\": \"white\", \"ticks\": \"\", \"title\": {\"standoff\": 15}, \"zerolinecolor\": \"white\", \"zerolinewidth\": 2}}}, \"title\": {\"text\": \"Top 20 words in hotel description after removing stop words\", \"x\": 0.5, \"y\": 0.9}, \"xaxis\": {\"title\": {\"text\": \"top words\"}}, \"yaxis\": {\"title\": {\"text\": \"word counts\"}}},\n",
       "                        {\"responsive\": true}\n",
       "                    ).then(function(){\n",
       "                            \n",
       "var gd = document.getElementById('bc1565d8-ebf1-47d8-9b69-c7fece325625');\n",
       "var x = new MutationObserver(function (mutations, observer) {{\n",
       "        var display = window.getComputedStyle(gd).display;\n",
       "        if (!display || display === 'none') {{\n",
       "            console.log([gd, 'removed!']);\n",
       "            Plotly.purge(gd);\n",
       "            observer.disconnect();\n",
       "        }}\n",
       "}});\n",
       "\n",
       "// Listen for the removal of the full notebook cells\n",
       "var notebookContainer = gd.closest('#notebook-container');\n",
       "if (notebookContainer) {{\n",
       "    x.observe(notebookContainer, {childList: true});\n",
       "}}\n",
       "\n",
       "// Listen for the clearing of the current output cell\n",
       "var outputEl = gd.closest('.output');\n",
       "if (outputEl) {{\n",
       "    x.observe(outputEl, {childList: true});\n",
       "}}\n",
       "\n",
       "                        })\n",
       "                };\n",
       "                });\n",
       "            </script>\n",
       "        </div>"
      ]
     },
     "metadata": {},
     "output_type": "display_data"
    }
   ],
   "source": [
    "top_words = pd.DataFrame(get_top_ngram(goa['hotel_overview'].dropna(), 20, 'english'))\n",
    "top_words.columns = ['words', 'count']\n",
    "plot_barcharts(top_words, \"Top 20 words in hotel description after removing stop words\")"
   ]
  },
  {
   "cell_type": "code",
   "execution_count": 248,
   "metadata": {},
   "outputs": [
    {
     "data": {
      "application/vnd.plotly.v1+json": {
       "config": {
        "plotlyServerURL": "https://plot.ly"
       },
       "data": [
        {
         "text": [
          "the hotel",
          "km from",
          "of the",
          "railway station",
          "the property",
          "at the",
          "in the",
          "guests can",
          "and many",
          "swimming pool",
          "is located",
          "from the",
          "many more",
          "beach km",
          "stay at",
          "doctor on",
          "on call",
          "international airport",
          "goa international",
          "wi fi"
         ],
         "textposition": "auto",
         "type": "bar",
         "x": [
          "the hotel",
          "km from",
          "of the",
          "railway station",
          "the property",
          "at the",
          "in the",
          "guests can",
          "and many",
          "swimming pool",
          "is located",
          "from the",
          "many more",
          "beach km",
          "stay at",
          "doctor on",
          "on call",
          "international airport",
          "goa international",
          "wi fi"
         ],
         "y": [
          1529,
          1087,
          948,
          826,
          687,
          652,
          628,
          583,
          514,
          485,
          469,
          451,
          440,
          432,
          416,
          382,
          379,
          378,
          375,
          374
         ]
        }
       ],
       "layout": {
        "template": {
         "data": {
          "bar": [
           {
            "error_x": {
             "color": "#2a3f5f"
            },
            "error_y": {
             "color": "#2a3f5f"
            },
            "marker": {
             "line": {
              "color": "#E5ECF6",
              "width": 0.5
             }
            },
            "type": "bar"
           }
          ],
          "barpolar": [
           {
            "marker": {
             "line": {
              "color": "#E5ECF6",
              "width": 0.5
             }
            },
            "type": "barpolar"
           }
          ],
          "carpet": [
           {
            "aaxis": {
             "endlinecolor": "#2a3f5f",
             "gridcolor": "white",
             "linecolor": "white",
             "minorgridcolor": "white",
             "startlinecolor": "#2a3f5f"
            },
            "baxis": {
             "endlinecolor": "#2a3f5f",
             "gridcolor": "white",
             "linecolor": "white",
             "minorgridcolor": "white",
             "startlinecolor": "#2a3f5f"
            },
            "type": "carpet"
           }
          ],
          "choropleth": [
           {
            "colorbar": {
             "outlinewidth": 0,
             "ticks": ""
            },
            "type": "choropleth"
           }
          ],
          "contour": [
           {
            "colorbar": {
             "outlinewidth": 0,
             "ticks": ""
            },
            "colorscale": [
             [
              0,
              "#0d0887"
             ],
             [
              0.1111111111111111,
              "#46039f"
             ],
             [
              0.2222222222222222,
              "#7201a8"
             ],
             [
              0.3333333333333333,
              "#9c179e"
             ],
             [
              0.4444444444444444,
              "#bd3786"
             ],
             [
              0.5555555555555556,
              "#d8576b"
             ],
             [
              0.6666666666666666,
              "#ed7953"
             ],
             [
              0.7777777777777778,
              "#fb9f3a"
             ],
             [
              0.8888888888888888,
              "#fdca26"
             ],
             [
              1,
              "#f0f921"
             ]
            ],
            "type": "contour"
           }
          ],
          "contourcarpet": [
           {
            "colorbar": {
             "outlinewidth": 0,
             "ticks": ""
            },
            "type": "contourcarpet"
           }
          ],
          "heatmap": [
           {
            "colorbar": {
             "outlinewidth": 0,
             "ticks": ""
            },
            "colorscale": [
             [
              0,
              "#0d0887"
             ],
             [
              0.1111111111111111,
              "#46039f"
             ],
             [
              0.2222222222222222,
              "#7201a8"
             ],
             [
              0.3333333333333333,
              "#9c179e"
             ],
             [
              0.4444444444444444,
              "#bd3786"
             ],
             [
              0.5555555555555556,
              "#d8576b"
             ],
             [
              0.6666666666666666,
              "#ed7953"
             ],
             [
              0.7777777777777778,
              "#fb9f3a"
             ],
             [
              0.8888888888888888,
              "#fdca26"
             ],
             [
              1,
              "#f0f921"
             ]
            ],
            "type": "heatmap"
           }
          ],
          "heatmapgl": [
           {
            "colorbar": {
             "outlinewidth": 0,
             "ticks": ""
            },
            "colorscale": [
             [
              0,
              "#0d0887"
             ],
             [
              0.1111111111111111,
              "#46039f"
             ],
             [
              0.2222222222222222,
              "#7201a8"
             ],
             [
              0.3333333333333333,
              "#9c179e"
             ],
             [
              0.4444444444444444,
              "#bd3786"
             ],
             [
              0.5555555555555556,
              "#d8576b"
             ],
             [
              0.6666666666666666,
              "#ed7953"
             ],
             [
              0.7777777777777778,
              "#fb9f3a"
             ],
             [
              0.8888888888888888,
              "#fdca26"
             ],
             [
              1,
              "#f0f921"
             ]
            ],
            "type": "heatmapgl"
           }
          ],
          "histogram": [
           {
            "marker": {
             "colorbar": {
              "outlinewidth": 0,
              "ticks": ""
             }
            },
            "type": "histogram"
           }
          ],
          "histogram2d": [
           {
            "colorbar": {
             "outlinewidth": 0,
             "ticks": ""
            },
            "colorscale": [
             [
              0,
              "#0d0887"
             ],
             [
              0.1111111111111111,
              "#46039f"
             ],
             [
              0.2222222222222222,
              "#7201a8"
             ],
             [
              0.3333333333333333,
              "#9c179e"
             ],
             [
              0.4444444444444444,
              "#bd3786"
             ],
             [
              0.5555555555555556,
              "#d8576b"
             ],
             [
              0.6666666666666666,
              "#ed7953"
             ],
             [
              0.7777777777777778,
              "#fb9f3a"
             ],
             [
              0.8888888888888888,
              "#fdca26"
             ],
             [
              1,
              "#f0f921"
             ]
            ],
            "type": "histogram2d"
           }
          ],
          "histogram2dcontour": [
           {
            "colorbar": {
             "outlinewidth": 0,
             "ticks": ""
            },
            "colorscale": [
             [
              0,
              "#0d0887"
             ],
             [
              0.1111111111111111,
              "#46039f"
             ],
             [
              0.2222222222222222,
              "#7201a8"
             ],
             [
              0.3333333333333333,
              "#9c179e"
             ],
             [
              0.4444444444444444,
              "#bd3786"
             ],
             [
              0.5555555555555556,
              "#d8576b"
             ],
             [
              0.6666666666666666,
              "#ed7953"
             ],
             [
              0.7777777777777778,
              "#fb9f3a"
             ],
             [
              0.8888888888888888,
              "#fdca26"
             ],
             [
              1,
              "#f0f921"
             ]
            ],
            "type": "histogram2dcontour"
           }
          ],
          "mesh3d": [
           {
            "colorbar": {
             "outlinewidth": 0,
             "ticks": ""
            },
            "type": "mesh3d"
           }
          ],
          "parcoords": [
           {
            "line": {
             "colorbar": {
              "outlinewidth": 0,
              "ticks": ""
             }
            },
            "type": "parcoords"
           }
          ],
          "pie": [
           {
            "automargin": true,
            "type": "pie"
           }
          ],
          "scatter": [
           {
            "marker": {
             "colorbar": {
              "outlinewidth": 0,
              "ticks": ""
             }
            },
            "type": "scatter"
           }
          ],
          "scatter3d": [
           {
            "line": {
             "colorbar": {
              "outlinewidth": 0,
              "ticks": ""
             }
            },
            "marker": {
             "colorbar": {
              "outlinewidth": 0,
              "ticks": ""
             }
            },
            "type": "scatter3d"
           }
          ],
          "scattercarpet": [
           {
            "marker": {
             "colorbar": {
              "outlinewidth": 0,
              "ticks": ""
             }
            },
            "type": "scattercarpet"
           }
          ],
          "scattergeo": [
           {
            "marker": {
             "colorbar": {
              "outlinewidth": 0,
              "ticks": ""
             }
            },
            "type": "scattergeo"
           }
          ],
          "scattergl": [
           {
            "marker": {
             "colorbar": {
              "outlinewidth": 0,
              "ticks": ""
             }
            },
            "type": "scattergl"
           }
          ],
          "scattermapbox": [
           {
            "marker": {
             "colorbar": {
              "outlinewidth": 0,
              "ticks": ""
             }
            },
            "type": "scattermapbox"
           }
          ],
          "scatterpolar": [
           {
            "marker": {
             "colorbar": {
              "outlinewidth": 0,
              "ticks": ""
             }
            },
            "type": "scatterpolar"
           }
          ],
          "scatterpolargl": [
           {
            "marker": {
             "colorbar": {
              "outlinewidth": 0,
              "ticks": ""
             }
            },
            "type": "scatterpolargl"
           }
          ],
          "scatterternary": [
           {
            "marker": {
             "colorbar": {
              "outlinewidth": 0,
              "ticks": ""
             }
            },
            "type": "scatterternary"
           }
          ],
          "surface": [
           {
            "colorbar": {
             "outlinewidth": 0,
             "ticks": ""
            },
            "colorscale": [
             [
              0,
              "#0d0887"
             ],
             [
              0.1111111111111111,
              "#46039f"
             ],
             [
              0.2222222222222222,
              "#7201a8"
             ],
             [
              0.3333333333333333,
              "#9c179e"
             ],
             [
              0.4444444444444444,
              "#bd3786"
             ],
             [
              0.5555555555555556,
              "#d8576b"
             ],
             [
              0.6666666666666666,
              "#ed7953"
             ],
             [
              0.7777777777777778,
              "#fb9f3a"
             ],
             [
              0.8888888888888888,
              "#fdca26"
             ],
             [
              1,
              "#f0f921"
             ]
            ],
            "type": "surface"
           }
          ],
          "table": [
           {
            "cells": {
             "fill": {
              "color": "#EBF0F8"
             },
             "line": {
              "color": "white"
             }
            },
            "header": {
             "fill": {
              "color": "#C8D4E3"
             },
             "line": {
              "color": "white"
             }
            },
            "type": "table"
           }
          ]
         },
         "layout": {
          "annotationdefaults": {
           "arrowcolor": "#2a3f5f",
           "arrowhead": 0,
           "arrowwidth": 1
          },
          "coloraxis": {
           "colorbar": {
            "outlinewidth": 0,
            "ticks": ""
           }
          },
          "colorscale": {
           "diverging": [
            [
             0,
             "#8e0152"
            ],
            [
             0.1,
             "#c51b7d"
            ],
            [
             0.2,
             "#de77ae"
            ],
            [
             0.3,
             "#f1b6da"
            ],
            [
             0.4,
             "#fde0ef"
            ],
            [
             0.5,
             "#f7f7f7"
            ],
            [
             0.6,
             "#e6f5d0"
            ],
            [
             0.7,
             "#b8e186"
            ],
            [
             0.8,
             "#7fbc41"
            ],
            [
             0.9,
             "#4d9221"
            ],
            [
             1,
             "#276419"
            ]
           ],
           "sequential": [
            [
             0,
             "#0d0887"
            ],
            [
             0.1111111111111111,
             "#46039f"
            ],
            [
             0.2222222222222222,
             "#7201a8"
            ],
            [
             0.3333333333333333,
             "#9c179e"
            ],
            [
             0.4444444444444444,
             "#bd3786"
            ],
            [
             0.5555555555555556,
             "#d8576b"
            ],
            [
             0.6666666666666666,
             "#ed7953"
            ],
            [
             0.7777777777777778,
             "#fb9f3a"
            ],
            [
             0.8888888888888888,
             "#fdca26"
            ],
            [
             1,
             "#f0f921"
            ]
           ],
           "sequentialminus": [
            [
             0,
             "#0d0887"
            ],
            [
             0.1111111111111111,
             "#46039f"
            ],
            [
             0.2222222222222222,
             "#7201a8"
            ],
            [
             0.3333333333333333,
             "#9c179e"
            ],
            [
             0.4444444444444444,
             "#bd3786"
            ],
            [
             0.5555555555555556,
             "#d8576b"
            ],
            [
             0.6666666666666666,
             "#ed7953"
            ],
            [
             0.7777777777777778,
             "#fb9f3a"
            ],
            [
             0.8888888888888888,
             "#fdca26"
            ],
            [
             1,
             "#f0f921"
            ]
           ]
          },
          "colorway": [
           "#636efa",
           "#EF553B",
           "#00cc96",
           "#ab63fa",
           "#FFA15A",
           "#19d3f3",
           "#FF6692",
           "#B6E880",
           "#FF97FF",
           "#FECB52"
          ],
          "font": {
           "color": "#2a3f5f"
          },
          "geo": {
           "bgcolor": "white",
           "lakecolor": "white",
           "landcolor": "#E5ECF6",
           "showlakes": true,
           "showland": true,
           "subunitcolor": "white"
          },
          "hoverlabel": {
           "align": "left"
          },
          "hovermode": "closest",
          "mapbox": {
           "style": "light"
          },
          "paper_bgcolor": "white",
          "plot_bgcolor": "#E5ECF6",
          "polar": {
           "angularaxis": {
            "gridcolor": "white",
            "linecolor": "white",
            "ticks": ""
           },
           "bgcolor": "#E5ECF6",
           "radialaxis": {
            "gridcolor": "white",
            "linecolor": "white",
            "ticks": ""
           }
          },
          "scene": {
           "xaxis": {
            "backgroundcolor": "#E5ECF6",
            "gridcolor": "white",
            "gridwidth": 2,
            "linecolor": "white",
            "showbackground": true,
            "ticks": "",
            "zerolinecolor": "white"
           },
           "yaxis": {
            "backgroundcolor": "#E5ECF6",
            "gridcolor": "white",
            "gridwidth": 2,
            "linecolor": "white",
            "showbackground": true,
            "ticks": "",
            "zerolinecolor": "white"
           },
           "zaxis": {
            "backgroundcolor": "#E5ECF6",
            "gridcolor": "white",
            "gridwidth": 2,
            "linecolor": "white",
            "showbackground": true,
            "ticks": "",
            "zerolinecolor": "white"
           }
          },
          "shapedefaults": {
           "line": {
            "color": "#2a3f5f"
           }
          },
          "ternary": {
           "aaxis": {
            "gridcolor": "white",
            "linecolor": "white",
            "ticks": ""
           },
           "baxis": {
            "gridcolor": "white",
            "linecolor": "white",
            "ticks": ""
           },
           "bgcolor": "#E5ECF6",
           "caxis": {
            "gridcolor": "white",
            "linecolor": "white",
            "ticks": ""
           }
          },
          "title": {
           "x": 0.05
          },
          "xaxis": {
           "automargin": true,
           "gridcolor": "white",
           "linecolor": "white",
           "ticks": "",
           "title": {
            "standoff": 15
           },
           "zerolinecolor": "white",
           "zerolinewidth": 2
          },
          "yaxis": {
           "automargin": true,
           "gridcolor": "white",
           "linecolor": "white",
           "ticks": "",
           "title": {
            "standoff": 15
           },
           "zerolinecolor": "white",
           "zerolinewidth": 2
          }
         }
        },
        "title": {
         "text": "Top 20 bi-grams in hotel description before removing stop words",
         "x": 0.5,
         "y": 0.9
        },
        "xaxis": {
         "title": {
          "text": "top words"
         }
        },
        "yaxis": {
         "title": {
          "text": "word counts"
         }
        }
       }
      },
      "text/html": [
       "<div>\n",
       "        \n",
       "        \n",
       "            <div id=\"d2d01008-2d50-480c-ad2e-1a53b76e9880\" class=\"plotly-graph-div\" style=\"height:525px; width:100%;\"></div>\n",
       "            <script type=\"text/javascript\">\n",
       "                require([\"plotly\"], function(Plotly) {\n",
       "                    window.PLOTLYENV=window.PLOTLYENV || {};\n",
       "                    \n",
       "                if (document.getElementById(\"d2d01008-2d50-480c-ad2e-1a53b76e9880\")) {\n",
       "                    Plotly.newPlot(\n",
       "                        'd2d01008-2d50-480c-ad2e-1a53b76e9880',\n",
       "                        [{\"text\": [\"the hotel\", \"km from\", \"of the\", \"railway station\", \"the property\", \"at the\", \"in the\", \"guests can\", \"and many\", \"swimming pool\", \"is located\", \"from the\", \"many more\", \"beach km\", \"stay at\", \"doctor on\", \"on call\", \"international airport\", \"goa international\", \"wi fi\"], \"textposition\": \"auto\", \"type\": \"bar\", \"x\": [\"the hotel\", \"km from\", \"of the\", \"railway station\", \"the property\", \"at the\", \"in the\", \"guests can\", \"and many\", \"swimming pool\", \"is located\", \"from the\", \"many more\", \"beach km\", \"stay at\", \"doctor on\", \"on call\", \"international airport\", \"goa international\", \"wi fi\"], \"y\": [1529, 1087, 948, 826, 687, 652, 628, 583, 514, 485, 469, 451, 440, 432, 416, 382, 379, 378, 375, 374]}],\n",
       "                        {\"template\": {\"data\": {\"bar\": [{\"error_x\": {\"color\": \"#2a3f5f\"}, \"error_y\": {\"color\": \"#2a3f5f\"}, \"marker\": {\"line\": {\"color\": \"#E5ECF6\", \"width\": 0.5}}, \"type\": \"bar\"}], \"barpolar\": [{\"marker\": {\"line\": {\"color\": \"#E5ECF6\", \"width\": 0.5}}, \"type\": \"barpolar\"}], \"carpet\": [{\"aaxis\": {\"endlinecolor\": \"#2a3f5f\", \"gridcolor\": \"white\", \"linecolor\": \"white\", \"minorgridcolor\": \"white\", \"startlinecolor\": \"#2a3f5f\"}, \"baxis\": {\"endlinecolor\": \"#2a3f5f\", \"gridcolor\": \"white\", \"linecolor\": \"white\", \"minorgridcolor\": \"white\", \"startlinecolor\": \"#2a3f5f\"}, \"type\": \"carpet\"}], \"choropleth\": [{\"colorbar\": {\"outlinewidth\": 0, \"ticks\": \"\"}, \"type\": \"choropleth\"}], \"contour\": [{\"colorbar\": {\"outlinewidth\": 0, \"ticks\": \"\"}, \"colorscale\": [[0.0, \"#0d0887\"], [0.1111111111111111, \"#46039f\"], [0.2222222222222222, \"#7201a8\"], [0.3333333333333333, \"#9c179e\"], [0.4444444444444444, \"#bd3786\"], [0.5555555555555556, \"#d8576b\"], [0.6666666666666666, \"#ed7953\"], [0.7777777777777778, \"#fb9f3a\"], [0.8888888888888888, \"#fdca26\"], [1.0, \"#f0f921\"]], \"type\": \"contour\"}], \"contourcarpet\": [{\"colorbar\": {\"outlinewidth\": 0, \"ticks\": \"\"}, \"type\": \"contourcarpet\"}], \"heatmap\": [{\"colorbar\": {\"outlinewidth\": 0, \"ticks\": \"\"}, \"colorscale\": [[0.0, \"#0d0887\"], [0.1111111111111111, \"#46039f\"], [0.2222222222222222, \"#7201a8\"], [0.3333333333333333, \"#9c179e\"], [0.4444444444444444, \"#bd3786\"], [0.5555555555555556, \"#d8576b\"], [0.6666666666666666, \"#ed7953\"], [0.7777777777777778, \"#fb9f3a\"], [0.8888888888888888, \"#fdca26\"], [1.0, \"#f0f921\"]], \"type\": \"heatmap\"}], \"heatmapgl\": [{\"colorbar\": {\"outlinewidth\": 0, \"ticks\": \"\"}, \"colorscale\": [[0.0, \"#0d0887\"], [0.1111111111111111, \"#46039f\"], [0.2222222222222222, \"#7201a8\"], [0.3333333333333333, \"#9c179e\"], [0.4444444444444444, \"#bd3786\"], [0.5555555555555556, \"#d8576b\"], [0.6666666666666666, \"#ed7953\"], [0.7777777777777778, \"#fb9f3a\"], [0.8888888888888888, \"#fdca26\"], [1.0, \"#f0f921\"]], \"type\": \"heatmapgl\"}], \"histogram\": [{\"marker\": {\"colorbar\": {\"outlinewidth\": 0, \"ticks\": \"\"}}, \"type\": \"histogram\"}], \"histogram2d\": [{\"colorbar\": {\"outlinewidth\": 0, \"ticks\": \"\"}, \"colorscale\": [[0.0, \"#0d0887\"], [0.1111111111111111, \"#46039f\"], [0.2222222222222222, \"#7201a8\"], [0.3333333333333333, \"#9c179e\"], [0.4444444444444444, \"#bd3786\"], [0.5555555555555556, \"#d8576b\"], [0.6666666666666666, \"#ed7953\"], [0.7777777777777778, \"#fb9f3a\"], [0.8888888888888888, \"#fdca26\"], [1.0, \"#f0f921\"]], \"type\": \"histogram2d\"}], \"histogram2dcontour\": [{\"colorbar\": {\"outlinewidth\": 0, \"ticks\": \"\"}, \"colorscale\": [[0.0, \"#0d0887\"], [0.1111111111111111, \"#46039f\"], [0.2222222222222222, \"#7201a8\"], [0.3333333333333333, \"#9c179e\"], [0.4444444444444444, \"#bd3786\"], [0.5555555555555556, \"#d8576b\"], [0.6666666666666666, \"#ed7953\"], [0.7777777777777778, \"#fb9f3a\"], [0.8888888888888888, \"#fdca26\"], [1.0, \"#f0f921\"]], \"type\": \"histogram2dcontour\"}], \"mesh3d\": [{\"colorbar\": {\"outlinewidth\": 0, \"ticks\": \"\"}, \"type\": \"mesh3d\"}], \"parcoords\": [{\"line\": {\"colorbar\": {\"outlinewidth\": 0, \"ticks\": \"\"}}, \"type\": \"parcoords\"}], \"pie\": [{\"automargin\": true, \"type\": \"pie\"}], \"scatter\": [{\"marker\": {\"colorbar\": {\"outlinewidth\": 0, \"ticks\": \"\"}}, \"type\": \"scatter\"}], \"scatter3d\": [{\"line\": {\"colorbar\": {\"outlinewidth\": 0, \"ticks\": \"\"}}, \"marker\": {\"colorbar\": {\"outlinewidth\": 0, \"ticks\": \"\"}}, \"type\": \"scatter3d\"}], \"scattercarpet\": [{\"marker\": {\"colorbar\": {\"outlinewidth\": 0, \"ticks\": \"\"}}, \"type\": \"scattercarpet\"}], \"scattergeo\": [{\"marker\": {\"colorbar\": {\"outlinewidth\": 0, \"ticks\": \"\"}}, \"type\": \"scattergeo\"}], \"scattergl\": [{\"marker\": {\"colorbar\": {\"outlinewidth\": 0, \"ticks\": \"\"}}, \"type\": \"scattergl\"}], \"scattermapbox\": [{\"marker\": {\"colorbar\": {\"outlinewidth\": 0, \"ticks\": \"\"}}, \"type\": \"scattermapbox\"}], \"scatterpolar\": [{\"marker\": {\"colorbar\": {\"outlinewidth\": 0, \"ticks\": \"\"}}, \"type\": \"scatterpolar\"}], \"scatterpolargl\": [{\"marker\": {\"colorbar\": {\"outlinewidth\": 0, \"ticks\": \"\"}}, \"type\": \"scatterpolargl\"}], \"scatterternary\": [{\"marker\": {\"colorbar\": {\"outlinewidth\": 0, \"ticks\": \"\"}}, \"type\": \"scatterternary\"}], \"surface\": [{\"colorbar\": {\"outlinewidth\": 0, \"ticks\": \"\"}, \"colorscale\": [[0.0, \"#0d0887\"], [0.1111111111111111, \"#46039f\"], [0.2222222222222222, \"#7201a8\"], [0.3333333333333333, \"#9c179e\"], [0.4444444444444444, \"#bd3786\"], [0.5555555555555556, \"#d8576b\"], [0.6666666666666666, \"#ed7953\"], [0.7777777777777778, \"#fb9f3a\"], [0.8888888888888888, \"#fdca26\"], [1.0, \"#f0f921\"]], \"type\": \"surface\"}], \"table\": [{\"cells\": {\"fill\": {\"color\": \"#EBF0F8\"}, \"line\": {\"color\": \"white\"}}, \"header\": {\"fill\": {\"color\": \"#C8D4E3\"}, \"line\": {\"color\": \"white\"}}, \"type\": \"table\"}]}, \"layout\": {\"annotationdefaults\": {\"arrowcolor\": \"#2a3f5f\", \"arrowhead\": 0, \"arrowwidth\": 1}, \"coloraxis\": {\"colorbar\": {\"outlinewidth\": 0, \"ticks\": \"\"}}, \"colorscale\": {\"diverging\": [[0, \"#8e0152\"], [0.1, \"#c51b7d\"], [0.2, \"#de77ae\"], [0.3, \"#f1b6da\"], [0.4, \"#fde0ef\"], [0.5, \"#f7f7f7\"], [0.6, \"#e6f5d0\"], [0.7, \"#b8e186\"], [0.8, \"#7fbc41\"], [0.9, \"#4d9221\"], [1, \"#276419\"]], \"sequential\": [[0.0, \"#0d0887\"], [0.1111111111111111, \"#46039f\"], [0.2222222222222222, \"#7201a8\"], [0.3333333333333333, \"#9c179e\"], [0.4444444444444444, \"#bd3786\"], [0.5555555555555556, \"#d8576b\"], [0.6666666666666666, \"#ed7953\"], [0.7777777777777778, \"#fb9f3a\"], [0.8888888888888888, \"#fdca26\"], [1.0, \"#f0f921\"]], \"sequentialminus\": [[0.0, \"#0d0887\"], [0.1111111111111111, \"#46039f\"], [0.2222222222222222, \"#7201a8\"], [0.3333333333333333, \"#9c179e\"], [0.4444444444444444, \"#bd3786\"], [0.5555555555555556, \"#d8576b\"], [0.6666666666666666, \"#ed7953\"], [0.7777777777777778, \"#fb9f3a\"], [0.8888888888888888, \"#fdca26\"], [1.0, \"#f0f921\"]]}, \"colorway\": [\"#636efa\", \"#EF553B\", \"#00cc96\", \"#ab63fa\", \"#FFA15A\", \"#19d3f3\", \"#FF6692\", \"#B6E880\", \"#FF97FF\", \"#FECB52\"], \"font\": {\"color\": \"#2a3f5f\"}, \"geo\": {\"bgcolor\": \"white\", \"lakecolor\": \"white\", \"landcolor\": \"#E5ECF6\", \"showlakes\": true, \"showland\": true, \"subunitcolor\": \"white\"}, \"hoverlabel\": {\"align\": \"left\"}, \"hovermode\": \"closest\", \"mapbox\": {\"style\": \"light\"}, \"paper_bgcolor\": \"white\", \"plot_bgcolor\": \"#E5ECF6\", \"polar\": {\"angularaxis\": {\"gridcolor\": \"white\", \"linecolor\": \"white\", \"ticks\": \"\"}, \"bgcolor\": \"#E5ECF6\", \"radialaxis\": {\"gridcolor\": \"white\", \"linecolor\": \"white\", \"ticks\": \"\"}}, \"scene\": {\"xaxis\": {\"backgroundcolor\": \"#E5ECF6\", \"gridcolor\": \"white\", \"gridwidth\": 2, \"linecolor\": \"white\", \"showbackground\": true, \"ticks\": \"\", \"zerolinecolor\": \"white\"}, \"yaxis\": {\"backgroundcolor\": \"#E5ECF6\", \"gridcolor\": \"white\", \"gridwidth\": 2, \"linecolor\": \"white\", \"showbackground\": true, \"ticks\": \"\", \"zerolinecolor\": \"white\"}, \"zaxis\": {\"backgroundcolor\": \"#E5ECF6\", \"gridcolor\": \"white\", \"gridwidth\": 2, \"linecolor\": \"white\", \"showbackground\": true, \"ticks\": \"\", \"zerolinecolor\": \"white\"}}, \"shapedefaults\": {\"line\": {\"color\": \"#2a3f5f\"}}, \"ternary\": {\"aaxis\": {\"gridcolor\": \"white\", \"linecolor\": \"white\", \"ticks\": \"\"}, \"baxis\": {\"gridcolor\": \"white\", \"linecolor\": \"white\", \"ticks\": \"\"}, \"bgcolor\": \"#E5ECF6\", \"caxis\": {\"gridcolor\": \"white\", \"linecolor\": \"white\", \"ticks\": \"\"}}, \"title\": {\"x\": 0.05}, \"xaxis\": {\"automargin\": true, \"gridcolor\": \"white\", \"linecolor\": \"white\", \"ticks\": \"\", \"title\": {\"standoff\": 15}, \"zerolinecolor\": \"white\", \"zerolinewidth\": 2}, \"yaxis\": {\"automargin\": true, \"gridcolor\": \"white\", \"linecolor\": \"white\", \"ticks\": \"\", \"title\": {\"standoff\": 15}, \"zerolinecolor\": \"white\", \"zerolinewidth\": 2}}}, \"title\": {\"text\": \"Top 20 bi-grams in hotel description before removing stop words\", \"x\": 0.5, \"y\": 0.9}, \"xaxis\": {\"title\": {\"text\": \"top words\"}}, \"yaxis\": {\"title\": {\"text\": \"word counts\"}}},\n",
       "                        {\"responsive\": true}\n",
       "                    ).then(function(){\n",
       "                            \n",
       "var gd = document.getElementById('d2d01008-2d50-480c-ad2e-1a53b76e9880');\n",
       "var x = new MutationObserver(function (mutations, observer) {{\n",
       "        var display = window.getComputedStyle(gd).display;\n",
       "        if (!display || display === 'none') {{\n",
       "            console.log([gd, 'removed!']);\n",
       "            Plotly.purge(gd);\n",
       "            observer.disconnect();\n",
       "        }}\n",
       "}});\n",
       "\n",
       "// Listen for the removal of the full notebook cells\n",
       "var notebookContainer = gd.closest('#notebook-container');\n",
       "if (notebookContainer) {{\n",
       "    x.observe(notebookContainer, {childList: true});\n",
       "}}\n",
       "\n",
       "// Listen for the clearing of the current output cell\n",
       "var outputEl = gd.closest('.output');\n",
       "if (outputEl) {{\n",
       "    x.observe(outputEl, {childList: true});\n",
       "}}\n",
       "\n",
       "                        })\n",
       "                };\n",
       "                });\n",
       "            </script>\n",
       "        </div>"
      ]
     },
     "metadata": {},
     "output_type": "display_data"
    }
   ],
   "source": [
    "top_words = pd.DataFrame(get_top_ngram(goa['hotel_overview'].dropna(), 20, 2))\n",
    "top_words.columns = ['words', 'count']\n",
    "plot_barcharts(top_words, \"Top 20 bi-grams in hotel description before removing stop words\")"
   ]
  },
  {
   "cell_type": "code",
   "execution_count": 249,
   "metadata": {},
   "outputs": [
    {
     "data": {
      "application/vnd.plotly.v1+json": {
       "config": {
        "plotlyServerURL": "https://plot.ly"
       },
       "data": [
        {
         "text": [
          "railway station",
          "swimming pool",
          "beach km",
          "hot cold",
          "international airport",
          "goa international",
          "wi fi",
          "cold water",
          "amenities like",
          "room service",
          "bus stand",
          "km goa",
          "facilities like",
          "calangute beach",
          "hotel offers",
          "attached bathroom",
          "baga beach",
          "multi cuisine",
          "bom jesus",
          "basilica bom"
         ],
         "textposition": "auto",
         "type": "bar",
         "x": [
          "railway station",
          "swimming pool",
          "beach km",
          "hot cold",
          "international airport",
          "goa international",
          "wi fi",
          "cold water",
          "amenities like",
          "room service",
          "bus stand",
          "km goa",
          "facilities like",
          "calangute beach",
          "hotel offers",
          "attached bathroom",
          "baga beach",
          "multi cuisine",
          "bom jesus",
          "basilica bom"
         ],
         "y": [
          826,
          485,
          449,
          448,
          378,
          375,
          374,
          367,
          342,
          332,
          313,
          311,
          274,
          259,
          254,
          239,
          226,
          225,
          216,
          214
         ]
        }
       ],
       "layout": {
        "template": {
         "data": {
          "bar": [
           {
            "error_x": {
             "color": "#2a3f5f"
            },
            "error_y": {
             "color": "#2a3f5f"
            },
            "marker": {
             "line": {
              "color": "#E5ECF6",
              "width": 0.5
             }
            },
            "type": "bar"
           }
          ],
          "barpolar": [
           {
            "marker": {
             "line": {
              "color": "#E5ECF6",
              "width": 0.5
             }
            },
            "type": "barpolar"
           }
          ],
          "carpet": [
           {
            "aaxis": {
             "endlinecolor": "#2a3f5f",
             "gridcolor": "white",
             "linecolor": "white",
             "minorgridcolor": "white",
             "startlinecolor": "#2a3f5f"
            },
            "baxis": {
             "endlinecolor": "#2a3f5f",
             "gridcolor": "white",
             "linecolor": "white",
             "minorgridcolor": "white",
             "startlinecolor": "#2a3f5f"
            },
            "type": "carpet"
           }
          ],
          "choropleth": [
           {
            "colorbar": {
             "outlinewidth": 0,
             "ticks": ""
            },
            "type": "choropleth"
           }
          ],
          "contour": [
           {
            "colorbar": {
             "outlinewidth": 0,
             "ticks": ""
            },
            "colorscale": [
             [
              0,
              "#0d0887"
             ],
             [
              0.1111111111111111,
              "#46039f"
             ],
             [
              0.2222222222222222,
              "#7201a8"
             ],
             [
              0.3333333333333333,
              "#9c179e"
             ],
             [
              0.4444444444444444,
              "#bd3786"
             ],
             [
              0.5555555555555556,
              "#d8576b"
             ],
             [
              0.6666666666666666,
              "#ed7953"
             ],
             [
              0.7777777777777778,
              "#fb9f3a"
             ],
             [
              0.8888888888888888,
              "#fdca26"
             ],
             [
              1,
              "#f0f921"
             ]
            ],
            "type": "contour"
           }
          ],
          "contourcarpet": [
           {
            "colorbar": {
             "outlinewidth": 0,
             "ticks": ""
            },
            "type": "contourcarpet"
           }
          ],
          "heatmap": [
           {
            "colorbar": {
             "outlinewidth": 0,
             "ticks": ""
            },
            "colorscale": [
             [
              0,
              "#0d0887"
             ],
             [
              0.1111111111111111,
              "#46039f"
             ],
             [
              0.2222222222222222,
              "#7201a8"
             ],
             [
              0.3333333333333333,
              "#9c179e"
             ],
             [
              0.4444444444444444,
              "#bd3786"
             ],
             [
              0.5555555555555556,
              "#d8576b"
             ],
             [
              0.6666666666666666,
              "#ed7953"
             ],
             [
              0.7777777777777778,
              "#fb9f3a"
             ],
             [
              0.8888888888888888,
              "#fdca26"
             ],
             [
              1,
              "#f0f921"
             ]
            ],
            "type": "heatmap"
           }
          ],
          "heatmapgl": [
           {
            "colorbar": {
             "outlinewidth": 0,
             "ticks": ""
            },
            "colorscale": [
             [
              0,
              "#0d0887"
             ],
             [
              0.1111111111111111,
              "#46039f"
             ],
             [
              0.2222222222222222,
              "#7201a8"
             ],
             [
              0.3333333333333333,
              "#9c179e"
             ],
             [
              0.4444444444444444,
              "#bd3786"
             ],
             [
              0.5555555555555556,
              "#d8576b"
             ],
             [
              0.6666666666666666,
              "#ed7953"
             ],
             [
              0.7777777777777778,
              "#fb9f3a"
             ],
             [
              0.8888888888888888,
              "#fdca26"
             ],
             [
              1,
              "#f0f921"
             ]
            ],
            "type": "heatmapgl"
           }
          ],
          "histogram": [
           {
            "marker": {
             "colorbar": {
              "outlinewidth": 0,
              "ticks": ""
             }
            },
            "type": "histogram"
           }
          ],
          "histogram2d": [
           {
            "colorbar": {
             "outlinewidth": 0,
             "ticks": ""
            },
            "colorscale": [
             [
              0,
              "#0d0887"
             ],
             [
              0.1111111111111111,
              "#46039f"
             ],
             [
              0.2222222222222222,
              "#7201a8"
             ],
             [
              0.3333333333333333,
              "#9c179e"
             ],
             [
              0.4444444444444444,
              "#bd3786"
             ],
             [
              0.5555555555555556,
              "#d8576b"
             ],
             [
              0.6666666666666666,
              "#ed7953"
             ],
             [
              0.7777777777777778,
              "#fb9f3a"
             ],
             [
              0.8888888888888888,
              "#fdca26"
             ],
             [
              1,
              "#f0f921"
             ]
            ],
            "type": "histogram2d"
           }
          ],
          "histogram2dcontour": [
           {
            "colorbar": {
             "outlinewidth": 0,
             "ticks": ""
            },
            "colorscale": [
             [
              0,
              "#0d0887"
             ],
             [
              0.1111111111111111,
              "#46039f"
             ],
             [
              0.2222222222222222,
              "#7201a8"
             ],
             [
              0.3333333333333333,
              "#9c179e"
             ],
             [
              0.4444444444444444,
              "#bd3786"
             ],
             [
              0.5555555555555556,
              "#d8576b"
             ],
             [
              0.6666666666666666,
              "#ed7953"
             ],
             [
              0.7777777777777778,
              "#fb9f3a"
             ],
             [
              0.8888888888888888,
              "#fdca26"
             ],
             [
              1,
              "#f0f921"
             ]
            ],
            "type": "histogram2dcontour"
           }
          ],
          "mesh3d": [
           {
            "colorbar": {
             "outlinewidth": 0,
             "ticks": ""
            },
            "type": "mesh3d"
           }
          ],
          "parcoords": [
           {
            "line": {
             "colorbar": {
              "outlinewidth": 0,
              "ticks": ""
             }
            },
            "type": "parcoords"
           }
          ],
          "pie": [
           {
            "automargin": true,
            "type": "pie"
           }
          ],
          "scatter": [
           {
            "marker": {
             "colorbar": {
              "outlinewidth": 0,
              "ticks": ""
             }
            },
            "type": "scatter"
           }
          ],
          "scatter3d": [
           {
            "line": {
             "colorbar": {
              "outlinewidth": 0,
              "ticks": ""
             }
            },
            "marker": {
             "colorbar": {
              "outlinewidth": 0,
              "ticks": ""
             }
            },
            "type": "scatter3d"
           }
          ],
          "scattercarpet": [
           {
            "marker": {
             "colorbar": {
              "outlinewidth": 0,
              "ticks": ""
             }
            },
            "type": "scattercarpet"
           }
          ],
          "scattergeo": [
           {
            "marker": {
             "colorbar": {
              "outlinewidth": 0,
              "ticks": ""
             }
            },
            "type": "scattergeo"
           }
          ],
          "scattergl": [
           {
            "marker": {
             "colorbar": {
              "outlinewidth": 0,
              "ticks": ""
             }
            },
            "type": "scattergl"
           }
          ],
          "scattermapbox": [
           {
            "marker": {
             "colorbar": {
              "outlinewidth": 0,
              "ticks": ""
             }
            },
            "type": "scattermapbox"
           }
          ],
          "scatterpolar": [
           {
            "marker": {
             "colorbar": {
              "outlinewidth": 0,
              "ticks": ""
             }
            },
            "type": "scatterpolar"
           }
          ],
          "scatterpolargl": [
           {
            "marker": {
             "colorbar": {
              "outlinewidth": 0,
              "ticks": ""
             }
            },
            "type": "scatterpolargl"
           }
          ],
          "scatterternary": [
           {
            "marker": {
             "colorbar": {
              "outlinewidth": 0,
              "ticks": ""
             }
            },
            "type": "scatterternary"
           }
          ],
          "surface": [
           {
            "colorbar": {
             "outlinewidth": 0,
             "ticks": ""
            },
            "colorscale": [
             [
              0,
              "#0d0887"
             ],
             [
              0.1111111111111111,
              "#46039f"
             ],
             [
              0.2222222222222222,
              "#7201a8"
             ],
             [
              0.3333333333333333,
              "#9c179e"
             ],
             [
              0.4444444444444444,
              "#bd3786"
             ],
             [
              0.5555555555555556,
              "#d8576b"
             ],
             [
              0.6666666666666666,
              "#ed7953"
             ],
             [
              0.7777777777777778,
              "#fb9f3a"
             ],
             [
              0.8888888888888888,
              "#fdca26"
             ],
             [
              1,
              "#f0f921"
             ]
            ],
            "type": "surface"
           }
          ],
          "table": [
           {
            "cells": {
             "fill": {
              "color": "#EBF0F8"
             },
             "line": {
              "color": "white"
             }
            },
            "header": {
             "fill": {
              "color": "#C8D4E3"
             },
             "line": {
              "color": "white"
             }
            },
            "type": "table"
           }
          ]
         },
         "layout": {
          "annotationdefaults": {
           "arrowcolor": "#2a3f5f",
           "arrowhead": 0,
           "arrowwidth": 1
          },
          "coloraxis": {
           "colorbar": {
            "outlinewidth": 0,
            "ticks": ""
           }
          },
          "colorscale": {
           "diverging": [
            [
             0,
             "#8e0152"
            ],
            [
             0.1,
             "#c51b7d"
            ],
            [
             0.2,
             "#de77ae"
            ],
            [
             0.3,
             "#f1b6da"
            ],
            [
             0.4,
             "#fde0ef"
            ],
            [
             0.5,
             "#f7f7f7"
            ],
            [
             0.6,
             "#e6f5d0"
            ],
            [
             0.7,
             "#b8e186"
            ],
            [
             0.8,
             "#7fbc41"
            ],
            [
             0.9,
             "#4d9221"
            ],
            [
             1,
             "#276419"
            ]
           ],
           "sequential": [
            [
             0,
             "#0d0887"
            ],
            [
             0.1111111111111111,
             "#46039f"
            ],
            [
             0.2222222222222222,
             "#7201a8"
            ],
            [
             0.3333333333333333,
             "#9c179e"
            ],
            [
             0.4444444444444444,
             "#bd3786"
            ],
            [
             0.5555555555555556,
             "#d8576b"
            ],
            [
             0.6666666666666666,
             "#ed7953"
            ],
            [
             0.7777777777777778,
             "#fb9f3a"
            ],
            [
             0.8888888888888888,
             "#fdca26"
            ],
            [
             1,
             "#f0f921"
            ]
           ],
           "sequentialminus": [
            [
             0,
             "#0d0887"
            ],
            [
             0.1111111111111111,
             "#46039f"
            ],
            [
             0.2222222222222222,
             "#7201a8"
            ],
            [
             0.3333333333333333,
             "#9c179e"
            ],
            [
             0.4444444444444444,
             "#bd3786"
            ],
            [
             0.5555555555555556,
             "#d8576b"
            ],
            [
             0.6666666666666666,
             "#ed7953"
            ],
            [
             0.7777777777777778,
             "#fb9f3a"
            ],
            [
             0.8888888888888888,
             "#fdca26"
            ],
            [
             1,
             "#f0f921"
            ]
           ]
          },
          "colorway": [
           "#636efa",
           "#EF553B",
           "#00cc96",
           "#ab63fa",
           "#FFA15A",
           "#19d3f3",
           "#FF6692",
           "#B6E880",
           "#FF97FF",
           "#FECB52"
          ],
          "font": {
           "color": "#2a3f5f"
          },
          "geo": {
           "bgcolor": "white",
           "lakecolor": "white",
           "landcolor": "#E5ECF6",
           "showlakes": true,
           "showland": true,
           "subunitcolor": "white"
          },
          "hoverlabel": {
           "align": "left"
          },
          "hovermode": "closest",
          "mapbox": {
           "style": "light"
          },
          "paper_bgcolor": "white",
          "plot_bgcolor": "#E5ECF6",
          "polar": {
           "angularaxis": {
            "gridcolor": "white",
            "linecolor": "white",
            "ticks": ""
           },
           "bgcolor": "#E5ECF6",
           "radialaxis": {
            "gridcolor": "white",
            "linecolor": "white",
            "ticks": ""
           }
          },
          "scene": {
           "xaxis": {
            "backgroundcolor": "#E5ECF6",
            "gridcolor": "white",
            "gridwidth": 2,
            "linecolor": "white",
            "showbackground": true,
            "ticks": "",
            "zerolinecolor": "white"
           },
           "yaxis": {
            "backgroundcolor": "#E5ECF6",
            "gridcolor": "white",
            "gridwidth": 2,
            "linecolor": "white",
            "showbackground": true,
            "ticks": "",
            "zerolinecolor": "white"
           },
           "zaxis": {
            "backgroundcolor": "#E5ECF6",
            "gridcolor": "white",
            "gridwidth": 2,
            "linecolor": "white",
            "showbackground": true,
            "ticks": "",
            "zerolinecolor": "white"
           }
          },
          "shapedefaults": {
           "line": {
            "color": "#2a3f5f"
           }
          },
          "ternary": {
           "aaxis": {
            "gridcolor": "white",
            "linecolor": "white",
            "ticks": ""
           },
           "baxis": {
            "gridcolor": "white",
            "linecolor": "white",
            "ticks": ""
           },
           "bgcolor": "#E5ECF6",
           "caxis": {
            "gridcolor": "white",
            "linecolor": "white",
            "ticks": ""
           }
          },
          "title": {
           "x": 0.05
          },
          "xaxis": {
           "automargin": true,
           "gridcolor": "white",
           "linecolor": "white",
           "ticks": "",
           "title": {
            "standoff": 15
           },
           "zerolinecolor": "white",
           "zerolinewidth": 2
          },
          "yaxis": {
           "automargin": true,
           "gridcolor": "white",
           "linecolor": "white",
           "ticks": "",
           "title": {
            "standoff": 15
           },
           "zerolinecolor": "white",
           "zerolinewidth": 2
          }
         }
        },
        "title": {
         "text": "Top 20 bi-grams in hotel description after removing stop words",
         "x": 0.5,
         "y": 0.9
        },
        "xaxis": {
         "title": {
          "text": "top words"
         }
        },
        "yaxis": {
         "title": {
          "text": "word counts"
         }
        }
       }
      },
      "text/html": [
       "<div>\n",
       "        \n",
       "        \n",
       "            <div id=\"6feb6680-b708-4b82-8c82-45eda87f872e\" class=\"plotly-graph-div\" style=\"height:525px; width:100%;\"></div>\n",
       "            <script type=\"text/javascript\">\n",
       "                require([\"plotly\"], function(Plotly) {\n",
       "                    window.PLOTLYENV=window.PLOTLYENV || {};\n",
       "                    \n",
       "                if (document.getElementById(\"6feb6680-b708-4b82-8c82-45eda87f872e\")) {\n",
       "                    Plotly.newPlot(\n",
       "                        '6feb6680-b708-4b82-8c82-45eda87f872e',\n",
       "                        [{\"text\": [\"railway station\", \"swimming pool\", \"beach km\", \"hot cold\", \"international airport\", \"goa international\", \"wi fi\", \"cold water\", \"amenities like\", \"room service\", \"bus stand\", \"km goa\", \"facilities like\", \"calangute beach\", \"hotel offers\", \"attached bathroom\", \"baga beach\", \"multi cuisine\", \"bom jesus\", \"basilica bom\"], \"textposition\": \"auto\", \"type\": \"bar\", \"x\": [\"railway station\", \"swimming pool\", \"beach km\", \"hot cold\", \"international airport\", \"goa international\", \"wi fi\", \"cold water\", \"amenities like\", \"room service\", \"bus stand\", \"km goa\", \"facilities like\", \"calangute beach\", \"hotel offers\", \"attached bathroom\", \"baga beach\", \"multi cuisine\", \"bom jesus\", \"basilica bom\"], \"y\": [826, 485, 449, 448, 378, 375, 374, 367, 342, 332, 313, 311, 274, 259, 254, 239, 226, 225, 216, 214]}],\n",
       "                        {\"template\": {\"data\": {\"bar\": [{\"error_x\": {\"color\": \"#2a3f5f\"}, \"error_y\": {\"color\": \"#2a3f5f\"}, \"marker\": {\"line\": {\"color\": \"#E5ECF6\", \"width\": 0.5}}, \"type\": \"bar\"}], \"barpolar\": [{\"marker\": {\"line\": {\"color\": \"#E5ECF6\", \"width\": 0.5}}, \"type\": \"barpolar\"}], \"carpet\": [{\"aaxis\": {\"endlinecolor\": \"#2a3f5f\", \"gridcolor\": \"white\", \"linecolor\": \"white\", \"minorgridcolor\": \"white\", \"startlinecolor\": \"#2a3f5f\"}, \"baxis\": {\"endlinecolor\": \"#2a3f5f\", \"gridcolor\": \"white\", \"linecolor\": \"white\", \"minorgridcolor\": \"white\", \"startlinecolor\": \"#2a3f5f\"}, \"type\": \"carpet\"}], \"choropleth\": [{\"colorbar\": {\"outlinewidth\": 0, \"ticks\": \"\"}, \"type\": \"choropleth\"}], \"contour\": [{\"colorbar\": {\"outlinewidth\": 0, \"ticks\": \"\"}, \"colorscale\": [[0.0, \"#0d0887\"], [0.1111111111111111, \"#46039f\"], [0.2222222222222222, \"#7201a8\"], [0.3333333333333333, \"#9c179e\"], [0.4444444444444444, \"#bd3786\"], [0.5555555555555556, \"#d8576b\"], [0.6666666666666666, \"#ed7953\"], [0.7777777777777778, \"#fb9f3a\"], [0.8888888888888888, \"#fdca26\"], [1.0, \"#f0f921\"]], \"type\": \"contour\"}], \"contourcarpet\": [{\"colorbar\": {\"outlinewidth\": 0, \"ticks\": \"\"}, \"type\": \"contourcarpet\"}], \"heatmap\": [{\"colorbar\": {\"outlinewidth\": 0, \"ticks\": \"\"}, \"colorscale\": [[0.0, \"#0d0887\"], [0.1111111111111111, \"#46039f\"], [0.2222222222222222, \"#7201a8\"], [0.3333333333333333, \"#9c179e\"], [0.4444444444444444, \"#bd3786\"], [0.5555555555555556, \"#d8576b\"], [0.6666666666666666, \"#ed7953\"], [0.7777777777777778, \"#fb9f3a\"], [0.8888888888888888, \"#fdca26\"], [1.0, \"#f0f921\"]], \"type\": \"heatmap\"}], \"heatmapgl\": [{\"colorbar\": {\"outlinewidth\": 0, \"ticks\": \"\"}, \"colorscale\": [[0.0, \"#0d0887\"], [0.1111111111111111, \"#46039f\"], [0.2222222222222222, \"#7201a8\"], [0.3333333333333333, \"#9c179e\"], [0.4444444444444444, \"#bd3786\"], [0.5555555555555556, \"#d8576b\"], [0.6666666666666666, \"#ed7953\"], [0.7777777777777778, \"#fb9f3a\"], [0.8888888888888888, \"#fdca26\"], [1.0, \"#f0f921\"]], \"type\": \"heatmapgl\"}], \"histogram\": [{\"marker\": {\"colorbar\": {\"outlinewidth\": 0, \"ticks\": \"\"}}, \"type\": \"histogram\"}], \"histogram2d\": [{\"colorbar\": {\"outlinewidth\": 0, \"ticks\": \"\"}, \"colorscale\": [[0.0, \"#0d0887\"], [0.1111111111111111, \"#46039f\"], [0.2222222222222222, \"#7201a8\"], [0.3333333333333333, \"#9c179e\"], [0.4444444444444444, \"#bd3786\"], [0.5555555555555556, \"#d8576b\"], [0.6666666666666666, \"#ed7953\"], [0.7777777777777778, \"#fb9f3a\"], [0.8888888888888888, \"#fdca26\"], [1.0, \"#f0f921\"]], \"type\": \"histogram2d\"}], \"histogram2dcontour\": [{\"colorbar\": {\"outlinewidth\": 0, \"ticks\": \"\"}, \"colorscale\": [[0.0, \"#0d0887\"], [0.1111111111111111, \"#46039f\"], [0.2222222222222222, \"#7201a8\"], [0.3333333333333333, \"#9c179e\"], [0.4444444444444444, \"#bd3786\"], [0.5555555555555556, \"#d8576b\"], [0.6666666666666666, \"#ed7953\"], [0.7777777777777778, \"#fb9f3a\"], [0.8888888888888888, \"#fdca26\"], [1.0, \"#f0f921\"]], \"type\": \"histogram2dcontour\"}], \"mesh3d\": [{\"colorbar\": {\"outlinewidth\": 0, \"ticks\": \"\"}, \"type\": \"mesh3d\"}], \"parcoords\": [{\"line\": {\"colorbar\": {\"outlinewidth\": 0, \"ticks\": \"\"}}, \"type\": \"parcoords\"}], \"pie\": [{\"automargin\": true, \"type\": \"pie\"}], \"scatter\": [{\"marker\": {\"colorbar\": {\"outlinewidth\": 0, \"ticks\": \"\"}}, \"type\": \"scatter\"}], \"scatter3d\": [{\"line\": {\"colorbar\": {\"outlinewidth\": 0, \"ticks\": \"\"}}, \"marker\": {\"colorbar\": {\"outlinewidth\": 0, \"ticks\": \"\"}}, \"type\": \"scatter3d\"}], \"scattercarpet\": [{\"marker\": {\"colorbar\": {\"outlinewidth\": 0, \"ticks\": \"\"}}, \"type\": \"scattercarpet\"}], \"scattergeo\": [{\"marker\": {\"colorbar\": {\"outlinewidth\": 0, \"ticks\": \"\"}}, \"type\": \"scattergeo\"}], \"scattergl\": [{\"marker\": {\"colorbar\": {\"outlinewidth\": 0, \"ticks\": \"\"}}, \"type\": \"scattergl\"}], \"scattermapbox\": [{\"marker\": {\"colorbar\": {\"outlinewidth\": 0, \"ticks\": \"\"}}, \"type\": \"scattermapbox\"}], \"scatterpolar\": [{\"marker\": {\"colorbar\": {\"outlinewidth\": 0, \"ticks\": \"\"}}, \"type\": \"scatterpolar\"}], \"scatterpolargl\": [{\"marker\": {\"colorbar\": {\"outlinewidth\": 0, \"ticks\": \"\"}}, \"type\": \"scatterpolargl\"}], \"scatterternary\": [{\"marker\": {\"colorbar\": {\"outlinewidth\": 0, \"ticks\": \"\"}}, \"type\": \"scatterternary\"}], \"surface\": [{\"colorbar\": {\"outlinewidth\": 0, \"ticks\": \"\"}, \"colorscale\": [[0.0, \"#0d0887\"], [0.1111111111111111, \"#46039f\"], [0.2222222222222222, \"#7201a8\"], [0.3333333333333333, \"#9c179e\"], [0.4444444444444444, \"#bd3786\"], [0.5555555555555556, \"#d8576b\"], [0.6666666666666666, \"#ed7953\"], [0.7777777777777778, \"#fb9f3a\"], [0.8888888888888888, \"#fdca26\"], [1.0, \"#f0f921\"]], \"type\": \"surface\"}], \"table\": [{\"cells\": {\"fill\": {\"color\": \"#EBF0F8\"}, \"line\": {\"color\": \"white\"}}, \"header\": {\"fill\": {\"color\": \"#C8D4E3\"}, \"line\": {\"color\": \"white\"}}, \"type\": \"table\"}]}, \"layout\": {\"annotationdefaults\": {\"arrowcolor\": \"#2a3f5f\", \"arrowhead\": 0, \"arrowwidth\": 1}, \"coloraxis\": {\"colorbar\": {\"outlinewidth\": 0, \"ticks\": \"\"}}, \"colorscale\": {\"diverging\": [[0, \"#8e0152\"], [0.1, \"#c51b7d\"], [0.2, \"#de77ae\"], [0.3, \"#f1b6da\"], [0.4, \"#fde0ef\"], [0.5, \"#f7f7f7\"], [0.6, \"#e6f5d0\"], [0.7, \"#b8e186\"], [0.8, \"#7fbc41\"], [0.9, \"#4d9221\"], [1, \"#276419\"]], \"sequential\": [[0.0, \"#0d0887\"], [0.1111111111111111, \"#46039f\"], [0.2222222222222222, \"#7201a8\"], [0.3333333333333333, \"#9c179e\"], [0.4444444444444444, \"#bd3786\"], [0.5555555555555556, \"#d8576b\"], [0.6666666666666666, \"#ed7953\"], [0.7777777777777778, \"#fb9f3a\"], [0.8888888888888888, \"#fdca26\"], [1.0, \"#f0f921\"]], \"sequentialminus\": [[0.0, \"#0d0887\"], [0.1111111111111111, \"#46039f\"], [0.2222222222222222, \"#7201a8\"], [0.3333333333333333, \"#9c179e\"], [0.4444444444444444, \"#bd3786\"], [0.5555555555555556, \"#d8576b\"], [0.6666666666666666, \"#ed7953\"], [0.7777777777777778, \"#fb9f3a\"], [0.8888888888888888, \"#fdca26\"], [1.0, \"#f0f921\"]]}, \"colorway\": [\"#636efa\", \"#EF553B\", \"#00cc96\", \"#ab63fa\", \"#FFA15A\", \"#19d3f3\", \"#FF6692\", \"#B6E880\", \"#FF97FF\", \"#FECB52\"], \"font\": {\"color\": \"#2a3f5f\"}, \"geo\": {\"bgcolor\": \"white\", \"lakecolor\": \"white\", \"landcolor\": \"#E5ECF6\", \"showlakes\": true, \"showland\": true, \"subunitcolor\": \"white\"}, \"hoverlabel\": {\"align\": \"left\"}, \"hovermode\": \"closest\", \"mapbox\": {\"style\": \"light\"}, \"paper_bgcolor\": \"white\", \"plot_bgcolor\": \"#E5ECF6\", \"polar\": {\"angularaxis\": {\"gridcolor\": \"white\", \"linecolor\": \"white\", \"ticks\": \"\"}, \"bgcolor\": \"#E5ECF6\", \"radialaxis\": {\"gridcolor\": \"white\", \"linecolor\": \"white\", \"ticks\": \"\"}}, \"scene\": {\"xaxis\": {\"backgroundcolor\": \"#E5ECF6\", \"gridcolor\": \"white\", \"gridwidth\": 2, \"linecolor\": \"white\", \"showbackground\": true, \"ticks\": \"\", \"zerolinecolor\": \"white\"}, \"yaxis\": {\"backgroundcolor\": \"#E5ECF6\", \"gridcolor\": \"white\", \"gridwidth\": 2, \"linecolor\": \"white\", \"showbackground\": true, \"ticks\": \"\", \"zerolinecolor\": \"white\"}, \"zaxis\": {\"backgroundcolor\": \"#E5ECF6\", \"gridcolor\": \"white\", \"gridwidth\": 2, \"linecolor\": \"white\", \"showbackground\": true, \"ticks\": \"\", \"zerolinecolor\": \"white\"}}, \"shapedefaults\": {\"line\": {\"color\": \"#2a3f5f\"}}, \"ternary\": {\"aaxis\": {\"gridcolor\": \"white\", \"linecolor\": \"white\", \"ticks\": \"\"}, \"baxis\": {\"gridcolor\": \"white\", \"linecolor\": \"white\", \"ticks\": \"\"}, \"bgcolor\": \"#E5ECF6\", \"caxis\": {\"gridcolor\": \"white\", \"linecolor\": \"white\", \"ticks\": \"\"}}, \"title\": {\"x\": 0.05}, \"xaxis\": {\"automargin\": true, \"gridcolor\": \"white\", \"linecolor\": \"white\", \"ticks\": \"\", \"title\": {\"standoff\": 15}, \"zerolinecolor\": \"white\", \"zerolinewidth\": 2}, \"yaxis\": {\"automargin\": true, \"gridcolor\": \"white\", \"linecolor\": \"white\", \"ticks\": \"\", \"title\": {\"standoff\": 15}, \"zerolinecolor\": \"white\", \"zerolinewidth\": 2}}}, \"title\": {\"text\": \"Top 20 bi-grams in hotel description after removing stop words\", \"x\": 0.5, \"y\": 0.9}, \"xaxis\": {\"title\": {\"text\": \"top words\"}}, \"yaxis\": {\"title\": {\"text\": \"word counts\"}}},\n",
       "                        {\"responsive\": true}\n",
       "                    ).then(function(){\n",
       "                            \n",
       "var gd = document.getElementById('6feb6680-b708-4b82-8c82-45eda87f872e');\n",
       "var x = new MutationObserver(function (mutations, observer) {{\n",
       "        var display = window.getComputedStyle(gd).display;\n",
       "        if (!display || display === 'none') {{\n",
       "            console.log([gd, 'removed!']);\n",
       "            Plotly.purge(gd);\n",
       "            observer.disconnect();\n",
       "        }}\n",
       "}});\n",
       "\n",
       "// Listen for the removal of the full notebook cells\n",
       "var notebookContainer = gd.closest('#notebook-container');\n",
       "if (notebookContainer) {{\n",
       "    x.observe(notebookContainer, {childList: true});\n",
       "}}\n",
       "\n",
       "// Listen for the clearing of the current output cell\n",
       "var outputEl = gd.closest('.output');\n",
       "if (outputEl) {{\n",
       "    x.observe(outputEl, {childList: true});\n",
       "}}\n",
       "\n",
       "                        })\n",
       "                };\n",
       "                });\n",
       "            </script>\n",
       "        </div>"
      ]
     },
     "metadata": {},
     "output_type": "display_data"
    }
   ],
   "source": [
    "top_words = pd.DataFrame(get_top_ngram(goa['hotel_overview'].dropna(), 20, 'english', 2))\n",
    "top_words.columns = ['words', 'count']\n",
    "plot_barcharts(top_words, \"Top 20 bi-grams in hotel description after removing stop words\")"
   ]
  },
  {
   "cell_type": "code",
   "execution_count": 250,
   "metadata": {},
   "outputs": [
    {
     "data": {
      "application/vnd.plotly.v1+json": {
       "config": {
        "plotlyServerURL": "https://plot.ly"
       },
       "data": [
        {
         "text": [
          "and many more",
          "goa international airport",
          "doctor on call",
          "railway station and",
          "at distance of",
          "from goa international",
          "hot cold water",
          "km from goa",
          "the hotel is",
          "is located at",
          "basilica of bom",
          "of bom jesus",
          "the hotel offers",
          "of the hotel",
          "km and many",
          "multi cuisine restaurant",
          "located at distance",
          "the property is",
          "at the hotel",
          "madgaon railway station"
         ],
         "textposition": "auto",
         "type": "bar",
         "x": [
          "and many more",
          "goa international airport",
          "doctor on call",
          "railway station and",
          "at distance of",
          "from goa international",
          "hot cold water",
          "km from goa",
          "the hotel is",
          "is located at",
          "basilica of bom",
          "of bom jesus",
          "the hotel offers",
          "of the hotel",
          "km and many",
          "multi cuisine restaurant",
          "located at distance",
          "the property is",
          "at the hotel",
          "madgaon railway station"
         ],
         "y": [
          440,
          373,
          371,
          355,
          259,
          248,
          242,
          234,
          232,
          219,
          204,
          204,
          199,
          198,
          194,
          191,
          191,
          171,
          167,
          162
         ]
        }
       ],
       "layout": {
        "template": {
         "data": {
          "bar": [
           {
            "error_x": {
             "color": "#2a3f5f"
            },
            "error_y": {
             "color": "#2a3f5f"
            },
            "marker": {
             "line": {
              "color": "#E5ECF6",
              "width": 0.5
             }
            },
            "type": "bar"
           }
          ],
          "barpolar": [
           {
            "marker": {
             "line": {
              "color": "#E5ECF6",
              "width": 0.5
             }
            },
            "type": "barpolar"
           }
          ],
          "carpet": [
           {
            "aaxis": {
             "endlinecolor": "#2a3f5f",
             "gridcolor": "white",
             "linecolor": "white",
             "minorgridcolor": "white",
             "startlinecolor": "#2a3f5f"
            },
            "baxis": {
             "endlinecolor": "#2a3f5f",
             "gridcolor": "white",
             "linecolor": "white",
             "minorgridcolor": "white",
             "startlinecolor": "#2a3f5f"
            },
            "type": "carpet"
           }
          ],
          "choropleth": [
           {
            "colorbar": {
             "outlinewidth": 0,
             "ticks": ""
            },
            "type": "choropleth"
           }
          ],
          "contour": [
           {
            "colorbar": {
             "outlinewidth": 0,
             "ticks": ""
            },
            "colorscale": [
             [
              0,
              "#0d0887"
             ],
             [
              0.1111111111111111,
              "#46039f"
             ],
             [
              0.2222222222222222,
              "#7201a8"
             ],
             [
              0.3333333333333333,
              "#9c179e"
             ],
             [
              0.4444444444444444,
              "#bd3786"
             ],
             [
              0.5555555555555556,
              "#d8576b"
             ],
             [
              0.6666666666666666,
              "#ed7953"
             ],
             [
              0.7777777777777778,
              "#fb9f3a"
             ],
             [
              0.8888888888888888,
              "#fdca26"
             ],
             [
              1,
              "#f0f921"
             ]
            ],
            "type": "contour"
           }
          ],
          "contourcarpet": [
           {
            "colorbar": {
             "outlinewidth": 0,
             "ticks": ""
            },
            "type": "contourcarpet"
           }
          ],
          "heatmap": [
           {
            "colorbar": {
             "outlinewidth": 0,
             "ticks": ""
            },
            "colorscale": [
             [
              0,
              "#0d0887"
             ],
             [
              0.1111111111111111,
              "#46039f"
             ],
             [
              0.2222222222222222,
              "#7201a8"
             ],
             [
              0.3333333333333333,
              "#9c179e"
             ],
             [
              0.4444444444444444,
              "#bd3786"
             ],
             [
              0.5555555555555556,
              "#d8576b"
             ],
             [
              0.6666666666666666,
              "#ed7953"
             ],
             [
              0.7777777777777778,
              "#fb9f3a"
             ],
             [
              0.8888888888888888,
              "#fdca26"
             ],
             [
              1,
              "#f0f921"
             ]
            ],
            "type": "heatmap"
           }
          ],
          "heatmapgl": [
           {
            "colorbar": {
             "outlinewidth": 0,
             "ticks": ""
            },
            "colorscale": [
             [
              0,
              "#0d0887"
             ],
             [
              0.1111111111111111,
              "#46039f"
             ],
             [
              0.2222222222222222,
              "#7201a8"
             ],
             [
              0.3333333333333333,
              "#9c179e"
             ],
             [
              0.4444444444444444,
              "#bd3786"
             ],
             [
              0.5555555555555556,
              "#d8576b"
             ],
             [
              0.6666666666666666,
              "#ed7953"
             ],
             [
              0.7777777777777778,
              "#fb9f3a"
             ],
             [
              0.8888888888888888,
              "#fdca26"
             ],
             [
              1,
              "#f0f921"
             ]
            ],
            "type": "heatmapgl"
           }
          ],
          "histogram": [
           {
            "marker": {
             "colorbar": {
              "outlinewidth": 0,
              "ticks": ""
             }
            },
            "type": "histogram"
           }
          ],
          "histogram2d": [
           {
            "colorbar": {
             "outlinewidth": 0,
             "ticks": ""
            },
            "colorscale": [
             [
              0,
              "#0d0887"
             ],
             [
              0.1111111111111111,
              "#46039f"
             ],
             [
              0.2222222222222222,
              "#7201a8"
             ],
             [
              0.3333333333333333,
              "#9c179e"
             ],
             [
              0.4444444444444444,
              "#bd3786"
             ],
             [
              0.5555555555555556,
              "#d8576b"
             ],
             [
              0.6666666666666666,
              "#ed7953"
             ],
             [
              0.7777777777777778,
              "#fb9f3a"
             ],
             [
              0.8888888888888888,
              "#fdca26"
             ],
             [
              1,
              "#f0f921"
             ]
            ],
            "type": "histogram2d"
           }
          ],
          "histogram2dcontour": [
           {
            "colorbar": {
             "outlinewidth": 0,
             "ticks": ""
            },
            "colorscale": [
             [
              0,
              "#0d0887"
             ],
             [
              0.1111111111111111,
              "#46039f"
             ],
             [
              0.2222222222222222,
              "#7201a8"
             ],
             [
              0.3333333333333333,
              "#9c179e"
             ],
             [
              0.4444444444444444,
              "#bd3786"
             ],
             [
              0.5555555555555556,
              "#d8576b"
             ],
             [
              0.6666666666666666,
              "#ed7953"
             ],
             [
              0.7777777777777778,
              "#fb9f3a"
             ],
             [
              0.8888888888888888,
              "#fdca26"
             ],
             [
              1,
              "#f0f921"
             ]
            ],
            "type": "histogram2dcontour"
           }
          ],
          "mesh3d": [
           {
            "colorbar": {
             "outlinewidth": 0,
             "ticks": ""
            },
            "type": "mesh3d"
           }
          ],
          "parcoords": [
           {
            "line": {
             "colorbar": {
              "outlinewidth": 0,
              "ticks": ""
             }
            },
            "type": "parcoords"
           }
          ],
          "pie": [
           {
            "automargin": true,
            "type": "pie"
           }
          ],
          "scatter": [
           {
            "marker": {
             "colorbar": {
              "outlinewidth": 0,
              "ticks": ""
             }
            },
            "type": "scatter"
           }
          ],
          "scatter3d": [
           {
            "line": {
             "colorbar": {
              "outlinewidth": 0,
              "ticks": ""
             }
            },
            "marker": {
             "colorbar": {
              "outlinewidth": 0,
              "ticks": ""
             }
            },
            "type": "scatter3d"
           }
          ],
          "scattercarpet": [
           {
            "marker": {
             "colorbar": {
              "outlinewidth": 0,
              "ticks": ""
             }
            },
            "type": "scattercarpet"
           }
          ],
          "scattergeo": [
           {
            "marker": {
             "colorbar": {
              "outlinewidth": 0,
              "ticks": ""
             }
            },
            "type": "scattergeo"
           }
          ],
          "scattergl": [
           {
            "marker": {
             "colorbar": {
              "outlinewidth": 0,
              "ticks": ""
             }
            },
            "type": "scattergl"
           }
          ],
          "scattermapbox": [
           {
            "marker": {
             "colorbar": {
              "outlinewidth": 0,
              "ticks": ""
             }
            },
            "type": "scattermapbox"
           }
          ],
          "scatterpolar": [
           {
            "marker": {
             "colorbar": {
              "outlinewidth": 0,
              "ticks": ""
             }
            },
            "type": "scatterpolar"
           }
          ],
          "scatterpolargl": [
           {
            "marker": {
             "colorbar": {
              "outlinewidth": 0,
              "ticks": ""
             }
            },
            "type": "scatterpolargl"
           }
          ],
          "scatterternary": [
           {
            "marker": {
             "colorbar": {
              "outlinewidth": 0,
              "ticks": ""
             }
            },
            "type": "scatterternary"
           }
          ],
          "surface": [
           {
            "colorbar": {
             "outlinewidth": 0,
             "ticks": ""
            },
            "colorscale": [
             [
              0,
              "#0d0887"
             ],
             [
              0.1111111111111111,
              "#46039f"
             ],
             [
              0.2222222222222222,
              "#7201a8"
             ],
             [
              0.3333333333333333,
              "#9c179e"
             ],
             [
              0.4444444444444444,
              "#bd3786"
             ],
             [
              0.5555555555555556,
              "#d8576b"
             ],
             [
              0.6666666666666666,
              "#ed7953"
             ],
             [
              0.7777777777777778,
              "#fb9f3a"
             ],
             [
              0.8888888888888888,
              "#fdca26"
             ],
             [
              1,
              "#f0f921"
             ]
            ],
            "type": "surface"
           }
          ],
          "table": [
           {
            "cells": {
             "fill": {
              "color": "#EBF0F8"
             },
             "line": {
              "color": "white"
             }
            },
            "header": {
             "fill": {
              "color": "#C8D4E3"
             },
             "line": {
              "color": "white"
             }
            },
            "type": "table"
           }
          ]
         },
         "layout": {
          "annotationdefaults": {
           "arrowcolor": "#2a3f5f",
           "arrowhead": 0,
           "arrowwidth": 1
          },
          "coloraxis": {
           "colorbar": {
            "outlinewidth": 0,
            "ticks": ""
           }
          },
          "colorscale": {
           "diverging": [
            [
             0,
             "#8e0152"
            ],
            [
             0.1,
             "#c51b7d"
            ],
            [
             0.2,
             "#de77ae"
            ],
            [
             0.3,
             "#f1b6da"
            ],
            [
             0.4,
             "#fde0ef"
            ],
            [
             0.5,
             "#f7f7f7"
            ],
            [
             0.6,
             "#e6f5d0"
            ],
            [
             0.7,
             "#b8e186"
            ],
            [
             0.8,
             "#7fbc41"
            ],
            [
             0.9,
             "#4d9221"
            ],
            [
             1,
             "#276419"
            ]
           ],
           "sequential": [
            [
             0,
             "#0d0887"
            ],
            [
             0.1111111111111111,
             "#46039f"
            ],
            [
             0.2222222222222222,
             "#7201a8"
            ],
            [
             0.3333333333333333,
             "#9c179e"
            ],
            [
             0.4444444444444444,
             "#bd3786"
            ],
            [
             0.5555555555555556,
             "#d8576b"
            ],
            [
             0.6666666666666666,
             "#ed7953"
            ],
            [
             0.7777777777777778,
             "#fb9f3a"
            ],
            [
             0.8888888888888888,
             "#fdca26"
            ],
            [
             1,
             "#f0f921"
            ]
           ],
           "sequentialminus": [
            [
             0,
             "#0d0887"
            ],
            [
             0.1111111111111111,
             "#46039f"
            ],
            [
             0.2222222222222222,
             "#7201a8"
            ],
            [
             0.3333333333333333,
             "#9c179e"
            ],
            [
             0.4444444444444444,
             "#bd3786"
            ],
            [
             0.5555555555555556,
             "#d8576b"
            ],
            [
             0.6666666666666666,
             "#ed7953"
            ],
            [
             0.7777777777777778,
             "#fb9f3a"
            ],
            [
             0.8888888888888888,
             "#fdca26"
            ],
            [
             1,
             "#f0f921"
            ]
           ]
          },
          "colorway": [
           "#636efa",
           "#EF553B",
           "#00cc96",
           "#ab63fa",
           "#FFA15A",
           "#19d3f3",
           "#FF6692",
           "#B6E880",
           "#FF97FF",
           "#FECB52"
          ],
          "font": {
           "color": "#2a3f5f"
          },
          "geo": {
           "bgcolor": "white",
           "lakecolor": "white",
           "landcolor": "#E5ECF6",
           "showlakes": true,
           "showland": true,
           "subunitcolor": "white"
          },
          "hoverlabel": {
           "align": "left"
          },
          "hovermode": "closest",
          "mapbox": {
           "style": "light"
          },
          "paper_bgcolor": "white",
          "plot_bgcolor": "#E5ECF6",
          "polar": {
           "angularaxis": {
            "gridcolor": "white",
            "linecolor": "white",
            "ticks": ""
           },
           "bgcolor": "#E5ECF6",
           "radialaxis": {
            "gridcolor": "white",
            "linecolor": "white",
            "ticks": ""
           }
          },
          "scene": {
           "xaxis": {
            "backgroundcolor": "#E5ECF6",
            "gridcolor": "white",
            "gridwidth": 2,
            "linecolor": "white",
            "showbackground": true,
            "ticks": "",
            "zerolinecolor": "white"
           },
           "yaxis": {
            "backgroundcolor": "#E5ECF6",
            "gridcolor": "white",
            "gridwidth": 2,
            "linecolor": "white",
            "showbackground": true,
            "ticks": "",
            "zerolinecolor": "white"
           },
           "zaxis": {
            "backgroundcolor": "#E5ECF6",
            "gridcolor": "white",
            "gridwidth": 2,
            "linecolor": "white",
            "showbackground": true,
            "ticks": "",
            "zerolinecolor": "white"
           }
          },
          "shapedefaults": {
           "line": {
            "color": "#2a3f5f"
           }
          },
          "ternary": {
           "aaxis": {
            "gridcolor": "white",
            "linecolor": "white",
            "ticks": ""
           },
           "baxis": {
            "gridcolor": "white",
            "linecolor": "white",
            "ticks": ""
           },
           "bgcolor": "#E5ECF6",
           "caxis": {
            "gridcolor": "white",
            "linecolor": "white",
            "ticks": ""
           }
          },
          "title": {
           "x": 0.05
          },
          "xaxis": {
           "automargin": true,
           "gridcolor": "white",
           "linecolor": "white",
           "ticks": "",
           "title": {
            "standoff": 15
           },
           "zerolinecolor": "white",
           "zerolinewidth": 2
          },
          "yaxis": {
           "automargin": true,
           "gridcolor": "white",
           "linecolor": "white",
           "ticks": "",
           "title": {
            "standoff": 15
           },
           "zerolinecolor": "white",
           "zerolinewidth": 2
          }
         }
        },
        "title": {
         "text": "Top 20 tri-grams in hotel description before removing stop words",
         "x": 0.5,
         "y": 0.9
        },
        "xaxis": {
         "title": {
          "text": "top words"
         }
        },
        "yaxis": {
         "title": {
          "text": "word counts"
         }
        }
       }
      },
      "text/html": [
       "<div>\n",
       "        \n",
       "        \n",
       "            <div id=\"49887063-98eb-480e-861b-bd3553f89b79\" class=\"plotly-graph-div\" style=\"height:525px; width:100%;\"></div>\n",
       "            <script type=\"text/javascript\">\n",
       "                require([\"plotly\"], function(Plotly) {\n",
       "                    window.PLOTLYENV=window.PLOTLYENV || {};\n",
       "                    \n",
       "                if (document.getElementById(\"49887063-98eb-480e-861b-bd3553f89b79\")) {\n",
       "                    Plotly.newPlot(\n",
       "                        '49887063-98eb-480e-861b-bd3553f89b79',\n",
       "                        [{\"text\": [\"and many more\", \"goa international airport\", \"doctor on call\", \"railway station and\", \"at distance of\", \"from goa international\", \"hot cold water\", \"km from goa\", \"the hotel is\", \"is located at\", \"basilica of bom\", \"of bom jesus\", \"the hotel offers\", \"of the hotel\", \"km and many\", \"multi cuisine restaurant\", \"located at distance\", \"the property is\", \"at the hotel\", \"madgaon railway station\"], \"textposition\": \"auto\", \"type\": \"bar\", \"x\": [\"and many more\", \"goa international airport\", \"doctor on call\", \"railway station and\", \"at distance of\", \"from goa international\", \"hot cold water\", \"km from goa\", \"the hotel is\", \"is located at\", \"basilica of bom\", \"of bom jesus\", \"the hotel offers\", \"of the hotel\", \"km and many\", \"multi cuisine restaurant\", \"located at distance\", \"the property is\", \"at the hotel\", \"madgaon railway station\"], \"y\": [440, 373, 371, 355, 259, 248, 242, 234, 232, 219, 204, 204, 199, 198, 194, 191, 191, 171, 167, 162]}],\n",
       "                        {\"template\": {\"data\": {\"bar\": [{\"error_x\": {\"color\": \"#2a3f5f\"}, \"error_y\": {\"color\": \"#2a3f5f\"}, \"marker\": {\"line\": {\"color\": \"#E5ECF6\", \"width\": 0.5}}, \"type\": \"bar\"}], \"barpolar\": [{\"marker\": {\"line\": {\"color\": \"#E5ECF6\", \"width\": 0.5}}, \"type\": \"barpolar\"}], \"carpet\": [{\"aaxis\": {\"endlinecolor\": \"#2a3f5f\", \"gridcolor\": \"white\", \"linecolor\": \"white\", \"minorgridcolor\": \"white\", \"startlinecolor\": \"#2a3f5f\"}, \"baxis\": {\"endlinecolor\": \"#2a3f5f\", \"gridcolor\": \"white\", \"linecolor\": \"white\", \"minorgridcolor\": \"white\", \"startlinecolor\": \"#2a3f5f\"}, \"type\": \"carpet\"}], \"choropleth\": [{\"colorbar\": {\"outlinewidth\": 0, \"ticks\": \"\"}, \"type\": \"choropleth\"}], \"contour\": [{\"colorbar\": {\"outlinewidth\": 0, \"ticks\": \"\"}, \"colorscale\": [[0.0, \"#0d0887\"], [0.1111111111111111, \"#46039f\"], [0.2222222222222222, \"#7201a8\"], [0.3333333333333333, \"#9c179e\"], [0.4444444444444444, \"#bd3786\"], [0.5555555555555556, \"#d8576b\"], [0.6666666666666666, \"#ed7953\"], [0.7777777777777778, \"#fb9f3a\"], [0.8888888888888888, \"#fdca26\"], [1.0, \"#f0f921\"]], \"type\": \"contour\"}], \"contourcarpet\": [{\"colorbar\": {\"outlinewidth\": 0, \"ticks\": \"\"}, \"type\": \"contourcarpet\"}], \"heatmap\": [{\"colorbar\": {\"outlinewidth\": 0, \"ticks\": \"\"}, \"colorscale\": [[0.0, \"#0d0887\"], [0.1111111111111111, \"#46039f\"], [0.2222222222222222, \"#7201a8\"], [0.3333333333333333, \"#9c179e\"], [0.4444444444444444, \"#bd3786\"], [0.5555555555555556, \"#d8576b\"], [0.6666666666666666, \"#ed7953\"], [0.7777777777777778, \"#fb9f3a\"], [0.8888888888888888, \"#fdca26\"], [1.0, \"#f0f921\"]], \"type\": \"heatmap\"}], \"heatmapgl\": [{\"colorbar\": {\"outlinewidth\": 0, \"ticks\": \"\"}, \"colorscale\": [[0.0, \"#0d0887\"], [0.1111111111111111, \"#46039f\"], [0.2222222222222222, \"#7201a8\"], [0.3333333333333333, \"#9c179e\"], [0.4444444444444444, \"#bd3786\"], [0.5555555555555556, \"#d8576b\"], [0.6666666666666666, \"#ed7953\"], [0.7777777777777778, \"#fb9f3a\"], [0.8888888888888888, \"#fdca26\"], [1.0, \"#f0f921\"]], \"type\": \"heatmapgl\"}], \"histogram\": [{\"marker\": {\"colorbar\": {\"outlinewidth\": 0, \"ticks\": \"\"}}, \"type\": \"histogram\"}], \"histogram2d\": [{\"colorbar\": {\"outlinewidth\": 0, \"ticks\": \"\"}, \"colorscale\": [[0.0, \"#0d0887\"], [0.1111111111111111, \"#46039f\"], [0.2222222222222222, \"#7201a8\"], [0.3333333333333333, \"#9c179e\"], [0.4444444444444444, \"#bd3786\"], [0.5555555555555556, \"#d8576b\"], [0.6666666666666666, \"#ed7953\"], [0.7777777777777778, \"#fb9f3a\"], [0.8888888888888888, \"#fdca26\"], [1.0, \"#f0f921\"]], \"type\": \"histogram2d\"}], \"histogram2dcontour\": [{\"colorbar\": {\"outlinewidth\": 0, \"ticks\": \"\"}, \"colorscale\": [[0.0, \"#0d0887\"], [0.1111111111111111, \"#46039f\"], [0.2222222222222222, \"#7201a8\"], [0.3333333333333333, \"#9c179e\"], [0.4444444444444444, \"#bd3786\"], [0.5555555555555556, \"#d8576b\"], [0.6666666666666666, \"#ed7953\"], [0.7777777777777778, \"#fb9f3a\"], [0.8888888888888888, \"#fdca26\"], [1.0, \"#f0f921\"]], \"type\": \"histogram2dcontour\"}], \"mesh3d\": [{\"colorbar\": {\"outlinewidth\": 0, \"ticks\": \"\"}, \"type\": \"mesh3d\"}], \"parcoords\": [{\"line\": {\"colorbar\": {\"outlinewidth\": 0, \"ticks\": \"\"}}, \"type\": \"parcoords\"}], \"pie\": [{\"automargin\": true, \"type\": \"pie\"}], \"scatter\": [{\"marker\": {\"colorbar\": {\"outlinewidth\": 0, \"ticks\": \"\"}}, \"type\": \"scatter\"}], \"scatter3d\": [{\"line\": {\"colorbar\": {\"outlinewidth\": 0, \"ticks\": \"\"}}, \"marker\": {\"colorbar\": {\"outlinewidth\": 0, \"ticks\": \"\"}}, \"type\": \"scatter3d\"}], \"scattercarpet\": [{\"marker\": {\"colorbar\": {\"outlinewidth\": 0, \"ticks\": \"\"}}, \"type\": \"scattercarpet\"}], \"scattergeo\": [{\"marker\": {\"colorbar\": {\"outlinewidth\": 0, \"ticks\": \"\"}}, \"type\": \"scattergeo\"}], \"scattergl\": [{\"marker\": {\"colorbar\": {\"outlinewidth\": 0, \"ticks\": \"\"}}, \"type\": \"scattergl\"}], \"scattermapbox\": [{\"marker\": {\"colorbar\": {\"outlinewidth\": 0, \"ticks\": \"\"}}, \"type\": \"scattermapbox\"}], \"scatterpolar\": [{\"marker\": {\"colorbar\": {\"outlinewidth\": 0, \"ticks\": \"\"}}, \"type\": \"scatterpolar\"}], \"scatterpolargl\": [{\"marker\": {\"colorbar\": {\"outlinewidth\": 0, \"ticks\": \"\"}}, \"type\": \"scatterpolargl\"}], \"scatterternary\": [{\"marker\": {\"colorbar\": {\"outlinewidth\": 0, \"ticks\": \"\"}}, \"type\": \"scatterternary\"}], \"surface\": [{\"colorbar\": {\"outlinewidth\": 0, \"ticks\": \"\"}, \"colorscale\": [[0.0, \"#0d0887\"], [0.1111111111111111, \"#46039f\"], [0.2222222222222222, \"#7201a8\"], [0.3333333333333333, \"#9c179e\"], [0.4444444444444444, \"#bd3786\"], [0.5555555555555556, \"#d8576b\"], [0.6666666666666666, \"#ed7953\"], [0.7777777777777778, \"#fb9f3a\"], [0.8888888888888888, \"#fdca26\"], [1.0, \"#f0f921\"]], \"type\": \"surface\"}], \"table\": [{\"cells\": {\"fill\": {\"color\": \"#EBF0F8\"}, \"line\": {\"color\": \"white\"}}, \"header\": {\"fill\": {\"color\": \"#C8D4E3\"}, \"line\": {\"color\": \"white\"}}, \"type\": \"table\"}]}, \"layout\": {\"annotationdefaults\": {\"arrowcolor\": \"#2a3f5f\", \"arrowhead\": 0, \"arrowwidth\": 1}, \"coloraxis\": {\"colorbar\": {\"outlinewidth\": 0, \"ticks\": \"\"}}, \"colorscale\": {\"diverging\": [[0, \"#8e0152\"], [0.1, \"#c51b7d\"], [0.2, \"#de77ae\"], [0.3, \"#f1b6da\"], [0.4, \"#fde0ef\"], [0.5, \"#f7f7f7\"], [0.6, \"#e6f5d0\"], [0.7, \"#b8e186\"], [0.8, \"#7fbc41\"], [0.9, \"#4d9221\"], [1, \"#276419\"]], \"sequential\": [[0.0, \"#0d0887\"], [0.1111111111111111, \"#46039f\"], [0.2222222222222222, \"#7201a8\"], [0.3333333333333333, \"#9c179e\"], [0.4444444444444444, \"#bd3786\"], [0.5555555555555556, \"#d8576b\"], [0.6666666666666666, \"#ed7953\"], [0.7777777777777778, \"#fb9f3a\"], [0.8888888888888888, \"#fdca26\"], [1.0, \"#f0f921\"]], \"sequentialminus\": [[0.0, \"#0d0887\"], [0.1111111111111111, \"#46039f\"], [0.2222222222222222, \"#7201a8\"], [0.3333333333333333, \"#9c179e\"], [0.4444444444444444, \"#bd3786\"], [0.5555555555555556, \"#d8576b\"], [0.6666666666666666, \"#ed7953\"], [0.7777777777777778, \"#fb9f3a\"], [0.8888888888888888, \"#fdca26\"], [1.0, \"#f0f921\"]]}, \"colorway\": [\"#636efa\", \"#EF553B\", \"#00cc96\", \"#ab63fa\", \"#FFA15A\", \"#19d3f3\", \"#FF6692\", \"#B6E880\", \"#FF97FF\", \"#FECB52\"], \"font\": {\"color\": \"#2a3f5f\"}, \"geo\": {\"bgcolor\": \"white\", \"lakecolor\": \"white\", \"landcolor\": \"#E5ECF6\", \"showlakes\": true, \"showland\": true, \"subunitcolor\": \"white\"}, \"hoverlabel\": {\"align\": \"left\"}, \"hovermode\": \"closest\", \"mapbox\": {\"style\": \"light\"}, \"paper_bgcolor\": \"white\", \"plot_bgcolor\": \"#E5ECF6\", \"polar\": {\"angularaxis\": {\"gridcolor\": \"white\", \"linecolor\": \"white\", \"ticks\": \"\"}, \"bgcolor\": \"#E5ECF6\", \"radialaxis\": {\"gridcolor\": \"white\", \"linecolor\": \"white\", \"ticks\": \"\"}}, \"scene\": {\"xaxis\": {\"backgroundcolor\": \"#E5ECF6\", \"gridcolor\": \"white\", \"gridwidth\": 2, \"linecolor\": \"white\", \"showbackground\": true, \"ticks\": \"\", \"zerolinecolor\": \"white\"}, \"yaxis\": {\"backgroundcolor\": \"#E5ECF6\", \"gridcolor\": \"white\", \"gridwidth\": 2, \"linecolor\": \"white\", \"showbackground\": true, \"ticks\": \"\", \"zerolinecolor\": \"white\"}, \"zaxis\": {\"backgroundcolor\": \"#E5ECF6\", \"gridcolor\": \"white\", \"gridwidth\": 2, \"linecolor\": \"white\", \"showbackground\": true, \"ticks\": \"\", \"zerolinecolor\": \"white\"}}, \"shapedefaults\": {\"line\": {\"color\": \"#2a3f5f\"}}, \"ternary\": {\"aaxis\": {\"gridcolor\": \"white\", \"linecolor\": \"white\", \"ticks\": \"\"}, \"baxis\": {\"gridcolor\": \"white\", \"linecolor\": \"white\", \"ticks\": \"\"}, \"bgcolor\": \"#E5ECF6\", \"caxis\": {\"gridcolor\": \"white\", \"linecolor\": \"white\", \"ticks\": \"\"}}, \"title\": {\"x\": 0.05}, \"xaxis\": {\"automargin\": true, \"gridcolor\": \"white\", \"linecolor\": \"white\", \"ticks\": \"\", \"title\": {\"standoff\": 15}, \"zerolinecolor\": \"white\", \"zerolinewidth\": 2}, \"yaxis\": {\"automargin\": true, \"gridcolor\": \"white\", \"linecolor\": \"white\", \"ticks\": \"\", \"title\": {\"standoff\": 15}, \"zerolinecolor\": \"white\", \"zerolinewidth\": 2}}}, \"title\": {\"text\": \"Top 20 tri-grams in hotel description before removing stop words\", \"x\": 0.5, \"y\": 0.9}, \"xaxis\": {\"title\": {\"text\": \"top words\"}}, \"yaxis\": {\"title\": {\"text\": \"word counts\"}}},\n",
       "                        {\"responsive\": true}\n",
       "                    ).then(function(){\n",
       "                            \n",
       "var gd = document.getElementById('49887063-98eb-480e-861b-bd3553f89b79');\n",
       "var x = new MutationObserver(function (mutations, observer) {{\n",
       "        var display = window.getComputedStyle(gd).display;\n",
       "        if (!display || display === 'none') {{\n",
       "            console.log([gd, 'removed!']);\n",
       "            Plotly.purge(gd);\n",
       "            observer.disconnect();\n",
       "        }}\n",
       "}});\n",
       "\n",
       "// Listen for the removal of the full notebook cells\n",
       "var notebookContainer = gd.closest('#notebook-container');\n",
       "if (notebookContainer) {{\n",
       "    x.observe(notebookContainer, {childList: true});\n",
       "}}\n",
       "\n",
       "// Listen for the clearing of the current output cell\n",
       "var outputEl = gd.closest('.output');\n",
       "if (outputEl) {{\n",
       "    x.observe(outputEl, {childList: true});\n",
       "}}\n",
       "\n",
       "                        })\n",
       "                };\n",
       "                });\n",
       "            </script>\n",
       "        </div>"
      ]
     },
     "metadata": {},
     "output_type": "display_data"
    }
   ],
   "source": [
    "top_words = pd.DataFrame(get_top_ngram(goa['hotel_overview'].dropna(), 20, 3))\n",
    "top_words.columns = ['words', 'count']\n",
    "plot_barcharts(top_words, \"Top 20 tri-grams in hotel description before removing stop words\")"
   ]
  },
  {
   "cell_type": "code",
   "execution_count": 251,
   "metadata": {},
   "outputs": [
    {
     "data": {
      "application/vnd.plotly.v1+json": {
       "config": {
        "plotlyServerURL": "https://plot.ly"
       },
       "data": [
        {
         "text": [
          "goa international airport",
          "hot cold water",
          "basilica bom jesus",
          "km goa international",
          "multi cuisine restaurant",
          "madgaon railway station",
          "tea coffee maker",
          "salim ali bird",
          "ali bird sanctuary",
          "railway station km",
          "airport railway station",
          "km basilica bom",
          "cold water supply",
          "essential bathroom toiletries",
          "shanta durga temple",
          "amenities like air",
          "wi fi internet",
          "immaculate conception church",
          "baga beach km",
          "thivim railway station"
         ],
         "textposition": "auto",
         "type": "bar",
         "x": [
          "goa international airport",
          "hot cold water",
          "basilica bom jesus",
          "km goa international",
          "multi cuisine restaurant",
          "madgaon railway station",
          "tea coffee maker",
          "salim ali bird",
          "ali bird sanctuary",
          "railway station km",
          "airport railway station",
          "km basilica bom",
          "cold water supply",
          "essential bathroom toiletries",
          "shanta durga temple",
          "amenities like air",
          "wi fi internet",
          "immaculate conception church",
          "baga beach km",
          "thivim railway station"
         ],
         "y": [
          373,
          367,
          214,
          211,
          191,
          162,
          156,
          152,
          152,
          136,
          127,
          118,
          99,
          99,
          97,
          96,
          89,
          89,
          88,
          88
         ]
        }
       ],
       "layout": {
        "template": {
         "data": {
          "bar": [
           {
            "error_x": {
             "color": "#2a3f5f"
            },
            "error_y": {
             "color": "#2a3f5f"
            },
            "marker": {
             "line": {
              "color": "#E5ECF6",
              "width": 0.5
             }
            },
            "type": "bar"
           }
          ],
          "barpolar": [
           {
            "marker": {
             "line": {
              "color": "#E5ECF6",
              "width": 0.5
             }
            },
            "type": "barpolar"
           }
          ],
          "carpet": [
           {
            "aaxis": {
             "endlinecolor": "#2a3f5f",
             "gridcolor": "white",
             "linecolor": "white",
             "minorgridcolor": "white",
             "startlinecolor": "#2a3f5f"
            },
            "baxis": {
             "endlinecolor": "#2a3f5f",
             "gridcolor": "white",
             "linecolor": "white",
             "minorgridcolor": "white",
             "startlinecolor": "#2a3f5f"
            },
            "type": "carpet"
           }
          ],
          "choropleth": [
           {
            "colorbar": {
             "outlinewidth": 0,
             "ticks": ""
            },
            "type": "choropleth"
           }
          ],
          "contour": [
           {
            "colorbar": {
             "outlinewidth": 0,
             "ticks": ""
            },
            "colorscale": [
             [
              0,
              "#0d0887"
             ],
             [
              0.1111111111111111,
              "#46039f"
             ],
             [
              0.2222222222222222,
              "#7201a8"
             ],
             [
              0.3333333333333333,
              "#9c179e"
             ],
             [
              0.4444444444444444,
              "#bd3786"
             ],
             [
              0.5555555555555556,
              "#d8576b"
             ],
             [
              0.6666666666666666,
              "#ed7953"
             ],
             [
              0.7777777777777778,
              "#fb9f3a"
             ],
             [
              0.8888888888888888,
              "#fdca26"
             ],
             [
              1,
              "#f0f921"
             ]
            ],
            "type": "contour"
           }
          ],
          "contourcarpet": [
           {
            "colorbar": {
             "outlinewidth": 0,
             "ticks": ""
            },
            "type": "contourcarpet"
           }
          ],
          "heatmap": [
           {
            "colorbar": {
             "outlinewidth": 0,
             "ticks": ""
            },
            "colorscale": [
             [
              0,
              "#0d0887"
             ],
             [
              0.1111111111111111,
              "#46039f"
             ],
             [
              0.2222222222222222,
              "#7201a8"
             ],
             [
              0.3333333333333333,
              "#9c179e"
             ],
             [
              0.4444444444444444,
              "#bd3786"
             ],
             [
              0.5555555555555556,
              "#d8576b"
             ],
             [
              0.6666666666666666,
              "#ed7953"
             ],
             [
              0.7777777777777778,
              "#fb9f3a"
             ],
             [
              0.8888888888888888,
              "#fdca26"
             ],
             [
              1,
              "#f0f921"
             ]
            ],
            "type": "heatmap"
           }
          ],
          "heatmapgl": [
           {
            "colorbar": {
             "outlinewidth": 0,
             "ticks": ""
            },
            "colorscale": [
             [
              0,
              "#0d0887"
             ],
             [
              0.1111111111111111,
              "#46039f"
             ],
             [
              0.2222222222222222,
              "#7201a8"
             ],
             [
              0.3333333333333333,
              "#9c179e"
             ],
             [
              0.4444444444444444,
              "#bd3786"
             ],
             [
              0.5555555555555556,
              "#d8576b"
             ],
             [
              0.6666666666666666,
              "#ed7953"
             ],
             [
              0.7777777777777778,
              "#fb9f3a"
             ],
             [
              0.8888888888888888,
              "#fdca26"
             ],
             [
              1,
              "#f0f921"
             ]
            ],
            "type": "heatmapgl"
           }
          ],
          "histogram": [
           {
            "marker": {
             "colorbar": {
              "outlinewidth": 0,
              "ticks": ""
             }
            },
            "type": "histogram"
           }
          ],
          "histogram2d": [
           {
            "colorbar": {
             "outlinewidth": 0,
             "ticks": ""
            },
            "colorscale": [
             [
              0,
              "#0d0887"
             ],
             [
              0.1111111111111111,
              "#46039f"
             ],
             [
              0.2222222222222222,
              "#7201a8"
             ],
             [
              0.3333333333333333,
              "#9c179e"
             ],
             [
              0.4444444444444444,
              "#bd3786"
             ],
             [
              0.5555555555555556,
              "#d8576b"
             ],
             [
              0.6666666666666666,
              "#ed7953"
             ],
             [
              0.7777777777777778,
              "#fb9f3a"
             ],
             [
              0.8888888888888888,
              "#fdca26"
             ],
             [
              1,
              "#f0f921"
             ]
            ],
            "type": "histogram2d"
           }
          ],
          "histogram2dcontour": [
           {
            "colorbar": {
             "outlinewidth": 0,
             "ticks": ""
            },
            "colorscale": [
             [
              0,
              "#0d0887"
             ],
             [
              0.1111111111111111,
              "#46039f"
             ],
             [
              0.2222222222222222,
              "#7201a8"
             ],
             [
              0.3333333333333333,
              "#9c179e"
             ],
             [
              0.4444444444444444,
              "#bd3786"
             ],
             [
              0.5555555555555556,
              "#d8576b"
             ],
             [
              0.6666666666666666,
              "#ed7953"
             ],
             [
              0.7777777777777778,
              "#fb9f3a"
             ],
             [
              0.8888888888888888,
              "#fdca26"
             ],
             [
              1,
              "#f0f921"
             ]
            ],
            "type": "histogram2dcontour"
           }
          ],
          "mesh3d": [
           {
            "colorbar": {
             "outlinewidth": 0,
             "ticks": ""
            },
            "type": "mesh3d"
           }
          ],
          "parcoords": [
           {
            "line": {
             "colorbar": {
              "outlinewidth": 0,
              "ticks": ""
             }
            },
            "type": "parcoords"
           }
          ],
          "pie": [
           {
            "automargin": true,
            "type": "pie"
           }
          ],
          "scatter": [
           {
            "marker": {
             "colorbar": {
              "outlinewidth": 0,
              "ticks": ""
             }
            },
            "type": "scatter"
           }
          ],
          "scatter3d": [
           {
            "line": {
             "colorbar": {
              "outlinewidth": 0,
              "ticks": ""
             }
            },
            "marker": {
             "colorbar": {
              "outlinewidth": 0,
              "ticks": ""
             }
            },
            "type": "scatter3d"
           }
          ],
          "scattercarpet": [
           {
            "marker": {
             "colorbar": {
              "outlinewidth": 0,
              "ticks": ""
             }
            },
            "type": "scattercarpet"
           }
          ],
          "scattergeo": [
           {
            "marker": {
             "colorbar": {
              "outlinewidth": 0,
              "ticks": ""
             }
            },
            "type": "scattergeo"
           }
          ],
          "scattergl": [
           {
            "marker": {
             "colorbar": {
              "outlinewidth": 0,
              "ticks": ""
             }
            },
            "type": "scattergl"
           }
          ],
          "scattermapbox": [
           {
            "marker": {
             "colorbar": {
              "outlinewidth": 0,
              "ticks": ""
             }
            },
            "type": "scattermapbox"
           }
          ],
          "scatterpolar": [
           {
            "marker": {
             "colorbar": {
              "outlinewidth": 0,
              "ticks": ""
             }
            },
            "type": "scatterpolar"
           }
          ],
          "scatterpolargl": [
           {
            "marker": {
             "colorbar": {
              "outlinewidth": 0,
              "ticks": ""
             }
            },
            "type": "scatterpolargl"
           }
          ],
          "scatterternary": [
           {
            "marker": {
             "colorbar": {
              "outlinewidth": 0,
              "ticks": ""
             }
            },
            "type": "scatterternary"
           }
          ],
          "surface": [
           {
            "colorbar": {
             "outlinewidth": 0,
             "ticks": ""
            },
            "colorscale": [
             [
              0,
              "#0d0887"
             ],
             [
              0.1111111111111111,
              "#46039f"
             ],
             [
              0.2222222222222222,
              "#7201a8"
             ],
             [
              0.3333333333333333,
              "#9c179e"
             ],
             [
              0.4444444444444444,
              "#bd3786"
             ],
             [
              0.5555555555555556,
              "#d8576b"
             ],
             [
              0.6666666666666666,
              "#ed7953"
             ],
             [
              0.7777777777777778,
              "#fb9f3a"
             ],
             [
              0.8888888888888888,
              "#fdca26"
             ],
             [
              1,
              "#f0f921"
             ]
            ],
            "type": "surface"
           }
          ],
          "table": [
           {
            "cells": {
             "fill": {
              "color": "#EBF0F8"
             },
             "line": {
              "color": "white"
             }
            },
            "header": {
             "fill": {
              "color": "#C8D4E3"
             },
             "line": {
              "color": "white"
             }
            },
            "type": "table"
           }
          ]
         },
         "layout": {
          "annotationdefaults": {
           "arrowcolor": "#2a3f5f",
           "arrowhead": 0,
           "arrowwidth": 1
          },
          "coloraxis": {
           "colorbar": {
            "outlinewidth": 0,
            "ticks": ""
           }
          },
          "colorscale": {
           "diverging": [
            [
             0,
             "#8e0152"
            ],
            [
             0.1,
             "#c51b7d"
            ],
            [
             0.2,
             "#de77ae"
            ],
            [
             0.3,
             "#f1b6da"
            ],
            [
             0.4,
             "#fde0ef"
            ],
            [
             0.5,
             "#f7f7f7"
            ],
            [
             0.6,
             "#e6f5d0"
            ],
            [
             0.7,
             "#b8e186"
            ],
            [
             0.8,
             "#7fbc41"
            ],
            [
             0.9,
             "#4d9221"
            ],
            [
             1,
             "#276419"
            ]
           ],
           "sequential": [
            [
             0,
             "#0d0887"
            ],
            [
             0.1111111111111111,
             "#46039f"
            ],
            [
             0.2222222222222222,
             "#7201a8"
            ],
            [
             0.3333333333333333,
             "#9c179e"
            ],
            [
             0.4444444444444444,
             "#bd3786"
            ],
            [
             0.5555555555555556,
             "#d8576b"
            ],
            [
             0.6666666666666666,
             "#ed7953"
            ],
            [
             0.7777777777777778,
             "#fb9f3a"
            ],
            [
             0.8888888888888888,
             "#fdca26"
            ],
            [
             1,
             "#f0f921"
            ]
           ],
           "sequentialminus": [
            [
             0,
             "#0d0887"
            ],
            [
             0.1111111111111111,
             "#46039f"
            ],
            [
             0.2222222222222222,
             "#7201a8"
            ],
            [
             0.3333333333333333,
             "#9c179e"
            ],
            [
             0.4444444444444444,
             "#bd3786"
            ],
            [
             0.5555555555555556,
             "#d8576b"
            ],
            [
             0.6666666666666666,
             "#ed7953"
            ],
            [
             0.7777777777777778,
             "#fb9f3a"
            ],
            [
             0.8888888888888888,
             "#fdca26"
            ],
            [
             1,
             "#f0f921"
            ]
           ]
          },
          "colorway": [
           "#636efa",
           "#EF553B",
           "#00cc96",
           "#ab63fa",
           "#FFA15A",
           "#19d3f3",
           "#FF6692",
           "#B6E880",
           "#FF97FF",
           "#FECB52"
          ],
          "font": {
           "color": "#2a3f5f"
          },
          "geo": {
           "bgcolor": "white",
           "lakecolor": "white",
           "landcolor": "#E5ECF6",
           "showlakes": true,
           "showland": true,
           "subunitcolor": "white"
          },
          "hoverlabel": {
           "align": "left"
          },
          "hovermode": "closest",
          "mapbox": {
           "style": "light"
          },
          "paper_bgcolor": "white",
          "plot_bgcolor": "#E5ECF6",
          "polar": {
           "angularaxis": {
            "gridcolor": "white",
            "linecolor": "white",
            "ticks": ""
           },
           "bgcolor": "#E5ECF6",
           "radialaxis": {
            "gridcolor": "white",
            "linecolor": "white",
            "ticks": ""
           }
          },
          "scene": {
           "xaxis": {
            "backgroundcolor": "#E5ECF6",
            "gridcolor": "white",
            "gridwidth": 2,
            "linecolor": "white",
            "showbackground": true,
            "ticks": "",
            "zerolinecolor": "white"
           },
           "yaxis": {
            "backgroundcolor": "#E5ECF6",
            "gridcolor": "white",
            "gridwidth": 2,
            "linecolor": "white",
            "showbackground": true,
            "ticks": "",
            "zerolinecolor": "white"
           },
           "zaxis": {
            "backgroundcolor": "#E5ECF6",
            "gridcolor": "white",
            "gridwidth": 2,
            "linecolor": "white",
            "showbackground": true,
            "ticks": "",
            "zerolinecolor": "white"
           }
          },
          "shapedefaults": {
           "line": {
            "color": "#2a3f5f"
           }
          },
          "ternary": {
           "aaxis": {
            "gridcolor": "white",
            "linecolor": "white",
            "ticks": ""
           },
           "baxis": {
            "gridcolor": "white",
            "linecolor": "white",
            "ticks": ""
           },
           "bgcolor": "#E5ECF6",
           "caxis": {
            "gridcolor": "white",
            "linecolor": "white",
            "ticks": ""
           }
          },
          "title": {
           "x": 0.05
          },
          "xaxis": {
           "automargin": true,
           "gridcolor": "white",
           "linecolor": "white",
           "ticks": "",
           "title": {
            "standoff": 15
           },
           "zerolinecolor": "white",
           "zerolinewidth": 2
          },
          "yaxis": {
           "automargin": true,
           "gridcolor": "white",
           "linecolor": "white",
           "ticks": "",
           "title": {
            "standoff": 15
           },
           "zerolinecolor": "white",
           "zerolinewidth": 2
          }
         }
        },
        "title": {
         "text": "Top 20 tri-grams in hotel description after removing stop words",
         "x": 0.5,
         "y": 0.9
        },
        "xaxis": {
         "title": {
          "text": "top words"
         }
        },
        "yaxis": {
         "title": {
          "text": "word counts"
         }
        }
       }
      },
      "text/html": [
       "<div>\n",
       "        \n",
       "        \n",
       "            <div id=\"f8a1346b-945e-48f0-aa3c-fadfcb60f41b\" class=\"plotly-graph-div\" style=\"height:525px; width:100%;\"></div>\n",
       "            <script type=\"text/javascript\">\n",
       "                require([\"plotly\"], function(Plotly) {\n",
       "                    window.PLOTLYENV=window.PLOTLYENV || {};\n",
       "                    \n",
       "                if (document.getElementById(\"f8a1346b-945e-48f0-aa3c-fadfcb60f41b\")) {\n",
       "                    Plotly.newPlot(\n",
       "                        'f8a1346b-945e-48f0-aa3c-fadfcb60f41b',\n",
       "                        [{\"text\": [\"goa international airport\", \"hot cold water\", \"basilica bom jesus\", \"km goa international\", \"multi cuisine restaurant\", \"madgaon railway station\", \"tea coffee maker\", \"salim ali bird\", \"ali bird sanctuary\", \"railway station km\", \"airport railway station\", \"km basilica bom\", \"cold water supply\", \"essential bathroom toiletries\", \"shanta durga temple\", \"amenities like air\", \"wi fi internet\", \"immaculate conception church\", \"baga beach km\", \"thivim railway station\"], \"textposition\": \"auto\", \"type\": \"bar\", \"x\": [\"goa international airport\", \"hot cold water\", \"basilica bom jesus\", \"km goa international\", \"multi cuisine restaurant\", \"madgaon railway station\", \"tea coffee maker\", \"salim ali bird\", \"ali bird sanctuary\", \"railway station km\", \"airport railway station\", \"km basilica bom\", \"cold water supply\", \"essential bathroom toiletries\", \"shanta durga temple\", \"amenities like air\", \"wi fi internet\", \"immaculate conception church\", \"baga beach km\", \"thivim railway station\"], \"y\": [373, 367, 214, 211, 191, 162, 156, 152, 152, 136, 127, 118, 99, 99, 97, 96, 89, 89, 88, 88]}],\n",
       "                        {\"template\": {\"data\": {\"bar\": [{\"error_x\": {\"color\": \"#2a3f5f\"}, \"error_y\": {\"color\": \"#2a3f5f\"}, \"marker\": {\"line\": {\"color\": \"#E5ECF6\", \"width\": 0.5}}, \"type\": \"bar\"}], \"barpolar\": [{\"marker\": {\"line\": {\"color\": \"#E5ECF6\", \"width\": 0.5}}, \"type\": \"barpolar\"}], \"carpet\": [{\"aaxis\": {\"endlinecolor\": \"#2a3f5f\", \"gridcolor\": \"white\", \"linecolor\": \"white\", \"minorgridcolor\": \"white\", \"startlinecolor\": \"#2a3f5f\"}, \"baxis\": {\"endlinecolor\": \"#2a3f5f\", \"gridcolor\": \"white\", \"linecolor\": \"white\", \"minorgridcolor\": \"white\", \"startlinecolor\": \"#2a3f5f\"}, \"type\": \"carpet\"}], \"choropleth\": [{\"colorbar\": {\"outlinewidth\": 0, \"ticks\": \"\"}, \"type\": \"choropleth\"}], \"contour\": [{\"colorbar\": {\"outlinewidth\": 0, \"ticks\": \"\"}, \"colorscale\": [[0.0, \"#0d0887\"], [0.1111111111111111, \"#46039f\"], [0.2222222222222222, \"#7201a8\"], [0.3333333333333333, \"#9c179e\"], [0.4444444444444444, \"#bd3786\"], [0.5555555555555556, \"#d8576b\"], [0.6666666666666666, \"#ed7953\"], [0.7777777777777778, \"#fb9f3a\"], [0.8888888888888888, \"#fdca26\"], [1.0, \"#f0f921\"]], \"type\": \"contour\"}], \"contourcarpet\": [{\"colorbar\": {\"outlinewidth\": 0, \"ticks\": \"\"}, \"type\": \"contourcarpet\"}], \"heatmap\": [{\"colorbar\": {\"outlinewidth\": 0, \"ticks\": \"\"}, \"colorscale\": [[0.0, \"#0d0887\"], [0.1111111111111111, \"#46039f\"], [0.2222222222222222, \"#7201a8\"], [0.3333333333333333, \"#9c179e\"], [0.4444444444444444, \"#bd3786\"], [0.5555555555555556, \"#d8576b\"], [0.6666666666666666, \"#ed7953\"], [0.7777777777777778, \"#fb9f3a\"], [0.8888888888888888, \"#fdca26\"], [1.0, \"#f0f921\"]], \"type\": \"heatmap\"}], \"heatmapgl\": [{\"colorbar\": {\"outlinewidth\": 0, \"ticks\": \"\"}, \"colorscale\": [[0.0, \"#0d0887\"], [0.1111111111111111, \"#46039f\"], [0.2222222222222222, \"#7201a8\"], [0.3333333333333333, \"#9c179e\"], [0.4444444444444444, \"#bd3786\"], [0.5555555555555556, \"#d8576b\"], [0.6666666666666666, \"#ed7953\"], [0.7777777777777778, \"#fb9f3a\"], [0.8888888888888888, \"#fdca26\"], [1.0, \"#f0f921\"]], \"type\": \"heatmapgl\"}], \"histogram\": [{\"marker\": {\"colorbar\": {\"outlinewidth\": 0, \"ticks\": \"\"}}, \"type\": \"histogram\"}], \"histogram2d\": [{\"colorbar\": {\"outlinewidth\": 0, \"ticks\": \"\"}, \"colorscale\": [[0.0, \"#0d0887\"], [0.1111111111111111, \"#46039f\"], [0.2222222222222222, \"#7201a8\"], [0.3333333333333333, \"#9c179e\"], [0.4444444444444444, \"#bd3786\"], [0.5555555555555556, \"#d8576b\"], [0.6666666666666666, \"#ed7953\"], [0.7777777777777778, \"#fb9f3a\"], [0.8888888888888888, \"#fdca26\"], [1.0, \"#f0f921\"]], \"type\": \"histogram2d\"}], \"histogram2dcontour\": [{\"colorbar\": {\"outlinewidth\": 0, \"ticks\": \"\"}, \"colorscale\": [[0.0, \"#0d0887\"], [0.1111111111111111, \"#46039f\"], [0.2222222222222222, \"#7201a8\"], [0.3333333333333333, \"#9c179e\"], [0.4444444444444444, \"#bd3786\"], [0.5555555555555556, \"#d8576b\"], [0.6666666666666666, \"#ed7953\"], [0.7777777777777778, \"#fb9f3a\"], [0.8888888888888888, \"#fdca26\"], [1.0, \"#f0f921\"]], \"type\": \"histogram2dcontour\"}], \"mesh3d\": [{\"colorbar\": {\"outlinewidth\": 0, \"ticks\": \"\"}, \"type\": \"mesh3d\"}], \"parcoords\": [{\"line\": {\"colorbar\": {\"outlinewidth\": 0, \"ticks\": \"\"}}, \"type\": \"parcoords\"}], \"pie\": [{\"automargin\": true, \"type\": \"pie\"}], \"scatter\": [{\"marker\": {\"colorbar\": {\"outlinewidth\": 0, \"ticks\": \"\"}}, \"type\": \"scatter\"}], \"scatter3d\": [{\"line\": {\"colorbar\": {\"outlinewidth\": 0, \"ticks\": \"\"}}, \"marker\": {\"colorbar\": {\"outlinewidth\": 0, \"ticks\": \"\"}}, \"type\": \"scatter3d\"}], \"scattercarpet\": [{\"marker\": {\"colorbar\": {\"outlinewidth\": 0, \"ticks\": \"\"}}, \"type\": \"scattercarpet\"}], \"scattergeo\": [{\"marker\": {\"colorbar\": {\"outlinewidth\": 0, \"ticks\": \"\"}}, \"type\": \"scattergeo\"}], \"scattergl\": [{\"marker\": {\"colorbar\": {\"outlinewidth\": 0, \"ticks\": \"\"}}, \"type\": \"scattergl\"}], \"scattermapbox\": [{\"marker\": {\"colorbar\": {\"outlinewidth\": 0, \"ticks\": \"\"}}, \"type\": \"scattermapbox\"}], \"scatterpolar\": [{\"marker\": {\"colorbar\": {\"outlinewidth\": 0, \"ticks\": \"\"}}, \"type\": \"scatterpolar\"}], \"scatterpolargl\": [{\"marker\": {\"colorbar\": {\"outlinewidth\": 0, \"ticks\": \"\"}}, \"type\": \"scatterpolargl\"}], \"scatterternary\": [{\"marker\": {\"colorbar\": {\"outlinewidth\": 0, \"ticks\": \"\"}}, \"type\": \"scatterternary\"}], \"surface\": [{\"colorbar\": {\"outlinewidth\": 0, \"ticks\": \"\"}, \"colorscale\": [[0.0, \"#0d0887\"], [0.1111111111111111, \"#46039f\"], [0.2222222222222222, \"#7201a8\"], [0.3333333333333333, \"#9c179e\"], [0.4444444444444444, \"#bd3786\"], [0.5555555555555556, \"#d8576b\"], [0.6666666666666666, \"#ed7953\"], [0.7777777777777778, \"#fb9f3a\"], [0.8888888888888888, \"#fdca26\"], [1.0, \"#f0f921\"]], \"type\": \"surface\"}], \"table\": [{\"cells\": {\"fill\": {\"color\": \"#EBF0F8\"}, \"line\": {\"color\": \"white\"}}, \"header\": {\"fill\": {\"color\": \"#C8D4E3\"}, \"line\": {\"color\": \"white\"}}, \"type\": \"table\"}]}, \"layout\": {\"annotationdefaults\": {\"arrowcolor\": \"#2a3f5f\", \"arrowhead\": 0, \"arrowwidth\": 1}, \"coloraxis\": {\"colorbar\": {\"outlinewidth\": 0, \"ticks\": \"\"}}, \"colorscale\": {\"diverging\": [[0, \"#8e0152\"], [0.1, \"#c51b7d\"], [0.2, \"#de77ae\"], [0.3, \"#f1b6da\"], [0.4, \"#fde0ef\"], [0.5, \"#f7f7f7\"], [0.6, \"#e6f5d0\"], [0.7, \"#b8e186\"], [0.8, \"#7fbc41\"], [0.9, \"#4d9221\"], [1, \"#276419\"]], \"sequential\": [[0.0, \"#0d0887\"], [0.1111111111111111, \"#46039f\"], [0.2222222222222222, \"#7201a8\"], [0.3333333333333333, \"#9c179e\"], [0.4444444444444444, \"#bd3786\"], [0.5555555555555556, \"#d8576b\"], [0.6666666666666666, \"#ed7953\"], [0.7777777777777778, \"#fb9f3a\"], [0.8888888888888888, \"#fdca26\"], [1.0, \"#f0f921\"]], \"sequentialminus\": [[0.0, \"#0d0887\"], [0.1111111111111111, \"#46039f\"], [0.2222222222222222, \"#7201a8\"], [0.3333333333333333, \"#9c179e\"], [0.4444444444444444, \"#bd3786\"], [0.5555555555555556, \"#d8576b\"], [0.6666666666666666, \"#ed7953\"], [0.7777777777777778, \"#fb9f3a\"], [0.8888888888888888, \"#fdca26\"], [1.0, \"#f0f921\"]]}, \"colorway\": [\"#636efa\", \"#EF553B\", \"#00cc96\", \"#ab63fa\", \"#FFA15A\", \"#19d3f3\", \"#FF6692\", \"#B6E880\", \"#FF97FF\", \"#FECB52\"], \"font\": {\"color\": \"#2a3f5f\"}, \"geo\": {\"bgcolor\": \"white\", \"lakecolor\": \"white\", \"landcolor\": \"#E5ECF6\", \"showlakes\": true, \"showland\": true, \"subunitcolor\": \"white\"}, \"hoverlabel\": {\"align\": \"left\"}, \"hovermode\": \"closest\", \"mapbox\": {\"style\": \"light\"}, \"paper_bgcolor\": \"white\", \"plot_bgcolor\": \"#E5ECF6\", \"polar\": {\"angularaxis\": {\"gridcolor\": \"white\", \"linecolor\": \"white\", \"ticks\": \"\"}, \"bgcolor\": \"#E5ECF6\", \"radialaxis\": {\"gridcolor\": \"white\", \"linecolor\": \"white\", \"ticks\": \"\"}}, \"scene\": {\"xaxis\": {\"backgroundcolor\": \"#E5ECF6\", \"gridcolor\": \"white\", \"gridwidth\": 2, \"linecolor\": \"white\", \"showbackground\": true, \"ticks\": \"\", \"zerolinecolor\": \"white\"}, \"yaxis\": {\"backgroundcolor\": \"#E5ECF6\", \"gridcolor\": \"white\", \"gridwidth\": 2, \"linecolor\": \"white\", \"showbackground\": true, \"ticks\": \"\", \"zerolinecolor\": \"white\"}, \"zaxis\": {\"backgroundcolor\": \"#E5ECF6\", \"gridcolor\": \"white\", \"gridwidth\": 2, \"linecolor\": \"white\", \"showbackground\": true, \"ticks\": \"\", \"zerolinecolor\": \"white\"}}, \"shapedefaults\": {\"line\": {\"color\": \"#2a3f5f\"}}, \"ternary\": {\"aaxis\": {\"gridcolor\": \"white\", \"linecolor\": \"white\", \"ticks\": \"\"}, \"baxis\": {\"gridcolor\": \"white\", \"linecolor\": \"white\", \"ticks\": \"\"}, \"bgcolor\": \"#E5ECF6\", \"caxis\": {\"gridcolor\": \"white\", \"linecolor\": \"white\", \"ticks\": \"\"}}, \"title\": {\"x\": 0.05}, \"xaxis\": {\"automargin\": true, \"gridcolor\": \"white\", \"linecolor\": \"white\", \"ticks\": \"\", \"title\": {\"standoff\": 15}, \"zerolinecolor\": \"white\", \"zerolinewidth\": 2}, \"yaxis\": {\"automargin\": true, \"gridcolor\": \"white\", \"linecolor\": \"white\", \"ticks\": \"\", \"title\": {\"standoff\": 15}, \"zerolinecolor\": \"white\", \"zerolinewidth\": 2}}}, \"title\": {\"text\": \"Top 20 tri-grams in hotel description after removing stop words\", \"x\": 0.5, \"y\": 0.9}, \"xaxis\": {\"title\": {\"text\": \"top words\"}}, \"yaxis\": {\"title\": {\"text\": \"word counts\"}}},\n",
       "                        {\"responsive\": true}\n",
       "                    ).then(function(){\n",
       "                            \n",
       "var gd = document.getElementById('f8a1346b-945e-48f0-aa3c-fadfcb60f41b');\n",
       "var x = new MutationObserver(function (mutations, observer) {{\n",
       "        var display = window.getComputedStyle(gd).display;\n",
       "        if (!display || display === 'none') {{\n",
       "            console.log([gd, 'removed!']);\n",
       "            Plotly.purge(gd);\n",
       "            observer.disconnect();\n",
       "        }}\n",
       "}});\n",
       "\n",
       "// Listen for the removal of the full notebook cells\n",
       "var notebookContainer = gd.closest('#notebook-container');\n",
       "if (notebookContainer) {{\n",
       "    x.observe(notebookContainer, {childList: true});\n",
       "}}\n",
       "\n",
       "// Listen for the clearing of the current output cell\n",
       "var outputEl = gd.closest('.output');\n",
       "if (outputEl) {{\n",
       "    x.observe(outputEl, {childList: true});\n",
       "}}\n",
       "\n",
       "                        })\n",
       "                };\n",
       "                });\n",
       "            </script>\n",
       "        </div>"
      ]
     },
     "metadata": {},
     "output_type": "display_data"
    }
   ],
   "source": [
    "top_words = pd.DataFrame(get_top_ngram(goa['hotel_overview'].dropna(), 20, 'english', 3))\n",
    "top_words.columns = ['words', 'count']\n",
    "plot_barcharts(top_words, \"Top 20 tri-grams in hotel description after removing stop words\")"
   ]
  },
  {
   "cell_type": "code",
   "execution_count": 252,
   "metadata": {},
   "outputs": [
    {
     "name": "stdout",
     "output_type": "stream",
     "text": [
      "Number of descriptions: 1122 \n",
      "Average word count 153.92869875222817 \n",
      "Minimum word count 1 \n",
      "Maximum word count 789\n"
     ]
    }
   ],
   "source": [
    "goa['word_count'] = goa['hotel_overview'].apply(lambda x: len(str(x).split()))\n",
    "desc_lengths = list(goa['word_count'])\n",
    "print(\"Number of descriptions:\",len(desc_lengths),\n",
    "      \"\\nAverage word count\", np.average(desc_lengths),\n",
    "      \"\\nMinimum word count\", min(desc_lengths),\n",
    "      \"\\nMaximum word count\", max(desc_lengths))"
   ]
  },
  {
   "cell_type": "code",
   "execution_count": 253,
   "metadata": {},
   "outputs": [
    {
     "data": {
      "application/vnd.plotly.v1+json": {
       "config": {
        "linkText": "Export to plot.ly",
        "plotlyServerURL": "https://plot.ly",
        "showLink": true
       },
       "data": [
        {
         "histfunc": "count",
         "histnorm": "",
         "marker": {
          "color": "rgba(255, 153, 51, 1.0)",
          "line": {
           "color": "#000000",
           "width": 1.3
          }
         },
         "name": "word_count",
         "nbinsx": 50,
         "opacity": 0.8,
         "orientation": "v",
         "type": "histogram",
         "x": [
          237,
          120,
          175,
          161,
          1,
          125,
          108,
          178,
          1,
          244,
          1,
          412,
          232,
          108,
          159,
          148,
          91,
          175,
          187,
          209,
          1,
          352,
          177,
          1,
          166,
          203,
          189,
          255,
          153,
          170,
          1,
          127,
          210,
          111,
          212,
          162,
          207,
          1,
          1,
          108,
          1,
          179,
          148,
          203,
          170,
          184,
          1,
          157,
          59,
          1,
          1,
          150,
          164,
          1,
          151,
          167,
          1,
          1,
          164,
          280,
          190,
          219,
          239,
          84,
          143,
          109,
          183,
          186,
          257,
          132,
          309,
          134,
          362,
          168,
          1,
          157,
          258,
          147,
          124,
          206,
          184,
          1,
          1,
          92,
          122,
          1,
          231,
          789,
          239,
          1,
          141,
          115,
          96,
          1,
          262,
          182,
          147,
          164,
          245,
          147,
          1,
          223,
          121,
          186,
          166,
          1,
          82,
          217,
          345,
          194,
          125,
          234,
          1,
          238,
          1,
          276,
          243,
          180,
          166,
          225,
          165,
          196,
          1,
          1,
          103,
          99,
          173,
          293,
          1,
          212,
          186,
          77,
          223,
          1,
          254,
          87,
          1,
          79,
          151,
          150,
          1,
          183,
          230,
          219,
          218,
          1,
          182,
          181,
          175,
          129,
          1,
          1,
          202,
          211,
          144,
          239,
          241,
          1,
          316,
          198,
          1,
          233,
          180,
          264,
          142,
          192,
          123,
          152,
          97,
          195,
          179,
          141,
          213,
          146,
          11,
          178,
          229,
          1,
          62,
          224,
          198,
          178,
          94,
          203,
          124,
          226,
          240,
          139,
          141,
          168,
          195,
          186,
          1,
          210,
          226,
          121,
          97,
          194,
          218,
          443,
          124,
          141,
          242,
          168,
          191,
          97,
          163,
          349,
          189,
          207,
          1,
          179,
          116,
          244,
          234,
          79,
          206,
          168,
          126,
          117,
          131,
          158,
          69,
          146,
          1,
          162,
          199,
          192,
          111,
          114,
          1,
          1,
          167,
          288,
          172,
          239,
          229,
          163,
          157,
          180,
          213,
          196,
          1,
          410,
          191,
          1,
          216,
          145,
          1,
          86,
          220,
          182,
          1,
          789,
          503,
          110,
          80,
          1,
          242,
          195,
          234,
          178,
          1,
          160,
          106,
          175,
          116,
          1,
          170,
          193,
          161,
          204,
          163,
          240,
          214,
          166,
          189,
          199,
          189,
          257,
          122,
          106,
          212,
          212,
          182,
          1,
          1,
          171,
          173,
          173,
          159,
          185,
          243,
          168,
          232,
          170,
          238,
          206,
          213,
          184,
          189,
          196,
          175,
          145,
          171,
          185,
          1,
          182,
          207,
          148,
          134,
          174,
          222,
          229,
          166,
          220,
          207,
          196,
          214,
          210,
          186,
          175,
          173,
          229,
          190,
          206,
          179,
          254,
          209,
          231,
          232,
          200,
          174,
          261,
          191,
          198,
          192,
          179,
          127,
          205,
          166,
          214,
          181,
          176,
          203,
          160,
          146,
          166,
          180,
          160,
          193,
          139,
          196,
          143,
          259,
          198,
          212,
          172,
          220,
          315,
          159,
          178,
          179,
          173,
          138,
          267,
          93,
          148,
          1,
          138,
          208,
          183,
          178,
          203,
          234,
          199,
          184,
          236,
          219,
          141,
          147,
          178,
          186,
          262,
          115,
          1,
          194,
          1,
          111,
          137,
          1,
          178,
          137,
          100,
          196,
          1,
          173,
          145,
          84,
          186,
          1,
          102,
          1,
          45,
          157,
          177,
          1,
          205,
          218,
          163,
          1,
          224,
          124,
          159,
          184,
          201,
          1,
          227,
          168,
          100,
          233,
          180,
          165,
          263,
          205,
          149,
          188,
          132,
          1,
          192,
          163,
          239,
          214,
          159,
          239,
          264,
          205,
          99,
          175,
          1,
          175,
          133,
          212,
          130,
          127,
          197,
          217,
          194,
          217,
          99,
          72,
          221,
          161,
          194,
          200,
          1,
          1,
          1,
          98,
          105,
          94,
          148,
          1,
          156,
          163,
          112,
          235,
          180,
          87,
          157,
          1,
          267,
          152,
          1,
          148,
          195,
          159,
          151,
          156,
          193,
          214,
          1,
          223,
          179,
          183,
          181,
          1,
          198,
          105,
          57,
          163,
          185,
          170,
          112,
          144,
          182,
          1,
          172,
          204,
          102,
          210,
          168,
          189,
          97,
          148,
          1,
          191,
          221,
          121,
          174,
          1,
          1,
          122,
          1,
          1,
          212,
          166,
          1,
          190,
          1,
          166,
          233,
          221,
          189,
          214,
          1,
          199,
          1,
          221,
          224,
          1,
          1,
          94,
          148,
          1,
          238,
          232,
          223,
          267,
          1,
          185,
          173,
          213,
          239,
          226,
          175,
          111,
          175,
          159,
          1,
          177,
          118,
          193,
          242,
          85,
          1,
          174,
          177,
          176,
          199,
          275,
          191,
          105,
          234,
          284,
          115,
          139,
          106,
          164,
          207,
          147,
          159,
          166,
          221,
          188,
          181,
          131,
          309,
          182,
          164,
          1,
          131,
          111,
          372,
          1,
          145,
          167,
          233,
          262,
          145,
          233,
          135,
          121,
          188,
          196,
          203,
          151,
          1,
          94,
          220,
          97,
          168,
          160,
          159,
          215,
          1,
          203,
          495,
          196,
          202,
          132,
          167,
          150,
          158,
          192,
          99,
          130,
          430,
          170,
          203,
          177,
          176,
          224,
          143,
          157,
          1,
          176,
          148,
          165,
          1,
          148,
          157,
          156,
          176,
          116,
          1,
          1,
          1,
          172,
          99,
          190,
          33,
          1,
          126,
          98,
          154,
          194,
          1,
          223,
          150,
          233,
          145,
          192,
          221,
          357,
          231,
          221,
          238,
          211,
          189,
          230,
          1,
          308,
          136,
          136,
          195,
          191,
          204,
          223,
          138,
          156,
          130,
          97,
          97,
          214,
          97,
          183,
          95,
          244,
          90,
          163,
          123,
          205,
          224,
          244,
          202,
          224,
          156,
          206,
          194,
          314,
          142,
          149,
          220,
          215,
          241,
          161,
          215,
          193,
          194,
          158,
          241,
          88,
          87,
          231,
          192,
          188,
          1,
          1,
          1,
          1,
          1,
          1,
          1,
          155,
          1,
          186,
          156,
          198,
          1,
          132,
          1,
          1,
          245,
          251,
          209,
          1,
          214,
          234,
          281,
          153,
          133,
          1,
          189,
          1,
          131,
          99,
          1,
          207,
          193,
          90,
          218,
          241,
          214,
          242,
          257,
          192,
          184,
          188,
          184,
          133,
          315,
          189,
          179,
          234,
          193,
          165,
          158,
          225,
          217,
          242,
          195,
          166,
          247,
          160,
          159,
          156,
          239,
          160,
          204,
          166,
          222,
          205,
          171,
          266,
          162,
          208,
          148,
          274,
          122,
          1,
          1,
          99,
          96,
          198,
          224,
          1,
          1,
          137,
          1,
          1,
          1,
          225,
          161,
          134,
          144,
          105,
          1,
          1,
          162,
          178,
          1,
          137,
          193,
          1,
          134,
          124,
          1,
          241,
          170,
          182,
          1,
          143,
          225,
          1,
          189,
          1,
          123,
          238,
          238,
          220,
          215,
          228,
          171,
          1,
          136,
          164,
          205,
          132,
          203,
          67,
          193,
          111,
          203,
          80,
          222,
          111,
          150,
          68,
          201,
          175,
          100,
          244,
          201,
          118,
          173,
          136,
          171,
          246,
          126,
          160,
          249,
          124,
          119,
          148,
          195,
          195,
          184,
          167,
          240,
          175,
          157,
          248,
          96,
          147,
          1,
          185,
          107,
          99,
          259,
          1,
          212,
          1,
          91,
          203,
          219,
          132,
          93,
          1,
          119,
          206,
          1,
          207,
          197,
          315,
          124,
          1,
          215,
          101,
          274,
          108,
          116,
          201,
          196,
          205,
          1,
          156,
          189,
          1,
          232,
          127,
          222,
          326,
          1,
          143,
          33,
          242,
          229,
          218,
          1,
          144,
          1,
          176,
          159,
          244,
          176,
          181,
          145,
          189,
          1,
          261,
          1,
          438,
          233,
          1,
          131,
          128,
          169,
          211,
          1,
          126,
          118,
          174,
          116,
          165,
          228,
          85,
          149,
          190,
          155,
          148,
          210,
          163,
          218,
          115,
          186,
          218,
          186,
          201,
          198,
          242,
          230,
          96,
          1,
          108,
          192,
          243,
          186,
          196,
          222,
          245,
          1,
          181,
          99,
          146,
          239,
          102,
          148,
          143,
          192,
          1,
          193,
          176,
          144,
          196,
          172,
          163,
          1,
          204,
          1,
          1,
          11,
          153,
          1,
          147,
          100,
          112,
          141,
          207,
          125,
          312,
          138,
          59,
          1,
          1,
          212,
          174,
          189,
          221,
          177,
          191,
          162,
          190,
          83,
          128,
          224,
          92,
          318,
          126,
          1,
          1,
          183,
          202,
          202,
          147,
          137,
          102,
          223,
          181,
          1,
          136,
          177,
          168,
          94,
          198,
          159,
          1,
          153,
          234,
          97,
          200,
          31,
          261,
          100,
          151,
          173,
          217,
          188,
          324,
          155,
          1,
          1,
          166,
          227,
          199,
          288,
          103,
          193,
          1,
          254,
          1,
          217,
          430,
          101,
          108,
          214,
          231,
          159,
          122,
          179,
          176,
          212,
          127,
          203,
          174,
          243,
          138,
          208,
          166,
          154,
          182,
          1,
          110,
          1,
          254,
          177,
          295,
          138,
          215,
          166,
          175,
          156,
          109,
          184,
          194,
          111,
          1,
          1,
          159,
          224,
          1,
          232,
          1,
          1,
          202,
          158,
          138,
          284,
          1,
          225,
          259,
          178,
          1,
          218,
          221,
          171,
          113,
          195,
          259,
          179,
          199,
          223,
          1,
          162,
          189,
          151,
          128,
          1,
          220,
          186,
          181,
          297
         ]
        }
       ],
       "layout": {
        "barmode": "overlay",
        "legend": {
         "bgcolor": "#1A1A1C",
         "font": {
          "color": "#D9D9D9"
         }
        },
        "paper_bgcolor": "#1A1A1C",
        "plot_bgcolor": "#1A1A1C",
        "template": {
         "data": {
          "bar": [
           {
            "error_x": {
             "color": "#2a3f5f"
            },
            "error_y": {
             "color": "#2a3f5f"
            },
            "marker": {
             "line": {
              "color": "#E5ECF6",
              "width": 0.5
             }
            },
            "type": "bar"
           }
          ],
          "barpolar": [
           {
            "marker": {
             "line": {
              "color": "#E5ECF6",
              "width": 0.5
             }
            },
            "type": "barpolar"
           }
          ],
          "carpet": [
           {
            "aaxis": {
             "endlinecolor": "#2a3f5f",
             "gridcolor": "white",
             "linecolor": "white",
             "minorgridcolor": "white",
             "startlinecolor": "#2a3f5f"
            },
            "baxis": {
             "endlinecolor": "#2a3f5f",
             "gridcolor": "white",
             "linecolor": "white",
             "minorgridcolor": "white",
             "startlinecolor": "#2a3f5f"
            },
            "type": "carpet"
           }
          ],
          "choropleth": [
           {
            "colorbar": {
             "outlinewidth": 0,
             "ticks": ""
            },
            "type": "choropleth"
           }
          ],
          "contour": [
           {
            "colorbar": {
             "outlinewidth": 0,
             "ticks": ""
            },
            "colorscale": [
             [
              0,
              "#0d0887"
             ],
             [
              0.1111111111111111,
              "#46039f"
             ],
             [
              0.2222222222222222,
              "#7201a8"
             ],
             [
              0.3333333333333333,
              "#9c179e"
             ],
             [
              0.4444444444444444,
              "#bd3786"
             ],
             [
              0.5555555555555556,
              "#d8576b"
             ],
             [
              0.6666666666666666,
              "#ed7953"
             ],
             [
              0.7777777777777778,
              "#fb9f3a"
             ],
             [
              0.8888888888888888,
              "#fdca26"
             ],
             [
              1,
              "#f0f921"
             ]
            ],
            "type": "contour"
           }
          ],
          "contourcarpet": [
           {
            "colorbar": {
             "outlinewidth": 0,
             "ticks": ""
            },
            "type": "contourcarpet"
           }
          ],
          "heatmap": [
           {
            "colorbar": {
             "outlinewidth": 0,
             "ticks": ""
            },
            "colorscale": [
             [
              0,
              "#0d0887"
             ],
             [
              0.1111111111111111,
              "#46039f"
             ],
             [
              0.2222222222222222,
              "#7201a8"
             ],
             [
              0.3333333333333333,
              "#9c179e"
             ],
             [
              0.4444444444444444,
              "#bd3786"
             ],
             [
              0.5555555555555556,
              "#d8576b"
             ],
             [
              0.6666666666666666,
              "#ed7953"
             ],
             [
              0.7777777777777778,
              "#fb9f3a"
             ],
             [
              0.8888888888888888,
              "#fdca26"
             ],
             [
              1,
              "#f0f921"
             ]
            ],
            "type": "heatmap"
           }
          ],
          "heatmapgl": [
           {
            "colorbar": {
             "outlinewidth": 0,
             "ticks": ""
            },
            "colorscale": [
             [
              0,
              "#0d0887"
             ],
             [
              0.1111111111111111,
              "#46039f"
             ],
             [
              0.2222222222222222,
              "#7201a8"
             ],
             [
              0.3333333333333333,
              "#9c179e"
             ],
             [
              0.4444444444444444,
              "#bd3786"
             ],
             [
              0.5555555555555556,
              "#d8576b"
             ],
             [
              0.6666666666666666,
              "#ed7953"
             ],
             [
              0.7777777777777778,
              "#fb9f3a"
             ],
             [
              0.8888888888888888,
              "#fdca26"
             ],
             [
              1,
              "#f0f921"
             ]
            ],
            "type": "heatmapgl"
           }
          ],
          "histogram": [
           {
            "marker": {
             "colorbar": {
              "outlinewidth": 0,
              "ticks": ""
             }
            },
            "type": "histogram"
           }
          ],
          "histogram2d": [
           {
            "colorbar": {
             "outlinewidth": 0,
             "ticks": ""
            },
            "colorscale": [
             [
              0,
              "#0d0887"
             ],
             [
              0.1111111111111111,
              "#46039f"
             ],
             [
              0.2222222222222222,
              "#7201a8"
             ],
             [
              0.3333333333333333,
              "#9c179e"
             ],
             [
              0.4444444444444444,
              "#bd3786"
             ],
             [
              0.5555555555555556,
              "#d8576b"
             ],
             [
              0.6666666666666666,
              "#ed7953"
             ],
             [
              0.7777777777777778,
              "#fb9f3a"
             ],
             [
              0.8888888888888888,
              "#fdca26"
             ],
             [
              1,
              "#f0f921"
             ]
            ],
            "type": "histogram2d"
           }
          ],
          "histogram2dcontour": [
           {
            "colorbar": {
             "outlinewidth": 0,
             "ticks": ""
            },
            "colorscale": [
             [
              0,
              "#0d0887"
             ],
             [
              0.1111111111111111,
              "#46039f"
             ],
             [
              0.2222222222222222,
              "#7201a8"
             ],
             [
              0.3333333333333333,
              "#9c179e"
             ],
             [
              0.4444444444444444,
              "#bd3786"
             ],
             [
              0.5555555555555556,
              "#d8576b"
             ],
             [
              0.6666666666666666,
              "#ed7953"
             ],
             [
              0.7777777777777778,
              "#fb9f3a"
             ],
             [
              0.8888888888888888,
              "#fdca26"
             ],
             [
              1,
              "#f0f921"
             ]
            ],
            "type": "histogram2dcontour"
           }
          ],
          "mesh3d": [
           {
            "colorbar": {
             "outlinewidth": 0,
             "ticks": ""
            },
            "type": "mesh3d"
           }
          ],
          "parcoords": [
           {
            "line": {
             "colorbar": {
              "outlinewidth": 0,
              "ticks": ""
             }
            },
            "type": "parcoords"
           }
          ],
          "pie": [
           {
            "automargin": true,
            "type": "pie"
           }
          ],
          "scatter": [
           {
            "marker": {
             "colorbar": {
              "outlinewidth": 0,
              "ticks": ""
             }
            },
            "type": "scatter"
           }
          ],
          "scatter3d": [
           {
            "line": {
             "colorbar": {
              "outlinewidth": 0,
              "ticks": ""
             }
            },
            "marker": {
             "colorbar": {
              "outlinewidth": 0,
              "ticks": ""
             }
            },
            "type": "scatter3d"
           }
          ],
          "scattercarpet": [
           {
            "marker": {
             "colorbar": {
              "outlinewidth": 0,
              "ticks": ""
             }
            },
            "type": "scattercarpet"
           }
          ],
          "scattergeo": [
           {
            "marker": {
             "colorbar": {
              "outlinewidth": 0,
              "ticks": ""
             }
            },
            "type": "scattergeo"
           }
          ],
          "scattergl": [
           {
            "marker": {
             "colorbar": {
              "outlinewidth": 0,
              "ticks": ""
             }
            },
            "type": "scattergl"
           }
          ],
          "scattermapbox": [
           {
            "marker": {
             "colorbar": {
              "outlinewidth": 0,
              "ticks": ""
             }
            },
            "type": "scattermapbox"
           }
          ],
          "scatterpolar": [
           {
            "marker": {
             "colorbar": {
              "outlinewidth": 0,
              "ticks": ""
             }
            },
            "type": "scatterpolar"
           }
          ],
          "scatterpolargl": [
           {
            "marker": {
             "colorbar": {
              "outlinewidth": 0,
              "ticks": ""
             }
            },
            "type": "scatterpolargl"
           }
          ],
          "scatterternary": [
           {
            "marker": {
             "colorbar": {
              "outlinewidth": 0,
              "ticks": ""
             }
            },
            "type": "scatterternary"
           }
          ],
          "surface": [
           {
            "colorbar": {
             "outlinewidth": 0,
             "ticks": ""
            },
            "colorscale": [
             [
              0,
              "#0d0887"
             ],
             [
              0.1111111111111111,
              "#46039f"
             ],
             [
              0.2222222222222222,
              "#7201a8"
             ],
             [
              0.3333333333333333,
              "#9c179e"
             ],
             [
              0.4444444444444444,
              "#bd3786"
             ],
             [
              0.5555555555555556,
              "#d8576b"
             ],
             [
              0.6666666666666666,
              "#ed7953"
             ],
             [
              0.7777777777777778,
              "#fb9f3a"
             ],
             [
              0.8888888888888888,
              "#fdca26"
             ],
             [
              1,
              "#f0f921"
             ]
            ],
            "type": "surface"
           }
          ],
          "table": [
           {
            "cells": {
             "fill": {
              "color": "#EBF0F8"
             },
             "line": {
              "color": "white"
             }
            },
            "header": {
             "fill": {
              "color": "#C8D4E3"
             },
             "line": {
              "color": "white"
             }
            },
            "type": "table"
           }
          ]
         },
         "layout": {
          "annotationdefaults": {
           "arrowcolor": "#2a3f5f",
           "arrowhead": 0,
           "arrowwidth": 1
          },
          "coloraxis": {
           "colorbar": {
            "outlinewidth": 0,
            "ticks": ""
           }
          },
          "colorscale": {
           "diverging": [
            [
             0,
             "#8e0152"
            ],
            [
             0.1,
             "#c51b7d"
            ],
            [
             0.2,
             "#de77ae"
            ],
            [
             0.3,
             "#f1b6da"
            ],
            [
             0.4,
             "#fde0ef"
            ],
            [
             0.5,
             "#f7f7f7"
            ],
            [
             0.6,
             "#e6f5d0"
            ],
            [
             0.7,
             "#b8e186"
            ],
            [
             0.8,
             "#7fbc41"
            ],
            [
             0.9,
             "#4d9221"
            ],
            [
             1,
             "#276419"
            ]
           ],
           "sequential": [
            [
             0,
             "#0d0887"
            ],
            [
             0.1111111111111111,
             "#46039f"
            ],
            [
             0.2222222222222222,
             "#7201a8"
            ],
            [
             0.3333333333333333,
             "#9c179e"
            ],
            [
             0.4444444444444444,
             "#bd3786"
            ],
            [
             0.5555555555555556,
             "#d8576b"
            ],
            [
             0.6666666666666666,
             "#ed7953"
            ],
            [
             0.7777777777777778,
             "#fb9f3a"
            ],
            [
             0.8888888888888888,
             "#fdca26"
            ],
            [
             1,
             "#f0f921"
            ]
           ],
           "sequentialminus": [
            [
             0,
             "#0d0887"
            ],
            [
             0.1111111111111111,
             "#46039f"
            ],
            [
             0.2222222222222222,
             "#7201a8"
            ],
            [
             0.3333333333333333,
             "#9c179e"
            ],
            [
             0.4444444444444444,
             "#bd3786"
            ],
            [
             0.5555555555555556,
             "#d8576b"
            ],
            [
             0.6666666666666666,
             "#ed7953"
            ],
            [
             0.7777777777777778,
             "#fb9f3a"
            ],
            [
             0.8888888888888888,
             "#fdca26"
            ],
            [
             1,
             "#f0f921"
            ]
           ]
          },
          "colorway": [
           "#636efa",
           "#EF553B",
           "#00cc96",
           "#ab63fa",
           "#FFA15A",
           "#19d3f3",
           "#FF6692",
           "#B6E880",
           "#FF97FF",
           "#FECB52"
          ],
          "font": {
           "color": "#2a3f5f"
          },
          "geo": {
           "bgcolor": "white",
           "lakecolor": "white",
           "landcolor": "#E5ECF6",
           "showlakes": true,
           "showland": true,
           "subunitcolor": "white"
          },
          "hoverlabel": {
           "align": "left"
          },
          "hovermode": "closest",
          "mapbox": {
           "style": "light"
          },
          "paper_bgcolor": "white",
          "plot_bgcolor": "#E5ECF6",
          "polar": {
           "angularaxis": {
            "gridcolor": "white",
            "linecolor": "white",
            "ticks": ""
           },
           "bgcolor": "#E5ECF6",
           "radialaxis": {
            "gridcolor": "white",
            "linecolor": "white",
            "ticks": ""
           }
          },
          "scene": {
           "xaxis": {
            "backgroundcolor": "#E5ECF6",
            "gridcolor": "white",
            "gridwidth": 2,
            "linecolor": "white",
            "showbackground": true,
            "ticks": "",
            "zerolinecolor": "white"
           },
           "yaxis": {
            "backgroundcolor": "#E5ECF6",
            "gridcolor": "white",
            "gridwidth": 2,
            "linecolor": "white",
            "showbackground": true,
            "ticks": "",
            "zerolinecolor": "white"
           },
           "zaxis": {
            "backgroundcolor": "#E5ECF6",
            "gridcolor": "white",
            "gridwidth": 2,
            "linecolor": "white",
            "showbackground": true,
            "ticks": "",
            "zerolinecolor": "white"
           }
          },
          "shapedefaults": {
           "line": {
            "color": "#2a3f5f"
           }
          },
          "ternary": {
           "aaxis": {
            "gridcolor": "white",
            "linecolor": "white",
            "ticks": ""
           },
           "baxis": {
            "gridcolor": "white",
            "linecolor": "white",
            "ticks": ""
           },
           "bgcolor": "#E5ECF6",
           "caxis": {
            "gridcolor": "white",
            "linecolor": "white",
            "ticks": ""
           }
          },
          "title": {
           "x": 0.05
          },
          "xaxis": {
           "automargin": true,
           "gridcolor": "white",
           "linecolor": "white",
           "ticks": "",
           "title": {
            "standoff": 15
           },
           "zerolinecolor": "white",
           "zerolinewidth": 2
          },
          "yaxis": {
           "automargin": true,
           "gridcolor": "white",
           "linecolor": "white",
           "ticks": "",
           "title": {
            "standoff": 15
           },
           "zerolinecolor": "white",
           "zerolinewidth": 2
          }
         }
        },
        "title": {
         "font": {
          "color": "#D9D9D9"
         },
         "text": "Word Count Distribution in Hotel Description"
        },
        "xaxis": {
         "gridcolor": "#434343",
         "linecolor": "black",
         "showgrid": true,
         "tickfont": {
          "color": "#C2C2C2"
         },
         "title": {
          "font": {
           "color": "#D9D9D9"
          },
          "text": "word count"
         },
         "zerolinecolor": "#666570"
        },
        "yaxis": {
         "gridcolor": "#434343",
         "linecolor": "black",
         "showgrid": true,
         "tickfont": {
          "color": "#C2C2C2"
         },
         "title": {
          "font": {
           "color": "#D9D9D9"
          },
          "text": "count"
         },
         "zerolinecolor": "#666570"
        }
       }
      },
      "text/html": [
       "<div>\n",
       "        \n",
       "        \n",
       "            <div id=\"4498fe6a-cfa6-4ac7-9700-64c4296ce11f\" class=\"plotly-graph-div\" style=\"height:525px; width:100%;\"></div>\n",
       "            <script type=\"text/javascript\">\n",
       "                require([\"plotly\"], function(Plotly) {\n",
       "                    window.PLOTLYENV=window.PLOTLYENV || {};\n",
       "                    window.PLOTLYENV.BASE_URL='https://plot.ly';\n",
       "                    \n",
       "                if (document.getElementById(\"4498fe6a-cfa6-4ac7-9700-64c4296ce11f\")) {\n",
       "                    Plotly.newPlot(\n",
       "                        '4498fe6a-cfa6-4ac7-9700-64c4296ce11f',\n",
       "                        [{\"histfunc\": \"count\", \"histnorm\": \"\", \"marker\": {\"color\": \"rgba(255, 153, 51, 1.0)\", \"line\": {\"color\": \"#000000\", \"width\": 1.3}}, \"name\": \"word_count\", \"nbinsx\": 50, \"opacity\": 0.8, \"orientation\": \"v\", \"type\": \"histogram\", \"x\": [237, 120, 175, 161, 1, 125, 108, 178, 1, 244, 1, 412, 232, 108, 159, 148, 91, 175, 187, 209, 1, 352, 177, 1, 166, 203, 189, 255, 153, 170, 1, 127, 210, 111, 212, 162, 207, 1, 1, 108, 1, 179, 148, 203, 170, 184, 1, 157, 59, 1, 1, 150, 164, 1, 151, 167, 1, 1, 164, 280, 190, 219, 239, 84, 143, 109, 183, 186, 257, 132, 309, 134, 362, 168, 1, 157, 258, 147, 124, 206, 184, 1, 1, 92, 122, 1, 231, 789, 239, 1, 141, 115, 96, 1, 262, 182, 147, 164, 245, 147, 1, 223, 121, 186, 166, 1, 82, 217, 345, 194, 125, 234, 1, 238, 1, 276, 243, 180, 166, 225, 165, 196, 1, 1, 103, 99, 173, 293, 1, 212, 186, 77, 223, 1, 254, 87, 1, 79, 151, 150, 1, 183, 230, 219, 218, 1, 182, 181, 175, 129, 1, 1, 202, 211, 144, 239, 241, 1, 316, 198, 1, 233, 180, 264, 142, 192, 123, 152, 97, 195, 179, 141, 213, 146, 11, 178, 229, 1, 62, 224, 198, 178, 94, 203, 124, 226, 240, 139, 141, 168, 195, 186, 1, 210, 226, 121, 97, 194, 218, 443, 124, 141, 242, 168, 191, 97, 163, 349, 189, 207, 1, 179, 116, 244, 234, 79, 206, 168, 126, 117, 131, 158, 69, 146, 1, 162, 199, 192, 111, 114, 1, 1, 167, 288, 172, 239, 229, 163, 157, 180, 213, 196, 1, 410, 191, 1, 216, 145, 1, 86, 220, 182, 1, 789, 503, 110, 80, 1, 242, 195, 234, 178, 1, 160, 106, 175, 116, 1, 170, 193, 161, 204, 163, 240, 214, 166, 189, 199, 189, 257, 122, 106, 212, 212, 182, 1, 1, 171, 173, 173, 159, 185, 243, 168, 232, 170, 238, 206, 213, 184, 189, 196, 175, 145, 171, 185, 1, 182, 207, 148, 134, 174, 222, 229, 166, 220, 207, 196, 214, 210, 186, 175, 173, 229, 190, 206, 179, 254, 209, 231, 232, 200, 174, 261, 191, 198, 192, 179, 127, 205, 166, 214, 181, 176, 203, 160, 146, 166, 180, 160, 193, 139, 196, 143, 259, 198, 212, 172, 220, 315, 159, 178, 179, 173, 138, 267, 93, 148, 1, 138, 208, 183, 178, 203, 234, 199, 184, 236, 219, 141, 147, 178, 186, 262, 115, 1, 194, 1, 111, 137, 1, 178, 137, 100, 196, 1, 173, 145, 84, 186, 1, 102, 1, 45, 157, 177, 1, 205, 218, 163, 1, 224, 124, 159, 184, 201, 1, 227, 168, 100, 233, 180, 165, 263, 205, 149, 188, 132, 1, 192, 163, 239, 214, 159, 239, 264, 205, 99, 175, 1, 175, 133, 212, 130, 127, 197, 217, 194, 217, 99, 72, 221, 161, 194, 200, 1, 1, 1, 98, 105, 94, 148, 1, 156, 163, 112, 235, 180, 87, 157, 1, 267, 152, 1, 148, 195, 159, 151, 156, 193, 214, 1, 223, 179, 183, 181, 1, 198, 105, 57, 163, 185, 170, 112, 144, 182, 1, 172, 204, 102, 210, 168, 189, 97, 148, 1, 191, 221, 121, 174, 1, 1, 122, 1, 1, 212, 166, 1, 190, 1, 166, 233, 221, 189, 214, 1, 199, 1, 221, 224, 1, 1, 94, 148, 1, 238, 232, 223, 267, 1, 185, 173, 213, 239, 226, 175, 111, 175, 159, 1, 177, 118, 193, 242, 85, 1, 174, 177, 176, 199, 275, 191, 105, 234, 284, 115, 139, 106, 164, 207, 147, 159, 166, 221, 188, 181, 131, 309, 182, 164, 1, 131, 111, 372, 1, 145, 167, 233, 262, 145, 233, 135, 121, 188, 196, 203, 151, 1, 94, 220, 97, 168, 160, 159, 215, 1, 203, 495, 196, 202, 132, 167, 150, 158, 192, 99, 130, 430, 170, 203, 177, 176, 224, 143, 157, 1, 176, 148, 165, 1, 148, 157, 156, 176, 116, 1, 1, 1, 172, 99, 190, 33, 1, 126, 98, 154, 194, 1, 223, 150, 233, 145, 192, 221, 357, 231, 221, 238, 211, 189, 230, 1, 308, 136, 136, 195, 191, 204, 223, 138, 156, 130, 97, 97, 214, 97, 183, 95, 244, 90, 163, 123, 205, 224, 244, 202, 224, 156, 206, 194, 314, 142, 149, 220, 215, 241, 161, 215, 193, 194, 158, 241, 88, 87, 231, 192, 188, 1, 1, 1, 1, 1, 1, 1, 155, 1, 186, 156, 198, 1, 132, 1, 1, 245, 251, 209, 1, 214, 234, 281, 153, 133, 1, 189, 1, 131, 99, 1, 207, 193, 90, 218, 241, 214, 242, 257, 192, 184, 188, 184, 133, 315, 189, 179, 234, 193, 165, 158, 225, 217, 242, 195, 166, 247, 160, 159, 156, 239, 160, 204, 166, 222, 205, 171, 266, 162, 208, 148, 274, 122, 1, 1, 99, 96, 198, 224, 1, 1, 137, 1, 1, 1, 225, 161, 134, 144, 105, 1, 1, 162, 178, 1, 137, 193, 1, 134, 124, 1, 241, 170, 182, 1, 143, 225, 1, 189, 1, 123, 238, 238, 220, 215, 228, 171, 1, 136, 164, 205, 132, 203, 67, 193, 111, 203, 80, 222, 111, 150, 68, 201, 175, 100, 244, 201, 118, 173, 136, 171, 246, 126, 160, 249, 124, 119, 148, 195, 195, 184, 167, 240, 175, 157, 248, 96, 147, 1, 185, 107, 99, 259, 1, 212, 1, 91, 203, 219, 132, 93, 1, 119, 206, 1, 207, 197, 315, 124, 1, 215, 101, 274, 108, 116, 201, 196, 205, 1, 156, 189, 1, 232, 127, 222, 326, 1, 143, 33, 242, 229, 218, 1, 144, 1, 176, 159, 244, 176, 181, 145, 189, 1, 261, 1, 438, 233, 1, 131, 128, 169, 211, 1, 126, 118, 174, 116, 165, 228, 85, 149, 190, 155, 148, 210, 163, 218, 115, 186, 218, 186, 201, 198, 242, 230, 96, 1, 108, 192, 243, 186, 196, 222, 245, 1, 181, 99, 146, 239, 102, 148, 143, 192, 1, 193, 176, 144, 196, 172, 163, 1, 204, 1, 1, 11, 153, 1, 147, 100, 112, 141, 207, 125, 312, 138, 59, 1, 1, 212, 174, 189, 221, 177, 191, 162, 190, 83, 128, 224, 92, 318, 126, 1, 1, 183, 202, 202, 147, 137, 102, 223, 181, 1, 136, 177, 168, 94, 198, 159, 1, 153, 234, 97, 200, 31, 261, 100, 151, 173, 217, 188, 324, 155, 1, 1, 166, 227, 199, 288, 103, 193, 1, 254, 1, 217, 430, 101, 108, 214, 231, 159, 122, 179, 176, 212, 127, 203, 174, 243, 138, 208, 166, 154, 182, 1, 110, 1, 254, 177, 295, 138, 215, 166, 175, 156, 109, 184, 194, 111, 1, 1, 159, 224, 1, 232, 1, 1, 202, 158, 138, 284, 1, 225, 259, 178, 1, 218, 221, 171, 113, 195, 259, 179, 199, 223, 1, 162, 189, 151, 128, 1, 220, 186, 181, 297]}],\n",
       "                        {\"barmode\": \"overlay\", \"legend\": {\"bgcolor\": \"#1A1A1C\", \"font\": {\"color\": \"#D9D9D9\"}}, \"paper_bgcolor\": \"#1A1A1C\", \"plot_bgcolor\": \"#1A1A1C\", \"template\": {\"data\": {\"bar\": [{\"error_x\": {\"color\": \"#2a3f5f\"}, \"error_y\": {\"color\": \"#2a3f5f\"}, \"marker\": {\"line\": {\"color\": \"#E5ECF6\", \"width\": 0.5}}, \"type\": \"bar\"}], \"barpolar\": [{\"marker\": {\"line\": {\"color\": \"#E5ECF6\", \"width\": 0.5}}, \"type\": \"barpolar\"}], \"carpet\": [{\"aaxis\": {\"endlinecolor\": \"#2a3f5f\", \"gridcolor\": \"white\", \"linecolor\": \"white\", \"minorgridcolor\": \"white\", \"startlinecolor\": \"#2a3f5f\"}, \"baxis\": {\"endlinecolor\": \"#2a3f5f\", \"gridcolor\": \"white\", \"linecolor\": \"white\", \"minorgridcolor\": \"white\", \"startlinecolor\": \"#2a3f5f\"}, \"type\": \"carpet\"}], \"choropleth\": [{\"colorbar\": {\"outlinewidth\": 0, \"ticks\": \"\"}, \"type\": \"choropleth\"}], \"contour\": [{\"colorbar\": {\"outlinewidth\": 0, \"ticks\": \"\"}, \"colorscale\": [[0.0, \"#0d0887\"], [0.1111111111111111, \"#46039f\"], [0.2222222222222222, \"#7201a8\"], [0.3333333333333333, \"#9c179e\"], [0.4444444444444444, \"#bd3786\"], [0.5555555555555556, \"#d8576b\"], [0.6666666666666666, \"#ed7953\"], [0.7777777777777778, \"#fb9f3a\"], [0.8888888888888888, \"#fdca26\"], [1.0, \"#f0f921\"]], \"type\": \"contour\"}], \"contourcarpet\": [{\"colorbar\": {\"outlinewidth\": 0, \"ticks\": \"\"}, \"type\": \"contourcarpet\"}], \"heatmap\": [{\"colorbar\": {\"outlinewidth\": 0, \"ticks\": \"\"}, \"colorscale\": [[0.0, \"#0d0887\"], [0.1111111111111111, \"#46039f\"], [0.2222222222222222, \"#7201a8\"], [0.3333333333333333, \"#9c179e\"], [0.4444444444444444, \"#bd3786\"], [0.5555555555555556, \"#d8576b\"], [0.6666666666666666, \"#ed7953\"], [0.7777777777777778, \"#fb9f3a\"], [0.8888888888888888, \"#fdca26\"], [1.0, \"#f0f921\"]], \"type\": \"heatmap\"}], \"heatmapgl\": [{\"colorbar\": {\"outlinewidth\": 0, \"ticks\": \"\"}, \"colorscale\": [[0.0, \"#0d0887\"], [0.1111111111111111, \"#46039f\"], [0.2222222222222222, \"#7201a8\"], [0.3333333333333333, \"#9c179e\"], [0.4444444444444444, \"#bd3786\"], [0.5555555555555556, \"#d8576b\"], [0.6666666666666666, \"#ed7953\"], [0.7777777777777778, \"#fb9f3a\"], [0.8888888888888888, \"#fdca26\"], [1.0, \"#f0f921\"]], \"type\": \"heatmapgl\"}], \"histogram\": [{\"marker\": {\"colorbar\": {\"outlinewidth\": 0, \"ticks\": \"\"}}, \"type\": \"histogram\"}], \"histogram2d\": [{\"colorbar\": {\"outlinewidth\": 0, \"ticks\": \"\"}, \"colorscale\": [[0.0, \"#0d0887\"], [0.1111111111111111, \"#46039f\"], [0.2222222222222222, \"#7201a8\"], [0.3333333333333333, \"#9c179e\"], [0.4444444444444444, \"#bd3786\"], [0.5555555555555556, \"#d8576b\"], [0.6666666666666666, \"#ed7953\"], [0.7777777777777778, \"#fb9f3a\"], [0.8888888888888888, \"#fdca26\"], [1.0, \"#f0f921\"]], \"type\": \"histogram2d\"}], \"histogram2dcontour\": [{\"colorbar\": {\"outlinewidth\": 0, \"ticks\": \"\"}, \"colorscale\": [[0.0, \"#0d0887\"], [0.1111111111111111, \"#46039f\"], [0.2222222222222222, \"#7201a8\"], [0.3333333333333333, \"#9c179e\"], [0.4444444444444444, \"#bd3786\"], [0.5555555555555556, \"#d8576b\"], [0.6666666666666666, \"#ed7953\"], [0.7777777777777778, \"#fb9f3a\"], [0.8888888888888888, \"#fdca26\"], [1.0, \"#f0f921\"]], \"type\": \"histogram2dcontour\"}], \"mesh3d\": [{\"colorbar\": {\"outlinewidth\": 0, \"ticks\": \"\"}, \"type\": \"mesh3d\"}], \"parcoords\": [{\"line\": {\"colorbar\": {\"outlinewidth\": 0, \"ticks\": \"\"}}, \"type\": \"parcoords\"}], \"pie\": [{\"automargin\": true, \"type\": \"pie\"}], \"scatter\": [{\"marker\": {\"colorbar\": {\"outlinewidth\": 0, \"ticks\": \"\"}}, \"type\": \"scatter\"}], \"scatter3d\": [{\"line\": {\"colorbar\": {\"outlinewidth\": 0, \"ticks\": \"\"}}, \"marker\": {\"colorbar\": {\"outlinewidth\": 0, \"ticks\": \"\"}}, \"type\": \"scatter3d\"}], \"scattercarpet\": [{\"marker\": {\"colorbar\": {\"outlinewidth\": 0, \"ticks\": \"\"}}, \"type\": \"scattercarpet\"}], \"scattergeo\": [{\"marker\": {\"colorbar\": {\"outlinewidth\": 0, \"ticks\": \"\"}}, \"type\": \"scattergeo\"}], \"scattergl\": [{\"marker\": {\"colorbar\": {\"outlinewidth\": 0, \"ticks\": \"\"}}, \"type\": \"scattergl\"}], \"scattermapbox\": [{\"marker\": {\"colorbar\": {\"outlinewidth\": 0, \"ticks\": \"\"}}, \"type\": \"scattermapbox\"}], \"scatterpolar\": [{\"marker\": {\"colorbar\": {\"outlinewidth\": 0, \"ticks\": \"\"}}, \"type\": \"scatterpolar\"}], \"scatterpolargl\": [{\"marker\": {\"colorbar\": {\"outlinewidth\": 0, \"ticks\": \"\"}}, \"type\": \"scatterpolargl\"}], \"scatterternary\": [{\"marker\": {\"colorbar\": {\"outlinewidth\": 0, \"ticks\": \"\"}}, \"type\": \"scatterternary\"}], \"surface\": [{\"colorbar\": {\"outlinewidth\": 0, \"ticks\": \"\"}, \"colorscale\": [[0.0, \"#0d0887\"], [0.1111111111111111, \"#46039f\"], [0.2222222222222222, \"#7201a8\"], [0.3333333333333333, \"#9c179e\"], [0.4444444444444444, \"#bd3786\"], [0.5555555555555556, \"#d8576b\"], [0.6666666666666666, \"#ed7953\"], [0.7777777777777778, \"#fb9f3a\"], [0.8888888888888888, \"#fdca26\"], [1.0, \"#f0f921\"]], \"type\": \"surface\"}], \"table\": [{\"cells\": {\"fill\": {\"color\": \"#EBF0F8\"}, \"line\": {\"color\": \"white\"}}, \"header\": {\"fill\": {\"color\": \"#C8D4E3\"}, \"line\": {\"color\": \"white\"}}, \"type\": \"table\"}]}, \"layout\": {\"annotationdefaults\": {\"arrowcolor\": \"#2a3f5f\", \"arrowhead\": 0, \"arrowwidth\": 1}, \"coloraxis\": {\"colorbar\": {\"outlinewidth\": 0, \"ticks\": \"\"}}, \"colorscale\": {\"diverging\": [[0, \"#8e0152\"], [0.1, \"#c51b7d\"], [0.2, \"#de77ae\"], [0.3, \"#f1b6da\"], [0.4, \"#fde0ef\"], [0.5, \"#f7f7f7\"], [0.6, \"#e6f5d0\"], [0.7, \"#b8e186\"], [0.8, \"#7fbc41\"], [0.9, \"#4d9221\"], [1, \"#276419\"]], \"sequential\": [[0.0, \"#0d0887\"], [0.1111111111111111, \"#46039f\"], [0.2222222222222222, \"#7201a8\"], [0.3333333333333333, \"#9c179e\"], [0.4444444444444444, \"#bd3786\"], [0.5555555555555556, \"#d8576b\"], [0.6666666666666666, \"#ed7953\"], [0.7777777777777778, \"#fb9f3a\"], [0.8888888888888888, \"#fdca26\"], [1.0, \"#f0f921\"]], \"sequentialminus\": [[0.0, \"#0d0887\"], [0.1111111111111111, \"#46039f\"], [0.2222222222222222, \"#7201a8\"], [0.3333333333333333, \"#9c179e\"], [0.4444444444444444, \"#bd3786\"], [0.5555555555555556, \"#d8576b\"], [0.6666666666666666, \"#ed7953\"], [0.7777777777777778, \"#fb9f3a\"], [0.8888888888888888, \"#fdca26\"], [1.0, \"#f0f921\"]]}, \"colorway\": [\"#636efa\", \"#EF553B\", \"#00cc96\", \"#ab63fa\", \"#FFA15A\", \"#19d3f3\", \"#FF6692\", \"#B6E880\", \"#FF97FF\", \"#FECB52\"], \"font\": {\"color\": \"#2a3f5f\"}, \"geo\": {\"bgcolor\": \"white\", \"lakecolor\": \"white\", \"landcolor\": \"#E5ECF6\", \"showlakes\": true, \"showland\": true, \"subunitcolor\": \"white\"}, \"hoverlabel\": {\"align\": \"left\"}, \"hovermode\": \"closest\", \"mapbox\": {\"style\": \"light\"}, \"paper_bgcolor\": \"white\", \"plot_bgcolor\": \"#E5ECF6\", \"polar\": {\"angularaxis\": {\"gridcolor\": \"white\", \"linecolor\": \"white\", \"ticks\": \"\"}, \"bgcolor\": \"#E5ECF6\", \"radialaxis\": {\"gridcolor\": \"white\", \"linecolor\": \"white\", \"ticks\": \"\"}}, \"scene\": {\"xaxis\": {\"backgroundcolor\": \"#E5ECF6\", \"gridcolor\": \"white\", \"gridwidth\": 2, \"linecolor\": \"white\", \"showbackground\": true, \"ticks\": \"\", \"zerolinecolor\": \"white\"}, \"yaxis\": {\"backgroundcolor\": \"#E5ECF6\", \"gridcolor\": \"white\", \"gridwidth\": 2, \"linecolor\": \"white\", \"showbackground\": true, \"ticks\": \"\", \"zerolinecolor\": \"white\"}, \"zaxis\": {\"backgroundcolor\": \"#E5ECF6\", \"gridcolor\": \"white\", \"gridwidth\": 2, \"linecolor\": \"white\", \"showbackground\": true, \"ticks\": \"\", \"zerolinecolor\": \"white\"}}, \"shapedefaults\": {\"line\": {\"color\": \"#2a3f5f\"}}, \"ternary\": {\"aaxis\": {\"gridcolor\": \"white\", \"linecolor\": \"white\", \"ticks\": \"\"}, \"baxis\": {\"gridcolor\": \"white\", \"linecolor\": \"white\", \"ticks\": \"\"}, \"bgcolor\": \"#E5ECF6\", \"caxis\": {\"gridcolor\": \"white\", \"linecolor\": \"white\", \"ticks\": \"\"}}, \"title\": {\"x\": 0.05}, \"xaxis\": {\"automargin\": true, \"gridcolor\": \"white\", \"linecolor\": \"white\", \"ticks\": \"\", \"title\": {\"standoff\": 15}, \"zerolinecolor\": \"white\", \"zerolinewidth\": 2}, \"yaxis\": {\"automargin\": true, \"gridcolor\": \"white\", \"linecolor\": \"white\", \"ticks\": \"\", \"title\": {\"standoff\": 15}, \"zerolinecolor\": \"white\", \"zerolinewidth\": 2}}}, \"title\": {\"font\": {\"color\": \"#D9D9D9\"}, \"text\": \"Word Count Distribution in Hotel Description\"}, \"xaxis\": {\"gridcolor\": \"#434343\", \"linecolor\": \"black\", \"showgrid\": true, \"tickfont\": {\"color\": \"#C2C2C2\"}, \"title\": {\"font\": {\"color\": \"#D9D9D9\"}, \"text\": \"word count\"}, \"zerolinecolor\": \"#666570\"}, \"yaxis\": {\"gridcolor\": \"#434343\", \"linecolor\": \"black\", \"showgrid\": true, \"tickfont\": {\"color\": \"#C2C2C2\"}, \"title\": {\"font\": {\"color\": \"#D9D9D9\"}, \"text\": \"count\"}, \"zerolinecolor\": \"#666570\"}},\n",
       "                        {\"showLink\": true, \"linkText\": \"Export to plot.ly\", \"plotlyServerURL\": \"https://plot.ly\", \"responsive\": true}\n",
       "                    ).then(function(){\n",
       "                            \n",
       "var gd = document.getElementById('4498fe6a-cfa6-4ac7-9700-64c4296ce11f');\n",
       "var x = new MutationObserver(function (mutations, observer) {{\n",
       "        var display = window.getComputedStyle(gd).display;\n",
       "        if (!display || display === 'none') {{\n",
       "            console.log([gd, 'removed!']);\n",
       "            Plotly.purge(gd);\n",
       "            observer.disconnect();\n",
       "        }}\n",
       "}});\n",
       "\n",
       "// Listen for the removal of the full notebook cells\n",
       "var notebookContainer = gd.closest('#notebook-container');\n",
       "if (notebookContainer) {{\n",
       "    x.observe(notebookContainer, {childList: true});\n",
       "}}\n",
       "\n",
       "// Listen for the clearing of the current output cell\n",
       "var outputEl = gd.closest('.output');\n",
       "if (outputEl) {{\n",
       "    x.observe(outputEl, {childList: true});\n",
       "}}\n",
       "\n",
       "                        })\n",
       "                };\n",
       "                });\n",
       "            </script>\n",
       "        </div>"
      ]
     },
     "metadata": {},
     "output_type": "display_data"
    }
   ],
   "source": [
    "goa['word_count'].iplot(\n",
    "    kind='hist',\n",
    "    bins = 50,\n",
    "    linecolor='black',\n",
    "    xTitle='word count',\n",
    "    yTitle='count',\n",
    "    title='Word Count Distribution in Hotel Description')"
   ]
  },
  {
   "cell_type": "code",
   "execution_count": 254,
   "metadata": {},
   "outputs": [],
   "source": [
    "goa['hotel_overview'] = goa['hotel_overview'].astype(str).apply(lambda x: x.replace(\"b'\",\"\")).apply(lambda x: x.replace('b\"',\"\"))"
   ]
  },
  {
   "cell_type": "code",
   "execution_count": 255,
   "metadata": {},
   "outputs": [],
   "source": [
    "REPLACE_BY_SPACE_RE = re.compile('[/(){}\\[\\]\\|@,;]')\n",
    "BAD_SYMBOLS_RE = re.compile('[^0-9a-z #+_]')\n",
    "STOPWORDS = set(stopwords.words('english'))\n",
    "\n",
    "def clean_text(text):\n",
    "    \"\"\"\n",
    "        text: a string\n",
    "        \n",
    "        return: modified initial string\n",
    "    \"\"\"\n",
    "    text = str(text.lower()) # lowercase text\n",
    "    text = REPLACE_BY_SPACE_RE.sub(' ', text) # replace REPLACE_BY_SPACE_RE symbols by space in text. substitute the matched string in REPLACE_BY_SPACE_RE with space.\n",
    "    \n",
    "    text = BAD_SYMBOLS_RE.sub('', text) # remove symbols which are in BAD_SYMBOLS_RE from text. substitute the matched string in BAD_SYMBOLS_RE with nothing. \n",
    "    \n",
    "    text = ' '.join(word for word in text.split() if word not in STOPWORDS) # remove stopwors from text\n",
    "    return text\n",
    "    \n",
    "goa['desc_clean'] = goa['hotel_overview'].dropna().apply(clean_text)"
   ]
  },
  {
   "cell_type": "code",
   "execution_count": 256,
   "metadata": {},
   "outputs": [],
   "source": [
    "\"\"\"\n",
    "making hotel name as index so that the user can enter just the hotel name while,\n",
    "recommendation logic remains on hotel description\n",
    "\"\"\"\n",
    "goa.set_index('property_name', inplace = True)"
   ]
  },
  {
   "cell_type": "code",
   "execution_count": 387,
   "metadata": {},
   "outputs": [],
   "source": [
    "\n",
    "tf = TfidfVectorizer(analyzer='word', ngram_range=(1, 3), min_df=0, stop_words='english')\n",
    "tfidf_matrix = tf.fit_transform(goa['desc_clean'].drop_duplicates().dropna())\n",
    "cosine_similarities = linear_kernel(tfidf_matrix, tfidf_matrix)\n",
    "\n",
    "#noting the indices of unique properties with valid inputs\n",
    "indices = pd.Series(goa['desc_clean'].drop_duplicates().dropna().index)\n",
    "\n",
    "def recommendations(name, cosine_similarities = cosine_similarities):\n",
    "    \n",
    "    recommended_hotels = []\n",
    "    # gettin the index of the hotel that matches the name\n",
    "    idx = indices[indices == name].index[0]\n",
    "\n",
    "    # creating a Series with the similarity scores in descending order\n",
    "    score_series = pd.Series(cosine_similarities[idx]).sort_values(ascending = False)\n",
    "\n",
    "    # getting the indexes of the 10 most similar hotels except itself\n",
    "    top_10_indexes = list(score_series.iloc[0:10].index)\n",
    "    \n",
    "    # populating the list with the names of the top 10 matching hotels\n",
    "    for i in top_10_indexes:\n",
    "        recommended_hotels.append(goa['desc_clean'].drop_duplicates().dropna().index[i])\n",
    "        \n",
    "    return recommended_hotels"
   ]
  },
  {
   "cell_type": "code",
   "execution_count": 388,
   "metadata": {},
   "outputs": [
    {
     "data": {
      "text/plain": [
       "['00',\n",
       " '00 pm',\n",
       " '00 pm checkout',\n",
       " '000',\n",
       " '000 square',\n",
       " '000 square feet',\n",
       " '04',\n",
       " '04 14',\n",
       " '04 14 30',\n",
       " '04th',\n",
       " '04th july',\n",
       " '04th july 2015',\n",
       " '06th',\n",
       " '06th june',\n",
       " '06th june 2016',\n",
       " '10',\n",
       " '10 15',\n",
       " '10 15 minutes',\n",
       " '10 airconditioned',\n",
       " '10 airconditioned rooms',\n",
       " '10 calangute',\n",
       " '10 calangute superior',\n",
       " '10 km',\n",
       " '10 km baga',\n",
       " '10 km basilica',\n",
       " '10 km calangute',\n",
       " '10 km capital',\n",
       " '10 km carambolim',\n",
       " '10 km casino',\n",
       " '10 km chapora',\n",
       " '10 km directorate',\n",
       " '10 km dona',\n",
       " '10 km hotel',\n",
       " '10 km miramar',\n",
       " '10 km palolem',\n",
       " '10 km pandit',\n",
       " '10 km panjim',\n",
       " '10 km railway',\n",
       " '10 km salim',\n",
       " '10 km se',\n",
       " '10 km shoppers',\n",
       " '10 km thivim',\n",
       " '10 km vagator',\n",
       " '10 km viceroys',\n",
       " '10 min',\n",
       " '10 min anjuna',\n",
       " '10 min baga',\n",
       " '10 mins',\n",
       " '10 mins away',\n",
       " '10 minute',\n",
       " '10 minute drive',\n",
       " '10 minute rides',\n",
       " '10 minutes',\n",
       " '10 minutes anjuna',\n",
       " '10 minutes away',\n",
       " '10 minutes calangute',\n",
       " '10 minutes drive',\n",
       " '10 minutes margao',\n",
       " '10 minutes walk',\n",
       " '10 people',\n",
       " '10 people minimum',\n",
       " '10 people usage',\n",
       " '10 pm',\n",
       " '10 pm parking',\n",
       " '10 rooms',\n",
       " '10 rooms apartments',\n",
       " '10 spacious',\n",
       " '10 spacious comfortable',\n",
       " '100',\n",
       " '100 individuals',\n",
       " '100 individuals meetings',\n",
       " '100 meters',\n",
       " '100 meters away',\n",
       " '100 meters property',\n",
       " '100 metres',\n",
       " '100 metres away',\n",
       " '100 people',\n",
       " '100 people guests',\n",
       " '100 pm',\n",
       " '100 pm check',\n",
       " '100 pm checkout',\n",
       " '100 spacious',\n",
       " '100 spacious wellappointed',\n",
       " '1000',\n",
       " '1000 checkout',\n",
       " '1000 checkout time',\n",
       " '1000 sq',\n",
       " '1000 sq feet',\n",
       " '1000 week',\n",
       " '1000 week ask',\n",
       " '101',\n",
       " '101 km',\n",
       " '101 km casino',\n",
       " '101 km goa',\n",
       " '1013',\n",
       " '1013 stroll',\n",
       " '1013 stroll huge',\n",
       " '1016',\n",
       " '1016 sq',\n",
       " '1016 sq feet',\n",
       " '1016sq',\n",
       " '1016sq feet',\n",
       " '1016sq feet bedroom',\n",
       " '101km',\n",
       " '101km cavelossim',\n",
       " '101km cavelossim beach',\n",
       " '102',\n",
       " '102 km',\n",
       " '102 km bus',\n",
       " '102 km chapora',\n",
       " '102 km deltin',\n",
       " '103',\n",
       " '103 km',\n",
       " '103 km basilica',\n",
       " '103 km dr',\n",
       " '103 km hotel',\n",
       " '103 km mapusa',\n",
       " '103 km margao',\n",
       " '103 km panjim',\n",
       " '103 km salim',\n",
       " '103 kms',\n",
       " '103 kms cool',\n",
       " '1030',\n",
       " '1030 pm',\n",
       " '1030 pm dining',\n",
       " '103km',\n",
       " '103km morjim',\n",
       " '103km morjim 17km',\n",
       " '104',\n",
       " '104 km',\n",
       " '104 km calangute',\n",
       " '104 km se',\n",
       " '104 km siolim',\n",
       " '104 km wildlife',\n",
       " '105',\n",
       " '105 km',\n",
       " '105 km aguada',\n",
       " '105 km goa',\n",
       " '105 km margao',\n",
       " '105 km morjim',\n",
       " '105 km siolim',\n",
       " '106',\n",
       " '106 airconditioned',\n",
       " '106 airconditioned accommodation',\n",
       " '106 classy',\n",
       " '106 classy accommodation',\n",
       " '106 km',\n",
       " '106 km basilica',\n",
       " '106 km bus',\n",
       " '106 km lady',\n",
       " '106 km thvm',\n",
       " '106 spacious',\n",
       " '106 spacious tastefully',\n",
       " '107',\n",
       " '107 beautifully',\n",
       " '107 beautifully designed',\n",
       " '107 km',\n",
       " '107 km basilica',\n",
       " '107 km located',\n",
       " '108',\n",
       " '108 km',\n",
       " '108 km chapora',\n",
       " '108 km dona',\n",
       " '108 km dr',\n",
       " '108 km property',\n",
       " '109',\n",
       " '109 km',\n",
       " '109 km away',\n",
       " '109 km baga',\n",
       " '109 km colva',\n",
       " '109 km lady',\n",
       " '109km',\n",
       " '109km basilica',\n",
       " '109km basilica bom',\n",
       " '10mins',\n",
       " '10mins walk',\n",
       " '10mins walk st',\n",
       " '10minute',\n",
       " '10minute drive',\n",
       " '10minute drive famed',\n",
       " '10minute drive property',\n",
       " '10minute walk',\n",
       " '10minute walk fine',\n",
       " '10th',\n",
       " '10th january',\n",
       " '10th january 2016',\n",
       " '10th oct',\n",
       " '10th oct 14th',\n",
       " '11',\n",
       " '11 000',\n",
       " '11 000 square',\n",
       " '11 deluxe',\n",
       " '11 deluxe rooms',\n",
       " '11 double',\n",
       " '11 double rooms',\n",
       " '11 km',\n",
       " '11 km accommodation',\n",
       " '11 km art',\n",
       " '11 km away',\n",
       " '11 km basilica',\n",
       " '11 km benaulim',\n",
       " '11 km bus',\n",
       " '11 km calangute',\n",
       " '11 km chapora',\n",
       " '11 km cola',\n",
       " '11 km directorate',\n",
       " '11 km far',\n",
       " '11 km lady',\n",
       " '11 km morjim',\n",
       " '11 km property',\n",
       " '11 km salim',\n",
       " '11 km shanta',\n",
       " '11 km shree',\n",
       " '11 km velha',\n",
       " '11 pm',\n",
       " '11 pm dining',\n",
       " '11 pm dinning',\n",
       " '11 pm internet',\n",
       " '11 rooms',\n",
       " '11 rooms set',\n",
       " '110',\n",
       " '110 km',\n",
       " '110 km property',\n",
       " '110 km shopping',\n",
       " '110 wellappointed',\n",
       " '110 wellappointed rooms',\n",
       " '111km',\n",
       " '111km cansaulim',\n",
       " '111km cansaulim beach',\n",
       " '112',\n",
       " '112 km',\n",
       " '112 km hotel',\n",
       " '113',\n",
       " '113 km',\n",
       " '113 km chapora',\n",
       " '113 km salim',\n",
       " '1130',\n",
       " '1130 evening',\n",
       " '1130 evening coffee',\n",
       " '1130 pm',\n",
       " '1130 pm evening',\n",
       " '114',\n",
       " '114 km',\n",
       " '114 km basilica',\n",
       " '114 km explored',\n",
       " '114 km goa',\n",
       " '114 km property',\n",
       " '115',\n",
       " '115 km',\n",
       " '115 km away',\n",
       " '115 km bus',\n",
       " '115 km chapora',\n",
       " '115 km panaji',\n",
       " '115 km titos',\n",
       " '116',\n",
       " '116 km',\n",
       " '116 km goa',\n",
       " '116 km lady',\n",
       " '116 km salim',\n",
       " '116 km se',\n",
       " '116 km shree',\n",
       " '117',\n",
       " '117 km',\n",
       " '117 km baga',\n",
       " '117 km goa',\n",
       " '117 km morjem',\n",
       " '117 km shopping',\n",
       " '117 sq',\n",
       " '117 sq mtrs',\n",
       " '118',\n",
       " '118 km',\n",
       " '118 km chapora',\n",
       " '118 km panjim',\n",
       " '118 km se',\n",
       " '118 spacious',\n",
       " '118 spacious rooms',\n",
       " '118km',\n",
       " '118km mandrem',\n",
       " '118km mandrem beach',\n",
       " '118km varying',\n",
       " '118km varying requirements',\n",
       " '119',\n",
       " '119 km',\n",
       " '119 km sinquerim',\n",
       " '119km',\n",
       " '119km baga',\n",
       " '119km baga beach',\n",
       " '11yrs',\n",
       " '11yrs complimentary',\n",
       " '12',\n",
       " '12 15',\n",
       " '12 15 people',\n",
       " '12 fully',\n",
       " '12 fully furnished',\n",
       " '12 kilometers',\n",
       " '12 kilometers mapuca',\n",
       " '12 km',\n",
       " '12 km anjuna',\n",
       " '12 km attractions',\n",
       " '12 km away',\n",
       " '12 km baga',\n",
       " '12 km basilica',\n",
       " '12 km bus',\n",
       " '12 km calangute',\n",
       " '12 km canacona',\n",
       " '12 km candolim',\n",
       " '12 km chapora',\n",
       " '12 km fatrade',\n",
       " '12 km goa',\n",
       " '12 km kerkar',\n",
       " '12 km lady',\n",
       " '12 km majorda',\n",
       " '12 km mapusa',\n",
       " '12 km mira',\n",
       " '12 km notable',\n",
       " '12 km panjim',\n",
       " '12 km property',\n",
       " '12 km salim',\n",
       " '12 km vagator',\n",
       " '12 kms',\n",
       " '12 kms baga',\n",
       " '12 kms rejuvenate',\n",
       " '12 luxury',\n",
       " '12 luxury rooms',\n",
       " '12 noon',\n",
       " '12 noon check',\n",
       " '12 noon conference',\n",
       " '12 pm',\n",
       " '12 pm daily',\n",
       " '12 swimming',\n",
       " '12 swimming pool',\n",
       " '12 years',\n",
       " '12 years age',\n",
       " '120',\n",
       " '120 people',\n",
       " '120 people replete',\n",
       " '1200',\n",
       " '1200 noon',\n",
       " '1200 noon checkout',\n",
       " '1200 pm',\n",
       " '1200 pm check',\n",
       " '1200 pm checkout',\n",
       " '121',\n",
       " '121 elegant',\n",
       " '121 elegant wellfurnished',\n",
       " '121 km',\n",
       " '121 km madgaon',\n",
       " '121 km morjim',\n",
       " '121 km se',\n",
       " '121 welldesigned',\n",
       " '121 welldesigned spacious',\n",
       " '1215',\n",
       " '1215 km',\n",
       " '1215 km mapusa',\n",
       " '122',\n",
       " '122 km',\n",
       " '122 km calangute',\n",
       " '122 km se',\n",
       " '122km',\n",
       " '122km deltin',\n",
       " '122km deltin jaqk',\n",
       " '123',\n",
       " '123 km',\n",
       " '123 km lady',\n",
       " '123km',\n",
       " '123km shantadurga',\n",
       " '123km shantadurga temple',\n",
       " '124',\n",
       " '124 km',\n",
       " '124 km dona',\n",
       " '124 km featuring',\n",
       " '124 km morjim',\n",
       " '124 km pillar',\n",
       " '125',\n",
       " '125 km',\n",
       " '125 km carambolim',\n",
       " '125 km hotel',\n",
       " '125 km immaculate',\n",
       " '125 km lady',\n",
       " '125 km property',\n",
       " '125 km salim',\n",
       " '125 km thivim',\n",
       " '125 kmz',\n",
       " '125 kmz basilica',\n",
       " '125 pax',\n",
       " '125 pax zuari',\n",
       " '125km',\n",
       " '125km incredible',\n",
       " '125km incredible english',\n",
       " '126',\n",
       " '126 km',\n",
       " '126 km rooms',\n",
       " '126 kms',\n",
       " '126 kms basilica',\n",
       " '126 wellappointed',\n",
       " '126 wellappointed rooms',\n",
       " '127',\n",
       " '127 km',\n",
       " '127 km velha',\n",
       " '128',\n",
       " '128 km',\n",
       " '128 km places',\n",
       " '128 km se',\n",
       " '129',\n",
       " '129 km',\n",
       " '129 km basilica',\n",
       " '129 km lady',\n",
       " '129 km salim',\n",
       " '129 km vagator',\n",
       " '13',\n",
       " '13 km',\n",
       " '13 km ashvem',\n",
       " '13 km away',\n",
       " '13 km baga',\n",
       " '13 km basilica',\n",
       " '13 km cabo',\n",
       " '13 km calangute',\n",
       " '13 km candolim',\n",
       " '13 km casino',\n",
       " '13 km colva',\n",
       " '13 km directorate',\n",
       " '13 km goa',\n",
       " '13 km hollant',\n",
       " '13 km kadamba',\n",
       " '13 km karmali',\n",
       " '13 km mapusa',\n",
       " '13 km miramar',\n",
       " '13 km morjem',\n",
       " '13 km salim',\n",
       " '13 km tibetan',\n",
       " '13 km vagator',\n",
       " '13 kms',\n",
       " '13 kms baga',\n",
       " '13 kms state',\n",
       " '130',\n",
       " '130 km',\n",
       " '130 km ashwem',\n",
       " '1300',\n",
       " '1300 sq',\n",
       " '1300 sq ft',\n",
       " '131',\n",
       " '131 km',\n",
       " '131 km candolim',\n",
       " '131 km club',\n",
       " '131 km immaculate',\n",
       " '131 km panjim',\n",
       " '132',\n",
       " '132 goa',\n",
       " '132 goa bus',\n",
       " '132 km',\n",
       " '132 km reis',\n",
       " '132 km se',\n",
       " '132 utterly',\n",
       " '132 utterly luxurious',\n",
       " '133',\n",
       " '133 km',\n",
       " '133 km best',\n",
       " '134',\n",
       " '134 km',\n",
       " '134 km basilica',\n",
       " '134 km candolim',\n",
       " '134 kms',\n",
       " '134 kms chapora',\n",
       " '135',\n",
       " '135 km',\n",
       " '135 km carambolim',\n",
       " '135 people',\n",
       " '135 people time',\n",
       " '135 wellequipped',\n",
       " '135 wellequipped beautifully',\n",
       " '135km',\n",
       " '135km mobor',\n",
       " '135km mobor beach',\n",
       " '136',\n",
       " '136 km',\n",
       " '136 km dr',\n",
       " '136 km se',\n",
       " '137',\n",
       " '137 km',\n",
       " '137 km away',\n",
       " '137 km immaculate',\n",
       " '137 kms',\n",
       " '137 kms tivim',\n",
       " '137km',\n",
       " '137km hotel',\n",
       " '137km hotel offers',\n",
       " '138',\n",
       " '138 km',\n",
       " '138 km basilica',\n",
       " '139',\n",
       " '139 km',\n",
       " '139 km bogmalo',\n",
       " '13km',\n",
       " '13km agonda',\n",
       " '13km agonda beach',\n",
       " '14',\n",
       " '14 30',\n",
       " '14 30 04',\n",
       " '14 bedrooms',\n",
       " '14 bedrooms suites',\n",
       " '14 kilometres',\n",
       " '14 kilometres nearest',\n",
       " '14 km',\n",
       " '14 km away',\n",
       " '14 km basilica',\n",
       " '14 km calangute',\n",
       " '14 km candolim',\n",
       " '14 km chapora',\n",
       " '14 km coco',\n",
       " '14 km dabolim',\n",
       " '14 km hotel',\n",
       " '14 km interstate',\n",
       " '14 km karmali',\n",
       " '14 km mapusa',\n",
       " '14 km miramar',\n",
       " '14 km palolem',\n",
       " '14 km pandit',\n",
       " '14 km romaldo',\n",
       " '14 km salim',\n",
       " '14 km vainguinim',\n",
       " '14 kms',\n",
       " '14 kms betalbatim',\n",
       " '14 spacious',\n",
       " '14 spacious rooms',\n",
       " '140',\n",
       " '140 km',\n",
       " '140 km old',\n",
       " '140 km se',\n",
       " '140 rooms',\n",
       " '140 rooms resort',\n",
       " '141',\n",
       " '141 km',\n",
       " '141 km ashvem',\n",
       " '141 km basilica',\n",
       " '141 km madgaon',\n",
       " '141 km velha',\n",
       " '142',\n",
       " '142 km',\n",
       " '142 km basilica',\n",
       " '142 km milsim',\n",
       " '142 km nearby',\n",
       " '142 km vagator',\n",
       " '143',\n",
       " '143 km',\n",
       " '143 km ashwem',\n",
       " '143 km lady',\n",
       " '143 km nearby',\n",
       " '144',\n",
       " '144 km',\n",
       " '144 km basilica',\n",
       " '144 km karmali',\n",
       " '144 km morjim',\n",
       " '144 km se',\n",
       " '144 kms',\n",
       " '144 kms basilica',\n",
       " '145',\n",
       " '145 km',\n",
       " '145 km basilica',\n",
       " '145 km churches',\n",
       " '145 km immaculate',\n",
       " '145 km mobor',\n",
       " '145 km panjim',\n",
       " '146',\n",
       " '146 km',\n",
       " '146 km casino',\n",
       " '146 km hotel',\n",
       " '147',\n",
       " '147 km',\n",
       " '147 km backed',\n",
       " '147 km bus',\n",
       " '147 km casino',\n",
       " '147 km city',\n",
       " '147 km reis',\n",
       " '147 km se',\n",
       " '149',\n",
       " '149 km',\n",
       " '149 km basilica',\n",
       " '149 km mapusa',\n",
       " '14km',\n",
       " '14km away',\n",
       " '14km away calangute',\n",
       " '14km fort',\n",
       " '14km fort aguada',\n",
       " '14th',\n",
       " '14th 2015',\n",
       " '14th 2015 22nd',\n",
       " '14th jan',\n",
       " '14th jan peak',\n",
       " '14th oct',\n",
       " '14th oct 2015',\n",
       " '15',\n",
       " '15 comfortable',\n",
       " '15 comfortable rooms',\n",
       " '15 deluxe',\n",
       " '15 deluxe rooms',\n",
       " '15 kilometres',\n",
       " '15 kilometres thivim',\n",
       " '15 km',\n",
       " '15 km aguada',\n",
       " '15 km airport',\n",
       " '15 km amarya',\n",
       " '15 km away',\n",
       " '15 km awayguests',\n",
       " '15 km baga',\n",
       " '15 km basilica',\n",
       " '15 km bats',\n",
       " '15 km calangute',\n",
       " '15 km canacona',\n",
       " '15 km candolim',\n",
       " '15 km chapora',\n",
       " '15 km closest',\n",
       " '15 km explored',\n",
       " '15 km goa',\n",
       " '15 km morjim',\n",
       " '15 km salim',\n",
       " '15 km se',\n",
       " '15 km shanta',\n",
       " '15 km st',\n",
       " '15 km vaayu',\n",
       " '15 km visitor',\n",
       " '15 kms',\n",
       " '15 kms away',\n",
       " '15 kms awaythere',\n",
       " '15 kms colva',\n",
       " '15 kms old',\n",
       " '15 kms panjim',\n",
       " '15 minute',\n",
       " '15 minute drive',\n",
       " '15 minutes',\n",
       " '15 minutes away',\n",
       " '15 minutes drive',\n",
       " '15 minutes highland',\n",
       " '15 minutes walk',\n",
       " '15 nov',\n",
       " '15 nov 2014',\n",
       " '15 offers',\n",
       " '15 offers beautiful',\n",
       " '15 pax',\n",
       " '15 pax internet',\n",
       " '15 people',\n",
       " '15 people comfortably',\n",
       " '15 standard',\n",
       " '15 standard rooms',\n",
       " '15 wellappointed',\n",
       " '15 wellappointed comfortable',\n",
       " '15 wellfurnished',\n",
       " '15 wellfurnished rooms',\n",
       " '150',\n",
       " '150 guests',\n",
       " '150 guests additionally',\n",
       " '150 hotel',\n",
       " '150 hotel roundcube',\n",
       " '150 people',\n",
       " '150 people recreational',\n",
       " '1500',\n",
       " '1500 night',\n",
       " '1500 night occupancy',\n",
       " '151',\n",
       " '151 km',\n",
       " '151 km anjuna',\n",
       " '151 km morjim',\n",
       " '152',\n",
       " '152 km',\n",
       " '152 km goa',\n",
       " '152 km mandrem',\n",
       " '152 kms',\n",
       " '152 kms carambolim',\n",
       " '1525n',\n",
       " '1525n 7392e',\n",
       " '1525n 7392e derives',\n",
       " '153',\n",
       " '153 km',\n",
       " '153 km aguada',\n",
       " '153 km goa',\n",
       " '154',\n",
       " '154 km',\n",
       " '154 km basilica',\n",
       " '154 km salim',\n",
       " '154 km tivim',\n",
       " '154km',\n",
       " '154km rich',\n",
       " '154km rich wood',\n",
       " '155',\n",
       " '155 km',\n",
       " '155 km curchorem',\n",
       " '155 km immaculate',\n",
       " '155 km salim',\n",
       " '155 km se',\n",
       " '156',\n",
       " '156 km',\n",
       " '156 km chapora',\n",
       " '156 km shanta',\n",
       " '156 km vagator',\n",
       " '156km',\n",
       " '156km dona',\n",
       " '156km dona paula',\n",
       " '157',\n",
       " '157 km',\n",
       " '157 km shoppers',\n",
       " '158km',\n",
       " '158km hotel',\n",
       " '158km hotel offers',\n",
       " '158km mandrem',\n",
       " '158km mandrem beach',\n",
       " '15minute',\n",
       " '15minute drive',\n",
       " '15minute drive chapora',\n",
       " '15minute drive ktc',\n",
       " '15minute drive luxury',\n",
       " '15minute drive sightseeing',\n",
       " '15th',\n",
       " '15th august',\n",
       " '15th august 2014',\n",
       " '15yearold',\n",
       " '15yearold resort',\n",
       " '15yearold resort lies',\n",
       " '16',\n",
       " '16 degrees',\n",
       " '16 degrees north',\n",
       " '16 deluxe',\n",
       " '16 deluxe cottages',\n",
       " '16 deluxe rooms',\n",
       " '16 eco',\n",
       " '16 eco cottages',\n",
       " '16 kilometres',\n",
       " '16 kilometres away',\n",
       " '16 km',\n",
       " '16 km aguada',\n",
       " '16 km anjuna',\n",
       " '16 km basilica',\n",
       " '16 km bus',\n",
       " '16 km canacona',\n",
       " '16 km casino',\n",
       " '16 km chapora',\n",
       " '16 km dabolim',\n",
       " '16 km dudhsagar',\n",
       " '16 km holiday',\n",
       " '16 km mollem',\n",
       " '16 km property',\n",
       " '16 km salim',\n",
       " '16 kms',\n",
       " '16 kms away',\n",
       " '16 kms sernabatim',\n",
       " '16 minutes',\n",
       " '16 minutes drive',\n",
       " '16 spacious',\n",
       " '16 spacious rooms',\n",
       " '16 standard',\n",
       " '16 standard rooms',\n",
       " '16 suite',\n",
       " '16 suite rooms',\n",
       " '16 suites',\n",
       " '16 suites categorised',\n",
       " '16 wellmaintained',\n",
       " '16 wellmaintained rooms',\n",
       " '160',\n",
       " '160 km',\n",
       " '160 km salim',\n",
       " '160 people',\n",
       " '160 people ushape',\n",
       " '162',\n",
       " '162 km',\n",
       " '162 km anjuna',\n",
       " '162 km basilica',\n",
       " '162 km deltin',\n",
       " '162 km immaculate',\n",
       " '164',\n",
       " '164 km',\n",
       " '164 km salim',\n",
       " '165',\n",
       " '165 km',\n",
       " '165 km mandrem',\n",
       " '166',\n",
       " '166 km',\n",
       " '166 km baga',\n",
       " '166 km calangute',\n",
       " '166 km guests',\n",
       " '166 km mandrem',\n",
       " '166 km se',\n",
       " '166 km shoppers',\n",
       " '166 km situated',\n",
       " '166 km st',\n",
       " '167',\n",
       " '167 km',\n",
       " '167 km goa',\n",
       " '167 km hotel',\n",
       " '167 km madgaon',\n",
       " '167 km salim',\n",
       " '167 kms',\n",
       " '167 kms goa',\n",
       " '168',\n",
       " '168 km',\n",
       " '168 km dabolim',\n",
       " '169',\n",
       " '169 km',\n",
       " '169 km bus',\n",
       " '169 km thivim',\n",
       " '169km',\n",
       " '169km reis',\n",
       " '169km reis magos',\n",
       " '16km',\n",
       " '16km goa',\n",
       " '16km goa international',\n",
       " '16th',\n",
       " '16th dec',\n",
       " '16th dec 14th',\n",
       " '16th july',\n",
       " '16th july till',\n",
       " '17',\n",
       " '17 easily',\n",
       " '17 easily routed',\n",
       " '17 km',\n",
       " '17 km aguada',\n",
       " '17 km ashwem',\n",
       " '17 km attractions',\n",
       " '17 km away',\n",
       " '17 km baga',\n",
       " '17 km basilica',\n",
       " '17 km betul',\n",
       " '17 km bus',\n",
       " '17 km calangute',\n",
       " '17 km candolim',\n",
       " '17 km casino',\n",
       " '17 km chapora',\n",
       " '17 km goa',\n",
       " '17 km karmali',\n",
       " '17 km margao',\n",
       " '17 km nearest',\n",
       " '17 km polem',\n",
       " '17 km salim',\n",
       " '17 km shree',\n",
       " '17 kms',\n",
       " '17 kms betalbatim',\n",
       " '17 kms tivim',\n",
       " '17 wellfurnished',\n",
       " '17 wellfurnished rooms',\n",
       " '170',\n",
       " '170 betalbatim',\n",
       " '170 betalbatim beach',\n",
       " '170 rooms',\n",
       " '170 rooms available',\n",
       " '171',\n",
       " '171 km',\n",
       " '171 km ashwem',\n",
       " '171 km baga',\n",
       " '171km',\n",
       " '171km away',\n",
       " '171km away interstate',\n",
       " '172',\n",
       " '172 km',\n",
       " '172 km miramar',\n",
       " '173',\n",
       " '173 km',\n",
       " '173 km arambol',\n",
       " '173 km basilica',\n",
       " '173 km goa',\n",
       " '174',\n",
       " '174 km',\n",
       " '174 km madgaon',\n",
       " '175',\n",
       " '175 km',\n",
       " '175 km property',\n",
       " '175 km salim',\n",
       " '176',\n",
       " '176 km',\n",
       " '176 km goa',\n",
       " '176 km situated',\n",
       " '177',\n",
       " '177 km',\n",
       " '177 km away',\n",
       " '177 km immaculate',\n",
       " '177 km thivim',\n",
       " '1774km',\n",
       " '1774km basilica',\n",
       " '1774km basilica bom',\n",
       " '177km',\n",
       " '177km hotel',\n",
       " '177km hotel offers',\n",
       " '178',\n",
       " '178 km',\n",
       " '178 km salim',\n",
       " '178 km situated',\n",
       " '178 km thivim',\n",
       " '178 km tivim',\n",
       " '179',\n",
       " '179 km',\n",
       " '179 km candolim',\n",
       " '179 km edapally',\n",
       " '179 km mandrem',\n",
       " '179 km tivim',\n",
       " '17km',\n",
       " '17km ashwem',\n",
       " '17km ashwem beach',\n",
       " '17km mandrem',\n",
       " '17km mandrem beach',\n",
       " '18',\n",
       " '18 kilometres',\n",
       " '18 kilometres away',\n",
       " '18 km',\n",
       " '18 km anjuna',\n",
       " '18 km away',\n",
       " '18 km baina',\n",
       " '18 km benaulim',\n",
       " '18 km candolim',\n",
       " '18 km casino',\n",
       " '18 km chapora',\n",
       " '18 km directorate',\n",
       " '18 km kadamba',\n",
       " '18 km karmali',\n",
       " '18 km mae',\n",
       " '18 km nerul',\n",
       " '18 km shoppers',\n",
       " '18 km situated',\n",
       " '18 km st',\n",
       " '18 km thivim',\n",
       " '18 km tivim',\n",
       " '18 kms',\n",
       " '18 kms calangute',\n",
       " '18 kms hotel',\n",
       " '18 silver',\n",
       " '18 silver rooms',\n",
       " '18 years',\n",
       " '18 years age',\n",
       " '180',\n",
       " '180 elegantly',\n",
       " '180 elegantly designed',\n",
       " '180 km',\n",
       " '180 km thivim',\n",
       " '181',\n",
       " '181 km',\n",
       " '181 km tivim',\n",
       " '182',\n",
       " '182 km',\n",
       " '182 km backed',\n",
       " '182 km lady',\n",
       " '182 km tivim',\n",
       " '183',\n",
       " '183 km',\n",
       " '183 km basilica',\n",
       " '183 km tivim',\n",
       " '184',\n",
       " '184 km',\n",
       " '184 km away',\n",
       " '184 km lady',\n",
       " '184 km tivim',\n",
       " '185',\n",
       " '185 km',\n",
       " '185 km away',\n",
       " '185 km club',\n",
       " '185 km goa',\n",
       " '185 km nearest',\n",
       " '185 km tivim',\n",
       " '185km',\n",
       " '185km morjim',\n",
       " '185km morjim 209km',\n",
       " '186',\n",
       " '186 km',\n",
       " '186 km property',\n",
       " '1863',\n",
       " '1863 hold',\n",
       " '1863 hold grandeur',\n",
       " '187',\n",
       " '187 km',\n",
       " '187 km basilica',\n",
       " '187 km hotel',\n",
       " '187 km saturday',\n",
       " '187 km shree',\n",
       " '187 km thivim',\n",
       " '188',\n",
       " '188 km',\n",
       " '188 km basilica',\n",
       " '188 km dabolim',\n",
       " '188 km lady',\n",
       " '188 kms',\n",
       " '188 kms tivim',\n",
       " '189',\n",
       " '189 km',\n",
       " '189 km guests',\n",
       " '189 km morjim',\n",
       " '189 km thivim',\n",
       " '189 km tourist',\n",
       " '189 kms',\n",
       " '189 kms experience',\n",
       " '189 kms tivim',\n",
       " '18km',\n",
       " '18km arambol',\n",
       " '18km arambol beach',\n",
       " '18km thivim',\n",
       " '18km thivim railway',\n",
       " '18th',\n",
       " '18th century',\n",
       " '18th century mae',\n",
       " '19',\n",
       " '19 double',\n",
       " '19 double rooms',\n",
       " '19 km',\n",
       " '19 km aguada',\n",
       " '19 km away',\n",
       " '19 km baina',\n",
       " '19 km basilica',\n",
       " ...]"
      ]
     },
     "execution_count": 388,
     "metadata": {},
     "output_type": "execute_result"
    }
   ],
   "source": [
    "# Let's check what are the n-grams features that were generated\n",
    "tf.get_feature_names()"
   ]
  },
  {
   "cell_type": "markdown",
   "metadata": {},
   "source": [
    "#### The recommendations of similar properties based on property description is given out on feeding the property name"
   ]
  },
  {
   "cell_type": "code",
   "execution_count": 389,
   "metadata": {},
   "outputs": [
    {
     "data": {
      "text/plain": [
       "['Keys Ronil Resort, Goa',\n",
       " 'Keys Ronil Resort, Goa',\n",
       " 'Zinhos Beach Resort',\n",
       " 'Beira Mar Alfran',\n",
       " 'Graciano Cottage',\n",
       " 'Palmarinha Resort and Suites',\n",
       " 'Deltin Suites',\n",
       " 'Deltin Suites',\n",
       " 'Calangute Grande',\n",
       " 'Valentines Retreat']"
      ]
     },
     "execution_count": 389,
     "metadata": {},
     "output_type": "execute_result"
    }
   ],
   "source": [
    "recommendations('Keys Ronil Resort, Goa')"
   ]
  },
  {
   "cell_type": "markdown",
   "metadata": {},
   "source": [
    "#### Lets try to see if we find some common words from the description of the target 'Keys Ronil Resort, Goa' and a recommendation- 'Palmarinha Resort and Suites'"
   ]
  },
  {
   "cell_type": "code",
   "execution_count": 391,
   "metadata": {},
   "outputs": [
    {
     "data": {
      "application/vnd.plotly.v1+json": {
       "config": {
        "plotlyServerURL": "https://plot.ly"
       },
       "data": [
        {
         "text": [
          "resort",
          "beach",
          "rooms",
          "baga",
          "calangute",
          "beira",
          "alfran",
          "pools",
          "massage",
          "parlour",
          "sun",
          "decks",
          "50",
          "airconditioned",
          "bar",
          "facilities",
          "service",
          "restaurant",
          "550",
          "km"
         ],
         "textposition": "auto",
         "type": "bar",
         "x": [
          "resort",
          "beach",
          "rooms",
          "baga",
          "calangute",
          "beira",
          "alfran",
          "pools",
          "massage",
          "parlour",
          "sun",
          "decks",
          "50",
          "airconditioned",
          "bar",
          "facilities",
          "service",
          "restaurant",
          "550",
          "km"
         ],
         "y": [
          10,
          8,
          8,
          6,
          6,
          4,
          4,
          4,
          4,
          4,
          4,
          4,
          4,
          4,
          4,
          4,
          4,
          4,
          2,
          2
         ]
        }
       ],
       "layout": {
        "template": {
         "data": {
          "bar": [
           {
            "error_x": {
             "color": "#2a3f5f"
            },
            "error_y": {
             "color": "#2a3f5f"
            },
            "marker": {
             "line": {
              "color": "#E5ECF6",
              "width": 0.5
             }
            },
            "type": "bar"
           }
          ],
          "barpolar": [
           {
            "marker": {
             "line": {
              "color": "#E5ECF6",
              "width": 0.5
             }
            },
            "type": "barpolar"
           }
          ],
          "carpet": [
           {
            "aaxis": {
             "endlinecolor": "#2a3f5f",
             "gridcolor": "white",
             "linecolor": "white",
             "minorgridcolor": "white",
             "startlinecolor": "#2a3f5f"
            },
            "baxis": {
             "endlinecolor": "#2a3f5f",
             "gridcolor": "white",
             "linecolor": "white",
             "minorgridcolor": "white",
             "startlinecolor": "#2a3f5f"
            },
            "type": "carpet"
           }
          ],
          "choropleth": [
           {
            "colorbar": {
             "outlinewidth": 0,
             "ticks": ""
            },
            "type": "choropleth"
           }
          ],
          "contour": [
           {
            "colorbar": {
             "outlinewidth": 0,
             "ticks": ""
            },
            "colorscale": [
             [
              0,
              "#0d0887"
             ],
             [
              0.1111111111111111,
              "#46039f"
             ],
             [
              0.2222222222222222,
              "#7201a8"
             ],
             [
              0.3333333333333333,
              "#9c179e"
             ],
             [
              0.4444444444444444,
              "#bd3786"
             ],
             [
              0.5555555555555556,
              "#d8576b"
             ],
             [
              0.6666666666666666,
              "#ed7953"
             ],
             [
              0.7777777777777778,
              "#fb9f3a"
             ],
             [
              0.8888888888888888,
              "#fdca26"
             ],
             [
              1,
              "#f0f921"
             ]
            ],
            "type": "contour"
           }
          ],
          "contourcarpet": [
           {
            "colorbar": {
             "outlinewidth": 0,
             "ticks": ""
            },
            "type": "contourcarpet"
           }
          ],
          "heatmap": [
           {
            "colorbar": {
             "outlinewidth": 0,
             "ticks": ""
            },
            "colorscale": [
             [
              0,
              "#0d0887"
             ],
             [
              0.1111111111111111,
              "#46039f"
             ],
             [
              0.2222222222222222,
              "#7201a8"
             ],
             [
              0.3333333333333333,
              "#9c179e"
             ],
             [
              0.4444444444444444,
              "#bd3786"
             ],
             [
              0.5555555555555556,
              "#d8576b"
             ],
             [
              0.6666666666666666,
              "#ed7953"
             ],
             [
              0.7777777777777778,
              "#fb9f3a"
             ],
             [
              0.8888888888888888,
              "#fdca26"
             ],
             [
              1,
              "#f0f921"
             ]
            ],
            "type": "heatmap"
           }
          ],
          "heatmapgl": [
           {
            "colorbar": {
             "outlinewidth": 0,
             "ticks": ""
            },
            "colorscale": [
             [
              0,
              "#0d0887"
             ],
             [
              0.1111111111111111,
              "#46039f"
             ],
             [
              0.2222222222222222,
              "#7201a8"
             ],
             [
              0.3333333333333333,
              "#9c179e"
             ],
             [
              0.4444444444444444,
              "#bd3786"
             ],
             [
              0.5555555555555556,
              "#d8576b"
             ],
             [
              0.6666666666666666,
              "#ed7953"
             ],
             [
              0.7777777777777778,
              "#fb9f3a"
             ],
             [
              0.8888888888888888,
              "#fdca26"
             ],
             [
              1,
              "#f0f921"
             ]
            ],
            "type": "heatmapgl"
           }
          ],
          "histogram": [
           {
            "marker": {
             "colorbar": {
              "outlinewidth": 0,
              "ticks": ""
             }
            },
            "type": "histogram"
           }
          ],
          "histogram2d": [
           {
            "colorbar": {
             "outlinewidth": 0,
             "ticks": ""
            },
            "colorscale": [
             [
              0,
              "#0d0887"
             ],
             [
              0.1111111111111111,
              "#46039f"
             ],
             [
              0.2222222222222222,
              "#7201a8"
             ],
             [
              0.3333333333333333,
              "#9c179e"
             ],
             [
              0.4444444444444444,
              "#bd3786"
             ],
             [
              0.5555555555555556,
              "#d8576b"
             ],
             [
              0.6666666666666666,
              "#ed7953"
             ],
             [
              0.7777777777777778,
              "#fb9f3a"
             ],
             [
              0.8888888888888888,
              "#fdca26"
             ],
             [
              1,
              "#f0f921"
             ]
            ],
            "type": "histogram2d"
           }
          ],
          "histogram2dcontour": [
           {
            "colorbar": {
             "outlinewidth": 0,
             "ticks": ""
            },
            "colorscale": [
             [
              0,
              "#0d0887"
             ],
             [
              0.1111111111111111,
              "#46039f"
             ],
             [
              0.2222222222222222,
              "#7201a8"
             ],
             [
              0.3333333333333333,
              "#9c179e"
             ],
             [
              0.4444444444444444,
              "#bd3786"
             ],
             [
              0.5555555555555556,
              "#d8576b"
             ],
             [
              0.6666666666666666,
              "#ed7953"
             ],
             [
              0.7777777777777778,
              "#fb9f3a"
             ],
             [
              0.8888888888888888,
              "#fdca26"
             ],
             [
              1,
              "#f0f921"
             ]
            ],
            "type": "histogram2dcontour"
           }
          ],
          "mesh3d": [
           {
            "colorbar": {
             "outlinewidth": 0,
             "ticks": ""
            },
            "type": "mesh3d"
           }
          ],
          "parcoords": [
           {
            "line": {
             "colorbar": {
              "outlinewidth": 0,
              "ticks": ""
             }
            },
            "type": "parcoords"
           }
          ],
          "pie": [
           {
            "automargin": true,
            "type": "pie"
           }
          ],
          "scatter": [
           {
            "marker": {
             "colorbar": {
              "outlinewidth": 0,
              "ticks": ""
             }
            },
            "type": "scatter"
           }
          ],
          "scatter3d": [
           {
            "line": {
             "colorbar": {
              "outlinewidth": 0,
              "ticks": ""
             }
            },
            "marker": {
             "colorbar": {
              "outlinewidth": 0,
              "ticks": ""
             }
            },
            "type": "scatter3d"
           }
          ],
          "scattercarpet": [
           {
            "marker": {
             "colorbar": {
              "outlinewidth": 0,
              "ticks": ""
             }
            },
            "type": "scattercarpet"
           }
          ],
          "scattergeo": [
           {
            "marker": {
             "colorbar": {
              "outlinewidth": 0,
              "ticks": ""
             }
            },
            "type": "scattergeo"
           }
          ],
          "scattergl": [
           {
            "marker": {
             "colorbar": {
              "outlinewidth": 0,
              "ticks": ""
             }
            },
            "type": "scattergl"
           }
          ],
          "scattermapbox": [
           {
            "marker": {
             "colorbar": {
              "outlinewidth": 0,
              "ticks": ""
             }
            },
            "type": "scattermapbox"
           }
          ],
          "scatterpolar": [
           {
            "marker": {
             "colorbar": {
              "outlinewidth": 0,
              "ticks": ""
             }
            },
            "type": "scatterpolar"
           }
          ],
          "scatterpolargl": [
           {
            "marker": {
             "colorbar": {
              "outlinewidth": 0,
              "ticks": ""
             }
            },
            "type": "scatterpolargl"
           }
          ],
          "scatterternary": [
           {
            "marker": {
             "colorbar": {
              "outlinewidth": 0,
              "ticks": ""
             }
            },
            "type": "scatterternary"
           }
          ],
          "surface": [
           {
            "colorbar": {
             "outlinewidth": 0,
             "ticks": ""
            },
            "colorscale": [
             [
              0,
              "#0d0887"
             ],
             [
              0.1111111111111111,
              "#46039f"
             ],
             [
              0.2222222222222222,
              "#7201a8"
             ],
             [
              0.3333333333333333,
              "#9c179e"
             ],
             [
              0.4444444444444444,
              "#bd3786"
             ],
             [
              0.5555555555555556,
              "#d8576b"
             ],
             [
              0.6666666666666666,
              "#ed7953"
             ],
             [
              0.7777777777777778,
              "#fb9f3a"
             ],
             [
              0.8888888888888888,
              "#fdca26"
             ],
             [
              1,
              "#f0f921"
             ]
            ],
            "type": "surface"
           }
          ],
          "table": [
           {
            "cells": {
             "fill": {
              "color": "#EBF0F8"
             },
             "line": {
              "color": "white"
             }
            },
            "header": {
             "fill": {
              "color": "#C8D4E3"
             },
             "line": {
              "color": "white"
             }
            },
            "type": "table"
           }
          ]
         },
         "layout": {
          "annotationdefaults": {
           "arrowcolor": "#2a3f5f",
           "arrowhead": 0,
           "arrowwidth": 1
          },
          "coloraxis": {
           "colorbar": {
            "outlinewidth": 0,
            "ticks": ""
           }
          },
          "colorscale": {
           "diverging": [
            [
             0,
             "#8e0152"
            ],
            [
             0.1,
             "#c51b7d"
            ],
            [
             0.2,
             "#de77ae"
            ],
            [
             0.3,
             "#f1b6da"
            ],
            [
             0.4,
             "#fde0ef"
            ],
            [
             0.5,
             "#f7f7f7"
            ],
            [
             0.6,
             "#e6f5d0"
            ],
            [
             0.7,
             "#b8e186"
            ],
            [
             0.8,
             "#7fbc41"
            ],
            [
             0.9,
             "#4d9221"
            ],
            [
             1,
             "#276419"
            ]
           ],
           "sequential": [
            [
             0,
             "#0d0887"
            ],
            [
             0.1111111111111111,
             "#46039f"
            ],
            [
             0.2222222222222222,
             "#7201a8"
            ],
            [
             0.3333333333333333,
             "#9c179e"
            ],
            [
             0.4444444444444444,
             "#bd3786"
            ],
            [
             0.5555555555555556,
             "#d8576b"
            ],
            [
             0.6666666666666666,
             "#ed7953"
            ],
            [
             0.7777777777777778,
             "#fb9f3a"
            ],
            [
             0.8888888888888888,
             "#fdca26"
            ],
            [
             1,
             "#f0f921"
            ]
           ],
           "sequentialminus": [
            [
             0,
             "#0d0887"
            ],
            [
             0.1111111111111111,
             "#46039f"
            ],
            [
             0.2222222222222222,
             "#7201a8"
            ],
            [
             0.3333333333333333,
             "#9c179e"
            ],
            [
             0.4444444444444444,
             "#bd3786"
            ],
            [
             0.5555555555555556,
             "#d8576b"
            ],
            [
             0.6666666666666666,
             "#ed7953"
            ],
            [
             0.7777777777777778,
             "#fb9f3a"
            ],
            [
             0.8888888888888888,
             "#fdca26"
            ],
            [
             1,
             "#f0f921"
            ]
           ]
          },
          "colorway": [
           "#636efa",
           "#EF553B",
           "#00cc96",
           "#ab63fa",
           "#FFA15A",
           "#19d3f3",
           "#FF6692",
           "#B6E880",
           "#FF97FF",
           "#FECB52"
          ],
          "font": {
           "color": "#2a3f5f"
          },
          "geo": {
           "bgcolor": "white",
           "lakecolor": "white",
           "landcolor": "#E5ECF6",
           "showlakes": true,
           "showland": true,
           "subunitcolor": "white"
          },
          "hoverlabel": {
           "align": "left"
          },
          "hovermode": "closest",
          "mapbox": {
           "style": "light"
          },
          "paper_bgcolor": "white",
          "plot_bgcolor": "#E5ECF6",
          "polar": {
           "angularaxis": {
            "gridcolor": "white",
            "linecolor": "white",
            "ticks": ""
           },
           "bgcolor": "#E5ECF6",
           "radialaxis": {
            "gridcolor": "white",
            "linecolor": "white",
            "ticks": ""
           }
          },
          "scene": {
           "xaxis": {
            "backgroundcolor": "#E5ECF6",
            "gridcolor": "white",
            "gridwidth": 2,
            "linecolor": "white",
            "showbackground": true,
            "ticks": "",
            "zerolinecolor": "white"
           },
           "yaxis": {
            "backgroundcolor": "#E5ECF6",
            "gridcolor": "white",
            "gridwidth": 2,
            "linecolor": "white",
            "showbackground": true,
            "ticks": "",
            "zerolinecolor": "white"
           },
           "zaxis": {
            "backgroundcolor": "#E5ECF6",
            "gridcolor": "white",
            "gridwidth": 2,
            "linecolor": "white",
            "showbackground": true,
            "ticks": "",
            "zerolinecolor": "white"
           }
          },
          "shapedefaults": {
           "line": {
            "color": "#2a3f5f"
           }
          },
          "ternary": {
           "aaxis": {
            "gridcolor": "white",
            "linecolor": "white",
            "ticks": ""
           },
           "baxis": {
            "gridcolor": "white",
            "linecolor": "white",
            "ticks": ""
           },
           "bgcolor": "#E5ECF6",
           "caxis": {
            "gridcolor": "white",
            "linecolor": "white",
            "ticks": ""
           }
          },
          "title": {
           "x": 0.05
          },
          "xaxis": {
           "automargin": true,
           "gridcolor": "white",
           "linecolor": "white",
           "ticks": "",
           "title": {
            "standoff": 15
           },
           "zerolinecolor": "white",
           "zerolinewidth": 2
          },
          "yaxis": {
           "automargin": true,
           "gridcolor": "white",
           "linecolor": "white",
           "ticks": "",
           "title": {
            "standoff": 15
           },
           "zerolinecolor": "white",
           "zerolinewidth": 2
          }
         }
        },
        "title": {
         "text": "Top 20 words in hotel description after removing stop words from- Beira Mar Alfran",
         "x": 0.5,
         "y": 0.9
        },
        "xaxis": {
         "title": {
          "text": "top words"
         }
        },
        "yaxis": {
         "title": {
          "text": "word counts"
         }
        }
       }
      },
      "text/html": [
       "<div>\n",
       "        \n",
       "        \n",
       "            <div id=\"7efeddb3-e951-413a-bf5c-c78e7250c7b4\" class=\"plotly-graph-div\" style=\"height:525px; width:100%;\"></div>\n",
       "            <script type=\"text/javascript\">\n",
       "                require([\"plotly\"], function(Plotly) {\n",
       "                    window.PLOTLYENV=window.PLOTLYENV || {};\n",
       "                    \n",
       "                if (document.getElementById(\"7efeddb3-e951-413a-bf5c-c78e7250c7b4\")) {\n",
       "                    Plotly.newPlot(\n",
       "                        '7efeddb3-e951-413a-bf5c-c78e7250c7b4',\n",
       "                        [{\"text\": [\"resort\", \"beach\", \"rooms\", \"baga\", \"calangute\", \"beira\", \"alfran\", \"pools\", \"massage\", \"parlour\", \"sun\", \"decks\", \"50\", \"airconditioned\", \"bar\", \"facilities\", \"service\", \"restaurant\", \"550\", \"km\"], \"textposition\": \"auto\", \"type\": \"bar\", \"x\": [\"resort\", \"beach\", \"rooms\", \"baga\", \"calangute\", \"beira\", \"alfran\", \"pools\", \"massage\", \"parlour\", \"sun\", \"decks\", \"50\", \"airconditioned\", \"bar\", \"facilities\", \"service\", \"restaurant\", \"550\", \"km\"], \"y\": [10, 8, 8, 6, 6, 4, 4, 4, 4, 4, 4, 4, 4, 4, 4, 4, 4, 4, 2, 2]}],\n",
       "                        {\"template\": {\"data\": {\"bar\": [{\"error_x\": {\"color\": \"#2a3f5f\"}, \"error_y\": {\"color\": \"#2a3f5f\"}, \"marker\": {\"line\": {\"color\": \"#E5ECF6\", \"width\": 0.5}}, \"type\": \"bar\"}], \"barpolar\": [{\"marker\": {\"line\": {\"color\": \"#E5ECF6\", \"width\": 0.5}}, \"type\": \"barpolar\"}], \"carpet\": [{\"aaxis\": {\"endlinecolor\": \"#2a3f5f\", \"gridcolor\": \"white\", \"linecolor\": \"white\", \"minorgridcolor\": \"white\", \"startlinecolor\": \"#2a3f5f\"}, \"baxis\": {\"endlinecolor\": \"#2a3f5f\", \"gridcolor\": \"white\", \"linecolor\": \"white\", \"minorgridcolor\": \"white\", \"startlinecolor\": \"#2a3f5f\"}, \"type\": \"carpet\"}], \"choropleth\": [{\"colorbar\": {\"outlinewidth\": 0, \"ticks\": \"\"}, \"type\": \"choropleth\"}], \"contour\": [{\"colorbar\": {\"outlinewidth\": 0, \"ticks\": \"\"}, \"colorscale\": [[0.0, \"#0d0887\"], [0.1111111111111111, \"#46039f\"], [0.2222222222222222, \"#7201a8\"], [0.3333333333333333, \"#9c179e\"], [0.4444444444444444, \"#bd3786\"], [0.5555555555555556, \"#d8576b\"], [0.6666666666666666, \"#ed7953\"], [0.7777777777777778, \"#fb9f3a\"], [0.8888888888888888, \"#fdca26\"], [1.0, \"#f0f921\"]], \"type\": \"contour\"}], \"contourcarpet\": [{\"colorbar\": {\"outlinewidth\": 0, \"ticks\": \"\"}, \"type\": \"contourcarpet\"}], \"heatmap\": [{\"colorbar\": {\"outlinewidth\": 0, \"ticks\": \"\"}, \"colorscale\": [[0.0, \"#0d0887\"], [0.1111111111111111, \"#46039f\"], [0.2222222222222222, \"#7201a8\"], [0.3333333333333333, \"#9c179e\"], [0.4444444444444444, \"#bd3786\"], [0.5555555555555556, \"#d8576b\"], [0.6666666666666666, \"#ed7953\"], [0.7777777777777778, \"#fb9f3a\"], [0.8888888888888888, \"#fdca26\"], [1.0, \"#f0f921\"]], \"type\": \"heatmap\"}], \"heatmapgl\": [{\"colorbar\": {\"outlinewidth\": 0, \"ticks\": \"\"}, \"colorscale\": [[0.0, \"#0d0887\"], [0.1111111111111111, \"#46039f\"], [0.2222222222222222, \"#7201a8\"], [0.3333333333333333, \"#9c179e\"], [0.4444444444444444, \"#bd3786\"], [0.5555555555555556, \"#d8576b\"], [0.6666666666666666, \"#ed7953\"], [0.7777777777777778, \"#fb9f3a\"], [0.8888888888888888, \"#fdca26\"], [1.0, \"#f0f921\"]], \"type\": \"heatmapgl\"}], \"histogram\": [{\"marker\": {\"colorbar\": {\"outlinewidth\": 0, \"ticks\": \"\"}}, \"type\": \"histogram\"}], \"histogram2d\": [{\"colorbar\": {\"outlinewidth\": 0, \"ticks\": \"\"}, \"colorscale\": [[0.0, \"#0d0887\"], [0.1111111111111111, \"#46039f\"], [0.2222222222222222, \"#7201a8\"], [0.3333333333333333, \"#9c179e\"], [0.4444444444444444, \"#bd3786\"], [0.5555555555555556, \"#d8576b\"], [0.6666666666666666, \"#ed7953\"], [0.7777777777777778, \"#fb9f3a\"], [0.8888888888888888, \"#fdca26\"], [1.0, \"#f0f921\"]], \"type\": \"histogram2d\"}], \"histogram2dcontour\": [{\"colorbar\": {\"outlinewidth\": 0, \"ticks\": \"\"}, \"colorscale\": [[0.0, \"#0d0887\"], [0.1111111111111111, \"#46039f\"], [0.2222222222222222, \"#7201a8\"], [0.3333333333333333, \"#9c179e\"], [0.4444444444444444, \"#bd3786\"], [0.5555555555555556, \"#d8576b\"], [0.6666666666666666, \"#ed7953\"], [0.7777777777777778, \"#fb9f3a\"], [0.8888888888888888, \"#fdca26\"], [1.0, \"#f0f921\"]], \"type\": \"histogram2dcontour\"}], \"mesh3d\": [{\"colorbar\": {\"outlinewidth\": 0, \"ticks\": \"\"}, \"type\": \"mesh3d\"}], \"parcoords\": [{\"line\": {\"colorbar\": {\"outlinewidth\": 0, \"ticks\": \"\"}}, \"type\": \"parcoords\"}], \"pie\": [{\"automargin\": true, \"type\": \"pie\"}], \"scatter\": [{\"marker\": {\"colorbar\": {\"outlinewidth\": 0, \"ticks\": \"\"}}, \"type\": \"scatter\"}], \"scatter3d\": [{\"line\": {\"colorbar\": {\"outlinewidth\": 0, \"ticks\": \"\"}}, \"marker\": {\"colorbar\": {\"outlinewidth\": 0, \"ticks\": \"\"}}, \"type\": \"scatter3d\"}], \"scattercarpet\": [{\"marker\": {\"colorbar\": {\"outlinewidth\": 0, \"ticks\": \"\"}}, \"type\": \"scattercarpet\"}], \"scattergeo\": [{\"marker\": {\"colorbar\": {\"outlinewidth\": 0, \"ticks\": \"\"}}, \"type\": \"scattergeo\"}], \"scattergl\": [{\"marker\": {\"colorbar\": {\"outlinewidth\": 0, \"ticks\": \"\"}}, \"type\": \"scattergl\"}], \"scattermapbox\": [{\"marker\": {\"colorbar\": {\"outlinewidth\": 0, \"ticks\": \"\"}}, \"type\": \"scattermapbox\"}], \"scatterpolar\": [{\"marker\": {\"colorbar\": {\"outlinewidth\": 0, \"ticks\": \"\"}}, \"type\": \"scatterpolar\"}], \"scatterpolargl\": [{\"marker\": {\"colorbar\": {\"outlinewidth\": 0, \"ticks\": \"\"}}, \"type\": \"scatterpolargl\"}], \"scatterternary\": [{\"marker\": {\"colorbar\": {\"outlinewidth\": 0, \"ticks\": \"\"}}, \"type\": \"scatterternary\"}], \"surface\": [{\"colorbar\": {\"outlinewidth\": 0, \"ticks\": \"\"}, \"colorscale\": [[0.0, \"#0d0887\"], [0.1111111111111111, \"#46039f\"], [0.2222222222222222, \"#7201a8\"], [0.3333333333333333, \"#9c179e\"], [0.4444444444444444, \"#bd3786\"], [0.5555555555555556, \"#d8576b\"], [0.6666666666666666, \"#ed7953\"], [0.7777777777777778, \"#fb9f3a\"], [0.8888888888888888, \"#fdca26\"], [1.0, \"#f0f921\"]], \"type\": \"surface\"}], \"table\": [{\"cells\": {\"fill\": {\"color\": \"#EBF0F8\"}, \"line\": {\"color\": \"white\"}}, \"header\": {\"fill\": {\"color\": \"#C8D4E3\"}, \"line\": {\"color\": \"white\"}}, \"type\": \"table\"}]}, \"layout\": {\"annotationdefaults\": {\"arrowcolor\": \"#2a3f5f\", \"arrowhead\": 0, \"arrowwidth\": 1}, \"coloraxis\": {\"colorbar\": {\"outlinewidth\": 0, \"ticks\": \"\"}}, \"colorscale\": {\"diverging\": [[0, \"#8e0152\"], [0.1, \"#c51b7d\"], [0.2, \"#de77ae\"], [0.3, \"#f1b6da\"], [0.4, \"#fde0ef\"], [0.5, \"#f7f7f7\"], [0.6, \"#e6f5d0\"], [0.7, \"#b8e186\"], [0.8, \"#7fbc41\"], [0.9, \"#4d9221\"], [1, \"#276419\"]], \"sequential\": [[0.0, \"#0d0887\"], [0.1111111111111111, \"#46039f\"], [0.2222222222222222, \"#7201a8\"], [0.3333333333333333, \"#9c179e\"], [0.4444444444444444, \"#bd3786\"], [0.5555555555555556, \"#d8576b\"], [0.6666666666666666, \"#ed7953\"], [0.7777777777777778, \"#fb9f3a\"], [0.8888888888888888, \"#fdca26\"], [1.0, \"#f0f921\"]], \"sequentialminus\": [[0.0, \"#0d0887\"], [0.1111111111111111, \"#46039f\"], [0.2222222222222222, \"#7201a8\"], [0.3333333333333333, \"#9c179e\"], [0.4444444444444444, \"#bd3786\"], [0.5555555555555556, \"#d8576b\"], [0.6666666666666666, \"#ed7953\"], [0.7777777777777778, \"#fb9f3a\"], [0.8888888888888888, \"#fdca26\"], [1.0, \"#f0f921\"]]}, \"colorway\": [\"#636efa\", \"#EF553B\", \"#00cc96\", \"#ab63fa\", \"#FFA15A\", \"#19d3f3\", \"#FF6692\", \"#B6E880\", \"#FF97FF\", \"#FECB52\"], \"font\": {\"color\": \"#2a3f5f\"}, \"geo\": {\"bgcolor\": \"white\", \"lakecolor\": \"white\", \"landcolor\": \"#E5ECF6\", \"showlakes\": true, \"showland\": true, \"subunitcolor\": \"white\"}, \"hoverlabel\": {\"align\": \"left\"}, \"hovermode\": \"closest\", \"mapbox\": {\"style\": \"light\"}, \"paper_bgcolor\": \"white\", \"plot_bgcolor\": \"#E5ECF6\", \"polar\": {\"angularaxis\": {\"gridcolor\": \"white\", \"linecolor\": \"white\", \"ticks\": \"\"}, \"bgcolor\": \"#E5ECF6\", \"radialaxis\": {\"gridcolor\": \"white\", \"linecolor\": \"white\", \"ticks\": \"\"}}, \"scene\": {\"xaxis\": {\"backgroundcolor\": \"#E5ECF6\", \"gridcolor\": \"white\", \"gridwidth\": 2, \"linecolor\": \"white\", \"showbackground\": true, \"ticks\": \"\", \"zerolinecolor\": \"white\"}, \"yaxis\": {\"backgroundcolor\": \"#E5ECF6\", \"gridcolor\": \"white\", \"gridwidth\": 2, \"linecolor\": \"white\", \"showbackground\": true, \"ticks\": \"\", \"zerolinecolor\": \"white\"}, \"zaxis\": {\"backgroundcolor\": \"#E5ECF6\", \"gridcolor\": \"white\", \"gridwidth\": 2, \"linecolor\": \"white\", \"showbackground\": true, \"ticks\": \"\", \"zerolinecolor\": \"white\"}}, \"shapedefaults\": {\"line\": {\"color\": \"#2a3f5f\"}}, \"ternary\": {\"aaxis\": {\"gridcolor\": \"white\", \"linecolor\": \"white\", \"ticks\": \"\"}, \"baxis\": {\"gridcolor\": \"white\", \"linecolor\": \"white\", \"ticks\": \"\"}, \"bgcolor\": \"#E5ECF6\", \"caxis\": {\"gridcolor\": \"white\", \"linecolor\": \"white\", \"ticks\": \"\"}}, \"title\": {\"x\": 0.05}, \"xaxis\": {\"automargin\": true, \"gridcolor\": \"white\", \"linecolor\": \"white\", \"ticks\": \"\", \"title\": {\"standoff\": 15}, \"zerolinecolor\": \"white\", \"zerolinewidth\": 2}, \"yaxis\": {\"automargin\": true, \"gridcolor\": \"white\", \"linecolor\": \"white\", \"ticks\": \"\", \"title\": {\"standoff\": 15}, \"zerolinecolor\": \"white\", \"zerolinewidth\": 2}}}, \"title\": {\"text\": \"Top 20 words in hotel description after removing stop words from- Beira Mar Alfran\", \"x\": 0.5, \"y\": 0.9}, \"xaxis\": {\"title\": {\"text\": \"top words\"}}, \"yaxis\": {\"title\": {\"text\": \"word counts\"}}},\n",
       "                        {\"responsive\": true}\n",
       "                    ).then(function(){\n",
       "                            \n",
       "var gd = document.getElementById('7efeddb3-e951-413a-bf5c-c78e7250c7b4');\n",
       "var x = new MutationObserver(function (mutations, observer) {{\n",
       "        var display = window.getComputedStyle(gd).display;\n",
       "        if (!display || display === 'none') {{\n",
       "            console.log([gd, 'removed!']);\n",
       "            Plotly.purge(gd);\n",
       "            observer.disconnect();\n",
       "        }}\n",
       "}});\n",
       "\n",
       "// Listen for the removal of the full notebook cells\n",
       "var notebookContainer = gd.closest('#notebook-container');\n",
       "if (notebookContainer) {{\n",
       "    x.observe(notebookContainer, {childList: true});\n",
       "}}\n",
       "\n",
       "// Listen for the clearing of the current output cell\n",
       "var outputEl = gd.closest('.output');\n",
       "if (outputEl) {{\n",
       "    x.observe(outputEl, {childList: true});\n",
       "}}\n",
       "\n",
       "                        })\n",
       "                };\n",
       "                });\n",
       "            </script>\n",
       "        </div>"
      ]
     },
     "metadata": {},
     "output_type": "display_data"
    }
   ],
   "source": [
    "top_words = pd.DataFrame(get_top_ngram(goa.loc['Beira Mar Alfran']['desc_clean'].dropna(), 20, 'english'))\n",
    "top_words.columns = ['words', 'count']\n",
    "plot_barcharts(top_words, \"Top 20 words in hotel description after removing stop words from- Beira Mar Alfran\")"
   ]
  },
  {
   "cell_type": "code",
   "execution_count": 392,
   "metadata": {},
   "outputs": [
    {
     "data": {
      "application/vnd.plotly.v1+json": {
       "config": {
        "plotlyServerURL": "https://plot.ly"
       },
       "data": [
        {
         "text": [
          "hotel",
          "rooms",
          "beach",
          "swimming",
          "pools",
          "walking",
          "distance",
          "baga",
          "conference",
          "halls",
          "beauty",
          "parlour",
          "restaurant",
          "keys",
          "resort",
          "goa",
          "offers",
          "including",
          "choose",
          "14"
         ],
         "textposition": "auto",
         "type": "bar",
         "x": [
          "hotel",
          "rooms",
          "beach",
          "swimming",
          "pools",
          "walking",
          "distance",
          "baga",
          "conference",
          "halls",
          "beauty",
          "parlour",
          "restaurant",
          "keys",
          "resort",
          "goa",
          "offers",
          "including",
          "choose",
          "14"
         ],
         "y": [
          15,
          15,
          9,
          9,
          9,
          6,
          6,
          6,
          6,
          6,
          6,
          6,
          6,
          6,
          6,
          6,
          6,
          6,
          6,
          3
         ]
        }
       ],
       "layout": {
        "template": {
         "data": {
          "bar": [
           {
            "error_x": {
             "color": "#2a3f5f"
            },
            "error_y": {
             "color": "#2a3f5f"
            },
            "marker": {
             "line": {
              "color": "#E5ECF6",
              "width": 0.5
             }
            },
            "type": "bar"
           }
          ],
          "barpolar": [
           {
            "marker": {
             "line": {
              "color": "#E5ECF6",
              "width": 0.5
             }
            },
            "type": "barpolar"
           }
          ],
          "carpet": [
           {
            "aaxis": {
             "endlinecolor": "#2a3f5f",
             "gridcolor": "white",
             "linecolor": "white",
             "minorgridcolor": "white",
             "startlinecolor": "#2a3f5f"
            },
            "baxis": {
             "endlinecolor": "#2a3f5f",
             "gridcolor": "white",
             "linecolor": "white",
             "minorgridcolor": "white",
             "startlinecolor": "#2a3f5f"
            },
            "type": "carpet"
           }
          ],
          "choropleth": [
           {
            "colorbar": {
             "outlinewidth": 0,
             "ticks": ""
            },
            "type": "choropleth"
           }
          ],
          "contour": [
           {
            "colorbar": {
             "outlinewidth": 0,
             "ticks": ""
            },
            "colorscale": [
             [
              0,
              "#0d0887"
             ],
             [
              0.1111111111111111,
              "#46039f"
             ],
             [
              0.2222222222222222,
              "#7201a8"
             ],
             [
              0.3333333333333333,
              "#9c179e"
             ],
             [
              0.4444444444444444,
              "#bd3786"
             ],
             [
              0.5555555555555556,
              "#d8576b"
             ],
             [
              0.6666666666666666,
              "#ed7953"
             ],
             [
              0.7777777777777778,
              "#fb9f3a"
             ],
             [
              0.8888888888888888,
              "#fdca26"
             ],
             [
              1,
              "#f0f921"
             ]
            ],
            "type": "contour"
           }
          ],
          "contourcarpet": [
           {
            "colorbar": {
             "outlinewidth": 0,
             "ticks": ""
            },
            "type": "contourcarpet"
           }
          ],
          "heatmap": [
           {
            "colorbar": {
             "outlinewidth": 0,
             "ticks": ""
            },
            "colorscale": [
             [
              0,
              "#0d0887"
             ],
             [
              0.1111111111111111,
              "#46039f"
             ],
             [
              0.2222222222222222,
              "#7201a8"
             ],
             [
              0.3333333333333333,
              "#9c179e"
             ],
             [
              0.4444444444444444,
              "#bd3786"
             ],
             [
              0.5555555555555556,
              "#d8576b"
             ],
             [
              0.6666666666666666,
              "#ed7953"
             ],
             [
              0.7777777777777778,
              "#fb9f3a"
             ],
             [
              0.8888888888888888,
              "#fdca26"
             ],
             [
              1,
              "#f0f921"
             ]
            ],
            "type": "heatmap"
           }
          ],
          "heatmapgl": [
           {
            "colorbar": {
             "outlinewidth": 0,
             "ticks": ""
            },
            "colorscale": [
             [
              0,
              "#0d0887"
             ],
             [
              0.1111111111111111,
              "#46039f"
             ],
             [
              0.2222222222222222,
              "#7201a8"
             ],
             [
              0.3333333333333333,
              "#9c179e"
             ],
             [
              0.4444444444444444,
              "#bd3786"
             ],
             [
              0.5555555555555556,
              "#d8576b"
             ],
             [
              0.6666666666666666,
              "#ed7953"
             ],
             [
              0.7777777777777778,
              "#fb9f3a"
             ],
             [
              0.8888888888888888,
              "#fdca26"
             ],
             [
              1,
              "#f0f921"
             ]
            ],
            "type": "heatmapgl"
           }
          ],
          "histogram": [
           {
            "marker": {
             "colorbar": {
              "outlinewidth": 0,
              "ticks": ""
             }
            },
            "type": "histogram"
           }
          ],
          "histogram2d": [
           {
            "colorbar": {
             "outlinewidth": 0,
             "ticks": ""
            },
            "colorscale": [
             [
              0,
              "#0d0887"
             ],
             [
              0.1111111111111111,
              "#46039f"
             ],
             [
              0.2222222222222222,
              "#7201a8"
             ],
             [
              0.3333333333333333,
              "#9c179e"
             ],
             [
              0.4444444444444444,
              "#bd3786"
             ],
             [
              0.5555555555555556,
              "#d8576b"
             ],
             [
              0.6666666666666666,
              "#ed7953"
             ],
             [
              0.7777777777777778,
              "#fb9f3a"
             ],
             [
              0.8888888888888888,
              "#fdca26"
             ],
             [
              1,
              "#f0f921"
             ]
            ],
            "type": "histogram2d"
           }
          ],
          "histogram2dcontour": [
           {
            "colorbar": {
             "outlinewidth": 0,
             "ticks": ""
            },
            "colorscale": [
             [
              0,
              "#0d0887"
             ],
             [
              0.1111111111111111,
              "#46039f"
             ],
             [
              0.2222222222222222,
              "#7201a8"
             ],
             [
              0.3333333333333333,
              "#9c179e"
             ],
             [
              0.4444444444444444,
              "#bd3786"
             ],
             [
              0.5555555555555556,
              "#d8576b"
             ],
             [
              0.6666666666666666,
              "#ed7953"
             ],
             [
              0.7777777777777778,
              "#fb9f3a"
             ],
             [
              0.8888888888888888,
              "#fdca26"
             ],
             [
              1,
              "#f0f921"
             ]
            ],
            "type": "histogram2dcontour"
           }
          ],
          "mesh3d": [
           {
            "colorbar": {
             "outlinewidth": 0,
             "ticks": ""
            },
            "type": "mesh3d"
           }
          ],
          "parcoords": [
           {
            "line": {
             "colorbar": {
              "outlinewidth": 0,
              "ticks": ""
             }
            },
            "type": "parcoords"
           }
          ],
          "pie": [
           {
            "automargin": true,
            "type": "pie"
           }
          ],
          "scatter": [
           {
            "marker": {
             "colorbar": {
              "outlinewidth": 0,
              "ticks": ""
             }
            },
            "type": "scatter"
           }
          ],
          "scatter3d": [
           {
            "line": {
             "colorbar": {
              "outlinewidth": 0,
              "ticks": ""
             }
            },
            "marker": {
             "colorbar": {
              "outlinewidth": 0,
              "ticks": ""
             }
            },
            "type": "scatter3d"
           }
          ],
          "scattercarpet": [
           {
            "marker": {
             "colorbar": {
              "outlinewidth": 0,
              "ticks": ""
             }
            },
            "type": "scattercarpet"
           }
          ],
          "scattergeo": [
           {
            "marker": {
             "colorbar": {
              "outlinewidth": 0,
              "ticks": ""
             }
            },
            "type": "scattergeo"
           }
          ],
          "scattergl": [
           {
            "marker": {
             "colorbar": {
              "outlinewidth": 0,
              "ticks": ""
             }
            },
            "type": "scattergl"
           }
          ],
          "scattermapbox": [
           {
            "marker": {
             "colorbar": {
              "outlinewidth": 0,
              "ticks": ""
             }
            },
            "type": "scattermapbox"
           }
          ],
          "scatterpolar": [
           {
            "marker": {
             "colorbar": {
              "outlinewidth": 0,
              "ticks": ""
             }
            },
            "type": "scatterpolar"
           }
          ],
          "scatterpolargl": [
           {
            "marker": {
             "colorbar": {
              "outlinewidth": 0,
              "ticks": ""
             }
            },
            "type": "scatterpolargl"
           }
          ],
          "scatterternary": [
           {
            "marker": {
             "colorbar": {
              "outlinewidth": 0,
              "ticks": ""
             }
            },
            "type": "scatterternary"
           }
          ],
          "surface": [
           {
            "colorbar": {
             "outlinewidth": 0,
             "ticks": ""
            },
            "colorscale": [
             [
              0,
              "#0d0887"
             ],
             [
              0.1111111111111111,
              "#46039f"
             ],
             [
              0.2222222222222222,
              "#7201a8"
             ],
             [
              0.3333333333333333,
              "#9c179e"
             ],
             [
              0.4444444444444444,
              "#bd3786"
             ],
             [
              0.5555555555555556,
              "#d8576b"
             ],
             [
              0.6666666666666666,
              "#ed7953"
             ],
             [
              0.7777777777777778,
              "#fb9f3a"
             ],
             [
              0.8888888888888888,
              "#fdca26"
             ],
             [
              1,
              "#f0f921"
             ]
            ],
            "type": "surface"
           }
          ],
          "table": [
           {
            "cells": {
             "fill": {
              "color": "#EBF0F8"
             },
             "line": {
              "color": "white"
             }
            },
            "header": {
             "fill": {
              "color": "#C8D4E3"
             },
             "line": {
              "color": "white"
             }
            },
            "type": "table"
           }
          ]
         },
         "layout": {
          "annotationdefaults": {
           "arrowcolor": "#2a3f5f",
           "arrowhead": 0,
           "arrowwidth": 1
          },
          "coloraxis": {
           "colorbar": {
            "outlinewidth": 0,
            "ticks": ""
           }
          },
          "colorscale": {
           "diverging": [
            [
             0,
             "#8e0152"
            ],
            [
             0.1,
             "#c51b7d"
            ],
            [
             0.2,
             "#de77ae"
            ],
            [
             0.3,
             "#f1b6da"
            ],
            [
             0.4,
             "#fde0ef"
            ],
            [
             0.5,
             "#f7f7f7"
            ],
            [
             0.6,
             "#e6f5d0"
            ],
            [
             0.7,
             "#b8e186"
            ],
            [
             0.8,
             "#7fbc41"
            ],
            [
             0.9,
             "#4d9221"
            ],
            [
             1,
             "#276419"
            ]
           ],
           "sequential": [
            [
             0,
             "#0d0887"
            ],
            [
             0.1111111111111111,
             "#46039f"
            ],
            [
             0.2222222222222222,
             "#7201a8"
            ],
            [
             0.3333333333333333,
             "#9c179e"
            ],
            [
             0.4444444444444444,
             "#bd3786"
            ],
            [
             0.5555555555555556,
             "#d8576b"
            ],
            [
             0.6666666666666666,
             "#ed7953"
            ],
            [
             0.7777777777777778,
             "#fb9f3a"
            ],
            [
             0.8888888888888888,
             "#fdca26"
            ],
            [
             1,
             "#f0f921"
            ]
           ],
           "sequentialminus": [
            [
             0,
             "#0d0887"
            ],
            [
             0.1111111111111111,
             "#46039f"
            ],
            [
             0.2222222222222222,
             "#7201a8"
            ],
            [
             0.3333333333333333,
             "#9c179e"
            ],
            [
             0.4444444444444444,
             "#bd3786"
            ],
            [
             0.5555555555555556,
             "#d8576b"
            ],
            [
             0.6666666666666666,
             "#ed7953"
            ],
            [
             0.7777777777777778,
             "#fb9f3a"
            ],
            [
             0.8888888888888888,
             "#fdca26"
            ],
            [
             1,
             "#f0f921"
            ]
           ]
          },
          "colorway": [
           "#636efa",
           "#EF553B",
           "#00cc96",
           "#ab63fa",
           "#FFA15A",
           "#19d3f3",
           "#FF6692",
           "#B6E880",
           "#FF97FF",
           "#FECB52"
          ],
          "font": {
           "color": "#2a3f5f"
          },
          "geo": {
           "bgcolor": "white",
           "lakecolor": "white",
           "landcolor": "#E5ECF6",
           "showlakes": true,
           "showland": true,
           "subunitcolor": "white"
          },
          "hoverlabel": {
           "align": "left"
          },
          "hovermode": "closest",
          "mapbox": {
           "style": "light"
          },
          "paper_bgcolor": "white",
          "plot_bgcolor": "#E5ECF6",
          "polar": {
           "angularaxis": {
            "gridcolor": "white",
            "linecolor": "white",
            "ticks": ""
           },
           "bgcolor": "#E5ECF6",
           "radialaxis": {
            "gridcolor": "white",
            "linecolor": "white",
            "ticks": ""
           }
          },
          "scene": {
           "xaxis": {
            "backgroundcolor": "#E5ECF6",
            "gridcolor": "white",
            "gridwidth": 2,
            "linecolor": "white",
            "showbackground": true,
            "ticks": "",
            "zerolinecolor": "white"
           },
           "yaxis": {
            "backgroundcolor": "#E5ECF6",
            "gridcolor": "white",
            "gridwidth": 2,
            "linecolor": "white",
            "showbackground": true,
            "ticks": "",
            "zerolinecolor": "white"
           },
           "zaxis": {
            "backgroundcolor": "#E5ECF6",
            "gridcolor": "white",
            "gridwidth": 2,
            "linecolor": "white",
            "showbackground": true,
            "ticks": "",
            "zerolinecolor": "white"
           }
          },
          "shapedefaults": {
           "line": {
            "color": "#2a3f5f"
           }
          },
          "ternary": {
           "aaxis": {
            "gridcolor": "white",
            "linecolor": "white",
            "ticks": ""
           },
           "baxis": {
            "gridcolor": "white",
            "linecolor": "white",
            "ticks": ""
           },
           "bgcolor": "#E5ECF6",
           "caxis": {
            "gridcolor": "white",
            "linecolor": "white",
            "ticks": ""
           }
          },
          "title": {
           "x": 0.05
          },
          "xaxis": {
           "automargin": true,
           "gridcolor": "white",
           "linecolor": "white",
           "ticks": "",
           "title": {
            "standoff": 15
           },
           "zerolinecolor": "white",
           "zerolinewidth": 2
          },
          "yaxis": {
           "automargin": true,
           "gridcolor": "white",
           "linecolor": "white",
           "ticks": "",
           "title": {
            "standoff": 15
           },
           "zerolinecolor": "white",
           "zerolinewidth": 2
          }
         }
        },
        "title": {
         "text": "Top 20 words in property description after removing stop words from -Keys Ronil Resort, Goa",
         "x": 0.5,
         "y": 0.9
        },
        "xaxis": {
         "title": {
          "text": "top words"
         }
        },
        "yaxis": {
         "title": {
          "text": "word counts"
         }
        }
       }
      },
      "text/html": [
       "<div>\n",
       "        \n",
       "        \n",
       "            <div id=\"383ab959-8b15-49fc-861a-5e8144bcedab\" class=\"plotly-graph-div\" style=\"height:525px; width:100%;\"></div>\n",
       "            <script type=\"text/javascript\">\n",
       "                require([\"plotly\"], function(Plotly) {\n",
       "                    window.PLOTLYENV=window.PLOTLYENV || {};\n",
       "                    \n",
       "                if (document.getElementById(\"383ab959-8b15-49fc-861a-5e8144bcedab\")) {\n",
       "                    Plotly.newPlot(\n",
       "                        '383ab959-8b15-49fc-861a-5e8144bcedab',\n",
       "                        [{\"text\": [\"hotel\", \"rooms\", \"beach\", \"swimming\", \"pools\", \"walking\", \"distance\", \"baga\", \"conference\", \"halls\", \"beauty\", \"parlour\", \"restaurant\", \"keys\", \"resort\", \"goa\", \"offers\", \"including\", \"choose\", \"14\"], \"textposition\": \"auto\", \"type\": \"bar\", \"x\": [\"hotel\", \"rooms\", \"beach\", \"swimming\", \"pools\", \"walking\", \"distance\", \"baga\", \"conference\", \"halls\", \"beauty\", \"parlour\", \"restaurant\", \"keys\", \"resort\", \"goa\", \"offers\", \"including\", \"choose\", \"14\"], \"y\": [15, 15, 9, 9, 9, 6, 6, 6, 6, 6, 6, 6, 6, 6, 6, 6, 6, 6, 6, 3]}],\n",
       "                        {\"template\": {\"data\": {\"bar\": [{\"error_x\": {\"color\": \"#2a3f5f\"}, \"error_y\": {\"color\": \"#2a3f5f\"}, \"marker\": {\"line\": {\"color\": \"#E5ECF6\", \"width\": 0.5}}, \"type\": \"bar\"}], \"barpolar\": [{\"marker\": {\"line\": {\"color\": \"#E5ECF6\", \"width\": 0.5}}, \"type\": \"barpolar\"}], \"carpet\": [{\"aaxis\": {\"endlinecolor\": \"#2a3f5f\", \"gridcolor\": \"white\", \"linecolor\": \"white\", \"minorgridcolor\": \"white\", \"startlinecolor\": \"#2a3f5f\"}, \"baxis\": {\"endlinecolor\": \"#2a3f5f\", \"gridcolor\": \"white\", \"linecolor\": \"white\", \"minorgridcolor\": \"white\", \"startlinecolor\": \"#2a3f5f\"}, \"type\": \"carpet\"}], \"choropleth\": [{\"colorbar\": {\"outlinewidth\": 0, \"ticks\": \"\"}, \"type\": \"choropleth\"}], \"contour\": [{\"colorbar\": {\"outlinewidth\": 0, \"ticks\": \"\"}, \"colorscale\": [[0.0, \"#0d0887\"], [0.1111111111111111, \"#46039f\"], [0.2222222222222222, \"#7201a8\"], [0.3333333333333333, \"#9c179e\"], [0.4444444444444444, \"#bd3786\"], [0.5555555555555556, \"#d8576b\"], [0.6666666666666666, \"#ed7953\"], [0.7777777777777778, \"#fb9f3a\"], [0.8888888888888888, \"#fdca26\"], [1.0, \"#f0f921\"]], \"type\": \"contour\"}], \"contourcarpet\": [{\"colorbar\": {\"outlinewidth\": 0, \"ticks\": \"\"}, \"type\": \"contourcarpet\"}], \"heatmap\": [{\"colorbar\": {\"outlinewidth\": 0, \"ticks\": \"\"}, \"colorscale\": [[0.0, \"#0d0887\"], [0.1111111111111111, \"#46039f\"], [0.2222222222222222, \"#7201a8\"], [0.3333333333333333, \"#9c179e\"], [0.4444444444444444, \"#bd3786\"], [0.5555555555555556, \"#d8576b\"], [0.6666666666666666, \"#ed7953\"], [0.7777777777777778, \"#fb9f3a\"], [0.8888888888888888, \"#fdca26\"], [1.0, \"#f0f921\"]], \"type\": \"heatmap\"}], \"heatmapgl\": [{\"colorbar\": {\"outlinewidth\": 0, \"ticks\": \"\"}, \"colorscale\": [[0.0, \"#0d0887\"], [0.1111111111111111, \"#46039f\"], [0.2222222222222222, \"#7201a8\"], [0.3333333333333333, \"#9c179e\"], [0.4444444444444444, \"#bd3786\"], [0.5555555555555556, \"#d8576b\"], [0.6666666666666666, \"#ed7953\"], [0.7777777777777778, \"#fb9f3a\"], [0.8888888888888888, \"#fdca26\"], [1.0, \"#f0f921\"]], \"type\": \"heatmapgl\"}], \"histogram\": [{\"marker\": {\"colorbar\": {\"outlinewidth\": 0, \"ticks\": \"\"}}, \"type\": \"histogram\"}], \"histogram2d\": [{\"colorbar\": {\"outlinewidth\": 0, \"ticks\": \"\"}, \"colorscale\": [[0.0, \"#0d0887\"], [0.1111111111111111, \"#46039f\"], [0.2222222222222222, \"#7201a8\"], [0.3333333333333333, \"#9c179e\"], [0.4444444444444444, \"#bd3786\"], [0.5555555555555556, \"#d8576b\"], [0.6666666666666666, \"#ed7953\"], [0.7777777777777778, \"#fb9f3a\"], [0.8888888888888888, \"#fdca26\"], [1.0, \"#f0f921\"]], \"type\": \"histogram2d\"}], \"histogram2dcontour\": [{\"colorbar\": {\"outlinewidth\": 0, \"ticks\": \"\"}, \"colorscale\": [[0.0, \"#0d0887\"], [0.1111111111111111, \"#46039f\"], [0.2222222222222222, \"#7201a8\"], [0.3333333333333333, \"#9c179e\"], [0.4444444444444444, \"#bd3786\"], [0.5555555555555556, \"#d8576b\"], [0.6666666666666666, \"#ed7953\"], [0.7777777777777778, \"#fb9f3a\"], [0.8888888888888888, \"#fdca26\"], [1.0, \"#f0f921\"]], \"type\": \"histogram2dcontour\"}], \"mesh3d\": [{\"colorbar\": {\"outlinewidth\": 0, \"ticks\": \"\"}, \"type\": \"mesh3d\"}], \"parcoords\": [{\"line\": {\"colorbar\": {\"outlinewidth\": 0, \"ticks\": \"\"}}, \"type\": \"parcoords\"}], \"pie\": [{\"automargin\": true, \"type\": \"pie\"}], \"scatter\": [{\"marker\": {\"colorbar\": {\"outlinewidth\": 0, \"ticks\": \"\"}}, \"type\": \"scatter\"}], \"scatter3d\": [{\"line\": {\"colorbar\": {\"outlinewidth\": 0, \"ticks\": \"\"}}, \"marker\": {\"colorbar\": {\"outlinewidth\": 0, \"ticks\": \"\"}}, \"type\": \"scatter3d\"}], \"scattercarpet\": [{\"marker\": {\"colorbar\": {\"outlinewidth\": 0, \"ticks\": \"\"}}, \"type\": \"scattercarpet\"}], \"scattergeo\": [{\"marker\": {\"colorbar\": {\"outlinewidth\": 0, \"ticks\": \"\"}}, \"type\": \"scattergeo\"}], \"scattergl\": [{\"marker\": {\"colorbar\": {\"outlinewidth\": 0, \"ticks\": \"\"}}, \"type\": \"scattergl\"}], \"scattermapbox\": [{\"marker\": {\"colorbar\": {\"outlinewidth\": 0, \"ticks\": \"\"}}, \"type\": \"scattermapbox\"}], \"scatterpolar\": [{\"marker\": {\"colorbar\": {\"outlinewidth\": 0, \"ticks\": \"\"}}, \"type\": \"scatterpolar\"}], \"scatterpolargl\": [{\"marker\": {\"colorbar\": {\"outlinewidth\": 0, \"ticks\": \"\"}}, \"type\": \"scatterpolargl\"}], \"scatterternary\": [{\"marker\": {\"colorbar\": {\"outlinewidth\": 0, \"ticks\": \"\"}}, \"type\": \"scatterternary\"}], \"surface\": [{\"colorbar\": {\"outlinewidth\": 0, \"ticks\": \"\"}, \"colorscale\": [[0.0, \"#0d0887\"], [0.1111111111111111, \"#46039f\"], [0.2222222222222222, \"#7201a8\"], [0.3333333333333333, \"#9c179e\"], [0.4444444444444444, \"#bd3786\"], [0.5555555555555556, \"#d8576b\"], [0.6666666666666666, \"#ed7953\"], [0.7777777777777778, \"#fb9f3a\"], [0.8888888888888888, \"#fdca26\"], [1.0, \"#f0f921\"]], \"type\": \"surface\"}], \"table\": [{\"cells\": {\"fill\": {\"color\": \"#EBF0F8\"}, \"line\": {\"color\": \"white\"}}, \"header\": {\"fill\": {\"color\": \"#C8D4E3\"}, \"line\": {\"color\": \"white\"}}, \"type\": \"table\"}]}, \"layout\": {\"annotationdefaults\": {\"arrowcolor\": \"#2a3f5f\", \"arrowhead\": 0, \"arrowwidth\": 1}, \"coloraxis\": {\"colorbar\": {\"outlinewidth\": 0, \"ticks\": \"\"}}, \"colorscale\": {\"diverging\": [[0, \"#8e0152\"], [0.1, \"#c51b7d\"], [0.2, \"#de77ae\"], [0.3, \"#f1b6da\"], [0.4, \"#fde0ef\"], [0.5, \"#f7f7f7\"], [0.6, \"#e6f5d0\"], [0.7, \"#b8e186\"], [0.8, \"#7fbc41\"], [0.9, \"#4d9221\"], [1, \"#276419\"]], \"sequential\": [[0.0, \"#0d0887\"], [0.1111111111111111, \"#46039f\"], [0.2222222222222222, \"#7201a8\"], [0.3333333333333333, \"#9c179e\"], [0.4444444444444444, \"#bd3786\"], [0.5555555555555556, \"#d8576b\"], [0.6666666666666666, \"#ed7953\"], [0.7777777777777778, \"#fb9f3a\"], [0.8888888888888888, \"#fdca26\"], [1.0, \"#f0f921\"]], \"sequentialminus\": [[0.0, \"#0d0887\"], [0.1111111111111111, \"#46039f\"], [0.2222222222222222, \"#7201a8\"], [0.3333333333333333, \"#9c179e\"], [0.4444444444444444, \"#bd3786\"], [0.5555555555555556, \"#d8576b\"], [0.6666666666666666, \"#ed7953\"], [0.7777777777777778, \"#fb9f3a\"], [0.8888888888888888, \"#fdca26\"], [1.0, \"#f0f921\"]]}, \"colorway\": [\"#636efa\", \"#EF553B\", \"#00cc96\", \"#ab63fa\", \"#FFA15A\", \"#19d3f3\", \"#FF6692\", \"#B6E880\", \"#FF97FF\", \"#FECB52\"], \"font\": {\"color\": \"#2a3f5f\"}, \"geo\": {\"bgcolor\": \"white\", \"lakecolor\": \"white\", \"landcolor\": \"#E5ECF6\", \"showlakes\": true, \"showland\": true, \"subunitcolor\": \"white\"}, \"hoverlabel\": {\"align\": \"left\"}, \"hovermode\": \"closest\", \"mapbox\": {\"style\": \"light\"}, \"paper_bgcolor\": \"white\", \"plot_bgcolor\": \"#E5ECF6\", \"polar\": {\"angularaxis\": {\"gridcolor\": \"white\", \"linecolor\": \"white\", \"ticks\": \"\"}, \"bgcolor\": \"#E5ECF6\", \"radialaxis\": {\"gridcolor\": \"white\", \"linecolor\": \"white\", \"ticks\": \"\"}}, \"scene\": {\"xaxis\": {\"backgroundcolor\": \"#E5ECF6\", \"gridcolor\": \"white\", \"gridwidth\": 2, \"linecolor\": \"white\", \"showbackground\": true, \"ticks\": \"\", \"zerolinecolor\": \"white\"}, \"yaxis\": {\"backgroundcolor\": \"#E5ECF6\", \"gridcolor\": \"white\", \"gridwidth\": 2, \"linecolor\": \"white\", \"showbackground\": true, \"ticks\": \"\", \"zerolinecolor\": \"white\"}, \"zaxis\": {\"backgroundcolor\": \"#E5ECF6\", \"gridcolor\": \"white\", \"gridwidth\": 2, \"linecolor\": \"white\", \"showbackground\": true, \"ticks\": \"\", \"zerolinecolor\": \"white\"}}, \"shapedefaults\": {\"line\": {\"color\": \"#2a3f5f\"}}, \"ternary\": {\"aaxis\": {\"gridcolor\": \"white\", \"linecolor\": \"white\", \"ticks\": \"\"}, \"baxis\": {\"gridcolor\": \"white\", \"linecolor\": \"white\", \"ticks\": \"\"}, \"bgcolor\": \"#E5ECF6\", \"caxis\": {\"gridcolor\": \"white\", \"linecolor\": \"white\", \"ticks\": \"\"}}, \"title\": {\"x\": 0.05}, \"xaxis\": {\"automargin\": true, \"gridcolor\": \"white\", \"linecolor\": \"white\", \"ticks\": \"\", \"title\": {\"standoff\": 15}, \"zerolinecolor\": \"white\", \"zerolinewidth\": 2}, \"yaxis\": {\"automargin\": true, \"gridcolor\": \"white\", \"linecolor\": \"white\", \"ticks\": \"\", \"title\": {\"standoff\": 15}, \"zerolinecolor\": \"white\", \"zerolinewidth\": 2}}}, \"title\": {\"text\": \"Top 20 words in property description after removing stop words from -Keys Ronil Resort, Goa\", \"x\": 0.5, \"y\": 0.9}, \"xaxis\": {\"title\": {\"text\": \"top words\"}}, \"yaxis\": {\"title\": {\"text\": \"word counts\"}}},\n",
       "                        {\"responsive\": true}\n",
       "                    ).then(function(){\n",
       "                            \n",
       "var gd = document.getElementById('383ab959-8b15-49fc-861a-5e8144bcedab');\n",
       "var x = new MutationObserver(function (mutations, observer) {{\n",
       "        var display = window.getComputedStyle(gd).display;\n",
       "        if (!display || display === 'none') {{\n",
       "            console.log([gd, 'removed!']);\n",
       "            Plotly.purge(gd);\n",
       "            observer.disconnect();\n",
       "        }}\n",
       "}});\n",
       "\n",
       "// Listen for the removal of the full notebook cells\n",
       "var notebookContainer = gd.closest('#notebook-container');\n",
       "if (notebookContainer) {{\n",
       "    x.observe(notebookContainer, {childList: true});\n",
       "}}\n",
       "\n",
       "// Listen for the clearing of the current output cell\n",
       "var outputEl = gd.closest('.output');\n",
       "if (outputEl) {{\n",
       "    x.observe(outputEl, {childList: true});\n",
       "}}\n",
       "\n",
       "                        })\n",
       "                };\n",
       "                });\n",
       "            </script>\n",
       "        </div>"
      ]
     },
     "metadata": {},
     "output_type": "display_data"
    }
   ],
   "source": [
    "top_words = pd.DataFrame(get_top_ngram(goa.loc['Keys Ronil Resort, Goa']['desc_clean'].dropna(), 20, 'english'))\n",
    "top_words.columns = ['words', 'count']\n",
    "plot_barcharts(top_words, \"Top 20 words in property description after removing stop words from -Keys Ronil Resort, Goa\")"
   ]
  },
  {
   "cell_type": "markdown",
   "metadata": {},
   "source": [
    "#### There are some common words like 'beach', 'rooms', 'goa', etc. There are also other combinations of bigrams and trigrams which are common acroos both the properties.\n",
    "\n"
   ]
  },
  {
   "cell_type": "code",
   "execution_count": 394,
   "metadata": {},
   "outputs": [],
   "source": [
    "def plot_similarities(df:pd.DataFrame, target: str)->None:\n",
    "    idx = indices[indices == target].index[0]\n",
    "    fig = go.Figure(data=go.Scatter(x=goa['desc_clean'].\n",
    "                                    drop_duplicates().\n",
    "                                    dropna().index,\n",
    "                                    y=cosine_similarities[idx], \n",
    "                                    mode='markers',\n",
    "                                    marker=dict(\n",
    "                                    size=10,\n",
    "                                    color=colrs),\n",
    "                                    name=\"respective cosine similarities\"))\n",
    "    fig.update_layout(title={\n",
    "        'text':\"Cosine similarities of all properties with \"+target,\n",
    "        'y':0.95,\n",
    "        'x':0.5},\n",
    "        xaxis_title=\"Property Names\",\n",
    "        yaxis_title=\"cosine similarities\",showlegend=True, height=1000)\n",
    "    fig.show()"
   ]
  },
  {
   "cell_type": "code",
   "execution_count": 395,
   "metadata": {},
   "outputs": [
    {
     "data": {
      "application/vnd.plotly.v1+json": {
       "config": {
        "plotlyServerURL": "https://plot.ly"
       },
       "data": [
        {
         "marker": {
          "color": [
           4,
           -1,
           0,
           -1,
           -1,
           -1,
           -1,
           4,
           -1,
           -1,
           -1,
           -1,
           -1,
           -1,
           -1,
           -1,
           -1,
           4,
           -1,
           4,
           -1,
           4,
           4,
           -1,
           4,
           3,
           -1,
           2,
           3,
           3,
           -1,
           4,
           -1,
           -1,
           -1,
           4,
           3,
           -1,
           -1,
           3,
           -1,
           3,
           4,
           4,
           -1,
           3,
           4,
           3,
           -1,
           -1,
           -1,
           -1,
           -1,
           -1,
           -1,
           -1,
           3,
           -1,
           3,
           4,
           2,
           4,
           -1,
           -1,
           3,
           4,
           -1,
           -1,
           -1,
           -1,
           3,
           -1,
           3,
           -1,
           -1,
           -1,
           -1,
           -1,
           3,
           -1,
           -1,
           -1,
           -1,
           -1,
           -1,
           -1,
           3,
           -1,
           4,
           -1,
           -1,
           -1,
           -1,
           -1,
           3,
           -1,
           -1,
           4,
           -1,
           -1,
           -1,
           4,
           -1,
           -1,
           -1,
           -1,
           -1,
           -1,
           4,
           1,
           -1,
           3,
           -1,
           4,
           4,
           4,
           3,
           4,
           3,
           -1,
           -1,
           -1,
           -1,
           3,
           -1,
           -1,
           3,
           3,
           -1,
           4,
           -1,
           -1,
           -1,
           -1,
           4,
           -1,
           -1,
           -1,
           -1,
           -1,
           3,
           3,
           -1,
           4,
           4,
           -1,
           4,
           -1,
           -1,
           -1,
           -1,
           -1,
           -1,
           -1,
           4,
           4,
           0,
           -1,
           4,
           3,
           -1,
           0,
           3,
           3,
           4,
           3,
           -1,
           2,
           -1,
           3,
           -1,
           -1,
           3,
           -1,
           -1,
           4,
           4,
           3,
           -1,
           -1,
           4,
           4,
           0,
           3,
           -1,
           4,
           4,
           3,
           3,
           -1,
           4,
           -1,
           -1,
           4,
           4,
           -1,
           -1,
           4,
           4,
           -1,
           -1,
           -1,
           4,
           -1,
           -1,
           -1,
           -1,
           -1,
           4,
           3,
           -1,
           2,
           -1,
           4,
           3,
           -1,
           3,
           3,
           -1,
           -1,
           3,
           2,
           -1,
           -1,
           -1,
           -1,
           4,
           4,
           -1,
           -1,
           -1,
           -1,
           -1,
           2,
           4,
           4,
           -1,
           3,
           -1,
           -1,
           -1,
           -1,
           -1,
           -1,
           3,
           -1,
           4,
           -1,
           -1,
           -1,
           4,
           3,
           -1,
           -1,
           -1,
           -1,
           -1,
           3,
           3,
           4,
           4,
           4,
           4,
           -1,
           -1,
           -1,
           4,
           -1,
           -1,
           -1,
           -1,
           3,
           -1,
           -1,
           -1,
           2,
           -1,
           -1,
           -1,
           3,
           -1,
           -1,
           -1,
           4,
           4,
           -1,
           -1,
           3,
           4,
           4,
           -1,
           0,
           -1,
           4,
           -1,
           3,
           3,
           3,
           3,
           3,
           2,
           3,
           3,
           3,
           2,
           4,
           4,
           4,
           3,
           4,
           4,
           4,
           2,
           3,
           4,
           4,
           4,
           3,
           3,
           -1,
           3,
           3,
           3,
           4,
           2,
           3,
           3,
           3,
           4,
           4,
           -1,
           3,
           2,
           3,
           3,
           3,
           3,
           2,
           4,
           3,
           -1,
           4,
           3,
           2,
           4,
           3,
           -1,
           3,
           3,
           -1,
           4,
           -1,
           4,
           3,
           -1,
           4,
           4,
           4,
           3,
           2,
           3,
           3,
           3,
           3,
           -1,
           3,
           4,
           -1,
           -1,
           4,
           3,
           3,
           4,
           3,
           4,
           -1,
           3,
           3,
           -1,
           3,
           4,
           3,
           -1,
           -1,
           -1,
           4,
           2,
           -1,
           -1,
           -1,
           -1,
           -1,
           -1,
           -1,
           -1,
           3,
           3,
           -1,
           -1,
           -1,
           1,
           -1,
           -1,
           -1,
           -1,
           3,
           -1,
           -1,
           -1,
           -1,
           -1,
           -1,
           -1,
           -1,
           -1,
           4,
           -1,
           -1,
           -1,
           -1,
           -1,
           3,
           -1,
           4,
           4,
           -1,
           -1,
           4,
           4,
           -1,
           -1,
           -1,
           2,
           1,
           3,
           3,
           4,
           -1,
           3,
           -1,
           -1,
           -1,
           -1,
           -1,
           -1,
           3,
           4,
           3,
           4,
           -1,
           4,
           -1,
           -1,
           3,
           4,
           -1,
           -1,
           4,
           -1,
           2,
           -1,
           -1,
           -1,
           -1,
           -1,
           -1,
           4,
           4,
           -1,
           -1,
           -1,
           4,
           2,
           -1,
           4,
           3,
           4,
           -1,
           -1,
           -1,
           -1,
           -1,
           3,
           3,
           3,
           -1,
           2,
           3,
           -1,
           -1,
           3,
           3,
           3,
           -1,
           -1,
           -1,
           1,
           -1,
           -1,
           -1,
           4,
           4,
           4,
           -1,
           -1,
           -1,
           -1,
           4,
           -1,
           4,
           -1,
           -1,
           -1,
           4,
           -1,
           -1,
           4,
           -1,
           2,
           -1,
           4,
           -1,
           4,
           3,
           -1,
           -1,
           2,
           4,
           3,
           -1,
           -1,
           -1,
           -1,
           -1,
           -1,
           3,
           -1,
           -1,
           -1,
           3,
           3,
           3,
           4,
           4,
           -1,
           -1,
           -1,
           3,
           3,
           4,
           -1,
           3,
           4,
           4,
           -1,
           -1,
           4,
           -1,
           -1,
           4,
           4,
           3,
           -1,
           4,
           3,
           -1,
           -1,
           3,
           3,
           -1,
           -1,
           -1,
           3,
           4,
           3,
           3,
           -1,
           3,
           -1,
           2,
           -1,
           -1,
           -1,
           -1,
           -1,
           4,
           -1,
           3,
           -1,
           -1,
           3,
           3,
           -1,
           3,
           4,
           3,
           -1,
           -1,
           3,
           4,
           -1,
           3,
           4,
           -1,
           -1,
           -1,
           4,
           -1,
           -1,
           4,
           -1,
           -1,
           3,
           4,
           3,
           -1,
           -1,
           2,
           -1,
           -1,
           4,
           4,
           -1,
           4,
           -1,
           -1,
           3,
           4,
           -1,
           -1,
           2,
           -1,
           3,
           -1,
           -1,
           -1,
           -1,
           -1,
           3,
           -1,
           2,
           -1,
           -1,
           -1,
           4,
           -1,
           4,
           -1,
           0,
           4,
           0,
           0,
           -1,
           3,
           4,
           3,
           0,
           -1,
           -1,
           4,
           4,
           4,
           4,
           -1,
           -1,
           -1,
           -1,
           -1,
           0,
           -1,
           -1,
           -1,
           -1,
           -1,
           -1,
           -1,
           -1,
           -1,
           0,
           -1,
           0,
           4,
           -1,
           -1,
           -1,
           -1,
           -1,
           -1,
           -1,
           4,
           4,
           -1,
           -1,
           -1,
           -1,
           -1,
           -1,
           -1,
           -1,
           -1,
           -1,
           -1,
           -1,
           -1,
           -1,
           -1,
           -1,
           -1,
           -1,
           -1,
           -1,
           -1,
           -1,
           -1,
           0,
           -1,
           3,
           -1,
           -1,
           -1,
           -1,
           -1,
           -1,
           4,
           -1,
           4,
           4,
           3,
           -1,
           -1,
           -1,
           -1,
           -1,
           -1,
           -1,
           -1,
           -1,
           -1,
           3,
           4,
           -1,
           3,
           3,
           4,
           3,
           3,
           4,
           3,
           3,
           3,
           3,
           3,
           2,
           3,
           4,
           -1,
           4,
           -1,
           3,
           3,
           4,
           -1,
           4,
           3,
           -1,
           4,
           -1,
           4,
           -1,
           4,
           3,
           -1,
           4,
           3,
           3,
           4,
           4,
           3,
           4,
           4,
           0,
           -1,
           0,
           4,
           4,
           4,
           -1,
           -1,
           -1,
           -1,
           -1,
           -1,
           -1,
           -1,
           -1,
           -1,
           -1,
           -1,
           -1,
           -1,
           -1,
           -1,
           4,
           3,
           3,
           4,
           -1,
           -1,
           -1,
           -1,
           -1,
           -1,
           -1,
           -1,
           -1,
           -1,
           -1,
           4,
           4,
           4,
           4,
           -1,
           -1,
           4,
           -1,
           -1,
           4,
           3,
           -1,
           3,
           -1,
           -1,
           -1,
           3,
           -1,
           3,
           0,
           -1,
           0,
           2,
           4,
           -1,
           -1,
           4,
           0,
           4,
           0,
           3,
           4,
           0,
           -1,
           0,
           -1,
           3,
           -1,
           4,
           -1,
           4,
           4,
           2,
           4,
           -1,
           3,
           -1,
           -1,
           3,
           3,
           -1,
           -1,
           -1,
           4,
           -1,
           -1,
           -1,
           4,
           -1,
           -1,
           -1,
           -1,
           4,
           -1,
           -1,
           3,
           3,
           3,
           -1,
           -1,
           -1,
           -1,
           4,
           3,
           -1,
           4,
           3,
           -1,
           -1,
           -1,
           -1,
           -1,
           4,
           -1,
           4,
           3,
           -1,
           3,
           -1,
           3,
           -1,
           -1,
           -1,
           -1,
           -1,
           -1,
           -1,
           2,
           4,
           3,
           -1,
           4,
           -1,
           3,
           -1,
           -1,
           3,
           -1,
           -1,
           -1,
           -1,
           -1,
           4,
           -1,
           -1,
           3,
           4,
           3,
           3,
           -1,
           -1,
           2,
           4,
           -1,
           4,
           -1,
           3,
           -1,
           3,
           4,
           -1,
           -1,
           3,
           3,
           3,
           3,
           -1,
           -1,
           -1,
           4,
           3,
           -1,
           4,
           -1,
           1,
           4,
           -1,
           -1,
           4,
           -1,
           3,
           -1,
           3,
           -1,
           -1,
           3,
           -1,
           -1,
           3,
           3,
           4,
           -1,
           -1,
           -1,
           3,
           -1,
           -1,
           4,
           -1,
           -1,
           -1,
           3,
           3,
           4,
           3,
           -1,
           -1,
           4,
           4,
           4,
           -1,
           -1,
           3,
           4,
           -1,
           4,
           -1,
           -1,
           -1,
           -1,
           3,
           -1,
           -1,
           -1,
           3,
           4,
           -1,
           -1,
           -1,
           -1,
           3,
           3,
           -1,
           -1,
           3,
           -1,
           -1,
           4,
           4,
           -1,
           3,
           -1,
           4,
           4,
           -1,
           3,
           -1,
           4,
           3,
           -1,
           3,
           4,
           4,
           -1,
           -1,
           -1,
           -1,
           -1,
           3,
           -1,
           -1,
           -1,
           3,
           -1,
           4,
           2,
           -1,
           3,
           2,
           4,
           -1,
           -1,
           3,
           -1,
           4,
           4,
           3,
           4,
           2,
           4,
           4,
           4,
           -1,
           -1,
           -1,
           -1,
           -1,
           4,
           -1,
           -1,
           4,
           -1,
           3,
           4,
           -1,
           4,
           -1,
           -1,
           -1,
           3,
           -1,
           -1,
           -1,
           -1,
           -1,
           -1,
           -1,
           -1,
           -1,
           -1,
           -1,
           -1,
           -1,
           -1,
           -1,
           -1,
           3,
           4,
           3,
           4,
           3,
           3,
           4,
           4,
           3,
           -1,
           -1,
           0,
           4,
           -1,
           -1,
           4,
           -1,
           4,
           4
          ],
          "size": 10
         },
         "mode": "markers",
         "name": "respective cosine similarities",
         "type": "scatter",
         "x": [
          "Hotel Om Shiv",
          "Studio Service Apartments - Arpora",
          "Diakon Holidays",
          "TripThrill Lotus Hermitage Apartment",
          "JOHNS Guest House",
          "Stay in a Homestay in Bogmalo",
          "Laxmi Guest House",
          "Castle House",
          "Vagator Suites 1B BHK",
          "Hyatt Place Goa/ Candolim",
          "Treebo Turtle Beach Resort",
          "Palolem Delights",
          "Sun N Moon",
          "Yo Yo Goa The Apartment Hotel",
          "Sevas Huts and Cabanas",
          "Calangute Residency",
          "Glens Corner",
          "Colonia Santa Maria",
          "Sol De Goa",
          "Sonesta Inns",
          "Days Guest House",
          "Mandrem Retreat",
          "La Vaiencia",
          "Rosario's Inn Guest House",
          "Koithra Holiday Home",
          "Belle Vista Wado - Enviro Green Resorts",
          "Hotel Supreme",
          "Calangute Beauty 2bhk Luxury Apartment",
          "Sea Front huts Patnem",
          "Cuba Patnem",
          "The Golden Nest Deluxe",
          "Santonio Beach Resort",
          "Coco's Resort",
          "RK Pleasing Homes",
          "Aldeia Santa Rita",
          "Villa Calangute Phase 7",
          "Lui Beach Resort",
          "Hotel Mayura",
          "Riverside Regency Resort",
          "Sangolda Greenz - A Budgeted Stay",
          "Florys Nest Holiday Home Goa",
          "Arabian Retreat",
          "Blue Beach Nest Service Appartment 1 BHK NO 710",
          "UNA Homestay Villa Arcangela",
          "Villa Calangute Phase 5",
          "Resort Dona Alcina",
          "Orritel Village Square",
          "Sodder's Beach Classic",
          "The HQ",
          "Delta Residency Goa",
          "Celjoan Guest House",
          "Casa Lavie",
          "Studio 7",
          "Casa Melhor 2BHK Luxurious Apartment Siolim",
          "Golden Sands Betalbatim",
          "Century-old heritage property - a guest house in Siolim",
          "Hotel City Express",
          "Ruffles Beach Resort",
          "Reliance Holiday Homes Goa",
          "Nova Goa",
          "Private 2 room Apartment in Calangute",
          "Moksh Holiday Homes",
          "WellnessInn",
          "Bela Rozy Guest house",
          "Spring Hospitality",
          "Cozy Studio Apartment Calangute",
          "Coco Heritage Home",
          "White Pearl 2 Bhk Apartment",
          "Guest House located in Baga Goa - Cheap",
          "Ocean Suite Luxury Boutique Hotel",
          "Luxury 4BHK Beach Villa For Rent in Calangute",
          "Vivanta by Taj - Panaji Goa",
          "Calangute Inn",
          "Budget Cheap Guest House Rooms in Goa",
          "Golden Guest House",
          "Goa - VIllagio, A Sterling Holidays Resort",
          "FabHotel Candolim",
          "Aston Ajoy Home Comfort Goa",
          "Inn Anjuna",
          "Vagator Suites 1B BHK",
          "Magic Forest",
          "La Conceicao",
          "Stay in a Apartment in Calangute",
          "New Ocean Ride Beach Resort",
          "Hotel Mobor Beach Resort",
          "Hotel Leela Inn",
          "Manvins Inn Calangute",
          "Nanu Beach Resort and Spa",
          "Hotel Shakti Palace",
          "Nat Villa",
          "Hotel Om Shiv",
          "The Hawaii Comforts",
          "Cavala Seaside Resort",
          "Park Hyatt Goa Resort and Spa",
          "Hard Rock Hotel",
          "Opus",
          "Hotel Amar",
          "Shashesca Villa",
          "Luxury Apartment in Arpora Goa",
          "Penthouse Apartment",
          "Casa Melhor Luxrious 1BHK apartment",
          "United 21 Emerald Goa",
          "Devaaya, the Ayurveda Retreat",
          "Planet Hollywood Beach Resort",
          "The Only Olive",
          "CXScape",
          "Nature's Nest Goa",
          "Silver Sands Sunshine",
          "Aithi Seva Baga 2 Bhk Flat",
          "Studio Apartment in a 3 Star Hotel, Arpora - Goa",
          "Private 3 room Villa in Betalbatim",
          "Micasa by the Sea Goa",
          "Riverside Regency Resort",
          "At Home B and B Donapaula",
          "The Queeny Hotel",
          "Horizon Resort",
          "Coco Beach Village",
          "Bon Vivant Studio Apartment",
          "Holiday Home in Goa - 9 mins from Benaulim Beach",
          "Vision Green 3 Bhk Villa III",
          "Antique Mardol",
          "Casa Sol",
          "SinQ Abode",
          "Holiday Inn Resort",
          "River Rays Resort",
          "Gulmohar Resort",
          "Hotel Lucky Star",
          "Villa Fountain Court",
          "Down Hill Village Inn",
          "Sea Breeze Village",
          "Treehouse Neptune Panaji Goa",
          "Resort Mellorosa Goa",
          "Ocean Myst Gold",
          "Hotel Liberty",
          "Casa Melhor Luxrious 1BHK apartment",
          "Roundcube Guest House",
          "Villa 3BHK in Arpora Phase 3",
          "Private 8 room Homestay in Vagator",
          "Osborne Holiday Resort",
          "Magic Forest",
          "1 and 2 bhk Suite apartments for rent",
          "Nazri Resort",
          "Novotel Goa Resort & Spa",
          "No Frills Guest House facility set on Candolim Beach",
          "Ave Maria Beach Resort",
          "Seclude Varca",
          "Beach Side Comfortable Holiday Home",
          "Resort Ronil Royal",
          "Margarita Residency",
          "Wanderers Hostel",
          "Aishwarya Guest Inn",
          "Whispering Woods",
          "Valentines Retreat",
          "Villa Sunny Day",
          "The Belmonte by ACE",
          "Sunita Guest House",
          "Ocean View Goan Beach house",
          "Diwar Guest House Retreat",
          "Clarem Guest House",
          "Casa Melhor Luxurious 1BHk apartment Candolim",
          "Alila Diwa",
          "Royal Orchid Beach Resort And Spa - Goa",
          "ac 2BHK apartment 1km from Benaulim beach, South Goa",
          "Ocean Myst Gold",
          "Dewa Hotel",
          "The Tubki Resort",
          "Bay Luxe",
          "2br apartment near the beach at Candolim, Goa",
          "Beach Side Comfortable Holiday Home",
          "Cosy Apartment Overlooking the Pool! Vagator",
          "Beach huts with all the amenities on Benaulim beach",
          "Hotel Goan Clove",
          "Baywatch Resort",
          "Sand Castles Holiday Homes - 3 Mins Walk from Miramar Beach",
          "Saldanaha Kyle Gardens",
          "Royal Palms",
          "Hotel Windsor Bay",
          "Poonam Village Resort",
          "Sunkissed Plaza",
          "Casa Melhor 3 bed Duplex Penthouse",
          "Adore Anjuna Rooms",
          "Star of the Sea Resort",
          "Regenta Resort Varca Beach Goa",
          "Misquita House",
          "AC Furnished River view apartment in Baga",
          "Private 1 room Apartment in Saligao",
          "Royal Touch Beach Huts",
          "Beleza By the Beach",
          "Safira Riverfront Boutique Resort",
          "Gated holiday community",
          "Oceana The Holiday Home",
          "Sea Breeze Village",
          "Soul Vacation - A Concept Hotel",
          "La Paz Gardens",
          "Maitri Sweet Living",
          "New Ginger Tree Beach Resort",
          "Trippy Studio Apartment",
          "Relax Holiday Home",
          "Hotel Karishma Grand",
          "Casa Anjuna",
          "Hyatt Place Goa/ Candolim",
          "The Golden Suites Calangute",
          "La Sunila Clarks Inn Suites",
          "Robert's Place",
          "Stay in Baga- 2 mins from the beach",
          "The International Centre, Goa",
          "Hotel Siesta De Goa",
          "Furnished Holiday Homes",
          "Jessica Lavish Live Inn",
          "A home away from home - Beach resort style rooms in Vagator",
          "Palmarinha Resort and Suites",
          "Bhakti Kutir",
          "Hotel La Mansion",
          "Gomati",
          "Tisha Apartment Hotel",
          "Calangute Plaza In",
          "The PentaCon a Resort",
          "Kerela Ayurveda Wellness Center",
          "Pritams Cottages Guest House",
          "Silver Sands Beach Resort",
          "Maria Cottages",
          "Hidden Paradise",
          "CasaMelhor 2BHK in Candolim CM002",
          "Omega Beach Resort",
          "Pinto Rosario Square Resort and Spa",
          "Private 2 room Villa in Assagao",
          "Alina Guest House",
          "Ginger Hotel - Goa",
          "Bay 15",
          "L Hotel Eden",
          "Tiara Camelot Baga",
          "Wind Mist Apartments",
          "Henrys Place",
          "Amigo Plaza",
          "Cosy Apartment Overlooking the Pool! Vagator",
          "The Only Olive",
          "Rising Wave Holiday home",
          "Riva Beach Resort",
          "Hotel Miramar",
          "Shangrila Beach Hotel",
          "Surya Palace",
          "SeaShell Beach Suites",
          "Leoney Resort",
          "Sea Breeze Inn",
          "Baia Do Sol",
          "La Casa Siolim",
          "Menino Regency",
          "Dona Terezinha Resort",
          "THE CITADEL HOTEL",
          "Fahrenheit Hotels & Resort",
          "Vagator House",
          "La Grace Margao",
          "La Cabana Beach & Spa",
          "Larios Beach Holiday",
          "Grandeur De Sanchi - Luxurious Boutique Beach Resort & Spa",
          "Annapurna Vishram Dhaam",
          "Orchid De Goa",
          "RnB Ramacon Goa",
          "Resort Mellorosa Goa",
          "Osborne Holiday Resort",
          "Nelmar Nest Guest House",
          "Hotel Aroma",
          "Swim Sea Beach Resort",
          "Alagoa Resort",
          "Hotel Boshan",
          "Resort Village Royale",
          "Valentines Retreat",
          "So My Resort Goa",
          "L Hotel Eden",
          "Dreams Palm Beach Resort",
          "Sukhmantra Resort and Spa",
          "Riviera Hermitage Anjuna,",
          "Sea Breeze Candolim",
          "The Queeny Hotel",
          "Hotel Manoshanti",
          "Treebo La Flamingo",
          "16 Degrees North",
          "Rendezvous Beach Resort",
          "Bollywood Seaqueen Beach Resort",
          "Kalki Resorts and Cottages Baga",
          "Magnum Resort",
          "Kiara BnB Home",
          "World Choice Hideaway Beach Resorts",
          "Hotel Blessings",
          "Mystique Heights Goa",
          "Wildernest Nature Resort",
          "World Choice Sunshine Beach Resorts",
          "Coconut Grove",
          "Paparazzi Resort",
          "Shon De Goa",
          "Hotel Ashirwad",
          "La Maison Fontainhas",
          "Cuba Baga",
          "Horizon Resort",
          "La Vaiencia",
          "Graciano Cottage",
          "Lotus Sutra",
          "Lua Nova",
          "Summer Ville Resort",
          "Senhor Agnelo Resort",
          "Stonewater Eco Resort",
          "Viva Calangute",
          "Colonia De Braganza Resort",
          "Mykonos Blu",
          "Lotus Beach Resort",
          "Ginger Tree Goveia Resort",
          "Sunset Beach Resort",
          "Cygnett Inn Celestiial Goa",
          "Rahi Resort De Crossroads",
          "Backpacker Panda",
          "Paradise Village Beach Resort",
          "Santiago Beach Resort",
          "Hotel Avenue",
          "LA VIDA Residency Suites Goa",
          "White Square Nirvana",
          "Guest House Abrigo De Botelho",
          "Vision Greens Phase 1",
          "Urba Luxury Service Apartments",
          "Goa Anjuna Villas",
          "Caphina Tourist Cottages",
          "Ivy Retreat Vacations Rentals",
          "Blue Marine Beach Resort",
          "Holiday Villas in Goa",
          "Nature Camp in close proximity to Mollem National Park",
          "Hotel Satyaheera",
          "Joie De Vivre Goa",
          "Vagator Suites 1C BHK",
          "16 Degrees North Candolim",
          "LOTUS INNGOA Holiday Homes",
          "Villa Colva Bon Vivant Guest House",
          "Siolim House",
          "Stay in luxury white washed casinhas in Candolim",
          "SOL BESO",
          "Casa by The Beach , Calungate Goa",
          "Indraprastha Palolem 2 BHK Apartment",
          "Romance Holiday Beach Resort",
          "Madhavan's Villa Hotel",
          "Hotel Celestiial",
          "Senso The Inspiration",
          "Sunita Guest House",
          "Ocean Crest",
          "Blu Grass",
          "Uber Luxury 2bhk Villa in Candolim",
          "SeaShell Villas",
          "Shivam Resort",
          "Toor Resort",
          "Goan Holiday Resort",
          "Whispering Palms Beach Resort",
          "Baga Bay",
          "Mikes Place",
          "Casa Sol",
          "Sea Queen Beach Resort",
          "Pearl King Villa",
          "Lazy Lagoon Sarovar Portico Suites",
          "Willo's Apartments",
          "Best Western Devasthali-The Valley Of Gods,",
          "Casa Melhor Luxurious 1BHK apartment",
          "Colva Holiday Homes",
          "Excelsior Holiday Homes 2 BHK C",
          "Apartment D 2bhk Apartment Vision Green",
          "Hotel Orion",
          "Royal Mirage Boutique",
          "Nxtgen Future Hospitality",
          "Campal Beach Resort",
          "Field View Cottage Anjuna",
          "Hotel Hacienda Calangute",
          "Hotel Linda Goa",
          "Goan Alcove",
          "Goa Marriott Resort & Spa",
          "Stay in a Homestay in Aldona",
          "Miroslav Resort",
          "Laura Guest Rooms",
          "Hotel Meraden La Oasis",
          "Dewa Goa Apartment",
          "Saaj Guest House",
          "Casa Melhor 1BHK in Candolim CM005",
          "The Bungalows Light House, Goa",
          "FabHotel Anjuna Beachfront",
          "Casa Melhor 2BHK Luxurious Apartment Siolim",
          "Dudhsagar Spa Resort",
          "Marshall Guest House",
          "Studio by the Beach on Candolim-Calangute Main Road",
          "Hotel Campal",
          "Pirache Art Hotel",
          "Hotel Sona Royale",
          "Sunshine Residency",
          "Hotel North Bay",
          "Veera Strand Park Serviced Apartments",
          "3 Bedroom Luxury Villa",
          "Cupids Heaven Resort",
          "Casa Esmeralda",
          "Agonda Dream View",
          "Paradise Guest House",
          "The Naked Space Boutique Hotel",
          "Country Inn & Suites, By Carlson Goa Panjim",
          "Villa Shraddha Service Appartment",
          "juSTa Panjim",
          "Deltin Suites",
          "La Grace Resort",
          "Lambana Resort Goa",
          "Keys Ronil Resort, Goa",
          "Holiday Beach Resort By Adore",
          "The Fern Gardenia Resort",
          "Fahrenheit Hotels & Resort",
          "BETELNUT INN Marketed by Adore",
          "MORJIM SUNSET GUEST HOUSE",
          "Silver Lining A Family Retreat",
          "Village Vibes Apartment",
          "Bricks and Bamboo Hostel",
          "The Sapphire Comfort",
          "Calangute Grande",
          "Sai Ramnath Guest House",
          "Citrus Goa",
          "1 double a/c bedroom with bath, lounge, kitchen",
          "Jhampus Studios",
          "Hotel Lucky Star",
          "Terra Paraiso Beach Resort",
          "Swimming Pool Facing 1BHK apartment",
          "Royal Woods",
          "Neelam's The Grand",
          "Palolem Beach Resort",
          "The Village Inn",
          "TripThrill Benaulim House",
          "Paradise Inn",
          "Atlanta Beach Resort",
          "All Seasons Beach Classic Resort",
          "Manthan Yogic Village",
          "Villa Bomfim",
          "SMILEY HOTELS RISHI BAGA",
          "Hotel Grand Liz",
          "Goan Heritage Apartment",
          "Calangute House Service Apartment",
          "Villa de Aluizio",
          "SinQ Abode",
          "Villa Calangute Phase 4",
          "Chances Resort and Casino",
          "Beira Mar Alfran",
          "Ancora Beach Resort Goa",
          "Riverside Hotel Mandrem",
          "Casa Paradiso",
          "Marina Bay Beach Resort",
          "Calangute Beach Side",
          "Wave Beach Hotel",
          "The Park Calangute Goa",
          "Golden Tulip Goa",
          "Lawande Beach Resort",
          "Casa Melhor Luxury 4BHK Penthouse",
          "Goa Home Vacation - Independent Villa near Beach-Colva, Goa",
          "Samira Beach Resort",
          "Treehouse Blue, Goa",
          "Private 10 room Apartment in Calangute",
          "Casa Melhor",
          "Villa Fatima Beach Resort",
          "Granpas Inn / Hotel Bougainvillea",
          "Ondas Do Mar Beach Resort Phase - I",
          "Resort Ritchita",
          "Goa Clarks Serviced Apartments",
          "Sodder's Gloria Anne Beach Haven",
          "A stunning luxurious villa in Candolim",
          "Nelmar Nest Guest House",
          "Santana Beach Resort",
          "Henrys Place",
          "Costa Del Sol Holiday Homes",
          "Casablanca Beach Resort",
          "Excelsior Holiday Homes 2 BHK A",
          "Hotel Republica Goa",
          "Hotel La Flor",
          "Days Guest House",
          "Private 3 room Villa in Anjuna",
          "Sodder's Renton Manor",
          "Casa Melhor luxury 1BHK Apartment",
          "Royal Mirage Beach Resort",
          "A family run budget guest house in Candolim",
          "Morjim Holiday",
          "Wavelet Beach resort Goa",
          "The Ocean Park Resort",
          "Acron Waterfront Resort and Spa",
          "Highland Heritage",
          "Treebo La Flamingo",
          "V Palms Resort",
          "Ocean Heights Home Stay",
          "Larios Beach Holiday",
          "The River Palace",
          "Dreams Palm Beach Resort",
          "Famafa Beach Resort",
          "SeaShell Villas",
          "The Golden Nest Deluxe",
          "The Naked Space Boutique Hotel",
          "Majhi resort",
          "Treebo Rainforest Enclave",
          "Goa Anjuna Villas",
          "Studio 1BHK Baga",
          "Samira Beach Resort",
          "iLodge @ Calangute",
          "NORA Spiritual Villa Siolim",
          "Holiday Beach Resort By Adore",
          "World Choice Sunshine Beach Resorts",
          "World Choice Holiday Village",
          "Peravel Beach Holiday Home",
          "Casa Melhor Luxurious 1BHK apartment",
          "Baga Bay",
          "Casa Melhor Luxury 4BHK Penthouse",
          "Casa Melhor luxury 1BHK Apartment",
          "Casa Melhor Luxurious 1BHk apartment Candolim",
          "SMILEY Holiday Service Apartments",
          "Fernandes Villa",
          "Shashesca Villa",
          "Angelina Beach Resort Goa",
          "O Pescador Beach Resort",
          "Hotel Amar",
          "Ananaz Hotel",
          "Goa Villa Holidays",
          "BETELNUT INN Marketed by Adore",
          "Hyatt Place Goa/ Candolim",
          "Maison Encore Holiday Home",
          "Baywalk Goa",
          "Excelsior Holiday Homes 2 BHK C",
          "Excelsior Holiday Homes 2 BHK  D",
          "Excelsior Holiday Homes 2 BHK F",
          "Excelsior Holiday Homes 2 BHK G",
          "TripThrill Costa Holidays",
          "TripThrill Florida Gardens",
          "TripThrill Westwind Apartments",
          "TripThrill Benaulim House",
          "TripThrill Casa Blanca",
          "TripThrill La Grace Villa",
          "TripThrill Sapna Residency Apartment",
          "TripThrill Beach Arcade Apartment",
          "TripThrill Ruby Residency Apartment",
          "Pinto Rosario Square Resort and Spa",
          "Hotel Succegado",
          "Fabhotel Anjuna Beachfront",
          "YO YO GOA VILLAGE COTTAGES",
          "Ivy Retreat Vacations Rentals",
          "Hotel Baywatch Express Urbane",
          "Zense Resort",
          "Coco Resort Morjim",
          "Ocean View Goan Beach house",
          "Calangute Lovers Paradise Studios",
          "Ananda Resort",
          "Blue Beach Resort",
          "Hotel City Express",
          "Sapna Meadows Goa",
          "C Pearl Guest House",
          "Panjim Peoples",
          "Hotel Panchsheel",
          "Orchid Holiday Home",
          "DoubleTree by Hilton Hotel Goa",
          "Sharanam Green Resort",
          "Summer Ville Resort",
          "Le Seasons Resort",
          "The Lighthouse Aguada",
          "Orritel Village Square",
          "Hotel Colva Kinara",
          "Mayfair Hideaway Spa Resort",
          "Hotel Ave Maria",
          "Woodstock Village",
          "Zuariview Guest House",
          "Arco Iris Boutique Homestay Hotel",
          "Radisson Blu",
          "Nagoa Grande Resort",
          "Seascape Goa @ Costa Del Sol",
          "Azzure by Spree Hotels",
          "M N Resorts",
          "Goa - Club Estadia, A Sterling Holiday Resorts",
          "Molyma Resorts",
          "Ocean Residency",
          "Resort Coqueiral",
          "Calangute Beach Inn",
          "Wavelet Beach resort Goa",
          "Royal Touch Beach Huts",
          "Diwar Guest House Retreat",
          "Ave Maria Beach Resort",
          "Ananaz Hotel",
          "Spring Beach Cottages",
          "Treehouse Neptune Panaji Goa",
          "VILLA BY THE SEA",
          "Rudra Holidays",
          "The Golden Suites Calangute",
          "Hotel Krish Baga Goa",
          "Rising Wave Holiday home",
          "Vivenda Dos Palhacos",
          "At Home B and B Miramar",
          "Hotel Viva Baga",
          "Palolem Garden Estate Service Apartments",
          "Dom Pedros Haven",
          "Jasminn by Mango Hotels",
          "La Paz Gardens",
          "Deltin Suites",
          "Pinnacle Holiday Homes",
          "Soul Vacation - A Concept Hotel",
          "Le Seasons Resort",
          "Palacete Rodrigues",
          "Fully Furnished Service Apartments with Swimming pool 880",
          "Sun Beach Residency",
          "Budget villa in Candolim with all amenities",
          "Divar Heritage Home",
          "Sunshine Residency",
          "Calangute Beach Side",
          "Hotel Leela Inn",
          "Royal Heritage Resort",
          "Sukhsagar Beach Resort",
          "Shiva Beach House",
          "Stay in a Homestay in Bardez",
          "Boomerang Beach Resort",
          "Jhampus Studios",
          "C Pearl Guest House",
          "Romaldo Guest House",
          "Gare Astoria",
          "The Sincro Hotel",
          "United 21 Emerald Goa",
          "The Acacia Hotel & Spa, Goa",
          "Sabina Guest House",
          "Le Pearl",
          "Grande Delmon",
          "Nat Villa",
          "Hotel Sai Baga",
          "Senso The Inspiration",
          "The Sapphire Comfort",
          "At Home B and B Miramar",
          "Saritas Guest House",
          "Mitaroy Goa Hotel",
          "Darisa Resort",
          "Amigo Plaza",
          "San Joao Holiday Homes",
          "The V Beach Villa",
          "Saiesh International Hotel",
          "Reliance House",
          "Century-old heritage property - a guest house in Siolim",
          "Sundays Forever A HomeStay",
          "Peravel Beach Holiday Home",
          "TripThrill La Grace Villa",
          "Joet's Guest House",
          "Hotel Delmon",
          "Alor Grande Holiday Resort",
          "Hotel Riverside",
          "A charming, riverside, Portuguese style villa",
          "Calangute Beach Inn",
          "Hotel Natasha",
          "Hotel Goa International",
          "Joia Do Mar Resort",
          "Mahamaya Kalika Guest House",
          "Cidade De Goa",
          "Resort De Coracao",
          "A stunning two-storey, five-bedroom villa home in Candolim",
          "Quiet and peaceful coastal stay in Candolim",
          "Hotel Falcon Resorts",
          "Ocean Myst Silver Goa",
          "Private 2 room Apartment in Vagator",
          "Cuba Premium Huts",
          "Sabina Guest House",
          "Villa Sunny Day",
          "Vagator Suites 1D BHK",
          "Hotel Parth Inn",
          "Veronica Guest House",
          "White Negro Beach Resort",
          "Evershine Guest House",
          "Perola Do Mar",
          "Hotel Poonam",
          "Bollywood Backyard Hostel",
          "Villa Ikebana",
          "Zac Beach Resort Goa",
          "RETREAT ANJUNA",
          "Portuguese inspired architecture guest house in Candolim",
          "Hotel Solmar",
          "Kristal Sands Beach Resort",
          "Goan Imperial Holidays",
          "Nandini Casa De Praia",
          "Laalegro Holiday Home Goa",
          "The Acacia Hotel & Spa, Goa",
          "CasaMelhor 2BHK in Candolim CM001",
          "Backpacker Panda",
          "SMILEY Holiday Service Apartments",
          "Skylark Resort",
          "Jasminn by Mango Hotels",
          "A wonderful place to relax in Anjuna - Sea View Guest house",
          "Private 8 room Homestay in Vagator",
          "Pousada Donaciana Wooden Cottages",
          "New Image Inn",
          "VG 3 bhk apartment",
          "Maison Encore Holiday Home",
          "Amoura Beach Resort",
          "10 Calangute",
          "Valentines Retreat",
          "The Haven",
          "Cosmos Guest House Cosma Gregory Soares",
          "The Orange House",
          "Mandrem Beach Resort Goa",
          "Cosmos Guest House Souxa Xaviers Complex",
          "Ruffles Beach Resort",
          "John's Highland Comfort",
          "Romaldo Inn",
          "Serviced Apartments Goa",
          "Stay in a Villa in Candolim",
          "Salson Ferns Nest Guest House",
          "Sodder's Svelton Manor",
          "My Kind Of Place",
          "The LaLiT Golf & Spa Resort Goa",
          "Mangrove",
          "Zappia Cove Guest House",
          "Club Mahindra Emerald Palms, Goa",
          "Hotel Mayfair",
          "The Sea Horse Resort",
          "Vila De Goa",
          "Spazio Leisure Resort Anjuna",
          "Deltin Palms Riverfront",
          "Mansion in Candolim, Goa",
          "Villa Calangute Phase 3",
          "Goa Woodlands Hotel",
          "Vincy Guest House",
          "Vision Green 3 Bhk Villa I",
          "Majestic Beach Comforts",
          "Duke's Villa",
          "Darisa Resort",
          "Hotel Tanish",
          "Vision Greens 3 bhk Villa IV",
          "Casa Colvale",
          "Colonial Villa with Private Pool in Sinquerim - Goa",
          "Rudra Holidays",
          "Hotel Ria Residency",
          "Williams Beach Retreat",
          "TripThrill Florida Gardens",
          "Hotel Rezos",
          "Vincy Guest House",
          "Zinhos Beach Resort",
          "Ananda Resort",
          "Beach Way Home Stay",
          "Baga Yotel",
          "Luxury 5BHK Villa in Arpora",
          "Estrela Do Mar Beach Resort",
          "Hotel Boshan",
          "Hotel Satyaheera",
          "Joet's Guest House",
          "Alenea Resort",
          "Goan Holiday Resort",
          "Skylark Resort",
          "Grand Hyatt Goa",
          "Calangute Lovers Paradise Studios",
          "Spectacular view of the Arabian Sea",
          "Hotel Ave Maria",
          "Hotel 4 Pillars",
          "Palms N Tides",
          "Keys Ronil Resort, Goa",
          "Neelam The Glitz",
          "Resorte Marinha Dourada"
         ],
         "y": [
          0.03738393266526637,
          0.02224923006201717,
          0.013370653847618963,
          0.011809264819730034,
          0,
          0.005565961133438097,
          0.0061375096151101705,
          0.038524356165135734,
          0.019737371791453205,
          0.028938161641220473,
          0.03443649052483815,
          0.027779173129330974,
          0.021518815935577237,
          0.026554777829333135,
          0.012201623145954611,
          0.02057634104363538,
          0.014798062554165142,
          0.028465499203582857,
          0.032107732383208513,
          0.041076317638948125,
          0,
          0.024350948001782176,
          0.030209743743309262,
          0.015372101307818875,
          0.023894248378550687,
          0.017993234779265763,
          0.025172672691490074,
          0.01540050475810285,
          0.028865785942610852,
          0.015455446098505701,
          0.04251667929968357,
          0.043404062970880924,
          0.02012084483763701,
          0.010827126496453947,
          0.035352652696330485,
          0.014681618004924842,
          0.021706030130806367,
          0.019708293297031047,
          0.05483479553079555,
          0.01762112852552532,
          0.0025126539899881046,
          0.025705729844025554,
          0.024792399136641455,
          0.022006590142874018,
          0.01574152879599101,
          0.02997781842778149,
          0.025177238494422195,
          0.025524931065307774,
          0.031227998266672177,
          0.01813262426908359,
          0.010724089785537929,
          0.017789947673369146,
          0.014673383517849874,
          0.006002190754620728,
          0.020191004093590252,
          0.0032579040039948685,
          0.013356790051763249,
          0.037714106822493244,
          0.0063322827161250705,
          0.03920617322102367,
          0.025589948640439248,
          0.009725545560599624,
          0.014619870573707311,
          0.017279924754955624,
          0.012832165195636933,
          0.011097893163830821,
          0.021055814899018678,
          0.012570523124891169,
          0.023562933836933447,
          0.02369241418338778,
          0.01934512112271178,
          0.018567231054168038,
          0.020595941065027115,
          0.0165211054759386,
          0.025288043724126873,
          0.02795119418569112,
          0.0124895120388568,
          0.017697092704492115,
          0.018167900261669364,
          0.019737371791453205,
          0.014635660302669473,
          0.022336335865100154,
          0.006392684128483005,
          0.021990096927540313,
          0.03215916168810817,
          0.020823321709566796,
          0.023606155838512676,
          0.03905224715337517,
          0.022454480379366596,
          0.013629670366428833,
          0.03738393266526637,
          0.027463553792119146,
          0.036923669945941914,
          0.029619234022818026,
          0.048778064771391696,
          0.02719375102139499,
          0.022090132680334863,
          0.04028311095620758,
          0.028133178453597255,
          0.014575070092122064,
          0.012659053778642982,
          0.024048892511824984,
          0.038030652559513066,
          0.03685029303193813,
          0.02125475170892679,
          0.011523439047411965,
          0.014617061300723766,
          0.018258295079223736,
          0.011656633757844698,
          0.009771345163426755,
          0.010833213711734698,
          0.017892037263203223,
          0.05483479553079555,
          0.01972373240653839,
          0.02309653725753304,
          0.03822560702943086,
          0.02187382309014871,
          0.016529131433032286,
          0.005250544441344058,
          0.007964182420359546,
          0.018144772756359038,
          0.012166426447516176,
          0.01633438013926157,
          0.03869743272255972,
          0.016257251251474005,
          0.03732725522212331,
          0.017315076846420765,
          0.01676740041304693,
          0.01301692038294939,
          0.030177049413294632,
          0.006676942782902074,
          0.02927540527076174,
          0.013787694242601877,
          0.024982969445370276,
          0.012659053778642982,
          0.04606396618885971,
          0.016790601527622906,
          0.006229938426396791,
          0.024342259383237388,
          0.014635660302669473,
          0,
          0.04282392691781833,
          0.023698304681269693,
          0.006073763624296752,
          0.03233772350607383,
          0.020363715723086387,
          0.005605177367581801,
          0.029216281703089205,
          0.013785590117345925,
          0.01915254602917736,
          0.018130343362265534,
          0.02340342061089941,
          0.022367351936349786,
          0.013276722992538348,
          0.007169730560119722,
          0.013563524038563264,
          0.035305346625385786,
          0.017947880821957102,
          0.011475226788881352,
          0.013884411344376828,
          0.024001031923869147,
          0.047065886500891725,
          0.0044924795269119695,
          0.013787694242601877,
          0.016452489535826027,
          0.031115883647891546,
          0.010870300767568846,
          0.03636521081420075,
          0.005524845285913423,
          0.005985439085794908,
          0.007651653648142458,
          0.0366306630562959,
          0.03396599752341454,
          0.0318519603564638,
          0.018162700027951544,
          0.010227699035255885,
          0.020191574226953498,
          0.027157361320566918,
          0.029210235185485354,
          0.01199486670405487,
          0.017616971651556818,
          0.03378037752313158,
          0.017480562846706613,
          0.020857036003096154,
          0.01212233422026342,
          0.009543026851321587,
          0.022639493351445945,
          0.029414281038390774,
          0.015452201859307686,
          0.0008004878852705,
          0.03705234718101098,
          0.027333880568750198,
          0.026869887790236108,
          0.05053584574204961,
          0.01996207191600104,
          0.036112686644322455,
          0.032951119924813824,
          0.015444141938533483,
          0.01840499226279952,
          0.017907418814701023,
          0.02884069750238365,
          0.018843798434042065,
          0.022269975540748155,
          0.014799486918968327,
          0.009598262534130516,
          0.034400118163907,
          0.02620740167795581,
          0.007400998342696483,
          0.013824605433145058,
          0.023011515423401914,
          0.06645628636339818,
          0.026289988840432342,
          0.0165398275375428,
          0.014631759743785888,
          0.018018105584978652,
          0.02640526509902753,
          0.02340269061165715,
          0.01731378737074424,
          0.014482919697291294,
          0.03887765385412109,
          0.02638251096440386,
          0.014350772169712792,
          0.011172925997721163,
          0.023148704216290762,
          0.020018728121016266,
          0.004478757680016978,
          0.01613009023345024,
          0.024104860018247663,
          0.008331879057885141,
          0.029426193960226922,
          0.018545755837847275,
          0.020002338267554615,
          0.018062803893524184,
          0.03352667357368063,
          0.0057914966871274514,
          0.02125475170892679,
          0.019164433527964472,
          0.011985995949127068,
          0.018844049848128167,
          0.044554948065929835,
          0.023662582066972106,
          0.017602959851657142,
          0.031546772573369894,
          0.04380644675492779,
          0.03758151424648512,
          0.021791279348596,
          0.04163608606977461,
          0.027480454982625017,
          0.023266750243283466,
          0.025938284123506926,
          0.021978451323204768,
          0.012901909924308652,
          0.03312955871506537,
          0.02564810780653407,
          0.018346201436981426,
          0.04191613321072054,
          0.015395087547378358,
          0.016006811119260732,
          0.03055475349178841,
          0.024342259383237388,
          0.019497814111078694,
          0.023923077845329616,
          0.051214394493011114,
          0.03890992411500385,
          0.034789704478654364,
          0.043228348795107806,
          0.05492729389655841,
          0.023430133036974346,
          0.029786262264288533,
          0.022575229609995504,
          0.036419263356962765,
          0.013311334265441097,
          0.0272064468250529,
          0.026273623645628772,
          0.03090911669606359,
          0.02072571350884895,
          0.038579587335370744,
          0.022899578032559008,
          0.017521909611695308,
          0.015565099830305988,
          0.02550056425881524,
          0.014544099284774981,
          0.014728108136183709,
          0.03225885544733039,
          0.019848920062055145,
          0.014137225003462782,
          0.021848832838209816,
          0.02933494405711859,
          0.015885027910518462,
          0.018091103881830356,
          0.021756355432031426,
          0.02301870762220616,
          0.02645531956402368,
          0.03822560702943086,
          0.023210087119019954,
          0.07369352272579065,
          0.019687087711463883,
          0.02720205488729253,
          0.04241168353939371,
          0.023669691720574572,
          0.026160346810437815,
          0.020756216512137347,
          0.019556283546489094,
          0.037152409442319116,
          0.04120726990585618,
          0.041271040006800624,
          0.020406660342502173,
          0.02328257539771181,
          0.02243036668668661,
          0.020835502283048712,
          0.021114917032868816,
          0.02991757678821834,
          0.03635931706017054,
          0.02710126882389071,
          0.009443638131857534,
          0.013340678596866641,
          0.016354138794940628,
          0.018335709863358578,
          0.012926813773687991,
          0.006609988005319876,
          0.01250172896859844,
          0.017276690857630745,
          0.003584371650046071,
          0.0023959913193968814,
          0.0225400600301805,
          0.017320601154802377,
          0.023015204321943514,
          0.018542186514072568,
          0.012456639250062207,
          0.011220260265170758,
          0.019244864440630022,
          0.007252102476479667,
          0.029947538065414146,
          0.00675123823393918,
          0.012496429799197776,
          0.023724494885098514,
          0.022430973665494888,
          0.018947020268542544,
          0.021257430926657675,
          0.013691350666618715,
          0.014288013138727766,
          0.029721883290038217,
          0.00781717302399035,
          0.01581870631017197,
          0.01175047225856608,
          0.050079855711235084,
          0.036102721546568094,
          0.04160884879411675,
          0.026246931129454323,
          0.030972455492127623,
          0.012166426447516176,
          0.022276568812183623,
          0.012900754811149343,
          0.03277863146151075,
          0.021870255345317093,
          0.03059328123167557,
          0.013103303292251489,
          0.008667762392145732,
          0.015216019851694747,
          0.01066775205731248,
          0.022019209204776086,
          0.028120593037216392,
          0.01987399667752743,
          0.020202469055519017,
          0.008978496448192543,
          0.016587815469798196,
          0.026293591189279444,
          0.020156378907544487,
          0.02233762232810919,
          0.00622885356646382,
          0.01200831261718773,
          0.017109451262071588,
          0.035836295594824756,
          0.014721553674384557,
          0.01400532819760525,
          0.00975784390229544,
          0.02732819307347959,
          0.02324922366903315,
          0.006002190754620728,
          0.02487309722159206,
          0.008859837666246689,
          0.0014689998436543388,
          0.02011401123149158,
          0.015813559945588272,
          0.02898834214469033,
          0.009409625892875003,
          0.0214713528898252,
          0.017178667235550962,
          0.02028324719562971,
          0.019229885851188806,
          0.017628271811579922,
          0.010867225462576909,
          0.024179807424075942,
          0.023482062025827123,
          0.021882408636395637,
          0.016122016764571746,
          0.019298767725760245,
          0.06185176659138377,
          0.016353701580905038,
          0.02825208519524923,
          0.9999999999999976,
          0.024277028324782256,
          0.04315693279650363,
          0.027074942178354124,
          0.020898474047993828,
          0.012004873768889346,
          0.016600562163011076,
          0.010449887198623357,
          0.022091707737194235,
          0.029001379501058924,
          0.05545849093641952,
          0.009461906678765312,
          0.03146640325248023,
          0.0368086447609135,
          0.015933713311444136,
          0.017315076846420765,
          0.02971247832798578,
          0.022937277980734465,
          0.02157552001357065,
          0.03528679776084747,
          0.01609402490016891,
          0.019515768108910793,
          0.013150517459867296,
          0.01959795952181548,
          0.0358602319379346,
          0.041257341840530634,
          0.004843763004902118,
          0.027115350411385783,
          0.02130116858121348,
          0.017773839130811823,
          0.017004221436862532,
          0.019250297989055375,
          0.009159911264014758,
          0.01633438013926157,
          0.01574152879599101,
          0.014982996192137481,
          0.09445982633689223,
          0.016469145105210848,
          0.01666250215288409,
          0.03158040200113042,
          0.03396505131777906,
          0.0280086947492038,
          0.019590323714810072,
          0.014749778308954065,
          0.03171422859193548,
          0.02297590931095902,
          0.022353275958436693,
          0.010928305834357442,
          0.015816712333048672,
          0.018784591143143188,
          0.008465428025853523,
          0.018581100041120624,
          0.017919241811356165,
          0.024018548920654192,
          0.024736256183144217,
          0.014587862990349636,
          0.018367183406616378,
          0.023444178428101987,
          0.017432195436672248,
          0.01995516121243681,
          0.03342983785850598,
          0.018062803893524184,
          0.01906407767308191,
          0.02356034424294248,
          0.016288709800460453,
          0.02052865420314696,
          0.028861140153146152,
          0.011125904809075833,
          0.010449268668899954,
          0.04103794937097567,
          0.011486501906562379,
          0.028801359954981825,
          0.0028405483020155628,
          0.01482377576430145,
          0.02392999775433477,
          0.01584569671085146,
          0.019797620829535026,
          0.019810761806002625,
          0.01840831476313185,
          0.01826392390494451,
          0.024277869889073364,
          0.02564810780653407,
          0.020942432873280303,
          0.022575229609995504,
          0.032348539219237686,
          0.01581870631017197,
          0.04251667929968357,
          0.023482062025827123,
          0.015415842096035227,
          0.01694193238274294,
          0.012926813773687991,
          0.019115587105425526,
          0.015816712333048672,
          0.02395596985688084,
          0.009329733709753242,
          0.024277028324782256,
          0.021848832838209816,
          0.014564413066827191,
          0.02043424894226036,
          0.013103303292251489,
          0.026246931129454323,
          0.022353275958436693,
          0.011486501906562379,
          0.013884411344376828,
          0.020340259089176697,
          0.01696249749683282,
          0.04028311095620758,
          0.0259493833602883,
          0.02101420332765568,
          0.022090132680334863,
          0.01560018314005223,
          0.014417594250411631,
          0.02158238980586229,
          0.02603941844582119,
          0.016875243446089244,
          0.01830745959630527,
          0.015216019851694747,
          0.012870850238178508,
          0.019967315742686585,
          0.020166439034004967,
          0.01978296402901753,
          0.01187755860210147,
          0.014129917605689112,
          0.013150517459867296,
          0.02361383970480365,
          0.011077966611876953,
          0.013972730781097403,
          0.025020633919533887,
          0.01541953059503047,
          0.020018728121016266,
          0.022403097438229953,
          0.02324922366903315,
          0.015146013280920577,
          0.01250172896859844,
          0.010798774707791156,
          0.015207121528616288,
          0.02468985614074394,
          0.035305346625385786,
          0.017113630219140318,
          0.034934674739319,
          0.020006956299224922,
          0.013356790051763249,
          0.014123035128996743,
          0.005358370276121698,
          0.014372519900418507,
          0.04463215678947715,
          0.01854859950347449,
          0.019482858137286927,
          0.054756909472698345,
          0.019509009763473854,
          0.049185117370043906,
          0.02655540960557581,
          0.01719725104832453,
          0.023040652198839804,
          0.023464149138165587,
          0.024184530337996838,
          0.017255596357850955,
          0.01944141286383745,
          0.015302267443250197,
          0.029469290349380322,
          0.03242233115531238,
          0.017020429753636726,
          0.03489957670232742,
          0.025486023019669363,
          0.022820441651408736,
          0.03745145426638757,
          0.017393482271356012,
          0.015815834903948965,
          0.0178539854405594,
          0.02392999775433477,
          0.022639493351445945,
          0.017947880821957102,
          0.03233772350607383,
          0.018817921228682054,
          0.023008338872780223,
          0.006676942782902074,
          0.010899429876554031,
          0.014467538672919321,
          0.018843798434042065,
          0.019997537708736583,
          0.019164433527964472,
          0.015465928387150886,
          0.02122580822121786,
          0.021093477811398066,
          0.009917715100976296,
          0.017307230066743517,
          0.04680791459856535,
          0.05053584574204961,
          0.06185176659138377,
          0.015704760868372265,
          0.026869887790236108,
          0.049185117370043906,
          0.022237836812141826,
          0.011696239908477462,
          0.019756078437362663,
          0.0038945872702724556,
          0.029316176126876863,
          0.009409625892875003,
          0.0280086947492038,
          0.021680772406356245,
          0.04694006588145878,
          0.021325404748440413,
          0.016056431562904386,
          0.006459478929411141,
          0.017507188506321193,
          0.015933713311444136,
          0.005358370276121698,
          0.031044585458295984,
          0.02519862397620667,
          0.03545291002126588,
          0.024048892511824984,
          0.0220321150578435,
          0.01872152767657246,
          0.00828810970929298,
          0.016346600534106366,
          0.013629670366428833,
          0.047606649683782726,
          0.021257430926657675,
          0.029001379501058924,
          0.013629600223621243,
          0.01607500447775471,
          0.01980766281151529,
          0.03213868873563132,
          0.03352667357368063,
          0.018453055757014662,
          0.01994388469007927,
          0.05005874579515345,
          0.010579230371019032,
          0.0032499780176575193,
          0.026227933819130467,
          0.02043424894226036,
          0.011077966611876953,
          0.01599023745274649,
          0.016802534307374953,
          0.018955262016030407,
          0.016499312075008345,
          0.0034978308361277534,
          0.0178539854405594,
          0.013990790903746072,
          0.014672102511995265,
          0.041361545401351514,
          0.0170341655809191,
          0.030561090896786897,
          0.022911047837291365,
          0.006689935341016622,
          0.00789097328156176,
          0.021671219684618753,
          0.010105853977076348,
          0.017087959131690547,
          0.012091904972546412,
          0.01872152767657246,
          0.013276722992538348,
          0.03224738330237475,
          0.017488045418155292,
          0.020095479344521796,
          0.029275484941990733,
          0.02122746175530227,
          0.015327758758036918,
          0.010708077537054841,
          0.013728185718717473,
          0.014858638767342666,
          0.022172298290379356,
          0.014967127486512017,
          0.008181726814630062,
          0.04076349215284926,
          0.022244578938801787,
          0.0304044009969884,
          0.01676548767404112,
          0.01640644048917337,
          0.020455313873825265,
          0.013380505518761156,
          0.019863583683868084,
          0.020340259089176697,
          0.02269359247401599,
          0.04680791459856535,
          0.007737667890201017,
          0.006229938426396791,
          0.015063841576746149,
          0.00910264365838917,
          0.01491017875275849,
          0.016875243446089244,
          0.017994351867898547,
          0.028158974875555284,
          0.022367351936349786,
          0.019982359038479558,
          0.01550477612133305,
          0.029758581350665392,
          0.016540596551620098,
          0.013109130886029462,
          0.037714106822493244,
          0.011252477415459072,
          0.031308939945896445,
          0.01275833354821498,
          0.0021351684479262332,
          0.011684342586258544,
          0.02676435990316703,
          0.022699278059852904,
          0.029916538137403945,
          0.0005187674234773042,
          0.01428602064555503,
          0.03848979460161062,
          0.030891647408156135,
          0.02907277528240752,
          0.013448470617918496,
          0.02261706706519143,
          0.028382371151312764,
          0.0067584040078266655,
          0.02423121758101862,
          0.03576063920955541,
          0.01761554651617088,
          0.019035370288616592,
          0.01385678441257397,
          0.0110393275989363,
          0.03213868873563132,
          0.02514132938940489,
          0.010291353443942665,
          0.023712462484436165,
          0.02464455875497283,
          0.014467538672919321,
          0.012052314491925946,
          0.01725286382726643,
          0.01187755860210147,
          0.02300602572899168,
          0.01761554651617088,
          0.1909096849683575,
          0.034934674739319,
          0.02770122341573889,
          0.026990808516214385,
          0.014166064866092712,
          0.037046745044316466,
          0.03422046940587679,
          0.020749261352206293,
          0.01575147457001181,
          0.022076711987231816,
          0.035998789031749065,
          0.02269359247401599,
          0.014688936680596168,
          0.032351644914644595,
          0.007389567108707999,
          0.024184530337996838,
          0.03369478143726941,
          0.015498918679295356,
          0.9999999999999976,
          0.037385098021565075,
          0.018198934300820962
         ]
        }
       ],
       "layout": {
        "height": 1000,
        "showlegend": true,
        "template": {
         "data": {
          "bar": [
           {
            "error_x": {
             "color": "#2a3f5f"
            },
            "error_y": {
             "color": "#2a3f5f"
            },
            "marker": {
             "line": {
              "color": "#E5ECF6",
              "width": 0.5
             }
            },
            "type": "bar"
           }
          ],
          "barpolar": [
           {
            "marker": {
             "line": {
              "color": "#E5ECF6",
              "width": 0.5
             }
            },
            "type": "barpolar"
           }
          ],
          "carpet": [
           {
            "aaxis": {
             "endlinecolor": "#2a3f5f",
             "gridcolor": "white",
             "linecolor": "white",
             "minorgridcolor": "white",
             "startlinecolor": "#2a3f5f"
            },
            "baxis": {
             "endlinecolor": "#2a3f5f",
             "gridcolor": "white",
             "linecolor": "white",
             "minorgridcolor": "white",
             "startlinecolor": "#2a3f5f"
            },
            "type": "carpet"
           }
          ],
          "choropleth": [
           {
            "colorbar": {
             "outlinewidth": 0,
             "ticks": ""
            },
            "type": "choropleth"
           }
          ],
          "contour": [
           {
            "colorbar": {
             "outlinewidth": 0,
             "ticks": ""
            },
            "colorscale": [
             [
              0,
              "#0d0887"
             ],
             [
              0.1111111111111111,
              "#46039f"
             ],
             [
              0.2222222222222222,
              "#7201a8"
             ],
             [
              0.3333333333333333,
              "#9c179e"
             ],
             [
              0.4444444444444444,
              "#bd3786"
             ],
             [
              0.5555555555555556,
              "#d8576b"
             ],
             [
              0.6666666666666666,
              "#ed7953"
             ],
             [
              0.7777777777777778,
              "#fb9f3a"
             ],
             [
              0.8888888888888888,
              "#fdca26"
             ],
             [
              1,
              "#f0f921"
             ]
            ],
            "type": "contour"
           }
          ],
          "contourcarpet": [
           {
            "colorbar": {
             "outlinewidth": 0,
             "ticks": ""
            },
            "type": "contourcarpet"
           }
          ],
          "heatmap": [
           {
            "colorbar": {
             "outlinewidth": 0,
             "ticks": ""
            },
            "colorscale": [
             [
              0,
              "#0d0887"
             ],
             [
              0.1111111111111111,
              "#46039f"
             ],
             [
              0.2222222222222222,
              "#7201a8"
             ],
             [
              0.3333333333333333,
              "#9c179e"
             ],
             [
              0.4444444444444444,
              "#bd3786"
             ],
             [
              0.5555555555555556,
              "#d8576b"
             ],
             [
              0.6666666666666666,
              "#ed7953"
             ],
             [
              0.7777777777777778,
              "#fb9f3a"
             ],
             [
              0.8888888888888888,
              "#fdca26"
             ],
             [
              1,
              "#f0f921"
             ]
            ],
            "type": "heatmap"
           }
          ],
          "heatmapgl": [
           {
            "colorbar": {
             "outlinewidth": 0,
             "ticks": ""
            },
            "colorscale": [
             [
              0,
              "#0d0887"
             ],
             [
              0.1111111111111111,
              "#46039f"
             ],
             [
              0.2222222222222222,
              "#7201a8"
             ],
             [
              0.3333333333333333,
              "#9c179e"
             ],
             [
              0.4444444444444444,
              "#bd3786"
             ],
             [
              0.5555555555555556,
              "#d8576b"
             ],
             [
              0.6666666666666666,
              "#ed7953"
             ],
             [
              0.7777777777777778,
              "#fb9f3a"
             ],
             [
              0.8888888888888888,
              "#fdca26"
             ],
             [
              1,
              "#f0f921"
             ]
            ],
            "type": "heatmapgl"
           }
          ],
          "histogram": [
           {
            "marker": {
             "colorbar": {
              "outlinewidth": 0,
              "ticks": ""
             }
            },
            "type": "histogram"
           }
          ],
          "histogram2d": [
           {
            "colorbar": {
             "outlinewidth": 0,
             "ticks": ""
            },
            "colorscale": [
             [
              0,
              "#0d0887"
             ],
             [
              0.1111111111111111,
              "#46039f"
             ],
             [
              0.2222222222222222,
              "#7201a8"
             ],
             [
              0.3333333333333333,
              "#9c179e"
             ],
             [
              0.4444444444444444,
              "#bd3786"
             ],
             [
              0.5555555555555556,
              "#d8576b"
             ],
             [
              0.6666666666666666,
              "#ed7953"
             ],
             [
              0.7777777777777778,
              "#fb9f3a"
             ],
             [
              0.8888888888888888,
              "#fdca26"
             ],
             [
              1,
              "#f0f921"
             ]
            ],
            "type": "histogram2d"
           }
          ],
          "histogram2dcontour": [
           {
            "colorbar": {
             "outlinewidth": 0,
             "ticks": ""
            },
            "colorscale": [
             [
              0,
              "#0d0887"
             ],
             [
              0.1111111111111111,
              "#46039f"
             ],
             [
              0.2222222222222222,
              "#7201a8"
             ],
             [
              0.3333333333333333,
              "#9c179e"
             ],
             [
              0.4444444444444444,
              "#bd3786"
             ],
             [
              0.5555555555555556,
              "#d8576b"
             ],
             [
              0.6666666666666666,
              "#ed7953"
             ],
             [
              0.7777777777777778,
              "#fb9f3a"
             ],
             [
              0.8888888888888888,
              "#fdca26"
             ],
             [
              1,
              "#f0f921"
             ]
            ],
            "type": "histogram2dcontour"
           }
          ],
          "mesh3d": [
           {
            "colorbar": {
             "outlinewidth": 0,
             "ticks": ""
            },
            "type": "mesh3d"
           }
          ],
          "parcoords": [
           {
            "line": {
             "colorbar": {
              "outlinewidth": 0,
              "ticks": ""
             }
            },
            "type": "parcoords"
           }
          ],
          "pie": [
           {
            "automargin": true,
            "type": "pie"
           }
          ],
          "scatter": [
           {
            "marker": {
             "colorbar": {
              "outlinewidth": 0,
              "ticks": ""
             }
            },
            "type": "scatter"
           }
          ],
          "scatter3d": [
           {
            "line": {
             "colorbar": {
              "outlinewidth": 0,
              "ticks": ""
             }
            },
            "marker": {
             "colorbar": {
              "outlinewidth": 0,
              "ticks": ""
             }
            },
            "type": "scatter3d"
           }
          ],
          "scattercarpet": [
           {
            "marker": {
             "colorbar": {
              "outlinewidth": 0,
              "ticks": ""
             }
            },
            "type": "scattercarpet"
           }
          ],
          "scattergeo": [
           {
            "marker": {
             "colorbar": {
              "outlinewidth": 0,
              "ticks": ""
             }
            },
            "type": "scattergeo"
           }
          ],
          "scattergl": [
           {
            "marker": {
             "colorbar": {
              "outlinewidth": 0,
              "ticks": ""
             }
            },
            "type": "scattergl"
           }
          ],
          "scattermapbox": [
           {
            "marker": {
             "colorbar": {
              "outlinewidth": 0,
              "ticks": ""
             }
            },
            "type": "scattermapbox"
           }
          ],
          "scatterpolar": [
           {
            "marker": {
             "colorbar": {
              "outlinewidth": 0,
              "ticks": ""
             }
            },
            "type": "scatterpolar"
           }
          ],
          "scatterpolargl": [
           {
            "marker": {
             "colorbar": {
              "outlinewidth": 0,
              "ticks": ""
             }
            },
            "type": "scatterpolargl"
           }
          ],
          "scatterternary": [
           {
            "marker": {
             "colorbar": {
              "outlinewidth": 0,
              "ticks": ""
             }
            },
            "type": "scatterternary"
           }
          ],
          "surface": [
           {
            "colorbar": {
             "outlinewidth": 0,
             "ticks": ""
            },
            "colorscale": [
             [
              0,
              "#0d0887"
             ],
             [
              0.1111111111111111,
              "#46039f"
             ],
             [
              0.2222222222222222,
              "#7201a8"
             ],
             [
              0.3333333333333333,
              "#9c179e"
             ],
             [
              0.4444444444444444,
              "#bd3786"
             ],
             [
              0.5555555555555556,
              "#d8576b"
             ],
             [
              0.6666666666666666,
              "#ed7953"
             ],
             [
              0.7777777777777778,
              "#fb9f3a"
             ],
             [
              0.8888888888888888,
              "#fdca26"
             ],
             [
              1,
              "#f0f921"
             ]
            ],
            "type": "surface"
           }
          ],
          "table": [
           {
            "cells": {
             "fill": {
              "color": "#EBF0F8"
             },
             "line": {
              "color": "white"
             }
            },
            "header": {
             "fill": {
              "color": "#C8D4E3"
             },
             "line": {
              "color": "white"
             }
            },
            "type": "table"
           }
          ]
         },
         "layout": {
          "annotationdefaults": {
           "arrowcolor": "#2a3f5f",
           "arrowhead": 0,
           "arrowwidth": 1
          },
          "coloraxis": {
           "colorbar": {
            "outlinewidth": 0,
            "ticks": ""
           }
          },
          "colorscale": {
           "diverging": [
            [
             0,
             "#8e0152"
            ],
            [
             0.1,
             "#c51b7d"
            ],
            [
             0.2,
             "#de77ae"
            ],
            [
             0.3,
             "#f1b6da"
            ],
            [
             0.4,
             "#fde0ef"
            ],
            [
             0.5,
             "#f7f7f7"
            ],
            [
             0.6,
             "#e6f5d0"
            ],
            [
             0.7,
             "#b8e186"
            ],
            [
             0.8,
             "#7fbc41"
            ],
            [
             0.9,
             "#4d9221"
            ],
            [
             1,
             "#276419"
            ]
           ],
           "sequential": [
            [
             0,
             "#0d0887"
            ],
            [
             0.1111111111111111,
             "#46039f"
            ],
            [
             0.2222222222222222,
             "#7201a8"
            ],
            [
             0.3333333333333333,
             "#9c179e"
            ],
            [
             0.4444444444444444,
             "#bd3786"
            ],
            [
             0.5555555555555556,
             "#d8576b"
            ],
            [
             0.6666666666666666,
             "#ed7953"
            ],
            [
             0.7777777777777778,
             "#fb9f3a"
            ],
            [
             0.8888888888888888,
             "#fdca26"
            ],
            [
             1,
             "#f0f921"
            ]
           ],
           "sequentialminus": [
            [
             0,
             "#0d0887"
            ],
            [
             0.1111111111111111,
             "#46039f"
            ],
            [
             0.2222222222222222,
             "#7201a8"
            ],
            [
             0.3333333333333333,
             "#9c179e"
            ],
            [
             0.4444444444444444,
             "#bd3786"
            ],
            [
             0.5555555555555556,
             "#d8576b"
            ],
            [
             0.6666666666666666,
             "#ed7953"
            ],
            [
             0.7777777777777778,
             "#fb9f3a"
            ],
            [
             0.8888888888888888,
             "#fdca26"
            ],
            [
             1,
             "#f0f921"
            ]
           ]
          },
          "colorway": [
           "#636efa",
           "#EF553B",
           "#00cc96",
           "#ab63fa",
           "#FFA15A",
           "#19d3f3",
           "#FF6692",
           "#B6E880",
           "#FF97FF",
           "#FECB52"
          ],
          "font": {
           "color": "#2a3f5f"
          },
          "geo": {
           "bgcolor": "white",
           "lakecolor": "white",
           "landcolor": "#E5ECF6",
           "showlakes": true,
           "showland": true,
           "subunitcolor": "white"
          },
          "hoverlabel": {
           "align": "left"
          },
          "hovermode": "closest",
          "mapbox": {
           "style": "light"
          },
          "paper_bgcolor": "white",
          "plot_bgcolor": "#E5ECF6",
          "polar": {
           "angularaxis": {
            "gridcolor": "white",
            "linecolor": "white",
            "ticks": ""
           },
           "bgcolor": "#E5ECF6",
           "radialaxis": {
            "gridcolor": "white",
            "linecolor": "white",
            "ticks": ""
           }
          },
          "scene": {
           "xaxis": {
            "backgroundcolor": "#E5ECF6",
            "gridcolor": "white",
            "gridwidth": 2,
            "linecolor": "white",
            "showbackground": true,
            "ticks": "",
            "zerolinecolor": "white"
           },
           "yaxis": {
            "backgroundcolor": "#E5ECF6",
            "gridcolor": "white",
            "gridwidth": 2,
            "linecolor": "white",
            "showbackground": true,
            "ticks": "",
            "zerolinecolor": "white"
           },
           "zaxis": {
            "backgroundcolor": "#E5ECF6",
            "gridcolor": "white",
            "gridwidth": 2,
            "linecolor": "white",
            "showbackground": true,
            "ticks": "",
            "zerolinecolor": "white"
           }
          },
          "shapedefaults": {
           "line": {
            "color": "#2a3f5f"
           }
          },
          "ternary": {
           "aaxis": {
            "gridcolor": "white",
            "linecolor": "white",
            "ticks": ""
           },
           "baxis": {
            "gridcolor": "white",
            "linecolor": "white",
            "ticks": ""
           },
           "bgcolor": "#E5ECF6",
           "caxis": {
            "gridcolor": "white",
            "linecolor": "white",
            "ticks": ""
           }
          },
          "title": {
           "x": 0.05
          },
          "xaxis": {
           "automargin": true,
           "gridcolor": "white",
           "linecolor": "white",
           "ticks": "",
           "title": {
            "standoff": 15
           },
           "zerolinecolor": "white",
           "zerolinewidth": 2
          },
          "yaxis": {
           "automargin": true,
           "gridcolor": "white",
           "linecolor": "white",
           "ticks": "",
           "title": {
            "standoff": 15
           },
           "zerolinecolor": "white",
           "zerolinewidth": 2
          }
         }
        },
        "title": {
         "text": "Cosine similarities of all properties with Keys Ronil Resort, Goa",
         "x": 0.5,
         "y": 0.95
        },
        "xaxis": {
         "title": {
          "text": "Property Names"
         }
        },
        "yaxis": {
         "title": {
          "text": "cosine similarities"
         }
        }
       }
      },
      "text/html": [
       "<div>\n",
       "        \n",
       "        \n",
       "            <div id=\"f7f3a3c3-fdfc-4307-b758-2f3b8719095f\" class=\"plotly-graph-div\" style=\"height:1000px; width:100%;\"></div>\n",
       "            <script type=\"text/javascript\">\n",
       "                require([\"plotly\"], function(Plotly) {\n",
       "                    window.PLOTLYENV=window.PLOTLYENV || {};\n",
       "                    \n",
       "                if (document.getElementById(\"f7f3a3c3-fdfc-4307-b758-2f3b8719095f\")) {\n",
       "                    Plotly.newPlot(\n",
       "                        'f7f3a3c3-fdfc-4307-b758-2f3b8719095f',\n",
       "                        [{\"marker\": {\"color\": [4, -1, 0, -1, -1, -1, -1, 4, -1, -1, -1, -1, -1, -1, -1, -1, -1, 4, -1, 4, -1, 4, 4, -1, 4, 3, -1, 2, 3, 3, -1, 4, -1, -1, -1, 4, 3, -1, -1, 3, -1, 3, 4, 4, -1, 3, 4, 3, -1, -1, -1, -1, -1, -1, -1, -1, 3, -1, 3, 4, 2, 4, -1, -1, 3, 4, -1, -1, -1, -1, 3, -1, 3, -1, -1, -1, -1, -1, 3, -1, -1, -1, -1, -1, -1, -1, 3, -1, 4, -1, -1, -1, -1, -1, 3, -1, -1, 4, -1, -1, -1, 4, -1, -1, -1, -1, -1, -1, 4, 1, -1, 3, -1, 4, 4, 4, 3, 4, 3, -1, -1, -1, -1, 3, -1, -1, 3, 3, -1, 4, -1, -1, -1, -1, 4, -1, -1, -1, -1, -1, 3, 3, -1, 4, 4, -1, 4, -1, -1, -1, -1, -1, -1, -1, 4, 4, 0, -1, 4, 3, -1, 0, 3, 3, 4, 3, -1, 2, -1, 3, -1, -1, 3, -1, -1, 4, 4, 3, -1, -1, 4, 4, 0, 3, -1, 4, 4, 3, 3, -1, 4, -1, -1, 4, 4, -1, -1, 4, 4, -1, -1, -1, 4, -1, -1, -1, -1, -1, 4, 3, -1, 2, -1, 4, 3, -1, 3, 3, -1, -1, 3, 2, -1, -1, -1, -1, 4, 4, -1, -1, -1, -1, -1, 2, 4, 4, -1, 3, -1, -1, -1, -1, -1, -1, 3, -1, 4, -1, -1, -1, 4, 3, -1, -1, -1, -1, -1, 3, 3, 4, 4, 4, 4, -1, -1, -1, 4, -1, -1, -1, -1, 3, -1, -1, -1, 2, -1, -1, -1, 3, -1, -1, -1, 4, 4, -1, -1, 3, 4, 4, -1, 0, -1, 4, -1, 3, 3, 3, 3, 3, 2, 3, 3, 3, 2, 4, 4, 4, 3, 4, 4, 4, 2, 3, 4, 4, 4, 3, 3, -1, 3, 3, 3, 4, 2, 3, 3, 3, 4, 4, -1, 3, 2, 3, 3, 3, 3, 2, 4, 3, -1, 4, 3, 2, 4, 3, -1, 3, 3, -1, 4, -1, 4, 3, -1, 4, 4, 4, 3, 2, 3, 3, 3, 3, -1, 3, 4, -1, -1, 4, 3, 3, 4, 3, 4, -1, 3, 3, -1, 3, 4, 3, -1, -1, -1, 4, 2, -1, -1, -1, -1, -1, -1, -1, -1, 3, 3, -1, -1, -1, 1, -1, -1, -1, -1, 3, -1, -1, -1, -1, -1, -1, -1, -1, -1, 4, -1, -1, -1, -1, -1, 3, -1, 4, 4, -1, -1, 4, 4, -1, -1, -1, 2, 1, 3, 3, 4, -1, 3, -1, -1, -1, -1, -1, -1, 3, 4, 3, 4, -1, 4, -1, -1, 3, 4, -1, -1, 4, -1, 2, -1, -1, -1, -1, -1, -1, 4, 4, -1, -1, -1, 4, 2, -1, 4, 3, 4, -1, -1, -1, -1, -1, 3, 3, 3, -1, 2, 3, -1, -1, 3, 3, 3, -1, -1, -1, 1, -1, -1, -1, 4, 4, 4, -1, -1, -1, -1, 4, -1, 4, -1, -1, -1, 4, -1, -1, 4, -1, 2, -1, 4, -1, 4, 3, -1, -1, 2, 4, 3, -1, -1, -1, -1, -1, -1, 3, -1, -1, -1, 3, 3, 3, 4, 4, -1, -1, -1, 3, 3, 4, -1, 3, 4, 4, -1, -1, 4, -1, -1, 4, 4, 3, -1, 4, 3, -1, -1, 3, 3, -1, -1, -1, 3, 4, 3, 3, -1, 3, -1, 2, -1, -1, -1, -1, -1, 4, -1, 3, -1, -1, 3, 3, -1, 3, 4, 3, -1, -1, 3, 4, -1, 3, 4, -1, -1, -1, 4, -1, -1, 4, -1, -1, 3, 4, 3, -1, -1, 2, -1, -1, 4, 4, -1, 4, -1, -1, 3, 4, -1, -1, 2, -1, 3, -1, -1, -1, -1, -1, 3, -1, 2, -1, -1, -1, 4, -1, 4, -1, 0, 4, 0, 0, -1, 3, 4, 3, 0, -1, -1, 4, 4, 4, 4, -1, -1, -1, -1, -1, 0, -1, -1, -1, -1, -1, -1, -1, -1, -1, 0, -1, 0, 4, -1, -1, -1, -1, -1, -1, -1, 4, 4, -1, -1, -1, -1, -1, -1, -1, -1, -1, -1, -1, -1, -1, -1, -1, -1, -1, -1, -1, -1, -1, -1, -1, 0, -1, 3, -1, -1, -1, -1, -1, -1, 4, -1, 4, 4, 3, -1, -1, -1, -1, -1, -1, -1, -1, -1, -1, 3, 4, -1, 3, 3, 4, 3, 3, 4, 3, 3, 3, 3, 3, 2, 3, 4, -1, 4, -1, 3, 3, 4, -1, 4, 3, -1, 4, -1, 4, -1, 4, 3, -1, 4, 3, 3, 4, 4, 3, 4, 4, 0, -1, 0, 4, 4, 4, -1, -1, -1, -1, -1, -1, -1, -1, -1, -1, -1, -1, -1, -1, -1, -1, 4, 3, 3, 4, -1, -1, -1, -1, -1, -1, -1, -1, -1, -1, -1, 4, 4, 4, 4, -1, -1, 4, -1, -1, 4, 3, -1, 3, -1, -1, -1, 3, -1, 3, 0, -1, 0, 2, 4, -1, -1, 4, 0, 4, 0, 3, 4, 0, -1, 0, -1, 3, -1, 4, -1, 4, 4, 2, 4, -1, 3, -1, -1, 3, 3, -1, -1, -1, 4, -1, -1, -1, 4, -1, -1, -1, -1, 4, -1, -1, 3, 3, 3, -1, -1, -1, -1, 4, 3, -1, 4, 3, -1, -1, -1, -1, -1, 4, -1, 4, 3, -1, 3, -1, 3, -1, -1, -1, -1, -1, -1, -1, 2, 4, 3, -1, 4, -1, 3, -1, -1, 3, -1, -1, -1, -1, -1, 4, -1, -1, 3, 4, 3, 3, -1, -1, 2, 4, -1, 4, -1, 3, -1, 3, 4, -1, -1, 3, 3, 3, 3, -1, -1, -1, 4, 3, -1, 4, -1, 1, 4, -1, -1, 4, -1, 3, -1, 3, -1, -1, 3, -1, -1, 3, 3, 4, -1, -1, -1, 3, -1, -1, 4, -1, -1, -1, 3, 3, 4, 3, -1, -1, 4, 4, 4, -1, -1, 3, 4, -1, 4, -1, -1, -1, -1, 3, -1, -1, -1, 3, 4, -1, -1, -1, -1, 3, 3, -1, -1, 3, -1, -1, 4, 4, -1, 3, -1, 4, 4, -1, 3, -1, 4, 3, -1, 3, 4, 4, -1, -1, -1, -1, -1, 3, -1, -1, -1, 3, -1, 4, 2, -1, 3, 2, 4, -1, -1, 3, -1, 4, 4, 3, 4, 2, 4, 4, 4, -1, -1, -1, -1, -1, 4, -1, -1, 4, -1, 3, 4, -1, 4, -1, -1, -1, 3, -1, -1, -1, -1, -1, -1, -1, -1, -1, -1, -1, -1, -1, -1, -1, -1, 3, 4, 3, 4, 3, 3, 4, 4, 3, -1, -1, 0, 4, -1, -1, 4, -1, 4, 4], \"size\": 10}, \"mode\": \"markers\", \"name\": \"respective cosine similarities\", \"type\": \"scatter\", \"x\": [\"Hotel Om Shiv\", \"Studio Service Apartments - Arpora\", \"Diakon Holidays\", \"TripThrill Lotus Hermitage Apartment\", \"JOHNS Guest House\", \"Stay in a Homestay in Bogmalo\", \"Laxmi Guest House\", \"Castle House\", \"Vagator Suites 1B BHK\", \"Hyatt Place Goa/ Candolim\", \"Treebo Turtle Beach Resort\", \"Palolem Delights\", \"Sun N Moon\", \"Yo Yo Goa The Apartment Hotel\", \"Sevas Huts and Cabanas\", \"Calangute Residency\", \"Glens Corner\", \"Colonia Santa Maria\", \"Sol De Goa\", \"Sonesta Inns\", \"Days Guest House\", \"Mandrem Retreat\", \"La Vaiencia\", \"Rosario's Inn Guest House\", \"Koithra Holiday Home\", \"Belle Vista Wado - Enviro Green Resorts\", \"Hotel Supreme\", \"Calangute Beauty 2bhk Luxury Apartment\", \"Sea Front huts Patnem\", \"Cuba Patnem\", \"The Golden Nest Deluxe\", \"Santonio Beach Resort\", \"Coco's Resort\", \"RK Pleasing Homes\", \"Aldeia Santa Rita\", \"Villa Calangute Phase 7\", \"Lui Beach Resort\", \"Hotel Mayura\", \"Riverside Regency Resort\", \"Sangolda Greenz - A Budgeted Stay\", \"Florys Nest Holiday Home Goa\", \"Arabian Retreat\", \"Blue Beach Nest Service Appartment 1 BHK NO 710\", \"UNA Homestay Villa Arcangela\", \"Villa Calangute Phase 5\", \"Resort Dona Alcina\", \"Orritel Village Square\", \"Sodder's Beach Classic\", \"The HQ\", \"Delta Residency Goa\", \"Celjoan Guest House\", \"Casa Lavie\", \"Studio 7\", \"Casa Melhor 2BHK Luxurious Apartment Siolim\", \"Golden Sands Betalbatim\", \"Century-old heritage property - a guest house in Siolim\", \"Hotel City Express\", \"Ruffles Beach Resort\", \"Reliance Holiday Homes Goa\", \"Nova Goa\", \"Private 2 room Apartment in Calangute\", \"Moksh Holiday Homes\", \"WellnessInn\", \"Bela Rozy Guest house\", \"Spring Hospitality\", \"Cozy Studio Apartment Calangute\", \"Coco Heritage Home\", \"White Pearl 2 Bhk Apartment\", \"Guest House located in Baga Goa - Cheap\", \"Ocean Suite Luxury Boutique Hotel\", \"Luxury 4BHK Beach Villa For Rent in Calangute\", \"Vivanta by Taj - Panaji Goa\", \"Calangute Inn\", \"Budget Cheap Guest House Rooms in Goa\", \"Golden Guest House\", \"Goa - VIllagio, A Sterling Holidays Resort\", \"FabHotel Candolim\", \"Aston Ajoy Home Comfort Goa\", \"Inn Anjuna\", \"Vagator Suites 1B BHK\", \"Magic Forest\", \"La Conceicao\", \"Stay in a Apartment in Calangute\", \"New Ocean Ride Beach Resort\", \"Hotel Mobor Beach Resort\", \"Hotel Leela Inn\", \"Manvins Inn Calangute\", \"Nanu Beach Resort and Spa\", \"Hotel Shakti Palace\", \"Nat Villa\", \"Hotel Om Shiv\", \"The Hawaii Comforts\", \"Cavala Seaside Resort\", \"Park Hyatt Goa Resort and Spa\", \"Hard Rock Hotel\", \"Opus\", \"Hotel Amar\", \"Shashesca Villa\", \"Luxury Apartment in Arpora Goa\", \"Penthouse Apartment\", \"Casa Melhor Luxrious 1BHK apartment\", \"United 21 Emerald Goa\", \"Devaaya, the Ayurveda Retreat\", \"Planet Hollywood Beach Resort\", \"The Only Olive\", \"CXScape\", \"Nature's Nest Goa\", \"Silver Sands Sunshine\", \"Aithi Seva Baga 2 Bhk Flat\", \"Studio Apartment in a 3 Star Hotel, Arpora - Goa\", \"Private 3 room Villa in Betalbatim\", \"Micasa by the Sea Goa\", \"Riverside Regency Resort\", \"At Home B and B Donapaula\", \"The Queeny Hotel\", \"Horizon Resort\", \"Coco Beach Village\", \"Bon Vivant Studio Apartment\", \"Holiday Home in Goa - 9 mins from Benaulim Beach\", \"Vision Green 3 Bhk Villa III\", \"Antique Mardol\", \"Casa Sol\", \"SinQ Abode\", \"Holiday Inn Resort\", \"River Rays Resort\", \"Gulmohar Resort\", \"Hotel Lucky Star\", \"Villa Fountain Court\", \"Down Hill Village Inn\", \"Sea Breeze Village\", \"Treehouse Neptune Panaji Goa\", \"Resort Mellorosa Goa\", \"Ocean Myst Gold\", \"Hotel Liberty\", \"Casa Melhor Luxrious 1BHK apartment\", \"Roundcube Guest House\", \"Villa 3BHK in Arpora Phase 3\", \"Private 8 room Homestay in Vagator\", \"Osborne Holiday Resort\", \"Magic Forest\", \"1 and 2 bhk Suite apartments for rent\", \"Nazri Resort\", \"Novotel Goa Resort & Spa\", \"No Frills Guest House facility set on Candolim Beach\", \"Ave Maria Beach Resort\", \"Seclude Varca\", \"Beach Side Comfortable Holiday Home\", \"Resort Ronil Royal\", \"Margarita Residency\", \"Wanderers Hostel\", \"Aishwarya Guest Inn\", \"Whispering Woods\", \"Valentines Retreat\", \"Villa Sunny Day\", \"The Belmonte by ACE\", \"Sunita Guest House\", \"Ocean View Goan Beach house\", \"Diwar Guest House Retreat\", \"Clarem Guest House\", \"Casa Melhor Luxurious 1BHk apartment Candolim\", \"Alila Diwa\", \"Royal Orchid Beach Resort And Spa - Goa\", \"ac 2BHK apartment 1km from Benaulim beach, South Goa\", \"Ocean Myst Gold\", \"Dewa Hotel\", \"The Tubki Resort\", \"Bay Luxe\", \"2br apartment near the beach at Candolim, Goa\", \"Beach Side Comfortable Holiday Home\", \"Cosy Apartment Overlooking the Pool! Vagator\", \"Beach huts with all the amenities on Benaulim beach\", \"Hotel Goan Clove\", \"Baywatch Resort\", \"Sand Castles Holiday Homes - 3 Mins Walk from Miramar Beach\", \"Saldanaha Kyle Gardens\", \"Royal Palms\", \"Hotel Windsor Bay\", \"Poonam Village Resort\", \"Sunkissed Plaza\", \"Casa Melhor 3 bed Duplex Penthouse\", \"Adore Anjuna Rooms\", \"Star of the Sea Resort\", \"Regenta Resort Varca Beach Goa\", \"Misquita House\", \"AC Furnished River view apartment in Baga\", \"Private 1 room Apartment in Saligao\", \"Royal Touch Beach Huts\", \"Beleza By the Beach\", \"Safira Riverfront Boutique Resort\", \"Gated holiday community\", \"Oceana The Holiday Home\", \"Sea Breeze Village\", \"Soul Vacation - A Concept Hotel\", \"La Paz Gardens\", \"Maitri Sweet Living\", \"New Ginger Tree Beach Resort\", \"Trippy Studio Apartment\", \"Relax Holiday Home\", \"Hotel Karishma Grand\", \"Casa Anjuna\", \"Hyatt Place Goa/ Candolim\", \"The Golden Suites Calangute\", \"La Sunila Clarks Inn Suites\", \"Robert's Place\", \"Stay in Baga- 2 mins from the beach\", \"The International Centre, Goa\", \"Hotel Siesta De Goa\", \"Furnished Holiday Homes\", \"Jessica Lavish Live Inn\", \"A home away from home - Beach resort style rooms in Vagator\", \"Palmarinha Resort and Suites\", \"Bhakti Kutir\", \"Hotel La Mansion\", \"Gomati\", \"Tisha Apartment Hotel\", \"Calangute Plaza In\", \"The PentaCon a Resort\", \"Kerela Ayurveda Wellness Center\", \"Pritams Cottages Guest House\", \"Silver Sands Beach Resort\", \"Maria Cottages\", \"Hidden Paradise\", \"CasaMelhor 2BHK in Candolim CM002\", \"Omega Beach Resort\", \"Pinto Rosario Square Resort and Spa\", \"Private 2 room Villa in Assagao\", \"Alina Guest House\", \"Ginger Hotel - Goa\", \"Bay 15\", \"L Hotel Eden\", \"Tiara Camelot Baga\", \"Wind Mist Apartments\", \"Henrys Place\", \"Amigo Plaza\", \"Cosy Apartment Overlooking the Pool! Vagator\", \"The Only Olive\", \"Rising Wave Holiday home\", \"Riva Beach Resort\", \"Hotel Miramar\", \"Shangrila Beach Hotel\", \"Surya Palace\", \"SeaShell Beach Suites\", \"Leoney Resort\", \"Sea Breeze Inn\", \"Baia Do Sol\", \"La Casa Siolim\", \"Menino Regency\", \"Dona Terezinha Resort\", \"THE CITADEL HOTEL\", \"Fahrenheit Hotels & Resort\", \"Vagator House\", \"La Grace Margao\", \"La Cabana Beach & Spa\", \"Larios Beach Holiday\", \"Grandeur De Sanchi - Luxurious Boutique Beach Resort & Spa\", \"Annapurna Vishram Dhaam\", \"Orchid De Goa\", \"RnB Ramacon Goa\", \"Resort Mellorosa Goa\", \"Osborne Holiday Resort\", \"Nelmar Nest Guest House\", \"Hotel Aroma\", \"Swim Sea Beach Resort\", \"Alagoa Resort\", \"Hotel Boshan\", \"Resort Village Royale\", \"Valentines Retreat\", \"So My Resort Goa\", \"L Hotel Eden\", \"Dreams Palm Beach Resort\", \"Sukhmantra Resort and Spa\", \"Riviera Hermitage Anjuna,\", \"Sea Breeze Candolim\", \"The Queeny Hotel\", \"Hotel Manoshanti\", \"Treebo La Flamingo\", \"16 Degrees North\", \"Rendezvous Beach Resort\", \"Bollywood Seaqueen Beach Resort\", \"Kalki Resorts and Cottages Baga\", \"Magnum Resort\", \"Kiara BnB Home\", \"World Choice Hideaway Beach Resorts\", \"Hotel Blessings\", \"Mystique Heights Goa\", \"Wildernest Nature Resort\", \"World Choice Sunshine Beach Resorts\", \"Coconut Grove\", \"Paparazzi Resort\", \"Shon De Goa\", \"Hotel Ashirwad\", \"La Maison Fontainhas\", \"Cuba Baga\", \"Horizon Resort\", \"La Vaiencia\", \"Graciano Cottage\", \"Lotus Sutra\", \"Lua Nova\", \"Summer Ville Resort\", \"Senhor Agnelo Resort\", \"Stonewater Eco Resort\", \"Viva Calangute\", \"Colonia De Braganza Resort\", \"Mykonos Blu\", \"Lotus Beach Resort\", \"Ginger Tree Goveia Resort\", \"Sunset Beach Resort\", \"Cygnett Inn Celestiial Goa\", \"Rahi Resort De Crossroads\", \"Backpacker Panda\", \"Paradise Village Beach Resort\", \"Santiago Beach Resort\", \"Hotel Avenue\", \"LA VIDA Residency Suites Goa\", \"White Square Nirvana\", \"Guest House Abrigo De Botelho\", \"Vision Greens Phase 1\", \"Urba Luxury Service Apartments\", \"Goa Anjuna Villas\", \"Caphina Tourist Cottages\", \"Ivy Retreat Vacations Rentals\", \"Blue Marine Beach Resort\", \"Holiday Villas in Goa\", \"Nature Camp in close proximity to Mollem National Park\", \"Hotel Satyaheera\", \"Joie De Vivre Goa\", \"Vagator Suites 1C BHK\", \"16 Degrees North Candolim\", \"LOTUS INNGOA Holiday Homes\", \"Villa Colva Bon Vivant Guest House\", \"Siolim House\", \"Stay in luxury white washed casinhas in Candolim\", \"SOL BESO\", \"Casa by The Beach , Calungate Goa\", \"Indraprastha Palolem 2 BHK Apartment\", \"Romance Holiday Beach Resort\", \"Madhavan's Villa Hotel\", \"Hotel Celestiial\", \"Senso The Inspiration\", \"Sunita Guest House\", \"Ocean Crest\", \"Blu Grass\", \"Uber Luxury 2bhk Villa in Candolim\", \"SeaShell Villas\", \"Shivam Resort\", \"Toor Resort\", \"Goan Holiday Resort\", \"Whispering Palms Beach Resort\", \"Baga Bay\", \"Mikes Place\", \"Casa Sol\", \"Sea Queen Beach Resort\", \"Pearl King Villa\", \"Lazy Lagoon Sarovar Portico Suites\", \"Willo's Apartments\", \"Best Western Devasthali-The Valley Of Gods,\", \"Casa Melhor Luxurious 1BHK apartment\", \"Colva Holiday Homes\", \"Excelsior Holiday Homes 2 BHK C\", \"Apartment D 2bhk Apartment Vision Green\", \"Hotel Orion\", \"Royal Mirage Boutique\", \"Nxtgen Future Hospitality\", \"Campal Beach Resort\", \"Field View Cottage Anjuna\", \"Hotel Hacienda Calangute\", \"Hotel Linda Goa\", \"Goan Alcove\", \"Goa Marriott Resort & Spa\", \"Stay in a Homestay in Aldona\", \"Miroslav Resort\", \"Laura Guest Rooms\", \"Hotel Meraden La Oasis\", \"Dewa Goa Apartment\", \"Saaj Guest House\", \"Casa Melhor 1BHK in Candolim CM005\", \"The Bungalows Light House, Goa\", \"FabHotel Anjuna Beachfront\", \"Casa Melhor 2BHK Luxurious Apartment Siolim\", \"Dudhsagar Spa Resort\", \"Marshall Guest House\", \"Studio by the Beach on Candolim-Calangute Main Road\", \"Hotel Campal\", \"Pirache Art Hotel\", \"Hotel Sona Royale\", \"Sunshine Residency\", \"Hotel North Bay\", \"Veera Strand Park Serviced Apartments\", \"3 Bedroom Luxury Villa\", \"Cupids Heaven Resort\", \"Casa Esmeralda\", \"Agonda Dream View\", \"Paradise Guest House\", \"The Naked Space Boutique Hotel\", \"Country Inn & Suites, By Carlson Goa Panjim\", \"Villa Shraddha Service Appartment\", \"juSTa Panjim\", \"Deltin Suites\", \"La Grace Resort\", \"Lambana Resort Goa\", \"Keys Ronil Resort, Goa\", \"Holiday Beach Resort By Adore\", \"The Fern Gardenia Resort\", \"Fahrenheit Hotels & Resort\", \"BETELNUT INN Marketed by Adore\", \"MORJIM SUNSET GUEST HOUSE\", \"Silver Lining A Family Retreat\", \"Village Vibes Apartment\", \"Bricks and Bamboo Hostel\", \"The Sapphire Comfort\", \"Calangute Grande\", \"Sai Ramnath Guest House\", \"Citrus Goa\", \"1 double a/c bedroom with bath, lounge, kitchen\", \"Jhampus Studios\", \"Hotel Lucky Star\", \"Terra Paraiso Beach Resort\", \"Swimming Pool Facing 1BHK apartment\", \"Royal Woods\", \"Neelam's The Grand\", \"Palolem Beach Resort\", \"The Village Inn\", \"TripThrill Benaulim House\", \"Paradise Inn\", \"Atlanta Beach Resort\", \"All Seasons Beach Classic Resort\", \"Manthan Yogic Village\", \"Villa Bomfim\", \"SMILEY HOTELS RISHI BAGA\", \"Hotel Grand Liz\", \"Goan Heritage Apartment\", \"Calangute House Service Apartment\", \"Villa de Aluizio\", \"SinQ Abode\", \"Villa Calangute Phase 4\", \"Chances Resort and Casino\", \"Beira Mar Alfran\", \"Ancora Beach Resort Goa\", \"Riverside Hotel Mandrem\", \"Casa Paradiso\", \"Marina Bay Beach Resort\", \"Calangute Beach Side\", \"Wave Beach Hotel\", \"The Park Calangute Goa\", \"Golden Tulip Goa\", \"Lawande Beach Resort\", \"Casa Melhor Luxury 4BHK Penthouse\", \"Goa Home Vacation - Independent Villa near Beach-Colva, Goa\", \"Samira Beach Resort\", \"Treehouse Blue, Goa\", \"Private 10 room Apartment in Calangute\", \"Casa Melhor\", \"Villa Fatima Beach Resort\", \"Granpas Inn / Hotel Bougainvillea\", \"Ondas Do Mar Beach Resort Phase - I\", \"Resort Ritchita\", \"Goa Clarks Serviced Apartments\", \"Sodder's Gloria Anne Beach Haven\", \"A stunning luxurious villa in Candolim\", \"Nelmar Nest Guest House\", \"Santana Beach Resort\", \"Henrys Place\", \"Costa Del Sol Holiday Homes\", \"Casablanca Beach Resort\", \"Excelsior Holiday Homes 2 BHK A\", \"Hotel Republica Goa\", \"Hotel La Flor\", \"Days Guest House\", \"Private 3 room Villa in Anjuna\", \"Sodder's Renton Manor\", \"Casa Melhor luxury 1BHK Apartment\", \"Royal Mirage Beach Resort\", \"A family run budget guest house in Candolim\", \"Morjim Holiday\", \"Wavelet Beach resort Goa\", \"The Ocean Park Resort\", \"Acron Waterfront Resort and Spa\", \"Highland Heritage\", \"Treebo La Flamingo\", \"V Palms Resort\", \"Ocean Heights Home Stay\", \"Larios Beach Holiday\", \"The River Palace\", \"Dreams Palm Beach Resort\", \"Famafa Beach Resort\", \"SeaShell Villas\", \"The Golden Nest Deluxe\", \"The Naked Space Boutique Hotel\", \"Majhi resort\", \"Treebo Rainforest Enclave\", \"Goa Anjuna Villas\", \"Studio 1BHK Baga\", \"Samira Beach Resort\", \"iLodge @ Calangute\", \"NORA Spiritual Villa Siolim\", \"Holiday Beach Resort By Adore\", \"World Choice Sunshine Beach Resorts\", \"World Choice Holiday Village\", \"Peravel Beach Holiday Home\", \"Casa Melhor Luxurious 1BHK apartment\", \"Baga Bay\", \"Casa Melhor Luxury 4BHK Penthouse\", \"Casa Melhor luxury 1BHK Apartment\", \"Casa Melhor Luxurious 1BHk apartment Candolim\", \"SMILEY Holiday Service Apartments\", \"Fernandes Villa\", \"Shashesca Villa\", \"Angelina Beach Resort Goa\", \"O Pescador Beach Resort\", \"Hotel Amar\", \"Ananaz Hotel\", \"Goa Villa Holidays\", \"BETELNUT INN Marketed by Adore\", \"Hyatt Place Goa/ Candolim\", \"Maison Encore Holiday Home\", \"Baywalk Goa\", \"Excelsior Holiday Homes 2 BHK C\", \"Excelsior Holiday Homes 2 BHK  D\", \"Excelsior Holiday Homes 2 BHK F\", \"Excelsior Holiday Homes 2 BHK G\", \"TripThrill Costa Holidays\", \"TripThrill Florida Gardens\", \"TripThrill Westwind Apartments\", \"TripThrill Benaulim House\", \"TripThrill Casa Blanca\", \"TripThrill La Grace Villa\", \"TripThrill Sapna Residency Apartment\", \"TripThrill Beach Arcade Apartment\", \"TripThrill Ruby Residency Apartment\", \"Pinto Rosario Square Resort and Spa\", \"Hotel Succegado\", \"Fabhotel Anjuna Beachfront\", \"YO YO GOA VILLAGE COTTAGES\", \"Ivy Retreat Vacations Rentals\", \"Hotel Baywatch Express Urbane\", \"Zense Resort\", \"Coco Resort Morjim\", \"Ocean View Goan Beach house\", \"Calangute Lovers Paradise Studios\", \"Ananda Resort\", \"Blue Beach Resort\", \"Hotel City Express\", \"Sapna Meadows Goa\", \"C Pearl Guest House\", \"Panjim Peoples\", \"Hotel Panchsheel\", \"Orchid Holiday Home\", \"DoubleTree by Hilton Hotel Goa\", \"Sharanam Green Resort\", \"Summer Ville Resort\", \"Le Seasons Resort\", \"The Lighthouse Aguada\", \"Orritel Village Square\", \"Hotel Colva Kinara\", \"Mayfair Hideaway Spa Resort\", \"Hotel Ave Maria\", \"Woodstock Village\", \"Zuariview Guest House\", \"Arco Iris Boutique Homestay Hotel\", \"Radisson Blu\", \"Nagoa Grande Resort\", \"Seascape Goa @ Costa Del Sol\", \"Azzure by Spree Hotels\", \"M N Resorts\", \"Goa - Club Estadia, A Sterling Holiday Resorts\", \"Molyma Resorts\", \"Ocean Residency\", \"Resort Coqueiral\", \"Calangute Beach Inn\", \"Wavelet Beach resort Goa\", \"Royal Touch Beach Huts\", \"Diwar Guest House Retreat\", \"Ave Maria Beach Resort\", \"Ananaz Hotel\", \"Spring Beach Cottages\", \"Treehouse Neptune Panaji Goa\", \"VILLA BY THE SEA\", \"Rudra Holidays\", \"The Golden Suites Calangute\", \"Hotel Krish Baga Goa\", \"Rising Wave Holiday home\", \"Vivenda Dos Palhacos\", \"At Home B and B Miramar\", \"Hotel Viva Baga\", \"Palolem Garden Estate Service Apartments\", \"Dom Pedros Haven\", \"Jasminn by Mango Hotels\", \"La Paz Gardens\", \"Deltin Suites\", \"Pinnacle Holiday Homes\", \"Soul Vacation - A Concept Hotel\", \"Le Seasons Resort\", \"Palacete Rodrigues\", \"Fully Furnished Service Apartments with Swimming pool 880\", \"Sun Beach Residency\", \"Budget villa in Candolim with all amenities\", \"Divar Heritage Home\", \"Sunshine Residency\", \"Calangute Beach Side\", \"Hotel Leela Inn\", \"Royal Heritage Resort\", \"Sukhsagar Beach Resort\", \"Shiva Beach House\", \"Stay in a Homestay in Bardez\", \"Boomerang Beach Resort\", \"Jhampus Studios\", \"C Pearl Guest House\", \"Romaldo Guest House\", \"Gare Astoria\", \"The Sincro Hotel\", \"United 21 Emerald Goa\", \"The Acacia Hotel & Spa, Goa\", \"Sabina Guest House\", \"Le Pearl\", \"Grande Delmon\", \"Nat Villa\", \"Hotel Sai Baga\", \"Senso The Inspiration\", \"The Sapphire Comfort\", \"At Home B and B Miramar\", \"Saritas Guest House\", \"Mitaroy Goa Hotel\", \"Darisa Resort\", \"Amigo Plaza\", \"San Joao Holiday Homes\", \"The V Beach Villa\", \"Saiesh International Hotel\", \"Reliance House\", \"Century-old heritage property - a guest house in Siolim\", \"Sundays Forever A HomeStay\", \"Peravel Beach Holiday Home\", \"TripThrill La Grace Villa\", \"Joet's Guest House\", \"Hotel Delmon\", \"Alor Grande Holiday Resort\", \"Hotel Riverside\", \"A charming, riverside, Portuguese style villa\", \"Calangute Beach Inn\", \"Hotel Natasha\", \"Hotel Goa International\", \"Joia Do Mar Resort\", \"Mahamaya Kalika Guest House\", \"Cidade De Goa\", \"Resort De Coracao\", \"A stunning two-storey, five-bedroom villa home in Candolim\", \"Quiet and peaceful coastal stay in Candolim\", \"Hotel Falcon Resorts\", \"Ocean Myst Silver Goa\", \"Private 2 room Apartment in Vagator\", \"Cuba Premium Huts\", \"Sabina Guest House\", \"Villa Sunny Day\", \"Vagator Suites 1D BHK\", \"Hotel Parth Inn\", \"Veronica Guest House\", \"White Negro Beach Resort\", \"Evershine Guest House\", \"Perola Do Mar\", \"Hotel Poonam\", \"Bollywood Backyard Hostel\", \"Villa Ikebana\", \"Zac Beach Resort Goa\", \"RETREAT ANJUNA\", \"Portuguese inspired architecture guest house in Candolim\", \"Hotel Solmar\", \"Kristal Sands Beach Resort\", \"Goan Imperial Holidays\", \"Nandini Casa De Praia\", \"Laalegro Holiday Home Goa\", \"The Acacia Hotel & Spa, Goa\", \"CasaMelhor 2BHK in Candolim CM001\", \"Backpacker Panda\", \"SMILEY Holiday Service Apartments\", \"Skylark Resort\", \"Jasminn by Mango Hotels\", \"A wonderful place to relax in Anjuna - Sea View Guest house\", \"Private 8 room Homestay in Vagator\", \"Pousada Donaciana Wooden Cottages\", \"New Image Inn\", \"VG 3 bhk apartment\", \"Maison Encore Holiday Home\", \"Amoura Beach Resort\", \"10 Calangute\", \"Valentines Retreat\", \"The Haven\", \"Cosmos Guest House Cosma Gregory Soares\", \"The Orange House\", \"Mandrem Beach Resort Goa\", \"Cosmos Guest House Souxa Xaviers Complex\", \"Ruffles Beach Resort\", \"John's Highland Comfort\", \"Romaldo Inn\", \"Serviced Apartments Goa\", \"Stay in a Villa in Candolim\", \"Salson Ferns Nest Guest House\", \"Sodder's Svelton Manor\", \"My Kind Of Place\", \"The LaLiT Golf & Spa Resort Goa\", \"Mangrove\", \"Zappia Cove Guest House\", \"Club Mahindra Emerald Palms, Goa\", \"Hotel Mayfair\", \"The Sea Horse Resort\", \"Vila De Goa\", \"Spazio Leisure Resort Anjuna\", \"Deltin Palms Riverfront\", \"Mansion in Candolim, Goa\", \"Villa Calangute Phase 3\", \"Goa Woodlands Hotel\", \"Vincy Guest House\", \"Vision Green 3 Bhk Villa I\", \"Majestic Beach Comforts\", \"Duke's Villa\", \"Darisa Resort\", \"Hotel Tanish\", \"Vision Greens 3 bhk Villa IV\", \"Casa Colvale\", \"Colonial Villa with Private Pool in Sinquerim - Goa\", \"Rudra Holidays\", \"Hotel Ria Residency\", \"Williams Beach Retreat\", \"TripThrill Florida Gardens\", \"Hotel Rezos\", \"Vincy Guest House\", \"Zinhos Beach Resort\", \"Ananda Resort\", \"Beach Way Home Stay\", \"Baga Yotel\", \"Luxury 5BHK Villa in Arpora\", \"Estrela Do Mar Beach Resort\", \"Hotel Boshan\", \"Hotel Satyaheera\", \"Joet's Guest House\", \"Alenea Resort\", \"Goan Holiday Resort\", \"Skylark Resort\", \"Grand Hyatt Goa\", \"Calangute Lovers Paradise Studios\", \"Spectacular view of the Arabian Sea\", \"Hotel Ave Maria\", \"Hotel 4 Pillars\", \"Palms N Tides\", \"Keys Ronil Resort, Goa\", \"Neelam The Glitz\", \"Resorte Marinha Dourada\"], \"y\": [0.03738393266526637, 0.02224923006201717, 0.013370653847618963, 0.011809264819730034, 0.0, 0.005565961133438097, 0.0061375096151101705, 0.038524356165135734, 0.019737371791453205, 0.028938161641220473, 0.03443649052483815, 0.027779173129330974, 0.021518815935577237, 0.026554777829333135, 0.012201623145954611, 0.02057634104363538, 0.014798062554165142, 0.028465499203582857, 0.032107732383208513, 0.041076317638948125, 0.0, 0.024350948001782176, 0.030209743743309262, 0.015372101307818875, 0.023894248378550687, 0.017993234779265763, 0.025172672691490074, 0.01540050475810285, 0.028865785942610852, 0.015455446098505701, 0.04251667929968357, 0.043404062970880924, 0.02012084483763701, 0.010827126496453947, 0.035352652696330485, 0.014681618004924842, 0.021706030130806367, 0.019708293297031047, 0.05483479553079555, 0.01762112852552532, 0.0025126539899881046, 0.025705729844025554, 0.024792399136641455, 0.022006590142874018, 0.01574152879599101, 0.02997781842778149, 0.025177238494422195, 0.025524931065307774, 0.031227998266672177, 0.01813262426908359, 0.010724089785537929, 0.017789947673369146, 0.014673383517849874, 0.006002190754620728, 0.020191004093590252, 0.0032579040039948685, 0.013356790051763249, 0.037714106822493244, 0.0063322827161250705, 0.03920617322102367, 0.025589948640439248, 0.009725545560599624, 0.014619870573707311, 0.017279924754955624, 0.012832165195636933, 0.011097893163830821, 0.021055814899018678, 0.012570523124891169, 0.023562933836933447, 0.02369241418338778, 0.01934512112271178, 0.018567231054168038, 0.020595941065027115, 0.0165211054759386, 0.025288043724126873, 0.02795119418569112, 0.0124895120388568, 0.017697092704492115, 0.018167900261669364, 0.019737371791453205, 0.014635660302669473, 0.022336335865100154, 0.006392684128483005, 0.021990096927540313, 0.03215916168810817, 0.020823321709566796, 0.023606155838512676, 0.03905224715337517, 0.022454480379366596, 0.013629670366428833, 0.03738393266526637, 0.027463553792119146, 0.036923669945941914, 0.029619234022818026, 0.048778064771391696, 0.02719375102139499, 0.022090132680334863, 0.04028311095620758, 0.028133178453597255, 0.014575070092122064, 0.012659053778642982, 0.024048892511824984, 0.038030652559513066, 0.03685029303193813, 0.02125475170892679, 0.011523439047411965, 0.014617061300723766, 0.018258295079223736, 0.011656633757844698, 0.009771345163426755, 0.010833213711734698, 0.017892037263203223, 0.05483479553079555, 0.01972373240653839, 0.02309653725753304, 0.03822560702943086, 0.02187382309014871, 0.016529131433032286, 0.005250544441344058, 0.007964182420359546, 0.018144772756359038, 0.012166426447516176, 0.01633438013926157, 0.03869743272255972, 0.016257251251474005, 0.03732725522212331, 0.017315076846420765, 0.01676740041304693, 0.01301692038294939, 0.030177049413294632, 0.006676942782902074, 0.02927540527076174, 0.013787694242601877, 0.024982969445370276, 0.012659053778642982, 0.04606396618885971, 0.016790601527622906, 0.006229938426396791, 0.024342259383237388, 0.014635660302669473, 0.0, 0.04282392691781833, 0.023698304681269693, 0.006073763624296752, 0.03233772350607383, 0.020363715723086387, 0.005605177367581801, 0.029216281703089205, 0.013785590117345925, 0.01915254602917736, 0.018130343362265534, 0.02340342061089941, 0.022367351936349786, 0.013276722992538348, 0.007169730560119722, 0.013563524038563264, 0.035305346625385786, 0.017947880821957102, 0.011475226788881352, 0.013884411344376828, 0.024001031923869147, 0.047065886500891725, 0.0044924795269119695, 0.013787694242601877, 0.016452489535826027, 0.031115883647891546, 0.010870300767568846, 0.03636521081420075, 0.005524845285913423, 0.005985439085794908, 0.007651653648142458, 0.0366306630562959, 0.03396599752341454, 0.0318519603564638, 0.018162700027951544, 0.010227699035255885, 0.020191574226953498, 0.027157361320566918, 0.029210235185485354, 0.01199486670405487, 0.017616971651556818, 0.03378037752313158, 0.017480562846706613, 0.020857036003096154, 0.01212233422026342, 0.009543026851321587, 0.022639493351445945, 0.029414281038390774, 0.015452201859307686, 0.0008004878852705, 0.03705234718101098, 0.027333880568750198, 0.026869887790236108, 0.05053584574204961, 0.01996207191600104, 0.036112686644322455, 0.032951119924813824, 0.015444141938533483, 0.01840499226279952, 0.017907418814701023, 0.02884069750238365, 0.018843798434042065, 0.022269975540748155, 0.014799486918968327, 0.009598262534130516, 0.034400118163907, 0.02620740167795581, 0.007400998342696483, 0.013824605433145058, 0.023011515423401914, 0.06645628636339818, 0.026289988840432342, 0.0165398275375428, 0.014631759743785888, 0.018018105584978652, 0.02640526509902753, 0.02340269061165715, 0.01731378737074424, 0.014482919697291294, 0.03887765385412109, 0.02638251096440386, 0.014350772169712792, 0.011172925997721163, 0.023148704216290762, 0.020018728121016266, 0.004478757680016978, 0.01613009023345024, 0.024104860018247663, 0.008331879057885141, 0.029426193960226922, 0.018545755837847275, 0.020002338267554615, 0.018062803893524184, 0.03352667357368063, 0.0057914966871274514, 0.02125475170892679, 0.019164433527964472, 0.011985995949127068, 0.018844049848128167, 0.044554948065929835, 0.023662582066972106, 0.017602959851657142, 0.031546772573369894, 0.04380644675492779, 0.03758151424648512, 0.021791279348596, 0.04163608606977461, 0.027480454982625017, 0.023266750243283466, 0.025938284123506926, 0.021978451323204768, 0.012901909924308652, 0.03312955871506537, 0.02564810780653407, 0.018346201436981426, 0.04191613321072054, 0.015395087547378358, 0.016006811119260732, 0.03055475349178841, 0.024342259383237388, 0.019497814111078694, 0.023923077845329616, 0.051214394493011114, 0.03890992411500385, 0.034789704478654364, 0.043228348795107806, 0.05492729389655841, 0.023430133036974346, 0.029786262264288533, 0.022575229609995504, 0.036419263356962765, 0.013311334265441097, 0.0272064468250529, 0.026273623645628772, 0.03090911669606359, 0.02072571350884895, 0.038579587335370744, 0.022899578032559008, 0.017521909611695308, 0.015565099830305988, 0.02550056425881524, 0.014544099284774981, 0.014728108136183709, 0.03225885544733039, 0.019848920062055145, 0.014137225003462782, 0.021848832838209816, 0.02933494405711859, 0.015885027910518462, 0.018091103881830356, 0.021756355432031426, 0.02301870762220616, 0.02645531956402368, 0.03822560702943086, 0.023210087119019954, 0.07369352272579065, 0.019687087711463883, 0.02720205488729253, 0.04241168353939371, 0.023669691720574572, 0.026160346810437815, 0.020756216512137347, 0.019556283546489094, 0.037152409442319116, 0.04120726990585618, 0.041271040006800624, 0.020406660342502173, 0.02328257539771181, 0.02243036668668661, 0.020835502283048712, 0.021114917032868816, 0.02991757678821834, 0.03635931706017054, 0.02710126882389071, 0.009443638131857534, 0.013340678596866641, 0.016354138794940628, 0.018335709863358578, 0.012926813773687991, 0.006609988005319876, 0.01250172896859844, 0.017276690857630745, 0.003584371650046071, 0.0023959913193968814, 0.0225400600301805, 0.017320601154802377, 0.023015204321943514, 0.018542186514072568, 0.012456639250062207, 0.011220260265170758, 0.019244864440630022, 0.007252102476479667, 0.029947538065414146, 0.00675123823393918, 0.012496429799197776, 0.023724494885098514, 0.022430973665494888, 0.018947020268542544, 0.021257430926657675, 0.013691350666618715, 0.014288013138727766, 0.029721883290038217, 0.00781717302399035, 0.01581870631017197, 0.01175047225856608, 0.050079855711235084, 0.036102721546568094, 0.04160884879411675, 0.026246931129454323, 0.030972455492127623, 0.012166426447516176, 0.022276568812183623, 0.012900754811149343, 0.03277863146151075, 0.021870255345317093, 0.03059328123167557, 0.013103303292251489, 0.008667762392145732, 0.015216019851694747, 0.01066775205731248, 0.022019209204776086, 0.028120593037216392, 0.01987399667752743, 0.020202469055519017, 0.008978496448192543, 0.016587815469798196, 0.026293591189279444, 0.020156378907544487, 0.02233762232810919, 0.00622885356646382, 0.01200831261718773, 0.017109451262071588, 0.035836295594824756, 0.014721553674384557, 0.01400532819760525, 0.00975784390229544, 0.02732819307347959, 0.02324922366903315, 0.006002190754620728, 0.02487309722159206, 0.008859837666246689, 0.0014689998436543388, 0.02011401123149158, 0.015813559945588272, 0.02898834214469033, 0.009409625892875003, 0.0214713528898252, 0.017178667235550962, 0.02028324719562971, 0.019229885851188806, 0.017628271811579922, 0.010867225462576909, 0.024179807424075942, 0.023482062025827123, 0.021882408636395637, 0.016122016764571746, 0.019298767725760245, 0.06185176659138377, 0.016353701580905038, 0.02825208519524923, 0.9999999999999976, 0.024277028324782256, 0.04315693279650363, 0.027074942178354124, 0.020898474047993828, 0.012004873768889346, 0.016600562163011076, 0.010449887198623357, 0.022091707737194235, 0.029001379501058924, 0.05545849093641952, 0.009461906678765312, 0.03146640325248023, 0.0368086447609135, 0.015933713311444136, 0.017315076846420765, 0.02971247832798578, 0.022937277980734465, 0.02157552001357065, 0.03528679776084747, 0.01609402490016891, 0.019515768108910793, 0.013150517459867296, 0.01959795952181548, 0.0358602319379346, 0.041257341840530634, 0.004843763004902118, 0.027115350411385783, 0.02130116858121348, 0.017773839130811823, 0.017004221436862532, 0.019250297989055375, 0.009159911264014758, 0.01633438013926157, 0.01574152879599101, 0.014982996192137481, 0.09445982633689223, 0.016469145105210848, 0.01666250215288409, 0.03158040200113042, 0.03396505131777906, 0.0280086947492038, 0.019590323714810072, 0.014749778308954065, 0.03171422859193548, 0.02297590931095902, 0.022353275958436693, 0.010928305834357442, 0.015816712333048672, 0.018784591143143188, 0.008465428025853523, 0.018581100041120624, 0.017919241811356165, 0.024018548920654192, 0.024736256183144217, 0.014587862990349636, 0.018367183406616378, 0.023444178428101987, 0.017432195436672248, 0.01995516121243681, 0.03342983785850598, 0.018062803893524184, 0.01906407767308191, 0.02356034424294248, 0.016288709800460453, 0.02052865420314696, 0.028861140153146152, 0.011125904809075833, 0.010449268668899954, 0.04103794937097567, 0.011486501906562379, 0.028801359954981825, 0.0028405483020155628, 0.01482377576430145, 0.02392999775433477, 0.01584569671085146, 0.019797620829535026, 0.019810761806002625, 0.01840831476313185, 0.01826392390494451, 0.024277869889073364, 0.02564810780653407, 0.020942432873280303, 0.022575229609995504, 0.032348539219237686, 0.01581870631017197, 0.04251667929968357, 0.023482062025827123, 0.015415842096035227, 0.01694193238274294, 0.012926813773687991, 0.019115587105425526, 0.015816712333048672, 0.02395596985688084, 0.009329733709753242, 0.024277028324782256, 0.021848832838209816, 0.014564413066827191, 0.02043424894226036, 0.013103303292251489, 0.026246931129454323, 0.022353275958436693, 0.011486501906562379, 0.013884411344376828, 0.020340259089176697, 0.01696249749683282, 0.04028311095620758, 0.0259493833602883, 0.02101420332765568, 0.022090132680334863, 0.01560018314005223, 0.014417594250411631, 0.02158238980586229, 0.02603941844582119, 0.016875243446089244, 0.01830745959630527, 0.015216019851694747, 0.012870850238178508, 0.019967315742686585, 0.020166439034004967, 0.01978296402901753, 0.01187755860210147, 0.014129917605689112, 0.013150517459867296, 0.02361383970480365, 0.011077966611876953, 0.013972730781097403, 0.025020633919533887, 0.01541953059503047, 0.020018728121016266, 0.022403097438229953, 0.02324922366903315, 0.015146013280920577, 0.01250172896859844, 0.010798774707791156, 0.015207121528616288, 0.02468985614074394, 0.035305346625385786, 0.017113630219140318, 0.034934674739319, 0.020006956299224922, 0.013356790051763249, 0.014123035128996743, 0.005358370276121698, 0.014372519900418507, 0.04463215678947715, 0.01854859950347449, 0.019482858137286927, 0.054756909472698345, 0.019509009763473854, 0.049185117370043906, 0.02655540960557581, 0.01719725104832453, 0.023040652198839804, 0.023464149138165587, 0.024184530337996838, 0.017255596357850955, 0.01944141286383745, 0.015302267443250197, 0.029469290349380322, 0.03242233115531238, 0.017020429753636726, 0.03489957670232742, 0.025486023019669363, 0.022820441651408736, 0.03745145426638757, 0.017393482271356012, 0.015815834903948965, 0.0178539854405594, 0.02392999775433477, 0.022639493351445945, 0.017947880821957102, 0.03233772350607383, 0.018817921228682054, 0.023008338872780223, 0.006676942782902074, 0.010899429876554031, 0.014467538672919321, 0.018843798434042065, 0.019997537708736583, 0.019164433527964472, 0.015465928387150886, 0.02122580822121786, 0.021093477811398066, 0.009917715100976296, 0.017307230066743517, 0.04680791459856535, 0.05053584574204961, 0.06185176659138377, 0.015704760868372265, 0.026869887790236108, 0.049185117370043906, 0.022237836812141826, 0.011696239908477462, 0.019756078437362663, 0.0038945872702724556, 0.029316176126876863, 0.009409625892875003, 0.0280086947492038, 0.021680772406356245, 0.04694006588145878, 0.021325404748440413, 0.016056431562904386, 0.006459478929411141, 0.017507188506321193, 0.015933713311444136, 0.005358370276121698, 0.031044585458295984, 0.02519862397620667, 0.03545291002126588, 0.024048892511824984, 0.0220321150578435, 0.01872152767657246, 0.00828810970929298, 0.016346600534106366, 0.013629670366428833, 0.047606649683782726, 0.021257430926657675, 0.029001379501058924, 0.013629600223621243, 0.01607500447775471, 0.01980766281151529, 0.03213868873563132, 0.03352667357368063, 0.018453055757014662, 0.01994388469007927, 0.05005874579515345, 0.010579230371019032, 0.0032499780176575193, 0.026227933819130467, 0.02043424894226036, 0.011077966611876953, 0.01599023745274649, 0.016802534307374953, 0.018955262016030407, 0.016499312075008345, 0.0034978308361277534, 0.0178539854405594, 0.013990790903746072, 0.014672102511995265, 0.041361545401351514, 0.0170341655809191, 0.030561090896786897, 0.022911047837291365, 0.006689935341016622, 0.00789097328156176, 0.021671219684618753, 0.010105853977076348, 0.017087959131690547, 0.012091904972546412, 0.01872152767657246, 0.013276722992538348, 0.03224738330237475, 0.017488045418155292, 0.020095479344521796, 0.029275484941990733, 0.02122746175530227, 0.015327758758036918, 0.010708077537054841, 0.013728185718717473, 0.014858638767342666, 0.022172298290379356, 0.014967127486512017, 0.008181726814630062, 0.04076349215284926, 0.022244578938801787, 0.0304044009969884, 0.01676548767404112, 0.01640644048917337, 0.020455313873825265, 0.013380505518761156, 0.019863583683868084, 0.020340259089176697, 0.02269359247401599, 0.04680791459856535, 0.007737667890201017, 0.006229938426396791, 0.015063841576746149, 0.00910264365838917, 0.01491017875275849, 0.016875243446089244, 0.017994351867898547, 0.028158974875555284, 0.022367351936349786, 0.019982359038479558, 0.01550477612133305, 0.029758581350665392, 0.016540596551620098, 0.013109130886029462, 0.037714106822493244, 0.011252477415459072, 0.031308939945896445, 0.01275833354821498, 0.0021351684479262332, 0.011684342586258544, 0.02676435990316703, 0.022699278059852904, 0.029916538137403945, 0.0005187674234773042, 0.01428602064555503, 0.03848979460161062, 0.030891647408156135, 0.02907277528240752, 0.013448470617918496, 0.02261706706519143, 0.028382371151312764, 0.0067584040078266655, 0.02423121758101862, 0.03576063920955541, 0.01761554651617088, 0.019035370288616592, 0.01385678441257397, 0.0110393275989363, 0.03213868873563132, 0.02514132938940489, 0.010291353443942665, 0.023712462484436165, 0.02464455875497283, 0.014467538672919321, 0.012052314491925946, 0.01725286382726643, 0.01187755860210147, 0.02300602572899168, 0.01761554651617088, 0.1909096849683575, 0.034934674739319, 0.02770122341573889, 0.026990808516214385, 0.014166064866092712, 0.037046745044316466, 0.03422046940587679, 0.020749261352206293, 0.01575147457001181, 0.022076711987231816, 0.035998789031749065, 0.02269359247401599, 0.014688936680596168, 0.032351644914644595, 0.007389567108707999, 0.024184530337996838, 0.03369478143726941, 0.015498918679295356, 0.9999999999999976, 0.037385098021565075, 0.018198934300820962]}],\n",
       "                        {\"height\": 1000, \"showlegend\": true, \"template\": {\"data\": {\"bar\": [{\"error_x\": {\"color\": \"#2a3f5f\"}, \"error_y\": {\"color\": \"#2a3f5f\"}, \"marker\": {\"line\": {\"color\": \"#E5ECF6\", \"width\": 0.5}}, \"type\": \"bar\"}], \"barpolar\": [{\"marker\": {\"line\": {\"color\": \"#E5ECF6\", \"width\": 0.5}}, \"type\": \"barpolar\"}], \"carpet\": [{\"aaxis\": {\"endlinecolor\": \"#2a3f5f\", \"gridcolor\": \"white\", \"linecolor\": \"white\", \"minorgridcolor\": \"white\", \"startlinecolor\": \"#2a3f5f\"}, \"baxis\": {\"endlinecolor\": \"#2a3f5f\", \"gridcolor\": \"white\", \"linecolor\": \"white\", \"minorgridcolor\": \"white\", \"startlinecolor\": \"#2a3f5f\"}, \"type\": \"carpet\"}], \"choropleth\": [{\"colorbar\": {\"outlinewidth\": 0, \"ticks\": \"\"}, \"type\": \"choropleth\"}], \"contour\": [{\"colorbar\": {\"outlinewidth\": 0, \"ticks\": \"\"}, \"colorscale\": [[0.0, \"#0d0887\"], [0.1111111111111111, \"#46039f\"], [0.2222222222222222, \"#7201a8\"], [0.3333333333333333, \"#9c179e\"], [0.4444444444444444, \"#bd3786\"], [0.5555555555555556, \"#d8576b\"], [0.6666666666666666, \"#ed7953\"], [0.7777777777777778, \"#fb9f3a\"], [0.8888888888888888, \"#fdca26\"], [1.0, \"#f0f921\"]], \"type\": \"contour\"}], \"contourcarpet\": [{\"colorbar\": {\"outlinewidth\": 0, \"ticks\": \"\"}, \"type\": \"contourcarpet\"}], \"heatmap\": [{\"colorbar\": {\"outlinewidth\": 0, \"ticks\": \"\"}, \"colorscale\": [[0.0, \"#0d0887\"], [0.1111111111111111, \"#46039f\"], [0.2222222222222222, \"#7201a8\"], [0.3333333333333333, \"#9c179e\"], [0.4444444444444444, \"#bd3786\"], [0.5555555555555556, \"#d8576b\"], [0.6666666666666666, \"#ed7953\"], [0.7777777777777778, \"#fb9f3a\"], [0.8888888888888888, \"#fdca26\"], [1.0, \"#f0f921\"]], \"type\": \"heatmap\"}], \"heatmapgl\": [{\"colorbar\": {\"outlinewidth\": 0, \"ticks\": \"\"}, \"colorscale\": [[0.0, \"#0d0887\"], [0.1111111111111111, \"#46039f\"], [0.2222222222222222, \"#7201a8\"], [0.3333333333333333, \"#9c179e\"], [0.4444444444444444, \"#bd3786\"], [0.5555555555555556, \"#d8576b\"], [0.6666666666666666, \"#ed7953\"], [0.7777777777777778, \"#fb9f3a\"], [0.8888888888888888, \"#fdca26\"], [1.0, \"#f0f921\"]], \"type\": \"heatmapgl\"}], \"histogram\": [{\"marker\": {\"colorbar\": {\"outlinewidth\": 0, \"ticks\": \"\"}}, \"type\": \"histogram\"}], \"histogram2d\": [{\"colorbar\": {\"outlinewidth\": 0, \"ticks\": \"\"}, \"colorscale\": [[0.0, \"#0d0887\"], [0.1111111111111111, \"#46039f\"], [0.2222222222222222, \"#7201a8\"], [0.3333333333333333, \"#9c179e\"], [0.4444444444444444, \"#bd3786\"], [0.5555555555555556, \"#d8576b\"], [0.6666666666666666, \"#ed7953\"], [0.7777777777777778, \"#fb9f3a\"], [0.8888888888888888, \"#fdca26\"], [1.0, \"#f0f921\"]], \"type\": \"histogram2d\"}], \"histogram2dcontour\": [{\"colorbar\": {\"outlinewidth\": 0, \"ticks\": \"\"}, \"colorscale\": [[0.0, \"#0d0887\"], [0.1111111111111111, \"#46039f\"], [0.2222222222222222, \"#7201a8\"], [0.3333333333333333, \"#9c179e\"], [0.4444444444444444, \"#bd3786\"], [0.5555555555555556, \"#d8576b\"], [0.6666666666666666, \"#ed7953\"], [0.7777777777777778, \"#fb9f3a\"], [0.8888888888888888, \"#fdca26\"], [1.0, \"#f0f921\"]], \"type\": \"histogram2dcontour\"}], \"mesh3d\": [{\"colorbar\": {\"outlinewidth\": 0, \"ticks\": \"\"}, \"type\": \"mesh3d\"}], \"parcoords\": [{\"line\": {\"colorbar\": {\"outlinewidth\": 0, \"ticks\": \"\"}}, \"type\": \"parcoords\"}], \"pie\": [{\"automargin\": true, \"type\": \"pie\"}], \"scatter\": [{\"marker\": {\"colorbar\": {\"outlinewidth\": 0, \"ticks\": \"\"}}, \"type\": \"scatter\"}], \"scatter3d\": [{\"line\": {\"colorbar\": {\"outlinewidth\": 0, \"ticks\": \"\"}}, \"marker\": {\"colorbar\": {\"outlinewidth\": 0, \"ticks\": \"\"}}, \"type\": \"scatter3d\"}], \"scattercarpet\": [{\"marker\": {\"colorbar\": {\"outlinewidth\": 0, \"ticks\": \"\"}}, \"type\": \"scattercarpet\"}], \"scattergeo\": [{\"marker\": {\"colorbar\": {\"outlinewidth\": 0, \"ticks\": \"\"}}, \"type\": \"scattergeo\"}], \"scattergl\": [{\"marker\": {\"colorbar\": {\"outlinewidth\": 0, \"ticks\": \"\"}}, \"type\": \"scattergl\"}], \"scattermapbox\": [{\"marker\": {\"colorbar\": {\"outlinewidth\": 0, \"ticks\": \"\"}}, \"type\": \"scattermapbox\"}], \"scatterpolar\": [{\"marker\": {\"colorbar\": {\"outlinewidth\": 0, \"ticks\": \"\"}}, \"type\": \"scatterpolar\"}], \"scatterpolargl\": [{\"marker\": {\"colorbar\": {\"outlinewidth\": 0, \"ticks\": \"\"}}, \"type\": \"scatterpolargl\"}], \"scatterternary\": [{\"marker\": {\"colorbar\": {\"outlinewidth\": 0, \"ticks\": \"\"}}, \"type\": \"scatterternary\"}], \"surface\": [{\"colorbar\": {\"outlinewidth\": 0, \"ticks\": \"\"}, \"colorscale\": [[0.0, \"#0d0887\"], [0.1111111111111111, \"#46039f\"], [0.2222222222222222, \"#7201a8\"], [0.3333333333333333, \"#9c179e\"], [0.4444444444444444, \"#bd3786\"], [0.5555555555555556, \"#d8576b\"], [0.6666666666666666, \"#ed7953\"], [0.7777777777777778, \"#fb9f3a\"], [0.8888888888888888, \"#fdca26\"], [1.0, \"#f0f921\"]], \"type\": \"surface\"}], \"table\": [{\"cells\": {\"fill\": {\"color\": \"#EBF0F8\"}, \"line\": {\"color\": \"white\"}}, \"header\": {\"fill\": {\"color\": \"#C8D4E3\"}, \"line\": {\"color\": \"white\"}}, \"type\": \"table\"}]}, \"layout\": {\"annotationdefaults\": {\"arrowcolor\": \"#2a3f5f\", \"arrowhead\": 0, \"arrowwidth\": 1}, \"coloraxis\": {\"colorbar\": {\"outlinewidth\": 0, \"ticks\": \"\"}}, \"colorscale\": {\"diverging\": [[0, \"#8e0152\"], [0.1, \"#c51b7d\"], [0.2, \"#de77ae\"], [0.3, \"#f1b6da\"], [0.4, \"#fde0ef\"], [0.5, \"#f7f7f7\"], [0.6, \"#e6f5d0\"], [0.7, \"#b8e186\"], [0.8, \"#7fbc41\"], [0.9, \"#4d9221\"], [1, \"#276419\"]], \"sequential\": [[0.0, \"#0d0887\"], [0.1111111111111111, \"#46039f\"], [0.2222222222222222, \"#7201a8\"], [0.3333333333333333, \"#9c179e\"], [0.4444444444444444, \"#bd3786\"], [0.5555555555555556, \"#d8576b\"], [0.6666666666666666, \"#ed7953\"], [0.7777777777777778, \"#fb9f3a\"], [0.8888888888888888, \"#fdca26\"], [1.0, \"#f0f921\"]], \"sequentialminus\": [[0.0, \"#0d0887\"], [0.1111111111111111, \"#46039f\"], [0.2222222222222222, \"#7201a8\"], [0.3333333333333333, \"#9c179e\"], [0.4444444444444444, \"#bd3786\"], [0.5555555555555556, \"#d8576b\"], [0.6666666666666666, \"#ed7953\"], [0.7777777777777778, \"#fb9f3a\"], [0.8888888888888888, \"#fdca26\"], [1.0, \"#f0f921\"]]}, \"colorway\": [\"#636efa\", \"#EF553B\", \"#00cc96\", \"#ab63fa\", \"#FFA15A\", \"#19d3f3\", \"#FF6692\", \"#B6E880\", \"#FF97FF\", \"#FECB52\"], \"font\": {\"color\": \"#2a3f5f\"}, \"geo\": {\"bgcolor\": \"white\", \"lakecolor\": \"white\", \"landcolor\": \"#E5ECF6\", \"showlakes\": true, \"showland\": true, \"subunitcolor\": \"white\"}, \"hoverlabel\": {\"align\": \"left\"}, \"hovermode\": \"closest\", \"mapbox\": {\"style\": \"light\"}, \"paper_bgcolor\": \"white\", \"plot_bgcolor\": \"#E5ECF6\", \"polar\": {\"angularaxis\": {\"gridcolor\": \"white\", \"linecolor\": \"white\", \"ticks\": \"\"}, \"bgcolor\": \"#E5ECF6\", \"radialaxis\": {\"gridcolor\": \"white\", \"linecolor\": \"white\", \"ticks\": \"\"}}, \"scene\": {\"xaxis\": {\"backgroundcolor\": \"#E5ECF6\", \"gridcolor\": \"white\", \"gridwidth\": 2, \"linecolor\": \"white\", \"showbackground\": true, \"ticks\": \"\", \"zerolinecolor\": \"white\"}, \"yaxis\": {\"backgroundcolor\": \"#E5ECF6\", \"gridcolor\": \"white\", \"gridwidth\": 2, \"linecolor\": \"white\", \"showbackground\": true, \"ticks\": \"\", \"zerolinecolor\": \"white\"}, \"zaxis\": {\"backgroundcolor\": \"#E5ECF6\", \"gridcolor\": \"white\", \"gridwidth\": 2, \"linecolor\": \"white\", \"showbackground\": true, \"ticks\": \"\", \"zerolinecolor\": \"white\"}}, \"shapedefaults\": {\"line\": {\"color\": \"#2a3f5f\"}}, \"ternary\": {\"aaxis\": {\"gridcolor\": \"white\", \"linecolor\": \"white\", \"ticks\": \"\"}, \"baxis\": {\"gridcolor\": \"white\", \"linecolor\": \"white\", \"ticks\": \"\"}, \"bgcolor\": \"#E5ECF6\", \"caxis\": {\"gridcolor\": \"white\", \"linecolor\": \"white\", \"ticks\": \"\"}}, \"title\": {\"x\": 0.05}, \"xaxis\": {\"automargin\": true, \"gridcolor\": \"white\", \"linecolor\": \"white\", \"ticks\": \"\", \"title\": {\"standoff\": 15}, \"zerolinecolor\": \"white\", \"zerolinewidth\": 2}, \"yaxis\": {\"automargin\": true, \"gridcolor\": \"white\", \"linecolor\": \"white\", \"ticks\": \"\", \"title\": {\"standoff\": 15}, \"zerolinecolor\": \"white\", \"zerolinewidth\": 2}}}, \"title\": {\"text\": \"Cosine similarities of all properties with Keys Ronil Resort, Goa\", \"x\": 0.5, \"y\": 0.95}, \"xaxis\": {\"title\": {\"text\": \"Property Names\"}}, \"yaxis\": {\"title\": {\"text\": \"cosine similarities\"}}},\n",
       "                        {\"responsive\": true}\n",
       "                    ).then(function(){\n",
       "                            \n",
       "var gd = document.getElementById('f7f3a3c3-fdfc-4307-b758-2f3b8719095f');\n",
       "var x = new MutationObserver(function (mutations, observer) {{\n",
       "        var display = window.getComputedStyle(gd).display;\n",
       "        if (!display || display === 'none') {{\n",
       "            console.log([gd, 'removed!']);\n",
       "            Plotly.purge(gd);\n",
       "            observer.disconnect();\n",
       "        }}\n",
       "}});\n",
       "\n",
       "// Listen for the removal of the full notebook cells\n",
       "var notebookContainer = gd.closest('#notebook-container');\n",
       "if (notebookContainer) {{\n",
       "    x.observe(notebookContainer, {childList: true});\n",
       "}}\n",
       "\n",
       "// Listen for the clearing of the current output cell\n",
       "var outputEl = gd.closest('.output');\n",
       "if (outputEl) {{\n",
       "    x.observe(outputEl, {childList: true});\n",
       "}}\n",
       "\n",
       "                        })\n",
       "                };\n",
       "                });\n",
       "            </script>\n",
       "        </div>"
      ]
     },
     "metadata": {},
     "output_type": "display_data"
    }
   ],
   "source": [
    "plot_similarities(goa, 'Keys Ronil Resort, Goa')"
   ]
  },
  {
   "cell_type": "markdown",
   "metadata": {},
   "source": [
    "#### We can see from the plot,'Zinhos Beach Resort' is the most similar to the description of 'Keys Ronil Resort, Goa'. Similarly, our other recommendations too stand out in the plot. The highest point is the similarity of the resort with itself, we can just ignore this and focus on the other recommendations. With better data, we might be able to see more similarity. "
   ]
  },
  {
   "cell_type": "markdown",
   "metadata": {},
   "source": [
    "### Evaluation"
   ]
  },
  {
   "cell_type": "markdown",
   "metadata": {},
   "source": [
    "#### In the academic world, we can evaluate our recommender systems with metrics like prediction errors(RMSE/MAE) and Recall/Catalog coverage. In RMSE based approaches, it is assumed that the user has explicitly rated a product. Now the difference between the ratings/scores and whatever score our recommender system has computed for each data point is calculated and squared, then the mean is found out and finally the square root is found out. The resultant is the RMSE. MAE on the other hand is simply the mean of the absolute differences between the observed and predicted values. Lesser the RMSE/MAE, better the model. However, in real life as in this example, the ratings are really sparse hence, we cannot rely solely on these metrics when it comes to putting the models to production.\n",
    "#### In real life, we can evaluate our models by dividng our users into A/B test groups with the help of hashed userID cookies or tools likje VWO, Optimizely, etc. Then we can track the click through rate(CTR) and the conversion rate(CR) of the recommendations. in order to help the business, we should also look at the return on investment(ROI).\n"
   ]
  },
  {
   "cell_type": "markdown",
   "metadata": {},
   "source": [
    "### Conclusion\n",
    "#### For our data, we are performing a content based recommendation using NLP. Higher the  similarity of descriptions of a property with one another, better the recommendation. We could have worked on some other types of recommender systems like item-item based collaborative filtering, user-user based collaborative filtering, etc. But our data is really sparse in terms of user ratings, usually this kind of data is difficult to find and is not public, also scraping is disabled for most of the aggregator websites, so we stick to content based recommendations using NLP. We have seen from the data, that we are giving the names of the properties which have hoghest cosine similarity values(which are not that high in our case as it depends on the description). Better descriptions can certainly bring better meaning and help in computing the similarities."
   ]
  }
 ],
 "metadata": {
  "kernelspec": {
   "display_name": "Python 3",
   "language": "python",
   "name": "python3"
  },
  "language_info": {
   "codemirror_mode": {
    "name": "ipython",
    "version": 3
   },
   "file_extension": ".py",
   "mimetype": "text/x-python",
   "name": "python",
   "nbconvert_exporter": "python",
   "pygments_lexer": "ipython3",
   "version": "3.8.2"
  }
 },
 "nbformat": 4,
 "nbformat_minor": 4
}
